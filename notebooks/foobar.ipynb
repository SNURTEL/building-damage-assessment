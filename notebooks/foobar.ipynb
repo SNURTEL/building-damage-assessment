{
 "cells": [
  {
   "cell_type": "code",
   "execution_count": 1,
   "metadata": {},
   "outputs": [],
   "source": [
    "import numpy as np\n",
    "import itertools\n",
    "import os\n",
    "from collections import Counter\n",
    "from pathlib import Path\n",
    "from typing import Any, Literal, Sequence, Callable\n",
    "\n",
    "import numpy as np\n",
    "import pytorch_lightning as pl\n",
    "import torch\n",
    "from pytorch_lightning.utilities.types import TRAIN_DATALOADERS\n",
    "from torch.utils.data import DataLoader, Dataset, random_split\n",
    "from torchvision import transforms  # type: ignore[import-untyped]\n",
    "from torchvision.io import read_image  # type: ignore[import-untyped]\n",
    "import torchvision.transforms as T\n"
   ]
  },
  {
   "cell_type": "code",
   "execution_count": 3,
   "metadata": {},
   "outputs": [],
   "source": [
    "MASK_PATH= \"/home/tomek/inz/inz/data/rescuenet_processed_512/RescueNet/train/train-label-img/10809_lab.npz\"\n",
    "mask_arr = np.load(MASK_PATH)[\"arr_0\"]\n",
    "mask = torch.tensor(mask_arr, dtype=torch.float).moveaxis(-1, 0)"
   ]
  },
  {
   "cell_type": "code",
   "execution_count": 4,
   "metadata": {},
   "outputs": [
    {
     "data": {
      "text/plain": [
       "torch.Size([5, 512, 512])"
      ]
     },
     "execution_count": 4,
     "metadata": {},
     "output_type": "execute_result"
    }
   ],
   "source": [
    "mask.shape"
   ]
  }
 ],
 "metadata": {
  "kernelspec": {
   "display_name": ".venv",
   "language": "python",
   "name": "python3"
  },
  "language_info": {
   "codemirror_mode": {
    "name": "ipython",
    "version": 3
   },
   "file_extension": ".py",
   "mimetype": "text/x-python",
   "name": "python",
   "nbconvert_exporter": "python",
   "pygments_lexer": "ipython3",
   "version": "3.11.4"
  }
 },
 "nbformat": 4,
 "nbformat_minor": 2
}
