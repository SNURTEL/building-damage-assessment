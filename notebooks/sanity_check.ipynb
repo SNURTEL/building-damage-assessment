{
 "cells": [
  {
   "cell_type": "code",
   "execution_count": 1,
   "metadata": {},
   "outputs": [],
   "source": [
    "from pathlib import Path\n",
    "import os\n",
    "import numpy as np\n",
    "import torch\n",
    "import torchvision.transforms.functional as T\n",
    "from matplotlib import pyplot as plt\n",
    "from torchvision.utils import draw_segmentation_masks, make_grid\n",
    "import pytorch_lightning as pl\n",
    "import mlflow\n",
    "from tqdm import tqdm\n",
    "import torch.nn.functional as F\n",
    "from pytorch_lightning.loggers import MLFlowLogger\n",
    "from pytorch_lightning.callbacks import RichProgressBar, ModelCheckpoint"
   ]
  },
  {
   "cell_type": "code",
   "execution_count": 2,
   "metadata": {},
   "outputs": [],
   "source": [
    "from inz.data.event import Event, Hold, Test, Tier1, Tier3\n",
    "from inz.data.data_module import XBDDataModule\n",
    "from inz.models.unet_basic import UNet\n",
    "from inz.models.unet_basic_pl import SemanticSegmentor, OrdinalCrossEntropyLoss"
   ]
  },
  {
   "cell_type": "code",
   "execution_count": 3,
   "metadata": {},
   "outputs": [
    {
     "name": "stderr",
     "output_type": "stream",
     "text": [
      "Seed set to 123\n"
     ]
    }
   ],
   "source": [
    "RANDOM_SEED = 123\n",
    "pl.seed_everything(RANDOM_SEED)\n",
    "device = torch.device(\"cuda\")\n",
    "torch.set_float32_matmul_precision(\"high\")"
   ]
  },
  {
   "cell_type": "code",
   "execution_count": 4,
   "metadata": {},
   "outputs": [
    {
     "name": "stdout",
     "output_type": "stream",
     "text": [
      "84 train batches, 36 val batches, 0 test batches, \n"
     ]
    }
   ],
   "source": [
    "dm = XBDDataModule(\n",
    "    path=Path(\"data/xBD_processed\"),\n",
    "    events={\n",
    "        # Tier1: [\n",
    "        #     Event.hurricane_florence,\n",
    "        #     Event.hurricane_harvey,\n",
    "        #     Event.hurricane_matthew,\n",
    "        #     Event.hurricane_michael,\n",
    "        # ],\n",
    "        Tier3: [\n",
    "            Event.joplin_tornado,\n",
    "            # Event.moore_tornado,\n",
    "            # Event.tuscaloosa_tornado\n",
    "        ],\n",
    "        # Hold: [\n",
    "        #     Event.hurricane_florence,\n",
    "        #     Event.hurricane_harvey,\n",
    "        #     Event.hurricane_matthew,\n",
    "        #     Event.hurricane_michael,\n",
    "        # ],\n",
    "        # Test: [\n",
    "        #     Event.hurricane_florence,\n",
    "        #     Event.hurricane_harvey,\n",
    "        #     Event.hurricane_matthew,\n",
    "        #     Event.hurricane_michael,\n",
    "        # ],\n",
    "    },\n",
    "    val_faction=0.3,\n",
    "    test_fraction=0.,\n",
    "    train_batch_size=20,\n",
    "    val_batch_size=20,\n",
    "    test_batch_size=20,\n",
    ")\n",
    "dm.prepare_data()\n",
    "dm.setup(\"fit\")\n",
    "\n",
    "print(\n",
    "    f\"{len(dm.train_dataloader())} train batches, {len(dm.val_dataloader())} val batches, {len(dm.test_dataloader())} test batches, \"\n",
    ")"
   ]
  },
  {
   "cell_type": "code",
   "execution_count": 5,
   "metadata": {},
   "outputs": [
    {
     "name": "stderr",
     "output_type": "stream",
     "text": [
      "100%|██████████| 84/84 [00:16<00:00,  5.02it/s]\n"
     ]
    },
    {
     "name": "stdout",
     "output_type": "stream",
     "text": [
      "tensor([97941888.,  6290833.,  1816537.,  1126032.,  1985791.,   218499.])\n",
      "Localization weights: tensor([0.1048, 0.8952], device='cuda:0')\n",
      "Classification weights: tensor([1.5266e-04, 2.3768e-03, 8.2310e+03, 1.3278e+04, 7.5295e+03, 6.8431e+04],\n",
      "       device='cuda:0')\n"
     ]
    }
   ],
   "source": [
    "aaa_loc = []\n",
    "aaa_cls = []\n",
    "for batch in tqdm(dm.train_dataloader()):\n",
    "    pre_images, pre_masks, post_images, post_masks = batch\n",
    "    counts_post = torch.bincount(post_masks.argmax(dim=1).reshape(-1), minlength=6)\n",
    "    aaa_cls.append(counts_post)\n",
    "    counts_pre = torch.bincount(pre_masks.argmax(dim=1).reshape(-1), minlength=6)\n",
    "    aaa_loc.append(torch.tensor([counts_pre[0], counts_pre[1:].sum()]))\n",
    "\n",
    "loc_counts = torch.stack(aaa_loc).sum(dim=0).to(torch.float)\n",
    "cls_counts = torch.stack(aaa_cls).sum(dim=0).to(torch.float)\n",
    "\n",
    "print(cls_counts)\n",
    "\n",
    "loc_weights = loc_counts.sum() / loc_counts\n",
    "loc_weights = (loc_weights / loc_weights.sum()).cuda()\n",
    "cls_weights = cls_counts.sum() / cls_counts\n",
    "cls_weights = (cls_weights / cls_weights.sum()).cuda() * torch.tensor([0.1, 0.1, 99999, 99999, 99999, 99999]).cuda()\n",
    "\n",
    "print(f\"Localization weights: {loc_weights}\\nClassification weights: {cls_weights}\")"
   ]
  },
  {
   "cell_type": "code",
   "execution_count": 6,
   "metadata": {},
   "outputs": [
    {
     "name": "stderr",
     "output_type": "stream",
     "text": [
      "/home/tomek/inz/inz/.venv/lib/python3.11/site-packages/pytorch_lightning/utilities/parsing.py:199: Attribute 'model' is an instance of `nn.Module` and is already saved during checkpointing. It is recommended to ignore them using `self.save_hyperparameters(ignore=['model'])`.\n",
      "/home/tomek/inz/inz/.venv/lib/python3.11/site-packages/pytorch_lightning/utilities/parsing.py:199: Attribute 'localization_loss' is an instance of `nn.Module` and is already saved during checkpointing. It is recommended to ignore them using `self.save_hyperparameters(ignore=['localization_loss'])`.\n",
      "/home/tomek/inz/inz/.venv/lib/python3.11/site-packages/pytorch_lightning/utilities/parsing.py:199: Attribute 'classification_loss' is an instance of `nn.Module` and is already saved during checkpointing. It is recommended to ignore them using `self.save_hyperparameters(ignore=['classification_loss'])`.\n"
     ]
    }
   ],
   "source": [
    "model = SemanticSegmentor(\n",
    "    model=UNet(in_channels=3, out_channels=6),\n",
    "    localization_loss=torch.nn.BCEWithLogitsLoss(pos_weight=loc_weights[1]),\n",
    "    classification_loss=OrdinalCrossEntropyLoss(n_classes=6, weights=cls_weights.cuda()),\n",
    "    n_classes=6,\n",
    ")"
   ]
  },
  {
   "cell_type": "code",
   "execution_count": 7,
   "metadata": {},
   "outputs": [
    {
     "name": "stderr",
     "output_type": "stream",
     "text": [
      "/home/tomek/inz/inz/.venv/lib/python3.11/site-packages/lightning_fabric/connector.py:563: `precision=16` is supported for historical reasons but its usage is discouraged. Please set your precision to 16-mixed instead!\n",
      "Using 16bit Automatic Mixed Precision (AMP)\n",
      "GPU available: True (cuda), used: True\n",
      "TPU available: False, using: 0 TPU cores\n",
      "IPU available: False, using: 0 IPUs\n",
      "HPU available: False, using: 0 HPUs\n",
      "2024/06/09 18:10:37 INFO mlflow.utils.autologging_utils: Created MLflow autologging run with ID '05d05ce695124b49afa344b54e245cc1', which will track hyperparameters, performance metrics, model artifacts, and lineage information for the current pytorch workflow\n",
      "LOCAL_RANK: 0 - CUDA_VISIBLE_DEVICES: [0]\n"
     ]
    },
    {
     "data": {
      "text/html": [
       "<pre style=\"white-space:pre;overflow-x:auto;line-height:normal;font-family:Menlo,'DejaVu Sans Mono',consolas,'Courier New',monospace\">┏━━━━┳━━━━━━━━━━━━━━━━━━━━━┳━━━━━━━━━━━━━━━━━━━━━━━━━┳━━━━━━━━┓\n",
       "┃<span style=\"color: #800080; text-decoration-color: #800080; font-weight: bold\">    </span>┃<span style=\"color: #800080; text-decoration-color: #800080; font-weight: bold\"> Name                </span>┃<span style=\"color: #800080; text-decoration-color: #800080; font-weight: bold\"> Type                    </span>┃<span style=\"color: #800080; text-decoration-color: #800080; font-weight: bold\"> Params </span>┃\n",
       "┡━━━━╇━━━━━━━━━━━━━━━━━━━━━╇━━━━━━━━━━━━━━━━━━━━━━━━━╇━━━━━━━━┩\n",
       "│<span style=\"color: #7f7f7f; text-decoration-color: #7f7f7f\"> 0  </span>│ model               │ UNet                    │  124 M │\n",
       "│<span style=\"color: #7f7f7f; text-decoration-color: #7f7f7f\"> 1  </span>│ localization_loss   │ BCEWithLogitsLoss       │      0 │\n",
       "│<span style=\"color: #7f7f7f; text-decoration-color: #7f7f7f\"> 2  </span>│ classification_loss │ OrdinalCrossEntropyLoss │      0 │\n",
       "│<span style=\"color: #7f7f7f; text-decoration-color: #7f7f7f\"> 3  </span>│ accuracy_loc        │ BinaryAccuracy          │      0 │\n",
       "│<span style=\"color: #7f7f7f; text-decoration-color: #7f7f7f\"> 4  </span>│ iou_loc             │ MeanIoU                 │      0 │\n",
       "│<span style=\"color: #7f7f7f; text-decoration-color: #7f7f7f\"> 5  </span>│ f1                  │ MulticlassF1Score       │      0 │\n",
       "│<span style=\"color: #7f7f7f; text-decoration-color: #7f7f7f\"> 6  </span>│ precision           │ MulticlassPrecision     │      0 │\n",
       "│<span style=\"color: #7f7f7f; text-decoration-color: #7f7f7f\"> 7  </span>│ recall              │ MulticlassRecall        │      0 │\n",
       "│<span style=\"color: #7f7f7f; text-decoration-color: #7f7f7f\"> 8  </span>│ iou                 │ MeanIoU                 │      0 │\n",
       "│<span style=\"color: #7f7f7f; text-decoration-color: #7f7f7f\"> 9  </span>│ f1_per_class        │ MulticlassF1Score       │      0 │\n",
       "│<span style=\"color: #7f7f7f; text-decoration-color: #7f7f7f\"> 10 </span>│ precision_per_class │ MulticlassPrecision     │      0 │\n",
       "│<span style=\"color: #7f7f7f; text-decoration-color: #7f7f7f\"> 11 </span>│ recall_per_class    │ MulticlassRecall        │      0 │\n",
       "│<span style=\"color: #7f7f7f; text-decoration-color: #7f7f7f\"> 12 </span>│ iou_per_class       │ MeanIoU                 │      0 │\n",
       "└────┴─────────────────────┴─────────────────────────┴────────┘\n",
       "</pre>\n"
      ],
      "text/plain": [
       "┏━━━━┳━━━━━━━━━━━━━━━━━━━━━┳━━━━━━━━━━━━━━━━━━━━━━━━━┳━━━━━━━━┓\n",
       "┃\u001b[1;35m \u001b[0m\u001b[1;35m  \u001b[0m\u001b[1;35m \u001b[0m┃\u001b[1;35m \u001b[0m\u001b[1;35mName               \u001b[0m\u001b[1;35m \u001b[0m┃\u001b[1;35m \u001b[0m\u001b[1;35mType                   \u001b[0m\u001b[1;35m \u001b[0m┃\u001b[1;35m \u001b[0m\u001b[1;35mParams\u001b[0m\u001b[1;35m \u001b[0m┃\n",
       "┡━━━━╇━━━━━━━━━━━━━━━━━━━━━╇━━━━━━━━━━━━━━━━━━━━━━━━━╇━━━━━━━━┩\n",
       "│\u001b[2m \u001b[0m\u001b[2m0 \u001b[0m\u001b[2m \u001b[0m│ model               │ UNet                    │  124 M │\n",
       "│\u001b[2m \u001b[0m\u001b[2m1 \u001b[0m\u001b[2m \u001b[0m│ localization_loss   │ BCEWithLogitsLoss       │      0 │\n",
       "│\u001b[2m \u001b[0m\u001b[2m2 \u001b[0m\u001b[2m \u001b[0m│ classification_loss │ OrdinalCrossEntropyLoss │      0 │\n",
       "│\u001b[2m \u001b[0m\u001b[2m3 \u001b[0m\u001b[2m \u001b[0m│ accuracy_loc        │ BinaryAccuracy          │      0 │\n",
       "│\u001b[2m \u001b[0m\u001b[2m4 \u001b[0m\u001b[2m \u001b[0m│ iou_loc             │ MeanIoU                 │      0 │\n",
       "│\u001b[2m \u001b[0m\u001b[2m5 \u001b[0m\u001b[2m \u001b[0m│ f1                  │ MulticlassF1Score       │      0 │\n",
       "│\u001b[2m \u001b[0m\u001b[2m6 \u001b[0m\u001b[2m \u001b[0m│ precision           │ MulticlassPrecision     │      0 │\n",
       "│\u001b[2m \u001b[0m\u001b[2m7 \u001b[0m\u001b[2m \u001b[0m│ recall              │ MulticlassRecall        │      0 │\n",
       "│\u001b[2m \u001b[0m\u001b[2m8 \u001b[0m\u001b[2m \u001b[0m│ iou                 │ MeanIoU                 │      0 │\n",
       "│\u001b[2m \u001b[0m\u001b[2m9 \u001b[0m\u001b[2m \u001b[0m│ f1_per_class        │ MulticlassF1Score       │      0 │\n",
       "│\u001b[2m \u001b[0m\u001b[2m10\u001b[0m\u001b[2m \u001b[0m│ precision_per_class │ MulticlassPrecision     │      0 │\n",
       "│\u001b[2m \u001b[0m\u001b[2m11\u001b[0m\u001b[2m \u001b[0m│ recall_per_class    │ MulticlassRecall        │      0 │\n",
       "│\u001b[2m \u001b[0m\u001b[2m12\u001b[0m\u001b[2m \u001b[0m│ iou_per_class       │ MeanIoU                 │      0 │\n",
       "└────┴─────────────────────┴─────────────────────────┴────────┘\n"
      ]
     },
     "metadata": {},
     "output_type": "display_data"
    },
    {
     "data": {
      "text/html": [
       "<pre style=\"white-space:pre;overflow-x:auto;line-height:normal;font-family:Menlo,'DejaVu Sans Mono',consolas,'Courier New',monospace\"><span style=\"font-weight: bold\">Trainable params</span>: 124 M                                                                                            \n",
       "<span style=\"font-weight: bold\">Non-trainable params</span>: 0                                                                                            \n",
       "<span style=\"font-weight: bold\">Total params</span>: 124 M                                                                                                \n",
       "<span style=\"font-weight: bold\">Total estimated model params size (MB)</span>: 496                                                                        \n",
       "</pre>\n"
      ],
      "text/plain": [
       "\u001b[1mTrainable params\u001b[0m: 124 M                                                                                            \n",
       "\u001b[1mNon-trainable params\u001b[0m: 0                                                                                            \n",
       "\u001b[1mTotal params\u001b[0m: 124 M                                                                                                \n",
       "\u001b[1mTotal estimated model params size (MB)\u001b[0m: 496                                                                        \n"
      ]
     },
     "metadata": {},
     "output_type": "display_data"
    },
    {
     "data": {
      "application/vnd.jupyter.widget-view+json": {
       "model_id": "806f0a680a6841bca22d822a54f06232",
       "version_major": 2,
       "version_minor": 0
      },
      "text/plain": [
       "Output()"
      ]
     },
     "metadata": {},
     "output_type": "display_data"
    },
    {
     "data": {
      "text/html": [
       "<pre style=\"white-space:pre;overflow-x:auto;line-height:normal;font-family:Menlo,'DejaVu Sans Mono',consolas,'Courier New',monospace\">2024/06/09 18:11:54 WARNING mlflow.utils.checkpoint_utils: Checkpoint logging is skipped, because checkpoint \n",
       "'save_best_only' config is True, it requires to compare the monitored metric value, but the provided monitored \n",
       "metric value is not available.\n",
       "</pre>\n"
      ],
      "text/plain": [
       "2024/06/09 18:11:54 WARNING mlflow.utils.checkpoint_utils: Checkpoint logging is skipped, because checkpoint \n",
       "'save_best_only' config is True, it requires to compare the monitored metric value, but the provided monitored \n",
       "metric value is not available.\n"
      ]
     },
     "metadata": {},
     "output_type": "display_data"
    },
    {
     "name": "stderr",
     "output_type": "stream",
     "text": [
      "Epoch 0, global step 84: 'f1' reached 0.18614 (best 0.18614), saving model to './mlruns/971144892744864990/d9decc1e0241479c87ca644307c0e062/checkpoints/epoch=0-f1-f1=0.18614.ckpt' as top 1\n"
     ]
    }
   ],
   "source": [
    "mlflow.pytorch.autolog()\n",
    "\n",
    "\n",
    "checkpoint_callback = ModelCheckpoint(\n",
    "    save_top_k=1, verbose=True, monitor=\"f1\", mode=\"min\", filename=\"{epoch}-f1-{f1:.5f}\"\n",
    ")\n",
    "\n",
    "trainer = pl.Trainer(\n",
    "    max_epochs=30,\n",
    "    callbacks=[RichProgressBar(), checkpoint_callback],\n",
    "    logger=MLFlowLogger(),\n",
    "    precision=16,\n",
    ")\n",
    "trainer.fit(model, datamodule=dm)"
   ]
  },
  {
   "cell_type": "code",
   "execution_count": null,
   "metadata": {},
   "outputs": [],
   "source": []
  },
  {
   "cell_type": "code",
   "execution_count": null,
   "metadata": {},
   "outputs": [],
   "source": []
  }
 ],
 "metadata": {
  "kernelspec": {
   "display_name": ".venv",
   "language": "python",
   "name": "python3"
  },
  "language_info": {
   "codemirror_mode": {
    "name": "ipython",
    "version": 3
   },
   "file_extension": ".py",
   "mimetype": "text/x-python",
   "name": "python",
   "nbconvert_exporter": "python",
   "pygments_lexer": "ipython3",
   "version": "3.11.4"
  }
 },
 "nbformat": 4,
 "nbformat_minor": 2
}
