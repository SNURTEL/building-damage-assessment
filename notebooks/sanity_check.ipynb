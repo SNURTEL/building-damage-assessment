{
 "cells": [
  {
   "cell_type": "code",
   "execution_count": 1,
   "metadata": {},
   "outputs": [],
   "source": [
    "from pathlib import Path\n",
    "\n",
    "import mlflow\n",
    "import pytorch_lightning as pl\n",
    "import torch\n",
    "from pytorch_lightning.callbacks import ModelCheckpoint, RichProgressBar\n",
    "from pytorch_lightning.loggers import MLFlowLogger\n",
    "from tqdm import tqdm"
   ]
  },
  {
   "cell_type": "code",
   "execution_count": 2,
   "metadata": {},
   "outputs": [],
   "source": [
    "from inz.data.data_module import XBDDataModule\n",
    "from inz.data.event import Event, Tier3\n",
    "from inz.models.unet_basic import UNet\n",
    "from inz.models.unet_basic_pl import OrdinalCrossEntropyLoss, SemanticSegmentor"
   ]
  },
  {
   "cell_type": "code",
   "execution_count": 3,
   "metadata": {},
   "outputs": [
    {
     "name": "stderr",
     "output_type": "stream",
     "text": [
      "Seed set to 123\n"
     ]
    }
   ],
   "source": [
    "RANDOM_SEED = 123\n",
    "pl.seed_everything(RANDOM_SEED)\n",
    "device = torch.device(\"cuda\")\n",
    "torch.set_float32_matmul_precision(\"high\")"
   ]
  },
  {
   "cell_type": "code",
   "execution_count": 4,
   "metadata": {},
   "outputs": [
    {
     "name": "stdout",
     "output_type": "stream",
     "text": [
      "64 train batches, 12 val batches, 0 test batches, \n"
     ]
    }
   ],
   "source": [
    "dm = XBDDataModule(\n",
    "    path=Path(\"data/xBD_processed\"),\n",
    "    events={\n",
    "        # Tier1: [\n",
    "        #     Event.hurricane_florence,\n",
    "        #     Event.hurricane_harvey,\n",
    "        #     Event.hurricane_matthew,\n",
    "        #     Event.hurricane_michael,\n",
    "        # ],\n",
    "        Tier3: [\n",
    "            Event.joplin_tornado,\n",
    "            # Event.moore_tornado,\n",
    "            # Event.tuscaloosa_tornado\n",
    "        ],\n",
    "        # Hold: [\n",
    "        #     Event.hurricane_florence,\n",
    "        #     Event.hurricane_harvey,\n",
    "        #     Event.hurricane_matthew,\n",
    "        #     Event.hurricane_michael,\n",
    "        # ],\n",
    "        # Test: [\n",
    "        #     Event.hurricane_florence,\n",
    "        #     Event.hurricane_harvey,\n",
    "        #     Event.hurricane_matthew,\n",
    "        #     Event.hurricane_michael,\n",
    "        # ],\n",
    "    },\n",
    "    val_faction=0.15,\n",
    "    test_fraction=0.0,\n",
    "    train_batch_size=32,\n",
    "    val_batch_size=32,\n",
    "    test_batch_size=32,\n",
    ")\n",
    "dm.prepare_data()\n",
    "dm.setup(\"fit\")\n",
    "\n",
    "print(\n",
    "    f\"{len(dm.train_dataloader())} train batches, {len(dm.val_dataloader())} val batches, {len(dm.test_dataloader())} test batches, \"\n",
    ")"
   ]
  },
  {
   "cell_type": "code",
   "execution_count": 5,
   "metadata": {},
   "outputs": [
    {
     "name": "stderr",
     "output_type": "stream",
     "text": [
      "100%|██████████| 64/64 [00:19<00:00,  3.21it/s]\n"
     ]
    },
    {
     "name": "stdout",
     "output_type": "stream",
     "text": [
      "tensor([1.1890e+08, 7.7670e+06, 2.1349e+06, 1.3483e+06, 2.4458e+06, 2.4971e+05])\n",
      "Localization weights: tensor([0.1052, 0.8948], device='cuda:0')\n",
      "Classification weights: tensor([0.0015, 0.0223, 0.0813, 0.1287, 0.0710, 0.0000], device='cuda:0')\n"
     ]
    }
   ],
   "source": [
    "aaa_loc = []\n",
    "aaa_cls = []\n",
    "for batch in tqdm(dm.train_dataloader()):\n",
    "    pre_images, pre_masks, post_images, post_masks = batch\n",
    "    counts_post = torch.bincount(post_masks.argmax(dim=1).reshape(-1), minlength=6)\n",
    "    aaa_cls.append(counts_post)\n",
    "    counts_pre = torch.bincount(pre_masks.argmax(dim=1).reshape(-1), minlength=6)\n",
    "    aaa_loc.append(torch.tensor([counts_pre[0], counts_pre[1:].sum()]))\n",
    "\n",
    "loc_counts = torch.stack(aaa_loc).sum(dim=0).to(torch.float)\n",
    "cls_counts = torch.stack(aaa_cls).sum(dim=0).to(torch.float)\n",
    "\n",
    "print(cls_counts)\n",
    "\n",
    "loc_weights = loc_counts.sum() / loc_counts\n",
    "loc_weights = (loc_weights / loc_weights.sum()).cuda()\n",
    "cls_weights = cls_counts.sum() / cls_counts\n",
    "cls_weights = (cls_weights / cls_weights.sum()).cuda() * torch.tensor(\n",
    "    [1, 1, 1, 1, 1, 0]\n",
    ").cuda()  # last class is \"unclassified\"\n",
    "\n",
    "print(f\"Localization weights: {loc_weights}\\nClassification weights: {cls_weights}\")"
   ]
  },
  {
   "cell_type": "code",
   "execution_count": 6,
   "metadata": {},
   "outputs": [
    {
     "name": "stderr",
     "output_type": "stream",
     "text": [
      "/home/tomek/inz/inz/.venv/lib/python3.11/site-packages/pytorch_lightning/utilities/parsing.py:199: Attribute 'model' is an instance of `nn.Module` and is already saved during checkpointing. It is recommended to ignore them using `self.save_hyperparameters(ignore=['model'])`.\n",
      "/home/tomek/inz/inz/.venv/lib/python3.11/site-packages/pytorch_lightning/utilities/parsing.py:199: Attribute 'localization_loss' is an instance of `nn.Module` and is already saved during checkpointing. It is recommended to ignore them using `self.save_hyperparameters(ignore=['localization_loss'])`.\n",
      "/home/tomek/inz/inz/.venv/lib/python3.11/site-packages/pytorch_lightning/utilities/parsing.py:199: Attribute 'classification_loss' is an instance of `nn.Module` and is already saved during checkpointing. It is recommended to ignore them using `self.save_hyperparameters(ignore=['classification_loss'])`.\n"
     ]
    }
   ],
   "source": [
    "model = SemanticSegmentor(\n",
    "    model=UNet(in_channels=3, out_channels=6),\n",
    "    localization_loss=torch.nn.BCEWithLogitsLoss(pos_weight=loc_weights[1]),\n",
    "    # classification_loss=DiceLoss(weight=cls_weights.cuda()),\n",
    "    # classification_loss=torch.nn.CrossEntropyLoss(weight=cls_weights.cuda(), reduction='sum'),\n",
    "    classification_loss=OrdinalCrossEntropyLoss(n_classes=6, weights=cls_weights),\n",
    "    n_classes=6,\n",
    ")"
   ]
  },
  {
   "cell_type": "code",
   "execution_count": 7,
   "metadata": {},
   "outputs": [
    {
     "name": "stderr",
     "output_type": "stream",
     "text": [
      "Using 16bit Automatic Mixed Precision (AMP)\n",
      "GPU available: True (cuda), used: True\n",
      "TPU available: False, using: 0 TPU cores\n",
      "IPU available: False, using: 0 IPUs\n",
      "HPU available: False, using: 0 HPUs\n",
      "2024/06/10 00:46:48 INFO mlflow.utils.autologging_utils: Created MLflow autologging run with ID '903c8f6598fa4a7d89fa4b63ff021a7b', which will track hyperparameters, performance metrics, model artifacts, and lineage information for the current pytorch workflow\n",
      "LOCAL_RANK: 0 - CUDA_VISIBLE_DEVICES: [0]\n"
     ]
    },
    {
     "data": {
      "text/html": [
       "<pre style=\"white-space:pre;overflow-x:auto;line-height:normal;font-family:Menlo,'DejaVu Sans Mono',consolas,'Courier New',monospace\">┏━━━━┳━━━━━━━━━━━━━━━━━━━━━┳━━━━━━━━━━━━━━━━━━━━━━━━━┳━━━━━━━━┓\n",
       "┃<span style=\"color: #800080; text-decoration-color: #800080; font-weight: bold\">    </span>┃<span style=\"color: #800080; text-decoration-color: #800080; font-weight: bold\"> Name                </span>┃<span style=\"color: #800080; text-decoration-color: #800080; font-weight: bold\"> Type                    </span>┃<span style=\"color: #800080; text-decoration-color: #800080; font-weight: bold\"> Params </span>┃\n",
       "┡━━━━╇━━━━━━━━━━━━━━━━━━━━━╇━━━━━━━━━━━━━━━━━━━━━━━━━╇━━━━━━━━┩\n",
       "│<span style=\"color: #7f7f7f; text-decoration-color: #7f7f7f\"> 0  </span>│ model               │ UNet                    │  124 M │\n",
       "│<span style=\"color: #7f7f7f; text-decoration-color: #7f7f7f\"> 1  </span>│ localization_loss   │ BCEWithLogitsLoss       │      0 │\n",
       "│<span style=\"color: #7f7f7f; text-decoration-color: #7f7f7f\"> 2  </span>│ classification_loss │ OrdinalCrossEntropyLoss │      0 │\n",
       "│<span style=\"color: #7f7f7f; text-decoration-color: #7f7f7f\"> 3  </span>│ accuracy_loc        │ BinaryAccuracy          │      0 │\n",
       "│<span style=\"color: #7f7f7f; text-decoration-color: #7f7f7f\"> 4  </span>│ iou_loc             │ MeanIoU                 │      0 │\n",
       "│<span style=\"color: #7f7f7f; text-decoration-color: #7f7f7f\"> 5  </span>│ f1                  │ MulticlassF1Score       │      0 │\n",
       "│<span style=\"color: #7f7f7f; text-decoration-color: #7f7f7f\"> 6  </span>│ precision           │ MulticlassPrecision     │      0 │\n",
       "│<span style=\"color: #7f7f7f; text-decoration-color: #7f7f7f\"> 7  </span>│ recall              │ MulticlassRecall        │      0 │\n",
       "│<span style=\"color: #7f7f7f; text-decoration-color: #7f7f7f\"> 8  </span>│ iou                 │ MeanIoU                 │      0 │\n",
       "│<span style=\"color: #7f7f7f; text-decoration-color: #7f7f7f\"> 9  </span>│ f1_per_class        │ MulticlassF1Score       │      0 │\n",
       "│<span style=\"color: #7f7f7f; text-decoration-color: #7f7f7f\"> 10 </span>│ precision_per_class │ MulticlassPrecision     │      0 │\n",
       "│<span style=\"color: #7f7f7f; text-decoration-color: #7f7f7f\"> 11 </span>│ recall_per_class    │ MulticlassRecall        │      0 │\n",
       "│<span style=\"color: #7f7f7f; text-decoration-color: #7f7f7f\"> 12 </span>│ iou_per_class       │ MeanIoU                 │      0 │\n",
       "└────┴─────────────────────┴─────────────────────────┴────────┘\n",
       "</pre>\n"
      ],
      "text/plain": [
       "┏━━━━┳━━━━━━━━━━━━━━━━━━━━━┳━━━━━━━━━━━━━━━━━━━━━━━━━┳━━━━━━━━┓\n",
       "┃\u001b[1;35m \u001b[0m\u001b[1;35m  \u001b[0m\u001b[1;35m \u001b[0m┃\u001b[1;35m \u001b[0m\u001b[1;35mName               \u001b[0m\u001b[1;35m \u001b[0m┃\u001b[1;35m \u001b[0m\u001b[1;35mType                   \u001b[0m\u001b[1;35m \u001b[0m┃\u001b[1;35m \u001b[0m\u001b[1;35mParams\u001b[0m\u001b[1;35m \u001b[0m┃\n",
       "┡━━━━╇━━━━━━━━━━━━━━━━━━━━━╇━━━━━━━━━━━━━━━━━━━━━━━━━╇━━━━━━━━┩\n",
       "│\u001b[2m \u001b[0m\u001b[2m0 \u001b[0m\u001b[2m \u001b[0m│ model               │ UNet                    │  124 M │\n",
       "│\u001b[2m \u001b[0m\u001b[2m1 \u001b[0m\u001b[2m \u001b[0m│ localization_loss   │ BCEWithLogitsLoss       │      0 │\n",
       "│\u001b[2m \u001b[0m\u001b[2m2 \u001b[0m\u001b[2m \u001b[0m│ classification_loss │ OrdinalCrossEntropyLoss │      0 │\n",
       "│\u001b[2m \u001b[0m\u001b[2m3 \u001b[0m\u001b[2m \u001b[0m│ accuracy_loc        │ BinaryAccuracy          │      0 │\n",
       "│\u001b[2m \u001b[0m\u001b[2m4 \u001b[0m\u001b[2m \u001b[0m│ iou_loc             │ MeanIoU                 │      0 │\n",
       "│\u001b[2m \u001b[0m\u001b[2m5 \u001b[0m\u001b[2m \u001b[0m│ f1                  │ MulticlassF1Score       │      0 │\n",
       "│\u001b[2m \u001b[0m\u001b[2m6 \u001b[0m\u001b[2m \u001b[0m│ precision           │ MulticlassPrecision     │      0 │\n",
       "│\u001b[2m \u001b[0m\u001b[2m7 \u001b[0m\u001b[2m \u001b[0m│ recall              │ MulticlassRecall        │      0 │\n",
       "│\u001b[2m \u001b[0m\u001b[2m8 \u001b[0m\u001b[2m \u001b[0m│ iou                 │ MeanIoU                 │      0 │\n",
       "│\u001b[2m \u001b[0m\u001b[2m9 \u001b[0m\u001b[2m \u001b[0m│ f1_per_class        │ MulticlassF1Score       │      0 │\n",
       "│\u001b[2m \u001b[0m\u001b[2m10\u001b[0m\u001b[2m \u001b[0m│ precision_per_class │ MulticlassPrecision     │      0 │\n",
       "│\u001b[2m \u001b[0m\u001b[2m11\u001b[0m\u001b[2m \u001b[0m│ recall_per_class    │ MulticlassRecall        │      0 │\n",
       "│\u001b[2m \u001b[0m\u001b[2m12\u001b[0m\u001b[2m \u001b[0m│ iou_per_class       │ MeanIoU                 │      0 │\n",
       "└────┴─────────────────────┴─────────────────────────┴────────┘\n"
      ]
     },
     "metadata": {},
     "output_type": "display_data"
    },
    {
     "data": {
      "text/html": [
       "<pre style=\"white-space:pre;overflow-x:auto;line-height:normal;font-family:Menlo,'DejaVu Sans Mono',consolas,'Courier New',monospace\"><span style=\"font-weight: bold\">Trainable params</span>: 124 M                                                                                            \n",
       "<span style=\"font-weight: bold\">Non-trainable params</span>: 0                                                                                            \n",
       "<span style=\"font-weight: bold\">Total params</span>: 124 M                                                                                                \n",
       "<span style=\"font-weight: bold\">Total estimated model params size (MB)</span>: 496                                                                        \n",
       "</pre>\n"
      ],
      "text/plain": [
       "\u001b[1mTrainable params\u001b[0m: 124 M                                                                                            \n",
       "\u001b[1mNon-trainable params\u001b[0m: 0                                                                                            \n",
       "\u001b[1mTotal params\u001b[0m: 124 M                                                                                                \n",
       "\u001b[1mTotal estimated model params size (MB)\u001b[0m: 496                                                                        \n"
      ]
     },
     "metadata": {},
     "output_type": "display_data"
    },
    {
     "data": {
      "application/vnd.jupyter.widget-view+json": {
       "model_id": "4fa794bba9494b50bb4ae6da3cbd5c65",
       "version_major": 2,
       "version_minor": 0
      },
      "text/plain": [
       "Output()"
      ]
     },
     "metadata": {},
     "output_type": "display_data"
    },
    {
     "data": {
      "text/html": [
       "<pre style=\"white-space:pre;overflow-x:auto;line-height:normal;font-family:Menlo,'DejaVu Sans Mono',consolas,'Courier New',monospace\">2024/06/10 00:47:54 WARNING mlflow.utils.checkpoint_utils: Checkpoint logging is skipped, because checkpoint \n",
       "'save_best_only' config is True, it requires to compare the monitored metric value, but the provided monitored \n",
       "metric value is not available.\n",
       "</pre>\n"
      ],
      "text/plain": [
       "2024/06/10 00:47:54 WARNING mlflow.utils.checkpoint_utils: Checkpoint logging is skipped, because checkpoint \n",
       "'save_best_only' config is True, it requires to compare the monitored metric value, but the provided monitored \n",
       "metric value is not available.\n"
      ]
     },
     "metadata": {},
     "output_type": "display_data"
    },
    {
     "name": "stderr",
     "output_type": "stream",
     "text": [
      "Epoch 0, global step 64: 'f1' reached 0.24114 (best 0.24114), saving model to './mlruns/126730738902562300/598a0c52f5a34d9e9e1956c73f94acd8/checkpoints/f1_epoch=0f1=0.24114iou=0.12071loss=2.31874.ckpt' as top 1\n",
      "Epoch 0, global step 64: 'iou' reached 0.12071 (best 0.12071), saving model to './mlruns/126730738902562300/598a0c52f5a34d9e9e1956c73f94acd8/checkpoints/iou_epoch=0f1=0.24114iou=0.12071loss=2.31874.ckpt' as top 1\n"
     ]
    },
    {
     "data": {
      "text/html": [
       "<pre style=\"white-space:pre;overflow-x:auto;line-height:normal;font-family:Menlo,'DejaVu Sans Mono',consolas,'Courier New',monospace\">2024/06/10 00:49:01 WARNING mlflow.utils.checkpoint_utils: Checkpoint logging is skipped, because checkpoint \n",
       "'save_best_only' config is True, it requires to compare the monitored metric value, but the provided monitored \n",
       "metric value is not available.\n",
       "</pre>\n"
      ],
      "text/plain": [
       "2024/06/10 00:49:01 WARNING mlflow.utils.checkpoint_utils: Checkpoint logging is skipped, because checkpoint \n",
       "'save_best_only' config is True, it requires to compare the monitored metric value, but the provided monitored \n",
       "metric value is not available.\n"
      ]
     },
     "metadata": {},
     "output_type": "display_data"
    },
    {
     "name": "stderr",
     "output_type": "stream",
     "text": [
      "Epoch 1, global step 128: 'f1' reached 0.28277 (best 0.28277), saving model to './mlruns/126730738902562300/598a0c52f5a34d9e9e1956c73f94acd8/checkpoints/f1_epoch=1f1=0.28277iou=0.14147loss=2.49112.ckpt' as top 1\n",
      "Epoch 1, global step 128: 'iou' reached 0.14147 (best 0.14147), saving model to './mlruns/126730738902562300/598a0c52f5a34d9e9e1956c73f94acd8/checkpoints/iou_epoch=1f1=0.28277iou=0.14147loss=2.49112.ckpt' as top 1\n"
     ]
    },
    {
     "data": {
      "text/html": [
       "<pre style=\"white-space:pre;overflow-x:auto;line-height:normal;font-family:Menlo,'DejaVu Sans Mono',consolas,'Courier New',monospace\">2024/06/10 00:50:07 WARNING mlflow.utils.checkpoint_utils: Checkpoint logging is skipped, because checkpoint \n",
       "'save_best_only' config is True, it requires to compare the monitored metric value, but the provided monitored \n",
       "metric value is not available.\n",
       "</pre>\n"
      ],
      "text/plain": [
       "2024/06/10 00:50:07 WARNING mlflow.utils.checkpoint_utils: Checkpoint logging is skipped, because checkpoint \n",
       "'save_best_only' config is True, it requires to compare the monitored metric value, but the provided monitored \n",
       "metric value is not available.\n"
      ]
     },
     "metadata": {},
     "output_type": "display_data"
    },
    {
     "name": "stderr",
     "output_type": "stream",
     "text": [
      "Epoch 2, global step 192: 'f1' was not in top 1\n",
      "Epoch 2, global step 192: 'iou' was not in top 1\n"
     ]
    },
    {
     "data": {
      "text/html": [
       "<pre style=\"white-space:pre;overflow-x:auto;line-height:normal;font-family:Menlo,'DejaVu Sans Mono',consolas,'Courier New',monospace\">2024/06/10 00:51:07 WARNING mlflow.utils.checkpoint_utils: Checkpoint logging is skipped, because checkpoint \n",
       "'save_best_only' config is True, it requires to compare the monitored metric value, but the provided monitored \n",
       "metric value is not available.\n",
       "</pre>\n"
      ],
      "text/plain": [
       "2024/06/10 00:51:07 WARNING mlflow.utils.checkpoint_utils: Checkpoint logging is skipped, because checkpoint \n",
       "'save_best_only' config is True, it requires to compare the monitored metric value, but the provided monitored \n",
       "metric value is not available.\n"
      ]
     },
     "metadata": {},
     "output_type": "display_data"
    },
    {
     "name": "stderr",
     "output_type": "stream",
     "text": [
      "Epoch 3, global step 256: 'f1' was not in top 1\n",
      "Epoch 3, global step 256: 'iou' was not in top 1\n"
     ]
    },
    {
     "data": {
      "text/html": [
       "<pre style=\"white-space:pre;overflow-x:auto;line-height:normal;font-family:Menlo,'DejaVu Sans Mono',consolas,'Courier New',monospace\">2024/06/10 00:52:07 WARNING mlflow.utils.checkpoint_utils: Checkpoint logging is skipped, because checkpoint \n",
       "'save_best_only' config is True, it requires to compare the monitored metric value, but the provided monitored \n",
       "metric value is not available.\n",
       "</pre>\n"
      ],
      "text/plain": [
       "2024/06/10 00:52:07 WARNING mlflow.utils.checkpoint_utils: Checkpoint logging is skipped, because checkpoint \n",
       "'save_best_only' config is True, it requires to compare the monitored metric value, but the provided monitored \n",
       "metric value is not available.\n"
      ]
     },
     "metadata": {},
     "output_type": "display_data"
    },
    {
     "name": "stderr",
     "output_type": "stream",
     "text": [
      "Epoch 4, global step 320: 'f1' was not in top 1\n",
      "Epoch 4, global step 320: 'iou' was not in top 1\n"
     ]
    },
    {
     "data": {
      "text/html": [
       "<pre style=\"white-space:pre;overflow-x:auto;line-height:normal;font-family:Menlo,'DejaVu Sans Mono',consolas,'Courier New',monospace\">2024/06/10 00:53:07 WARNING mlflow.utils.checkpoint_utils: Checkpoint logging is skipped, because checkpoint \n",
       "'save_best_only' config is True, it requires to compare the monitored metric value, but the provided monitored \n",
       "metric value is not available.\n",
       "</pre>\n"
      ],
      "text/plain": [
       "2024/06/10 00:53:07 WARNING mlflow.utils.checkpoint_utils: Checkpoint logging is skipped, because checkpoint \n",
       "'save_best_only' config is True, it requires to compare the monitored metric value, but the provided monitored \n",
       "metric value is not available.\n"
      ]
     },
     "metadata": {},
     "output_type": "display_data"
    },
    {
     "name": "stderr",
     "output_type": "stream",
     "text": [
      "Epoch 5, global step 384: 'f1' reached 0.32295 (best 0.32295), saving model to './mlruns/126730738902562300/598a0c52f5a34d9e9e1956c73f94acd8/checkpoints/f1_epoch=5f1=0.32295iou=0.15279loss=1.22301.ckpt' as top 1\n",
      "Epoch 5, global step 384: 'iou' reached 0.15279 (best 0.15279), saving model to './mlruns/126730738902562300/598a0c52f5a34d9e9e1956c73f94acd8/checkpoints/iou_epoch=5f1=0.32295iou=0.15279loss=1.22301.ckpt' as top 1\n"
     ]
    },
    {
     "data": {
      "text/html": [
       "<pre style=\"white-space:pre;overflow-x:auto;line-height:normal;font-family:Menlo,'DejaVu Sans Mono',consolas,'Courier New',monospace\">2024/06/10 00:54:14 WARNING mlflow.utils.checkpoint_utils: Checkpoint logging is skipped, because checkpoint \n",
       "'save_best_only' config is True, it requires to compare the monitored metric value, but the provided monitored \n",
       "metric value is not available.\n",
       "</pre>\n"
      ],
      "text/plain": [
       "2024/06/10 00:54:14 WARNING mlflow.utils.checkpoint_utils: Checkpoint logging is skipped, because checkpoint \n",
       "'save_best_only' config is True, it requires to compare the monitored metric value, but the provided monitored \n",
       "metric value is not available.\n"
      ]
     },
     "metadata": {},
     "output_type": "display_data"
    },
    {
     "name": "stderr",
     "output_type": "stream",
     "text": [
      "Epoch 6, global step 448: 'f1' reached 0.33060 (best 0.33060), saving model to './mlruns/126730738902562300/598a0c52f5a34d9e9e1956c73f94acd8/checkpoints/f1_epoch=6f1=0.33060iou=0.16656loss=1.30269.ckpt' as top 1\n",
      "Epoch 6, global step 448: 'iou' reached 0.16656 (best 0.16656), saving model to './mlruns/126730738902562300/598a0c52f5a34d9e9e1956c73f94acd8/checkpoints/iou_epoch=6f1=0.33060iou=0.16656loss=1.30269.ckpt' as top 1\n"
     ]
    },
    {
     "data": {
      "text/html": [
       "<pre style=\"white-space:pre;overflow-x:auto;line-height:normal;font-family:Menlo,'DejaVu Sans Mono',consolas,'Courier New',monospace\">2024/06/10 00:55:20 WARNING mlflow.utils.checkpoint_utils: Checkpoint logging is skipped, because checkpoint \n",
       "'save_best_only' config is True, it requires to compare the monitored metric value, but the provided monitored \n",
       "metric value is not available.\n",
       "</pre>\n"
      ],
      "text/plain": [
       "2024/06/10 00:55:20 WARNING mlflow.utils.checkpoint_utils: Checkpoint logging is skipped, because checkpoint \n",
       "'save_best_only' config is True, it requires to compare the monitored metric value, but the provided monitored \n",
       "metric value is not available.\n"
      ]
     },
     "metadata": {},
     "output_type": "display_data"
    },
    {
     "name": "stderr",
     "output_type": "stream",
     "text": [
      "Epoch 7, global step 512: 'f1' was not in top 1\n",
      "Epoch 7, global step 512: 'iou' was not in top 1\n"
     ]
    },
    {
     "data": {
      "text/html": [
       "<pre style=\"white-space:pre;overflow-x:auto;line-height:normal;font-family:Menlo,'DejaVu Sans Mono',consolas,'Courier New',monospace\">2024/06/10 00:56:20 WARNING mlflow.utils.checkpoint_utils: Checkpoint logging is skipped, because checkpoint \n",
       "'save_best_only' config is True, it requires to compare the monitored metric value, but the provided monitored \n",
       "metric value is not available.\n",
       "</pre>\n"
      ],
      "text/plain": [
       "2024/06/10 00:56:20 WARNING mlflow.utils.checkpoint_utils: Checkpoint logging is skipped, because checkpoint \n",
       "'save_best_only' config is True, it requires to compare the monitored metric value, but the provided monitored \n",
       "metric value is not available.\n"
      ]
     },
     "metadata": {},
     "output_type": "display_data"
    },
    {
     "name": "stderr",
     "output_type": "stream",
     "text": [
      "Epoch 8, global step 576: 'f1' was not in top 1\n",
      "Epoch 8, global step 576: 'iou' was not in top 1\n"
     ]
    },
    {
     "data": {
      "text/html": [
       "<pre style=\"white-space:pre;overflow-x:auto;line-height:normal;font-family:Menlo,'DejaVu Sans Mono',consolas,'Courier New',monospace\">2024/06/10 00:57:20 WARNING mlflow.utils.checkpoint_utils: Checkpoint logging is skipped, because checkpoint \n",
       "'save_best_only' config is True, it requires to compare the monitored metric value, but the provided monitored \n",
       "metric value is not available.\n",
       "</pre>\n"
      ],
      "text/plain": [
       "2024/06/10 00:57:20 WARNING mlflow.utils.checkpoint_utils: Checkpoint logging is skipped, because checkpoint \n",
       "'save_best_only' config is True, it requires to compare the monitored metric value, but the provided monitored \n",
       "metric value is not available.\n"
      ]
     },
     "metadata": {},
     "output_type": "display_data"
    },
    {
     "name": "stderr",
     "output_type": "stream",
     "text": [
      "Epoch 9, global step 640: 'f1' was not in top 1\n",
      "Epoch 9, global step 640: 'iou' was not in top 1\n"
     ]
    },
    {
     "data": {
      "text/html": [
       "<pre style=\"white-space:pre;overflow-x:auto;line-height:normal;font-family:Menlo,'DejaVu Sans Mono',consolas,'Courier New',monospace\">2024/06/10 00:58:20 WARNING mlflow.utils.checkpoint_utils: Checkpoint logging is skipped, because checkpoint \n",
       "'save_best_only' config is True, it requires to compare the monitored metric value, but the provided monitored \n",
       "metric value is not available.\n",
       "</pre>\n"
      ],
      "text/plain": [
       "2024/06/10 00:58:20 WARNING mlflow.utils.checkpoint_utils: Checkpoint logging is skipped, because checkpoint \n",
       "'save_best_only' config is True, it requires to compare the monitored metric value, but the provided monitored \n",
       "metric value is not available.\n"
      ]
     },
     "metadata": {},
     "output_type": "display_data"
    },
    {
     "name": "stderr",
     "output_type": "stream",
     "text": [
      "Epoch 10, global step 704: 'f1' reached 0.35306 (best 0.35306), saving model to './mlruns/126730738902562300/598a0c52f5a34d9e9e1956c73f94acd8/checkpoints/f1_epoch=10f1=0.35306iou=0.17894loss=1.61644.ckpt' as top 1\n",
      "Epoch 10, global step 704: 'iou' reached 0.17894 (best 0.17894), saving model to './mlruns/126730738902562300/598a0c52f5a34d9e9e1956c73f94acd8/checkpoints/iou_epoch=10f1=0.35306iou=0.17894loss=1.61644.ckpt' as top 1\n"
     ]
    },
    {
     "data": {
      "text/html": [
       "<pre style=\"white-space:pre;overflow-x:auto;line-height:normal;font-family:Menlo,'DejaVu Sans Mono',consolas,'Courier New',monospace\">2024/06/10 00:59:26 WARNING mlflow.utils.checkpoint_utils: Checkpoint logging is skipped, because checkpoint \n",
       "'save_best_only' config is True, it requires to compare the monitored metric value, but the provided monitored \n",
       "metric value is not available.\n",
       "</pre>\n"
      ],
      "text/plain": [
       "2024/06/10 00:59:26 WARNING mlflow.utils.checkpoint_utils: Checkpoint logging is skipped, because checkpoint \n",
       "'save_best_only' config is True, it requires to compare the monitored metric value, but the provided monitored \n",
       "metric value is not available.\n"
      ]
     },
     "metadata": {},
     "output_type": "display_data"
    },
    {
     "name": "stderr",
     "output_type": "stream",
     "text": [
      "Epoch 11, global step 768: 'f1' was not in top 1\n",
      "Epoch 11, global step 768: 'iou' was not in top 1\n"
     ]
    },
    {
     "data": {
      "text/html": [
       "<pre style=\"white-space:pre;overflow-x:auto;line-height:normal;font-family:Menlo,'DejaVu Sans Mono',consolas,'Courier New',monospace\">2024/06/10 01:00:26 WARNING mlflow.utils.checkpoint_utils: Checkpoint logging is skipped, because checkpoint \n",
       "'save_best_only' config is True, it requires to compare the monitored metric value, but the provided monitored \n",
       "metric value is not available.\n",
       "</pre>\n"
      ],
      "text/plain": [
       "2024/06/10 01:00:26 WARNING mlflow.utils.checkpoint_utils: Checkpoint logging is skipped, because checkpoint \n",
       "'save_best_only' config is True, it requires to compare the monitored metric value, but the provided monitored \n",
       "metric value is not available.\n"
      ]
     },
     "metadata": {},
     "output_type": "display_data"
    },
    {
     "name": "stderr",
     "output_type": "stream",
     "text": [
      "Epoch 12, global step 832: 'f1' was not in top 1\n",
      "Epoch 12, global step 832: 'iou' was not in top 1\n"
     ]
    },
    {
     "data": {
      "text/html": [
       "<pre style=\"white-space:pre;overflow-x:auto;line-height:normal;font-family:Menlo,'DejaVu Sans Mono',consolas,'Courier New',monospace\">2024/06/10 01:01:26 WARNING mlflow.utils.checkpoint_utils: Checkpoint logging is skipped, because checkpoint \n",
       "'save_best_only' config is True, it requires to compare the monitored metric value, but the provided monitored \n",
       "metric value is not available.\n",
       "</pre>\n"
      ],
      "text/plain": [
       "2024/06/10 01:01:26 WARNING mlflow.utils.checkpoint_utils: Checkpoint logging is skipped, because checkpoint \n",
       "'save_best_only' config is True, it requires to compare the monitored metric value, but the provided monitored \n",
       "metric value is not available.\n"
      ]
     },
     "metadata": {},
     "output_type": "display_data"
    },
    {
     "name": "stderr",
     "output_type": "stream",
     "text": [
      "Epoch 13, global step 896: 'f1' reached 0.36032 (best 0.36032), saving model to './mlruns/126730738902562300/598a0c52f5a34d9e9e1956c73f94acd8/checkpoints/f1_epoch=13f1=0.36032iou=0.16981loss=1.12508.ckpt' as top 1\n",
      "Epoch 13, global step 896: 'iou' was not in top 1\n"
     ]
    },
    {
     "data": {
      "text/html": [
       "<pre style=\"white-space:pre;overflow-x:auto;line-height:normal;font-family:Menlo,'DejaVu Sans Mono',consolas,'Courier New',monospace\">2024/06/10 01:02:30 WARNING mlflow.utils.checkpoint_utils: Checkpoint logging is skipped, because checkpoint \n",
       "'save_best_only' config is True, it requires to compare the monitored metric value, but the provided monitored \n",
       "metric value is not available.\n",
       "</pre>\n"
      ],
      "text/plain": [
       "2024/06/10 01:02:30 WARNING mlflow.utils.checkpoint_utils: Checkpoint logging is skipped, because checkpoint \n",
       "'save_best_only' config is True, it requires to compare the monitored metric value, but the provided monitored \n",
       "metric value is not available.\n"
      ]
     },
     "metadata": {},
     "output_type": "display_data"
    },
    {
     "name": "stderr",
     "output_type": "stream",
     "text": [
      "Epoch 14, global step 960: 'f1' was not in top 1\n",
      "Epoch 14, global step 960: 'iou' was not in top 1\n"
     ]
    },
    {
     "data": {
      "text/html": [
       "<pre style=\"white-space:pre;overflow-x:auto;line-height:normal;font-family:Menlo,'DejaVu Sans Mono',consolas,'Courier New',monospace\">2024/06/10 01:03:30 WARNING mlflow.utils.checkpoint_utils: Checkpoint logging is skipped, because checkpoint \n",
       "'save_best_only' config is True, it requires to compare the monitored metric value, but the provided monitored \n",
       "metric value is not available.\n",
       "</pre>\n"
      ],
      "text/plain": [
       "2024/06/10 01:03:30 WARNING mlflow.utils.checkpoint_utils: Checkpoint logging is skipped, because checkpoint \n",
       "'save_best_only' config is True, it requires to compare the monitored metric value, but the provided monitored \n",
       "metric value is not available.\n"
      ]
     },
     "metadata": {},
     "output_type": "display_data"
    },
    {
     "name": "stderr",
     "output_type": "stream",
     "text": [
      "Epoch 15, global step 1024: 'f1' was not in top 1\n",
      "Epoch 15, global step 1024: 'iou' was not in top 1\n"
     ]
    },
    {
     "data": {
      "text/html": [
       "<pre style=\"white-space:pre;overflow-x:auto;line-height:normal;font-family:Menlo,'DejaVu Sans Mono',consolas,'Courier New',monospace\">2024/06/10 01:04:30 WARNING mlflow.utils.checkpoint_utils: Checkpoint logging is skipped, because checkpoint \n",
       "'save_best_only' config is True, it requires to compare the monitored metric value, but the provided monitored \n",
       "metric value is not available.\n",
       "</pre>\n"
      ],
      "text/plain": [
       "2024/06/10 01:04:30 WARNING mlflow.utils.checkpoint_utils: Checkpoint logging is skipped, because checkpoint \n",
       "'save_best_only' config is True, it requires to compare the monitored metric value, but the provided monitored \n",
       "metric value is not available.\n"
      ]
     },
     "metadata": {},
     "output_type": "display_data"
    },
    {
     "name": "stderr",
     "output_type": "stream",
     "text": [
      "Epoch 16, global step 1088: 'f1' was not in top 1\n",
      "Epoch 16, global step 1088: 'iou' was not in top 1\n"
     ]
    },
    {
     "data": {
      "text/html": [
       "<pre style=\"white-space:pre;overflow-x:auto;line-height:normal;font-family:Menlo,'DejaVu Sans Mono',consolas,'Courier New',monospace\">2024/06/10 01:05:30 WARNING mlflow.utils.checkpoint_utils: Checkpoint logging is skipped, because checkpoint \n",
       "'save_best_only' config is True, it requires to compare the monitored metric value, but the provided monitored \n",
       "metric value is not available.\n",
       "</pre>\n"
      ],
      "text/plain": [
       "2024/06/10 01:05:30 WARNING mlflow.utils.checkpoint_utils: Checkpoint logging is skipped, because checkpoint \n",
       "'save_best_only' config is True, it requires to compare the monitored metric value, but the provided monitored \n",
       "metric value is not available.\n"
      ]
     },
     "metadata": {},
     "output_type": "display_data"
    },
    {
     "name": "stderr",
     "output_type": "stream",
     "text": [
      "Epoch 17, global step 1152: 'f1' was not in top 1\n",
      "Epoch 17, global step 1152: 'iou' was not in top 1\n"
     ]
    },
    {
     "data": {
      "text/html": [
       "<pre style=\"white-space:pre;overflow-x:auto;line-height:normal;font-family:Menlo,'DejaVu Sans Mono',consolas,'Courier New',monospace\">2024/06/10 01:06:30 WARNING mlflow.utils.checkpoint_utils: Checkpoint logging is skipped, because checkpoint \n",
       "'save_best_only' config is True, it requires to compare the monitored metric value, but the provided monitored \n",
       "metric value is not available.\n",
       "</pre>\n"
      ],
      "text/plain": [
       "2024/06/10 01:06:30 WARNING mlflow.utils.checkpoint_utils: Checkpoint logging is skipped, because checkpoint \n",
       "'save_best_only' config is True, it requires to compare the monitored metric value, but the provided monitored \n",
       "metric value is not available.\n"
      ]
     },
     "metadata": {},
     "output_type": "display_data"
    },
    {
     "name": "stderr",
     "output_type": "stream",
     "text": [
      "Epoch 18, global step 1216: 'f1' was not in top 1\n",
      "Epoch 18, global step 1216: 'iou' was not in top 1\n"
     ]
    },
    {
     "data": {
      "text/html": [
       "<pre style=\"white-space:pre;overflow-x:auto;line-height:normal;font-family:Menlo,'DejaVu Sans Mono',consolas,'Courier New',monospace\">2024/06/10 01:07:30 WARNING mlflow.utils.checkpoint_utils: Checkpoint logging is skipped, because checkpoint \n",
       "'save_best_only' config is True, it requires to compare the monitored metric value, but the provided monitored \n",
       "metric value is not available.\n",
       "</pre>\n"
      ],
      "text/plain": [
       "2024/06/10 01:07:30 WARNING mlflow.utils.checkpoint_utils: Checkpoint logging is skipped, because checkpoint \n",
       "'save_best_only' config is True, it requires to compare the monitored metric value, but the provided monitored \n",
       "metric value is not available.\n"
      ]
     },
     "metadata": {},
     "output_type": "display_data"
    },
    {
     "name": "stderr",
     "output_type": "stream",
     "text": [
      "Epoch 19, global step 1280: 'f1' was not in top 1\n",
      "Epoch 19, global step 1280: 'iou' was not in top 1\n"
     ]
    },
    {
     "data": {
      "text/html": [
       "<pre style=\"white-space:pre;overflow-x:auto;line-height:normal;font-family:Menlo,'DejaVu Sans Mono',consolas,'Courier New',monospace\">2024/06/10 01:08:30 WARNING mlflow.utils.checkpoint_utils: Checkpoint logging is skipped, because checkpoint \n",
       "'save_best_only' config is True, it requires to compare the monitored metric value, but the provided monitored \n",
       "metric value is not available.\n",
       "</pre>\n"
      ],
      "text/plain": [
       "2024/06/10 01:08:30 WARNING mlflow.utils.checkpoint_utils: Checkpoint logging is skipped, because checkpoint \n",
       "'save_best_only' config is True, it requires to compare the monitored metric value, but the provided monitored \n",
       "metric value is not available.\n"
      ]
     },
     "metadata": {},
     "output_type": "display_data"
    },
    {
     "name": "stderr",
     "output_type": "stream",
     "text": [
      "Epoch 20, global step 1344: 'f1' was not in top 1\n",
      "Epoch 20, global step 1344: 'iou' was not in top 1\n"
     ]
    },
    {
     "data": {
      "text/html": [
       "<pre style=\"white-space:pre;overflow-x:auto;line-height:normal;font-family:Menlo,'DejaVu Sans Mono',consolas,'Courier New',monospace\">2024/06/10 01:09:30 WARNING mlflow.utils.checkpoint_utils: Checkpoint logging is skipped, because checkpoint \n",
       "'save_best_only' config is True, it requires to compare the monitored metric value, but the provided monitored \n",
       "metric value is not available.\n",
       "</pre>\n"
      ],
      "text/plain": [
       "2024/06/10 01:09:30 WARNING mlflow.utils.checkpoint_utils: Checkpoint logging is skipped, because checkpoint \n",
       "'save_best_only' config is True, it requires to compare the monitored metric value, but the provided monitored \n",
       "metric value is not available.\n"
      ]
     },
     "metadata": {},
     "output_type": "display_data"
    },
    {
     "name": "stderr",
     "output_type": "stream",
     "text": [
      "Epoch 21, global step 1408: 'f1' was not in top 1\n",
      "Epoch 21, global step 1408: 'iou' was not in top 1\n"
     ]
    },
    {
     "data": {
      "text/html": [
       "<pre style=\"white-space:pre;overflow-x:auto;line-height:normal;font-family:Menlo,'DejaVu Sans Mono',consolas,'Courier New',monospace\">2024/06/10 01:10:30 WARNING mlflow.utils.checkpoint_utils: Checkpoint logging is skipped, because checkpoint \n",
       "'save_best_only' config is True, it requires to compare the monitored metric value, but the provided monitored \n",
       "metric value is not available.\n",
       "</pre>\n"
      ],
      "text/plain": [
       "2024/06/10 01:10:30 WARNING mlflow.utils.checkpoint_utils: Checkpoint logging is skipped, because checkpoint \n",
       "'save_best_only' config is True, it requires to compare the monitored metric value, but the provided monitored \n",
       "metric value is not available.\n"
      ]
     },
     "metadata": {},
     "output_type": "display_data"
    },
    {
     "name": "stderr",
     "output_type": "stream",
     "text": [
      "Epoch 22, global step 1472: 'f1' was not in top 1\n",
      "Epoch 22, global step 1472: 'iou' was not in top 1\n"
     ]
    },
    {
     "data": {
      "text/html": [
       "<pre style=\"white-space:pre;overflow-x:auto;line-height:normal;font-family:Menlo,'DejaVu Sans Mono',consolas,'Courier New',monospace\">2024/06/10 01:11:30 WARNING mlflow.utils.checkpoint_utils: Checkpoint logging is skipped, because checkpoint \n",
       "'save_best_only' config is True, it requires to compare the monitored metric value, but the provided monitored \n",
       "metric value is not available.\n",
       "</pre>\n"
      ],
      "text/plain": [
       "2024/06/10 01:11:30 WARNING mlflow.utils.checkpoint_utils: Checkpoint logging is skipped, because checkpoint \n",
       "'save_best_only' config is True, it requires to compare the monitored metric value, but the provided monitored \n",
       "metric value is not available.\n"
      ]
     },
     "metadata": {},
     "output_type": "display_data"
    },
    {
     "name": "stderr",
     "output_type": "stream",
     "text": [
      "Epoch 23, global step 1536: 'f1' was not in top 1\n",
      "Epoch 23, global step 1536: 'iou' was not in top 1\n"
     ]
    },
    {
     "data": {
      "text/html": [
       "<pre style=\"white-space:pre;overflow-x:auto;line-height:normal;font-family:Menlo,'DejaVu Sans Mono',consolas,'Courier New',monospace\">2024/06/10 01:12:30 WARNING mlflow.utils.checkpoint_utils: Checkpoint logging is skipped, because checkpoint \n",
       "'save_best_only' config is True, it requires to compare the monitored metric value, but the provided monitored \n",
       "metric value is not available.\n",
       "</pre>\n"
      ],
      "text/plain": [
       "2024/06/10 01:12:30 WARNING mlflow.utils.checkpoint_utils: Checkpoint logging is skipped, because checkpoint \n",
       "'save_best_only' config is True, it requires to compare the monitored metric value, but the provided monitored \n",
       "metric value is not available.\n"
      ]
     },
     "metadata": {},
     "output_type": "display_data"
    },
    {
     "name": "stderr",
     "output_type": "stream",
     "text": [
      "Epoch 24, global step 1600: 'f1' was not in top 1\n",
      "Epoch 24, global step 1600: 'iou' was not in top 1\n"
     ]
    },
    {
     "data": {
      "text/html": [
       "<pre style=\"white-space:pre;overflow-x:auto;line-height:normal;font-family:Menlo,'DejaVu Sans Mono',consolas,'Courier New',monospace\">2024/06/10 01:13:30 WARNING mlflow.utils.checkpoint_utils: Checkpoint logging is skipped, because checkpoint \n",
       "'save_best_only' config is True, it requires to compare the monitored metric value, but the provided monitored \n",
       "metric value is not available.\n",
       "</pre>\n"
      ],
      "text/plain": [
       "2024/06/10 01:13:30 WARNING mlflow.utils.checkpoint_utils: Checkpoint logging is skipped, because checkpoint \n",
       "'save_best_only' config is True, it requires to compare the monitored metric value, but the provided monitored \n",
       "metric value is not available.\n"
      ]
     },
     "metadata": {},
     "output_type": "display_data"
    },
    {
     "name": "stderr",
     "output_type": "stream",
     "text": [
      "Epoch 25, global step 1664: 'f1' was not in top 1\n",
      "Epoch 25, global step 1664: 'iou' was not in top 1\n"
     ]
    },
    {
     "data": {
      "text/html": [
       "<pre style=\"white-space:pre;overflow-x:auto;line-height:normal;font-family:Menlo,'DejaVu Sans Mono',consolas,'Courier New',monospace\">2024/06/10 01:14:30 WARNING mlflow.utils.checkpoint_utils: Checkpoint logging is skipped, because checkpoint \n",
       "'save_best_only' config is True, it requires to compare the monitored metric value, but the provided monitored \n",
       "metric value is not available.\n",
       "</pre>\n"
      ],
      "text/plain": [
       "2024/06/10 01:14:30 WARNING mlflow.utils.checkpoint_utils: Checkpoint logging is skipped, because checkpoint \n",
       "'save_best_only' config is True, it requires to compare the monitored metric value, but the provided monitored \n",
       "metric value is not available.\n"
      ]
     },
     "metadata": {},
     "output_type": "display_data"
    },
    {
     "name": "stderr",
     "output_type": "stream",
     "text": [
      "Epoch 26, global step 1728: 'f1' was not in top 1\n",
      "Epoch 26, global step 1728: 'iou' was not in top 1\n"
     ]
    },
    {
     "data": {
      "text/html": [
       "<pre style=\"white-space:pre;overflow-x:auto;line-height:normal;font-family:Menlo,'DejaVu Sans Mono',consolas,'Courier New',monospace\">2024/06/10 01:15:30 WARNING mlflow.utils.checkpoint_utils: Checkpoint logging is skipped, because checkpoint \n",
       "'save_best_only' config is True, it requires to compare the monitored metric value, but the provided monitored \n",
       "metric value is not available.\n",
       "</pre>\n"
      ],
      "text/plain": [
       "2024/06/10 01:15:30 WARNING mlflow.utils.checkpoint_utils: Checkpoint logging is skipped, because checkpoint \n",
       "'save_best_only' config is True, it requires to compare the monitored metric value, but the provided monitored \n",
       "metric value is not available.\n"
      ]
     },
     "metadata": {},
     "output_type": "display_data"
    },
    {
     "name": "stderr",
     "output_type": "stream",
     "text": [
      "Epoch 27, global step 1792: 'f1' reached 0.36731 (best 0.36731), saving model to './mlruns/126730738902562300/598a0c52f5a34d9e9e1956c73f94acd8/checkpoints/f1_epoch=27f1=0.36731iou=0.18098loss=0.76897.ckpt' as top 1\n",
      "Epoch 27, global step 1792: 'iou' reached 0.18098 (best 0.18098), saving model to './mlruns/126730738902562300/598a0c52f5a34d9e9e1956c73f94acd8/checkpoints/iou_epoch=27f1=0.36731iou=0.18098loss=0.76897.ckpt' as top 1\n"
     ]
    },
    {
     "data": {
      "text/html": [
       "<pre style=\"white-space:pre;overflow-x:auto;line-height:normal;font-family:Menlo,'DejaVu Sans Mono',consolas,'Courier New',monospace\">2024/06/10 01:16:36 WARNING mlflow.utils.checkpoint_utils: Checkpoint logging is skipped, because checkpoint \n",
       "'save_best_only' config is True, it requires to compare the monitored metric value, but the provided monitored \n",
       "metric value is not available.\n",
       "</pre>\n"
      ],
      "text/plain": [
       "2024/06/10 01:16:36 WARNING mlflow.utils.checkpoint_utils: Checkpoint logging is skipped, because checkpoint \n",
       "'save_best_only' config is True, it requires to compare the monitored metric value, but the provided monitored \n",
       "metric value is not available.\n"
      ]
     },
     "metadata": {},
     "output_type": "display_data"
    },
    {
     "name": "stderr",
     "output_type": "stream",
     "text": [
      "Epoch 28, global step 1856: 'f1' was not in top 1\n",
      "Epoch 28, global step 1856: 'iou' was not in top 1\n"
     ]
    },
    {
     "data": {
      "text/html": [
       "<pre style=\"white-space:pre;overflow-x:auto;line-height:normal;font-family:Menlo,'DejaVu Sans Mono',consolas,'Courier New',monospace\">2024/06/10 01:17:37 WARNING mlflow.utils.checkpoint_utils: Checkpoint logging is skipped, because checkpoint \n",
       "'save_best_only' config is True, it requires to compare the monitored metric value, but the provided monitored \n",
       "metric value is not available.\n",
       "</pre>\n"
      ],
      "text/plain": [
       "2024/06/10 01:17:37 WARNING mlflow.utils.checkpoint_utils: Checkpoint logging is skipped, because checkpoint \n",
       "'save_best_only' config is True, it requires to compare the monitored metric value, but the provided monitored \n",
       "metric value is not available.\n"
      ]
     },
     "metadata": {},
     "output_type": "display_data"
    },
    {
     "name": "stderr",
     "output_type": "stream",
     "text": [
      "Epoch 29, global step 1920: 'f1' was not in top 1\n",
      "Epoch 29, global step 1920: 'iou' was not in top 1\n"
     ]
    },
    {
     "data": {
      "text/html": [
       "<pre style=\"white-space:pre;overflow-x:auto;line-height:normal;font-family:Menlo,'DejaVu Sans Mono',consolas,'Courier New',monospace\">2024/06/10 01:18:36 WARNING mlflow.utils.checkpoint_utils: Checkpoint logging is skipped, because checkpoint \n",
       "'save_best_only' config is True, it requires to compare the monitored metric value, but the provided monitored \n",
       "metric value is not available.\n",
       "</pre>\n"
      ],
      "text/plain": [
       "2024/06/10 01:18:36 WARNING mlflow.utils.checkpoint_utils: Checkpoint logging is skipped, because checkpoint \n",
       "'save_best_only' config is True, it requires to compare the monitored metric value, but the provided monitored \n",
       "metric value is not available.\n"
      ]
     },
     "metadata": {},
     "output_type": "display_data"
    },
    {
     "name": "stderr",
     "output_type": "stream",
     "text": [
      "Epoch 30, global step 1984: 'f1' reached 0.38571 (best 0.38571), saving model to './mlruns/126730738902562300/598a0c52f5a34d9e9e1956c73f94acd8/checkpoints/f1_epoch=30f1=0.38571iou=0.19061loss=1.26025.ckpt' as top 1\n",
      "Epoch 30, global step 1984: 'iou' reached 0.19061 (best 0.19061), saving model to './mlruns/126730738902562300/598a0c52f5a34d9e9e1956c73f94acd8/checkpoints/iou_epoch=30f1=0.38571iou=0.19061loss=1.26025.ckpt' as top 1\n"
     ]
    },
    {
     "data": {
      "text/html": [
       "<pre style=\"white-space:pre;overflow-x:auto;line-height:normal;font-family:Menlo,'DejaVu Sans Mono',consolas,'Courier New',monospace\">2024/06/10 01:19:42 WARNING mlflow.utils.checkpoint_utils: Checkpoint logging is skipped, because checkpoint \n",
       "'save_best_only' config is True, it requires to compare the monitored metric value, but the provided monitored \n",
       "metric value is not available.\n",
       "</pre>\n"
      ],
      "text/plain": [
       "2024/06/10 01:19:42 WARNING mlflow.utils.checkpoint_utils: Checkpoint logging is skipped, because checkpoint \n",
       "'save_best_only' config is True, it requires to compare the monitored metric value, but the provided monitored \n",
       "metric value is not available.\n"
      ]
     },
     "metadata": {},
     "output_type": "display_data"
    },
    {
     "name": "stderr",
     "output_type": "stream",
     "text": [
      "Epoch 31, global step 2048: 'f1' was not in top 1\n",
      "Epoch 31, global step 2048: 'iou' was not in top 1\n"
     ]
    },
    {
     "data": {
      "text/html": [
       "<pre style=\"white-space:pre;overflow-x:auto;line-height:normal;font-family:Menlo,'DejaVu Sans Mono',consolas,'Courier New',monospace\">2024/06/10 01:20:43 WARNING mlflow.utils.checkpoint_utils: Checkpoint logging is skipped, because checkpoint \n",
       "'save_best_only' config is True, it requires to compare the monitored metric value, but the provided monitored \n",
       "metric value is not available.\n",
       "</pre>\n"
      ],
      "text/plain": [
       "2024/06/10 01:20:43 WARNING mlflow.utils.checkpoint_utils: Checkpoint logging is skipped, because checkpoint \n",
       "'save_best_only' config is True, it requires to compare the monitored metric value, but the provided monitored \n",
       "metric value is not available.\n"
      ]
     },
     "metadata": {},
     "output_type": "display_data"
    },
    {
     "name": "stderr",
     "output_type": "stream",
     "text": [
      "Epoch 32, global step 2112: 'f1' was not in top 1\n",
      "Epoch 32, global step 2112: 'iou' was not in top 1\n"
     ]
    },
    {
     "data": {
      "text/html": [
       "<pre style=\"white-space:pre;overflow-x:auto;line-height:normal;font-family:Menlo,'DejaVu Sans Mono',consolas,'Courier New',monospace\">2024/06/10 01:21:44 WARNING mlflow.utils.checkpoint_utils: Checkpoint logging is skipped, because checkpoint \n",
       "'save_best_only' config is True, it requires to compare the monitored metric value, but the provided monitored \n",
       "metric value is not available.\n",
       "</pre>\n"
      ],
      "text/plain": [
       "2024/06/10 01:21:44 WARNING mlflow.utils.checkpoint_utils: Checkpoint logging is skipped, because checkpoint \n",
       "'save_best_only' config is True, it requires to compare the monitored metric value, but the provided monitored \n",
       "metric value is not available.\n"
      ]
     },
     "metadata": {},
     "output_type": "display_data"
    },
    {
     "name": "stderr",
     "output_type": "stream",
     "text": [
      "Epoch 33, global step 2176: 'f1' was not in top 1\n",
      "Epoch 33, global step 2176: 'iou' was not in top 1\n"
     ]
    },
    {
     "data": {
      "text/html": [
       "<pre style=\"white-space:pre;overflow-x:auto;line-height:normal;font-family:Menlo,'DejaVu Sans Mono',consolas,'Courier New',monospace\">2024/06/10 01:22:43 WARNING mlflow.utils.checkpoint_utils: Checkpoint logging is skipped, because checkpoint \n",
       "'save_best_only' config is True, it requires to compare the monitored metric value, but the provided monitored \n",
       "metric value is not available.\n",
       "</pre>\n"
      ],
      "text/plain": [
       "2024/06/10 01:22:43 WARNING mlflow.utils.checkpoint_utils: Checkpoint logging is skipped, because checkpoint \n",
       "'save_best_only' config is True, it requires to compare the monitored metric value, but the provided monitored \n",
       "metric value is not available.\n"
      ]
     },
     "metadata": {},
     "output_type": "display_data"
    },
    {
     "name": "stderr",
     "output_type": "stream",
     "text": [
      "Epoch 34, global step 2240: 'f1' was not in top 1\n",
      "Epoch 34, global step 2240: 'iou' was not in top 1\n"
     ]
    },
    {
     "data": {
      "text/html": [
       "<pre style=\"white-space:pre;overflow-x:auto;line-height:normal;font-family:Menlo,'DejaVu Sans Mono',consolas,'Courier New',monospace\">2024/06/10 01:23:43 WARNING mlflow.utils.checkpoint_utils: Checkpoint logging is skipped, because checkpoint \n",
       "'save_best_only' config is True, it requires to compare the monitored metric value, but the provided monitored \n",
       "metric value is not available.\n",
       "</pre>\n"
      ],
      "text/plain": [
       "2024/06/10 01:23:43 WARNING mlflow.utils.checkpoint_utils: Checkpoint logging is skipped, because checkpoint \n",
       "'save_best_only' config is True, it requires to compare the monitored metric value, but the provided monitored \n",
       "metric value is not available.\n"
      ]
     },
     "metadata": {},
     "output_type": "display_data"
    },
    {
     "name": "stderr",
     "output_type": "stream",
     "text": [
      "Epoch 35, global step 2304: 'f1' was not in top 1\n",
      "Epoch 35, global step 2304: 'iou' was not in top 1\n"
     ]
    },
    {
     "data": {
      "text/html": [
       "<pre style=\"white-space:pre;overflow-x:auto;line-height:normal;font-family:Menlo,'DejaVu Sans Mono',consolas,'Courier New',monospace\">2024/06/10 01:24:44 WARNING mlflow.utils.checkpoint_utils: Checkpoint logging is skipped, because checkpoint \n",
       "'save_best_only' config is True, it requires to compare the monitored metric value, but the provided monitored \n",
       "metric value is not available.\n",
       "</pre>\n"
      ],
      "text/plain": [
       "2024/06/10 01:24:44 WARNING mlflow.utils.checkpoint_utils: Checkpoint logging is skipped, because checkpoint \n",
       "'save_best_only' config is True, it requires to compare the monitored metric value, but the provided monitored \n",
       "metric value is not available.\n"
      ]
     },
     "metadata": {},
     "output_type": "display_data"
    },
    {
     "name": "stderr",
     "output_type": "stream",
     "text": [
      "Epoch 36, global step 2368: 'f1' was not in top 1\n",
      "Epoch 36, global step 2368: 'iou' was not in top 1\n"
     ]
    },
    {
     "data": {
      "text/html": [
       "<pre style=\"white-space:pre;overflow-x:auto;line-height:normal;font-family:Menlo,'DejaVu Sans Mono',consolas,'Courier New',monospace\">2024/06/10 01:25:44 WARNING mlflow.utils.checkpoint_utils: Checkpoint logging is skipped, because checkpoint \n",
       "'save_best_only' config is True, it requires to compare the monitored metric value, but the provided monitored \n",
       "metric value is not available.\n",
       "</pre>\n"
      ],
      "text/plain": [
       "2024/06/10 01:25:44 WARNING mlflow.utils.checkpoint_utils: Checkpoint logging is skipped, because checkpoint \n",
       "'save_best_only' config is True, it requires to compare the monitored metric value, but the provided monitored \n",
       "metric value is not available.\n"
      ]
     },
     "metadata": {},
     "output_type": "display_data"
    },
    {
     "name": "stderr",
     "output_type": "stream",
     "text": [
      "Epoch 37, global step 2432: 'f1' reached 0.39702 (best 0.39702), saving model to './mlruns/126730738902562300/598a0c52f5a34d9e9e1956c73f94acd8/checkpoints/f1_epoch=37f1=0.39702iou=0.20344loss=1.37861.ckpt' as top 1\n",
      "Epoch 37, global step 2432: 'iou' reached 0.20344 (best 0.20344), saving model to './mlruns/126730738902562300/598a0c52f5a34d9e9e1956c73f94acd8/checkpoints/iou_epoch=37f1=0.39702iou=0.20344loss=1.37861.ckpt' as top 1\n"
     ]
    },
    {
     "data": {
      "text/html": [
       "<pre style=\"white-space:pre;overflow-x:auto;line-height:normal;font-family:Menlo,'DejaVu Sans Mono',consolas,'Courier New',monospace\">2024/06/10 01:26:50 WARNING mlflow.utils.checkpoint_utils: Checkpoint logging is skipped, because checkpoint \n",
       "'save_best_only' config is True, it requires to compare the monitored metric value, but the provided monitored \n",
       "metric value is not available.\n",
       "</pre>\n"
      ],
      "text/plain": [
       "2024/06/10 01:26:50 WARNING mlflow.utils.checkpoint_utils: Checkpoint logging is skipped, because checkpoint \n",
       "'save_best_only' config is True, it requires to compare the monitored metric value, but the provided monitored \n",
       "metric value is not available.\n"
      ]
     },
     "metadata": {},
     "output_type": "display_data"
    },
    {
     "name": "stderr",
     "output_type": "stream",
     "text": [
      "Epoch 38, global step 2496: 'f1' was not in top 1\n",
      "Epoch 38, global step 2496: 'iou' was not in top 1\n"
     ]
    },
    {
     "data": {
      "text/html": [
       "<pre style=\"white-space:pre;overflow-x:auto;line-height:normal;font-family:Menlo,'DejaVu Sans Mono',consolas,'Courier New',monospace\">2024/06/10 01:27:50 WARNING mlflow.utils.checkpoint_utils: Checkpoint logging is skipped, because checkpoint \n",
       "'save_best_only' config is True, it requires to compare the monitored metric value, but the provided monitored \n",
       "metric value is not available.\n",
       "</pre>\n"
      ],
      "text/plain": [
       "2024/06/10 01:27:50 WARNING mlflow.utils.checkpoint_utils: Checkpoint logging is skipped, because checkpoint \n",
       "'save_best_only' config is True, it requires to compare the monitored metric value, but the provided monitored \n",
       "metric value is not available.\n"
      ]
     },
     "metadata": {},
     "output_type": "display_data"
    },
    {
     "name": "stderr",
     "output_type": "stream",
     "text": [
      "Epoch 39, global step 2560: 'f1' was not in top 1\n",
      "Epoch 39, global step 2560: 'iou' was not in top 1\n"
     ]
    },
    {
     "data": {
      "text/html": [
       "<pre style=\"white-space:pre;overflow-x:auto;line-height:normal;font-family:Menlo,'DejaVu Sans Mono',consolas,'Courier New',monospace\">2024/06/10 01:28:50 WARNING mlflow.utils.checkpoint_utils: Checkpoint logging is skipped, because checkpoint \n",
       "'save_best_only' config is True, it requires to compare the monitored metric value, but the provided monitored \n",
       "metric value is not available.\n",
       "</pre>\n"
      ],
      "text/plain": [
       "2024/06/10 01:28:50 WARNING mlflow.utils.checkpoint_utils: Checkpoint logging is skipped, because checkpoint \n",
       "'save_best_only' config is True, it requires to compare the monitored metric value, but the provided monitored \n",
       "metric value is not available.\n"
      ]
     },
     "metadata": {},
     "output_type": "display_data"
    },
    {
     "name": "stderr",
     "output_type": "stream",
     "text": [
      "Epoch 40, global step 2624: 'f1' was not in top 1\n",
      "Epoch 40, global step 2624: 'iou' was not in top 1\n"
     ]
    },
    {
     "data": {
      "text/html": [
       "<pre style=\"white-space:pre;overflow-x:auto;line-height:normal;font-family:Menlo,'DejaVu Sans Mono',consolas,'Courier New',monospace\">2024/06/10 01:29:51 WARNING mlflow.utils.checkpoint_utils: Checkpoint logging is skipped, because checkpoint \n",
       "'save_best_only' config is True, it requires to compare the monitored metric value, but the provided monitored \n",
       "metric value is not available.\n",
       "</pre>\n"
      ],
      "text/plain": [
       "2024/06/10 01:29:51 WARNING mlflow.utils.checkpoint_utils: Checkpoint logging is skipped, because checkpoint \n",
       "'save_best_only' config is True, it requires to compare the monitored metric value, but the provided monitored \n",
       "metric value is not available.\n"
      ]
     },
     "metadata": {},
     "output_type": "display_data"
    },
    {
     "name": "stderr",
     "output_type": "stream",
     "text": [
      "Epoch 41, global step 2688: 'f1' reached 0.40237 (best 0.40237), saving model to './mlruns/126730738902562300/598a0c52f5a34d9e9e1956c73f94acd8/checkpoints/f1_epoch=41f1=0.40237iou=0.20457loss=0.85704.ckpt' as top 1\n",
      "Epoch 41, global step 2688: 'iou' reached 0.20457 (best 0.20457), saving model to './mlruns/126730738902562300/598a0c52f5a34d9e9e1956c73f94acd8/checkpoints/iou_epoch=41f1=0.40237iou=0.20457loss=0.85704.ckpt' as top 1\n"
     ]
    },
    {
     "data": {
      "text/html": [
       "<pre style=\"white-space:pre;overflow-x:auto;line-height:normal;font-family:Menlo,'DejaVu Sans Mono',consolas,'Courier New',monospace\">2024/06/10 01:30:57 WARNING mlflow.utils.checkpoint_utils: Checkpoint logging is skipped, because checkpoint \n",
       "'save_best_only' config is True, it requires to compare the monitored metric value, but the provided monitored \n",
       "metric value is not available.\n",
       "</pre>\n"
      ],
      "text/plain": [
       "2024/06/10 01:30:57 WARNING mlflow.utils.checkpoint_utils: Checkpoint logging is skipped, because checkpoint \n",
       "'save_best_only' config is True, it requires to compare the monitored metric value, but the provided monitored \n",
       "metric value is not available.\n"
      ]
     },
     "metadata": {},
     "output_type": "display_data"
    },
    {
     "name": "stderr",
     "output_type": "stream",
     "text": [
      "Epoch 42, global step 2752: 'f1' was not in top 1\n",
      "Epoch 42, global step 2752: 'iou' was not in top 1\n"
     ]
    },
    {
     "data": {
      "text/html": [
       "<pre style=\"white-space:pre;overflow-x:auto;line-height:normal;font-family:Menlo,'DejaVu Sans Mono',consolas,'Courier New',monospace\">2024/06/10 01:31:57 WARNING mlflow.utils.checkpoint_utils: Checkpoint logging is skipped, because checkpoint \n",
       "'save_best_only' config is True, it requires to compare the monitored metric value, but the provided monitored \n",
       "metric value is not available.\n",
       "</pre>\n"
      ],
      "text/plain": [
       "2024/06/10 01:31:57 WARNING mlflow.utils.checkpoint_utils: Checkpoint logging is skipped, because checkpoint \n",
       "'save_best_only' config is True, it requires to compare the monitored metric value, but the provided monitored \n",
       "metric value is not available.\n"
      ]
     },
     "metadata": {},
     "output_type": "display_data"
    },
    {
     "name": "stderr",
     "output_type": "stream",
     "text": [
      "Epoch 43, global step 2816: 'f1' reached 0.41892 (best 0.41892), saving model to './mlruns/126730738902562300/598a0c52f5a34d9e9e1956c73f94acd8/checkpoints/f1_epoch=43f1=0.41892iou=0.20925loss=1.02962.ckpt' as top 1\n",
      "Epoch 43, global step 2816: 'iou' reached 0.20925 (best 0.20925), saving model to './mlruns/126730738902562300/598a0c52f5a34d9e9e1956c73f94acd8/checkpoints/iou_epoch=43f1=0.41892iou=0.20925loss=1.02962.ckpt' as top 1\n"
     ]
    },
    {
     "data": {
      "text/html": [
       "<pre style=\"white-space:pre;overflow-x:auto;line-height:normal;font-family:Menlo,'DejaVu Sans Mono',consolas,'Courier New',monospace\">2024/06/10 01:33:03 WARNING mlflow.utils.checkpoint_utils: Checkpoint logging is skipped, because checkpoint \n",
       "'save_best_only' config is True, it requires to compare the monitored metric value, but the provided monitored \n",
       "metric value is not available.\n",
       "</pre>\n"
      ],
      "text/plain": [
       "2024/06/10 01:33:03 WARNING mlflow.utils.checkpoint_utils: Checkpoint logging is skipped, because checkpoint \n",
       "'save_best_only' config is True, it requires to compare the monitored metric value, but the provided monitored \n",
       "metric value is not available.\n"
      ]
     },
     "metadata": {},
     "output_type": "display_data"
    },
    {
     "name": "stderr",
     "output_type": "stream",
     "text": [
      "Epoch 44, global step 2880: 'f1' was not in top 1\n",
      "Epoch 44, global step 2880: 'iou' was not in top 1\n"
     ]
    },
    {
     "data": {
      "text/html": [
       "<pre style=\"white-space:pre;overflow-x:auto;line-height:normal;font-family:Menlo,'DejaVu Sans Mono',consolas,'Courier New',monospace\">2024/06/10 01:34:03 WARNING mlflow.utils.checkpoint_utils: Checkpoint logging is skipped, because checkpoint \n",
       "'save_best_only' config is True, it requires to compare the monitored metric value, but the provided monitored \n",
       "metric value is not available.\n",
       "</pre>\n"
      ],
      "text/plain": [
       "2024/06/10 01:34:03 WARNING mlflow.utils.checkpoint_utils: Checkpoint logging is skipped, because checkpoint \n",
       "'save_best_only' config is True, it requires to compare the monitored metric value, but the provided monitored \n",
       "metric value is not available.\n"
      ]
     },
     "metadata": {},
     "output_type": "display_data"
    },
    {
     "name": "stderr",
     "output_type": "stream",
     "text": [
      "Epoch 45, global step 2944: 'f1' was not in top 1\n",
      "Epoch 45, global step 2944: 'iou' was not in top 1\n"
     ]
    },
    {
     "data": {
      "text/html": [
       "<pre style=\"white-space:pre;overflow-x:auto;line-height:normal;font-family:Menlo,'DejaVu Sans Mono',consolas,'Courier New',monospace\">2024/06/10 01:35:03 WARNING mlflow.utils.checkpoint_utils: Checkpoint logging is skipped, because checkpoint \n",
       "'save_best_only' config is True, it requires to compare the monitored metric value, but the provided monitored \n",
       "metric value is not available.\n",
       "</pre>\n"
      ],
      "text/plain": [
       "2024/06/10 01:35:03 WARNING mlflow.utils.checkpoint_utils: Checkpoint logging is skipped, because checkpoint \n",
       "'save_best_only' config is True, it requires to compare the monitored metric value, but the provided monitored \n",
       "metric value is not available.\n"
      ]
     },
     "metadata": {},
     "output_type": "display_data"
    },
    {
     "name": "stderr",
     "output_type": "stream",
     "text": [
      "Epoch 46, global step 3008: 'f1' reached 0.43086 (best 0.43086), saving model to './mlruns/126730738902562300/598a0c52f5a34d9e9e1956c73f94acd8/checkpoints/f1_epoch=46f1=0.43086iou=0.20386loss=0.78619.ckpt' as top 1\n",
      "Epoch 46, global step 3008: 'iou' was not in top 1\n"
     ]
    },
    {
     "data": {
      "text/html": [
       "<pre style=\"white-space:pre;overflow-x:auto;line-height:normal;font-family:Menlo,'DejaVu Sans Mono',consolas,'Courier New',monospace\">2024/06/10 01:36:06 WARNING mlflow.utils.checkpoint_utils: Checkpoint logging is skipped, because checkpoint \n",
       "'save_best_only' config is True, it requires to compare the monitored metric value, but the provided monitored \n",
       "metric value is not available.\n",
       "</pre>\n"
      ],
      "text/plain": [
       "2024/06/10 01:36:06 WARNING mlflow.utils.checkpoint_utils: Checkpoint logging is skipped, because checkpoint \n",
       "'save_best_only' config is True, it requires to compare the monitored metric value, but the provided monitored \n",
       "metric value is not available.\n"
      ]
     },
     "metadata": {},
     "output_type": "display_data"
    },
    {
     "name": "stderr",
     "output_type": "stream",
     "text": [
      "Epoch 47, global step 3072: 'f1' was not in top 1\n",
      "Epoch 47, global step 3072: 'iou' was not in top 1\n"
     ]
    },
    {
     "data": {
      "text/html": [
       "<pre style=\"white-space:pre;overflow-x:auto;line-height:normal;font-family:Menlo,'DejaVu Sans Mono',consolas,'Courier New',monospace\">2024/06/10 01:37:06 WARNING mlflow.utils.checkpoint_utils: Checkpoint logging is skipped, because checkpoint \n",
       "'save_best_only' config is True, it requires to compare the monitored metric value, but the provided monitored \n",
       "metric value is not available.\n",
       "</pre>\n"
      ],
      "text/plain": [
       "2024/06/10 01:37:06 WARNING mlflow.utils.checkpoint_utils: Checkpoint logging is skipped, because checkpoint \n",
       "'save_best_only' config is True, it requires to compare the monitored metric value, but the provided monitored \n",
       "metric value is not available.\n"
      ]
     },
     "metadata": {},
     "output_type": "display_data"
    },
    {
     "name": "stderr",
     "output_type": "stream",
     "text": [
      "Epoch 48, global step 3136: 'f1' was not in top 1\n",
      "Epoch 48, global step 3136: 'iou' was not in top 1\n"
     ]
    },
    {
     "data": {
      "text/html": [
       "<pre style=\"white-space:pre;overflow-x:auto;line-height:normal;font-family:Menlo,'DejaVu Sans Mono',consolas,'Courier New',monospace\">2024/06/10 01:38:06 WARNING mlflow.utils.checkpoint_utils: Checkpoint logging is skipped, because checkpoint \n",
       "'save_best_only' config is True, it requires to compare the monitored metric value, but the provided monitored \n",
       "metric value is not available.\n",
       "</pre>\n"
      ],
      "text/plain": [
       "2024/06/10 01:38:06 WARNING mlflow.utils.checkpoint_utils: Checkpoint logging is skipped, because checkpoint \n",
       "'save_best_only' config is True, it requires to compare the monitored metric value, but the provided monitored \n",
       "metric value is not available.\n"
      ]
     },
     "metadata": {},
     "output_type": "display_data"
    },
    {
     "name": "stderr",
     "output_type": "stream",
     "text": [
      "Epoch 49, global step 3200: 'f1' was not in top 1\n",
      "Epoch 49, global step 3200: 'iou' was not in top 1\n"
     ]
    },
    {
     "data": {
      "text/html": [
       "<pre style=\"white-space:pre;overflow-x:auto;line-height:normal;font-family:Menlo,'DejaVu Sans Mono',consolas,'Courier New',monospace\">2024/06/10 01:39:06 WARNING mlflow.utils.checkpoint_utils: Checkpoint logging is skipped, because checkpoint \n",
       "'save_best_only' config is True, it requires to compare the monitored metric value, but the provided monitored \n",
       "metric value is not available.\n",
       "</pre>\n"
      ],
      "text/plain": [
       "2024/06/10 01:39:06 WARNING mlflow.utils.checkpoint_utils: Checkpoint logging is skipped, because checkpoint \n",
       "'save_best_only' config is True, it requires to compare the monitored metric value, but the provided monitored \n",
       "metric value is not available.\n"
      ]
     },
     "metadata": {},
     "output_type": "display_data"
    },
    {
     "name": "stderr",
     "output_type": "stream",
     "text": [
      "Epoch 50, global step 3264: 'f1' was not in top 1\n",
      "Epoch 50, global step 3264: 'iou' was not in top 1\n"
     ]
    },
    {
     "data": {
      "text/html": [
       "<pre style=\"white-space:pre;overflow-x:auto;line-height:normal;font-family:Menlo,'DejaVu Sans Mono',consolas,'Courier New',monospace\">2024/06/10 01:40:06 WARNING mlflow.utils.checkpoint_utils: Checkpoint logging is skipped, because checkpoint \n",
       "'save_best_only' config is True, it requires to compare the monitored metric value, but the provided monitored \n",
       "metric value is not available.\n",
       "</pre>\n"
      ],
      "text/plain": [
       "2024/06/10 01:40:06 WARNING mlflow.utils.checkpoint_utils: Checkpoint logging is skipped, because checkpoint \n",
       "'save_best_only' config is True, it requires to compare the monitored metric value, but the provided monitored \n",
       "metric value is not available.\n"
      ]
     },
     "metadata": {},
     "output_type": "display_data"
    },
    {
     "name": "stderr",
     "output_type": "stream",
     "text": [
      "Epoch 51, global step 3328: 'f1' was not in top 1\n",
      "Epoch 51, global step 3328: 'iou' was not in top 1\n"
     ]
    },
    {
     "data": {
      "text/html": [
       "<pre style=\"white-space:pre;overflow-x:auto;line-height:normal;font-family:Menlo,'DejaVu Sans Mono',consolas,'Courier New',monospace\">2024/06/10 01:41:06 WARNING mlflow.utils.checkpoint_utils: Checkpoint logging is skipped, because checkpoint \n",
       "'save_best_only' config is True, it requires to compare the monitored metric value, but the provided monitored \n",
       "metric value is not available.\n",
       "</pre>\n"
      ],
      "text/plain": [
       "2024/06/10 01:41:06 WARNING mlflow.utils.checkpoint_utils: Checkpoint logging is skipped, because checkpoint \n",
       "'save_best_only' config is True, it requires to compare the monitored metric value, but the provided monitored \n",
       "metric value is not available.\n"
      ]
     },
     "metadata": {},
     "output_type": "display_data"
    },
    {
     "name": "stderr",
     "output_type": "stream",
     "text": [
      "Epoch 52, global step 3392: 'f1' was not in top 1\n",
      "Epoch 52, global step 3392: 'iou' was not in top 1\n"
     ]
    },
    {
     "data": {
      "text/html": [
       "<pre style=\"white-space:pre;overflow-x:auto;line-height:normal;font-family:Menlo,'DejaVu Sans Mono',consolas,'Courier New',monospace\">2024/06/10 01:42:06 WARNING mlflow.utils.checkpoint_utils: Checkpoint logging is skipped, because checkpoint \n",
       "'save_best_only' config is True, it requires to compare the monitored metric value, but the provided monitored \n",
       "metric value is not available.\n",
       "</pre>\n"
      ],
      "text/plain": [
       "2024/06/10 01:42:06 WARNING mlflow.utils.checkpoint_utils: Checkpoint logging is skipped, because checkpoint \n",
       "'save_best_only' config is True, it requires to compare the monitored metric value, but the provided monitored \n",
       "metric value is not available.\n"
      ]
     },
     "metadata": {},
     "output_type": "display_data"
    },
    {
     "name": "stderr",
     "output_type": "stream",
     "text": [
      "Epoch 53, global step 3456: 'f1' was not in top 1\n",
      "Epoch 53, global step 3456: 'iou' was not in top 1\n"
     ]
    },
    {
     "data": {
      "text/html": [
       "<pre style=\"white-space:pre;overflow-x:auto;line-height:normal;font-family:Menlo,'DejaVu Sans Mono',consolas,'Courier New',monospace\">2024/06/10 01:43:06 WARNING mlflow.utils.checkpoint_utils: Checkpoint logging is skipped, because checkpoint \n",
       "'save_best_only' config is True, it requires to compare the monitored metric value, but the provided monitored \n",
       "metric value is not available.\n",
       "</pre>\n"
      ],
      "text/plain": [
       "2024/06/10 01:43:06 WARNING mlflow.utils.checkpoint_utils: Checkpoint logging is skipped, because checkpoint \n",
       "'save_best_only' config is True, it requires to compare the monitored metric value, but the provided monitored \n",
       "metric value is not available.\n"
      ]
     },
     "metadata": {},
     "output_type": "display_data"
    },
    {
     "name": "stderr",
     "output_type": "stream",
     "text": [
      "Epoch 54, global step 3520: 'f1' was not in top 1\n",
      "Epoch 54, global step 3520: 'iou' was not in top 1\n"
     ]
    },
    {
     "data": {
      "text/html": [
       "<pre style=\"white-space:pre;overflow-x:auto;line-height:normal;font-family:Menlo,'DejaVu Sans Mono',consolas,'Courier New',monospace\">2024/06/10 01:44:06 WARNING mlflow.utils.checkpoint_utils: Checkpoint logging is skipped, because checkpoint \n",
       "'save_best_only' config is True, it requires to compare the monitored metric value, but the provided monitored \n",
       "metric value is not available.\n",
       "</pre>\n"
      ],
      "text/plain": [
       "2024/06/10 01:44:06 WARNING mlflow.utils.checkpoint_utils: Checkpoint logging is skipped, because checkpoint \n",
       "'save_best_only' config is True, it requires to compare the monitored metric value, but the provided monitored \n",
       "metric value is not available.\n"
      ]
     },
     "metadata": {},
     "output_type": "display_data"
    },
    {
     "name": "stderr",
     "output_type": "stream",
     "text": [
      "Epoch 55, global step 3584: 'f1' was not in top 1\n",
      "Epoch 55, global step 3584: 'iou' was not in top 1\n"
     ]
    },
    {
     "data": {
      "text/html": [
       "<pre style=\"white-space:pre;overflow-x:auto;line-height:normal;font-family:Menlo,'DejaVu Sans Mono',consolas,'Courier New',monospace\">2024/06/10 01:45:06 WARNING mlflow.utils.checkpoint_utils: Checkpoint logging is skipped, because checkpoint \n",
       "'save_best_only' config is True, it requires to compare the monitored metric value, but the provided monitored \n",
       "metric value is not available.\n",
       "</pre>\n"
      ],
      "text/plain": [
       "2024/06/10 01:45:06 WARNING mlflow.utils.checkpoint_utils: Checkpoint logging is skipped, because checkpoint \n",
       "'save_best_only' config is True, it requires to compare the monitored metric value, but the provided monitored \n",
       "metric value is not available.\n"
      ]
     },
     "metadata": {},
     "output_type": "display_data"
    },
    {
     "name": "stderr",
     "output_type": "stream",
     "text": [
      "Epoch 56, global step 3648: 'f1' was not in top 1\n",
      "Epoch 56, global step 3648: 'iou' was not in top 1\n"
     ]
    },
    {
     "data": {
      "text/html": [
       "<pre style=\"white-space:pre;overflow-x:auto;line-height:normal;font-family:Menlo,'DejaVu Sans Mono',consolas,'Courier New',monospace\">2024/06/10 01:46:06 WARNING mlflow.utils.checkpoint_utils: Checkpoint logging is skipped, because checkpoint \n",
       "'save_best_only' config is True, it requires to compare the monitored metric value, but the provided monitored \n",
       "metric value is not available.\n",
       "</pre>\n"
      ],
      "text/plain": [
       "2024/06/10 01:46:06 WARNING mlflow.utils.checkpoint_utils: Checkpoint logging is skipped, because checkpoint \n",
       "'save_best_only' config is True, it requires to compare the monitored metric value, but the provided monitored \n",
       "metric value is not available.\n"
      ]
     },
     "metadata": {},
     "output_type": "display_data"
    },
    {
     "name": "stderr",
     "output_type": "stream",
     "text": [
      "Epoch 57, global step 3712: 'f1' was not in top 1\n",
      "Epoch 57, global step 3712: 'iou' was not in top 1\n"
     ]
    },
    {
     "data": {
      "text/html": [
       "<pre style=\"white-space:pre;overflow-x:auto;line-height:normal;font-family:Menlo,'DejaVu Sans Mono',consolas,'Courier New',monospace\">2024/06/10 01:47:06 WARNING mlflow.utils.checkpoint_utils: Checkpoint logging is skipped, because checkpoint \n",
       "'save_best_only' config is True, it requires to compare the monitored metric value, but the provided monitored \n",
       "metric value is not available.\n",
       "</pre>\n"
      ],
      "text/plain": [
       "2024/06/10 01:47:06 WARNING mlflow.utils.checkpoint_utils: Checkpoint logging is skipped, because checkpoint \n",
       "'save_best_only' config is True, it requires to compare the monitored metric value, but the provided monitored \n",
       "metric value is not available.\n"
      ]
     },
     "metadata": {},
     "output_type": "display_data"
    },
    {
     "name": "stderr",
     "output_type": "stream",
     "text": [
      "Epoch 58, global step 3776: 'f1' was not in top 1\n",
      "Epoch 58, global step 3776: 'iou' was not in top 1\n"
     ]
    },
    {
     "data": {
      "text/html": [
       "<pre style=\"white-space:pre;overflow-x:auto;line-height:normal;font-family:Menlo,'DejaVu Sans Mono',consolas,'Courier New',monospace\">2024/06/10 01:48:06 WARNING mlflow.utils.checkpoint_utils: Checkpoint logging is skipped, because checkpoint \n",
       "'save_best_only' config is True, it requires to compare the monitored metric value, but the provided monitored \n",
       "metric value is not available.\n",
       "</pre>\n"
      ],
      "text/plain": [
       "2024/06/10 01:48:06 WARNING mlflow.utils.checkpoint_utils: Checkpoint logging is skipped, because checkpoint \n",
       "'save_best_only' config is True, it requires to compare the monitored metric value, but the provided monitored \n",
       "metric value is not available.\n"
      ]
     },
     "metadata": {},
     "output_type": "display_data"
    },
    {
     "name": "stderr",
     "output_type": "stream",
     "text": [
      "Epoch 59, global step 3840: 'f1' was not in top 1\n",
      "Epoch 59, global step 3840: 'iou' was not in top 1\n"
     ]
    },
    {
     "data": {
      "text/html": [
       "<pre style=\"white-space:pre;overflow-x:auto;line-height:normal;font-family:Menlo,'DejaVu Sans Mono',consolas,'Courier New',monospace\">2024/06/10 01:49:06 WARNING mlflow.utils.checkpoint_utils: Checkpoint logging is skipped, because checkpoint \n",
       "'save_best_only' config is True, it requires to compare the monitored metric value, but the provided monitored \n",
       "metric value is not available.\n",
       "</pre>\n"
      ],
      "text/plain": [
       "2024/06/10 01:49:06 WARNING mlflow.utils.checkpoint_utils: Checkpoint logging is skipped, because checkpoint \n",
       "'save_best_only' config is True, it requires to compare the monitored metric value, but the provided monitored \n",
       "metric value is not available.\n"
      ]
     },
     "metadata": {},
     "output_type": "display_data"
    },
    {
     "name": "stderr",
     "output_type": "stream",
     "text": [
      "Epoch 60, global step 3904: 'f1' was not in top 1\n",
      "Epoch 60, global step 3904: 'iou' was not in top 1\n"
     ]
    },
    {
     "data": {
      "text/html": [
       "<pre style=\"white-space:pre;overflow-x:auto;line-height:normal;font-family:Menlo,'DejaVu Sans Mono',consolas,'Courier New',monospace\">2024/06/10 01:50:06 WARNING mlflow.utils.checkpoint_utils: Checkpoint logging is skipped, because checkpoint \n",
       "'save_best_only' config is True, it requires to compare the monitored metric value, but the provided monitored \n",
       "metric value is not available.\n",
       "</pre>\n"
      ],
      "text/plain": [
       "2024/06/10 01:50:06 WARNING mlflow.utils.checkpoint_utils: Checkpoint logging is skipped, because checkpoint \n",
       "'save_best_only' config is True, it requires to compare the monitored metric value, but the provided monitored \n",
       "metric value is not available.\n"
      ]
     },
     "metadata": {},
     "output_type": "display_data"
    },
    {
     "name": "stderr",
     "output_type": "stream",
     "text": [
      "Epoch 61, global step 3968: 'f1' reached 0.43522 (best 0.43522), saving model to './mlruns/126730738902562300/598a0c52f5a34d9e9e1956c73f94acd8/checkpoints/f1_epoch=61f1=0.43522iou=0.21331loss=0.64049.ckpt' as top 1\n",
      "Epoch 61, global step 3968: 'iou' reached 0.21331 (best 0.21331), saving model to './mlruns/126730738902562300/598a0c52f5a34d9e9e1956c73f94acd8/checkpoints/iou_epoch=61f1=0.43522iou=0.21331loss=0.64049.ckpt' as top 1\n"
     ]
    },
    {
     "data": {
      "text/html": [
       "<pre style=\"white-space:pre;overflow-x:auto;line-height:normal;font-family:Menlo,'DejaVu Sans Mono',consolas,'Courier New',monospace\">2024/06/10 01:51:12 WARNING mlflow.utils.checkpoint_utils: Checkpoint logging is skipped, because checkpoint \n",
       "'save_best_only' config is True, it requires to compare the monitored metric value, but the provided monitored \n",
       "metric value is not available.\n",
       "</pre>\n"
      ],
      "text/plain": [
       "2024/06/10 01:51:12 WARNING mlflow.utils.checkpoint_utils: Checkpoint logging is skipped, because checkpoint \n",
       "'save_best_only' config is True, it requires to compare the monitored metric value, but the provided monitored \n",
       "metric value is not available.\n"
      ]
     },
     "metadata": {},
     "output_type": "display_data"
    },
    {
     "name": "stderr",
     "output_type": "stream",
     "text": [
      "Epoch 62, global step 4032: 'f1' was not in top 1\n",
      "Epoch 62, global step 4032: 'iou' was not in top 1\n"
     ]
    },
    {
     "data": {
      "text/html": [
       "<pre style=\"white-space:pre;overflow-x:auto;line-height:normal;font-family:Menlo,'DejaVu Sans Mono',consolas,'Courier New',monospace\">2024/06/10 01:52:12 WARNING mlflow.utils.checkpoint_utils: Checkpoint logging is skipped, because checkpoint \n",
       "'save_best_only' config is True, it requires to compare the monitored metric value, but the provided monitored \n",
       "metric value is not available.\n",
       "</pre>\n"
      ],
      "text/plain": [
       "2024/06/10 01:52:12 WARNING mlflow.utils.checkpoint_utils: Checkpoint logging is skipped, because checkpoint \n",
       "'save_best_only' config is True, it requires to compare the monitored metric value, but the provided monitored \n",
       "metric value is not available.\n"
      ]
     },
     "metadata": {},
     "output_type": "display_data"
    },
    {
     "name": "stderr",
     "output_type": "stream",
     "text": [
      "Epoch 63, global step 4096: 'f1' was not in top 1\n",
      "Epoch 63, global step 4096: 'iou' was not in top 1\n"
     ]
    },
    {
     "data": {
      "text/html": [
       "<pre style=\"white-space:pre;overflow-x:auto;line-height:normal;font-family:Menlo,'DejaVu Sans Mono',consolas,'Courier New',monospace\">2024/06/10 01:53:12 WARNING mlflow.utils.checkpoint_utils: Checkpoint logging is skipped, because checkpoint \n",
       "'save_best_only' config is True, it requires to compare the monitored metric value, but the provided monitored \n",
       "metric value is not available.\n",
       "</pre>\n"
      ],
      "text/plain": [
       "2024/06/10 01:53:12 WARNING mlflow.utils.checkpoint_utils: Checkpoint logging is skipped, because checkpoint \n",
       "'save_best_only' config is True, it requires to compare the monitored metric value, but the provided monitored \n",
       "metric value is not available.\n"
      ]
     },
     "metadata": {},
     "output_type": "display_data"
    },
    {
     "name": "stderr",
     "output_type": "stream",
     "text": [
      "Epoch 64, global step 4160: 'f1' was not in top 1\n",
      "Epoch 64, global step 4160: 'iou' was not in top 1\n"
     ]
    },
    {
     "data": {
      "text/html": [
       "<pre style=\"white-space:pre;overflow-x:auto;line-height:normal;font-family:Menlo,'DejaVu Sans Mono',consolas,'Courier New',monospace\">2024/06/10 01:54:12 WARNING mlflow.utils.checkpoint_utils: Checkpoint logging is skipped, because checkpoint \n",
       "'save_best_only' config is True, it requires to compare the monitored metric value, but the provided monitored \n",
       "metric value is not available.\n",
       "</pre>\n"
      ],
      "text/plain": [
       "2024/06/10 01:54:12 WARNING mlflow.utils.checkpoint_utils: Checkpoint logging is skipped, because checkpoint \n",
       "'save_best_only' config is True, it requires to compare the monitored metric value, but the provided monitored \n",
       "metric value is not available.\n"
      ]
     },
     "metadata": {},
     "output_type": "display_data"
    },
    {
     "name": "stderr",
     "output_type": "stream",
     "text": [
      "Epoch 65, global step 4224: 'f1' was not in top 1\n",
      "Epoch 65, global step 4224: 'iou' was not in top 1\n"
     ]
    },
    {
     "data": {
      "text/html": [
       "<pre style=\"white-space:pre;overflow-x:auto;line-height:normal;font-family:Menlo,'DejaVu Sans Mono',consolas,'Courier New',monospace\">2024/06/10 01:55:12 WARNING mlflow.utils.checkpoint_utils: Checkpoint logging is skipped, because checkpoint \n",
       "'save_best_only' config is True, it requires to compare the monitored metric value, but the provided monitored \n",
       "metric value is not available.\n",
       "</pre>\n"
      ],
      "text/plain": [
       "2024/06/10 01:55:12 WARNING mlflow.utils.checkpoint_utils: Checkpoint logging is skipped, because checkpoint \n",
       "'save_best_only' config is True, it requires to compare the monitored metric value, but the provided monitored \n",
       "metric value is not available.\n"
      ]
     },
     "metadata": {},
     "output_type": "display_data"
    },
    {
     "name": "stderr",
     "output_type": "stream",
     "text": [
      "Epoch 66, global step 4288: 'f1' was not in top 1\n",
      "Epoch 66, global step 4288: 'iou' was not in top 1\n"
     ]
    },
    {
     "data": {
      "text/html": [
       "<pre style=\"white-space:pre;overflow-x:auto;line-height:normal;font-family:Menlo,'DejaVu Sans Mono',consolas,'Courier New',monospace\">2024/06/10 01:56:12 WARNING mlflow.utils.checkpoint_utils: Checkpoint logging is skipped, because checkpoint \n",
       "'save_best_only' config is True, it requires to compare the monitored metric value, but the provided monitored \n",
       "metric value is not available.\n",
       "</pre>\n"
      ],
      "text/plain": [
       "2024/06/10 01:56:12 WARNING mlflow.utils.checkpoint_utils: Checkpoint logging is skipped, because checkpoint \n",
       "'save_best_only' config is True, it requires to compare the monitored metric value, but the provided monitored \n",
       "metric value is not available.\n"
      ]
     },
     "metadata": {},
     "output_type": "display_data"
    },
    {
     "name": "stderr",
     "output_type": "stream",
     "text": [
      "Epoch 67, global step 4352: 'f1' was not in top 1\n",
      "Epoch 67, global step 4352: 'iou' was not in top 1\n"
     ]
    },
    {
     "data": {
      "text/html": [
       "<pre style=\"white-space:pre;overflow-x:auto;line-height:normal;font-family:Menlo,'DejaVu Sans Mono',consolas,'Courier New',monospace\">2024/06/10 01:57:13 WARNING mlflow.utils.checkpoint_utils: Checkpoint logging is skipped, because checkpoint \n",
       "'save_best_only' config is True, it requires to compare the monitored metric value, but the provided monitored \n",
       "metric value is not available.\n",
       "</pre>\n"
      ],
      "text/plain": [
       "2024/06/10 01:57:13 WARNING mlflow.utils.checkpoint_utils: Checkpoint logging is skipped, because checkpoint \n",
       "'save_best_only' config is True, it requires to compare the monitored metric value, but the provided monitored \n",
       "metric value is not available.\n"
      ]
     },
     "metadata": {},
     "output_type": "display_data"
    },
    {
     "name": "stderr",
     "output_type": "stream",
     "text": [
      "Epoch 68, global step 4416: 'f1' was not in top 1\n",
      "Epoch 68, global step 4416: 'iou' was not in top 1\n"
     ]
    },
    {
     "data": {
      "text/html": [
       "<pre style=\"white-space:pre;overflow-x:auto;line-height:normal;font-family:Menlo,'DejaVu Sans Mono',consolas,'Courier New',monospace\">2024/06/10 01:58:12 WARNING mlflow.utils.checkpoint_utils: Checkpoint logging is skipped, because checkpoint \n",
       "'save_best_only' config is True, it requires to compare the monitored metric value, but the provided monitored \n",
       "metric value is not available.\n",
       "</pre>\n"
      ],
      "text/plain": [
       "2024/06/10 01:58:12 WARNING mlflow.utils.checkpoint_utils: Checkpoint logging is skipped, because checkpoint \n",
       "'save_best_only' config is True, it requires to compare the monitored metric value, but the provided monitored \n",
       "metric value is not available.\n"
      ]
     },
     "metadata": {},
     "output_type": "display_data"
    },
    {
     "name": "stderr",
     "output_type": "stream",
     "text": [
      "Epoch 69, global step 4480: 'f1' was not in top 1\n",
      "Epoch 69, global step 4480: 'iou' was not in top 1\n"
     ]
    },
    {
     "data": {
      "text/html": [
       "<pre style=\"white-space:pre;overflow-x:auto;line-height:normal;font-family:Menlo,'DejaVu Sans Mono',consolas,'Courier New',monospace\">2024/06/10 01:59:12 WARNING mlflow.utils.checkpoint_utils: Checkpoint logging is skipped, because checkpoint \n",
       "'save_best_only' config is True, it requires to compare the monitored metric value, but the provided monitored \n",
       "metric value is not available.\n",
       "</pre>\n"
      ],
      "text/plain": [
       "2024/06/10 01:59:12 WARNING mlflow.utils.checkpoint_utils: Checkpoint logging is skipped, because checkpoint \n",
       "'save_best_only' config is True, it requires to compare the monitored metric value, but the provided monitored \n",
       "metric value is not available.\n"
      ]
     },
     "metadata": {},
     "output_type": "display_data"
    },
    {
     "name": "stderr",
     "output_type": "stream",
     "text": [
      "Epoch 70, global step 4544: 'f1' was not in top 1\n",
      "Epoch 70, global step 4544: 'iou' was not in top 1\n"
     ]
    },
    {
     "data": {
      "text/html": [
       "<pre style=\"white-space:pre;overflow-x:auto;line-height:normal;font-family:Menlo,'DejaVu Sans Mono',consolas,'Courier New',monospace\">2024/06/10 02:00:12 WARNING mlflow.utils.checkpoint_utils: Checkpoint logging is skipped, because checkpoint \n",
       "'save_best_only' config is True, it requires to compare the monitored metric value, but the provided monitored \n",
       "metric value is not available.\n",
       "</pre>\n"
      ],
      "text/plain": [
       "2024/06/10 02:00:12 WARNING mlflow.utils.checkpoint_utils: Checkpoint logging is skipped, because checkpoint \n",
       "'save_best_only' config is True, it requires to compare the monitored metric value, but the provided monitored \n",
       "metric value is not available.\n"
      ]
     },
     "metadata": {},
     "output_type": "display_data"
    },
    {
     "name": "stderr",
     "output_type": "stream",
     "text": [
      "Epoch 71, global step 4608: 'f1' was not in top 1\n",
      "Epoch 71, global step 4608: 'iou' was not in top 1\n"
     ]
    },
    {
     "data": {
      "text/html": [
       "<pre style=\"white-space:pre;overflow-x:auto;line-height:normal;font-family:Menlo,'DejaVu Sans Mono',consolas,'Courier New',monospace\">2024/06/10 02:01:12 WARNING mlflow.utils.checkpoint_utils: Checkpoint logging is skipped, because checkpoint \n",
       "'save_best_only' config is True, it requires to compare the monitored metric value, but the provided monitored \n",
       "metric value is not available.\n",
       "</pre>\n"
      ],
      "text/plain": [
       "2024/06/10 02:01:12 WARNING mlflow.utils.checkpoint_utils: Checkpoint logging is skipped, because checkpoint \n",
       "'save_best_only' config is True, it requires to compare the monitored metric value, but the provided monitored \n",
       "metric value is not available.\n"
      ]
     },
     "metadata": {},
     "output_type": "display_data"
    },
    {
     "name": "stderr",
     "output_type": "stream",
     "text": [
      "Epoch 72, global step 4672: 'f1' was not in top 1\n",
      "Epoch 72, global step 4672: 'iou' was not in top 1\n"
     ]
    },
    {
     "data": {
      "text/html": [
       "<pre style=\"white-space:pre;overflow-x:auto;line-height:normal;font-family:Menlo,'DejaVu Sans Mono',consolas,'Courier New',monospace\">2024/06/10 02:02:12 WARNING mlflow.utils.checkpoint_utils: Checkpoint logging is skipped, because checkpoint \n",
       "'save_best_only' config is True, it requires to compare the monitored metric value, but the provided monitored \n",
       "metric value is not available.\n",
       "</pre>\n"
      ],
      "text/plain": [
       "2024/06/10 02:02:12 WARNING mlflow.utils.checkpoint_utils: Checkpoint logging is skipped, because checkpoint \n",
       "'save_best_only' config is True, it requires to compare the monitored metric value, but the provided monitored \n",
       "metric value is not available.\n"
      ]
     },
     "metadata": {},
     "output_type": "display_data"
    },
    {
     "name": "stderr",
     "output_type": "stream",
     "text": [
      "Epoch 73, global step 4736: 'f1' was not in top 1\n",
      "Epoch 73, global step 4736: 'iou' was not in top 1\n"
     ]
    },
    {
     "data": {
      "text/html": [
       "<pre style=\"white-space:pre;overflow-x:auto;line-height:normal;font-family:Menlo,'DejaVu Sans Mono',consolas,'Courier New',monospace\">2024/06/10 02:03:12 WARNING mlflow.utils.checkpoint_utils: Checkpoint logging is skipped, because checkpoint \n",
       "'save_best_only' config is True, it requires to compare the monitored metric value, but the provided monitored \n",
       "metric value is not available.\n",
       "</pre>\n"
      ],
      "text/plain": [
       "2024/06/10 02:03:12 WARNING mlflow.utils.checkpoint_utils: Checkpoint logging is skipped, because checkpoint \n",
       "'save_best_only' config is True, it requires to compare the monitored metric value, but the provided monitored \n",
       "metric value is not available.\n"
      ]
     },
     "metadata": {},
     "output_type": "display_data"
    },
    {
     "name": "stderr",
     "output_type": "stream",
     "text": [
      "Epoch 74, global step 4800: 'f1' was not in top 1\n",
      "Epoch 74, global step 4800: 'iou' was not in top 1\n"
     ]
    },
    {
     "data": {
      "text/html": [
       "<pre style=\"white-space:pre;overflow-x:auto;line-height:normal;font-family:Menlo,'DejaVu Sans Mono',consolas,'Courier New',monospace\">2024/06/10 02:04:12 WARNING mlflow.utils.checkpoint_utils: Checkpoint logging is skipped, because checkpoint \n",
       "'save_best_only' config is True, it requires to compare the monitored metric value, but the provided monitored \n",
       "metric value is not available.\n",
       "</pre>\n"
      ],
      "text/plain": [
       "2024/06/10 02:04:12 WARNING mlflow.utils.checkpoint_utils: Checkpoint logging is skipped, because checkpoint \n",
       "'save_best_only' config is True, it requires to compare the monitored metric value, but the provided monitored \n",
       "metric value is not available.\n"
      ]
     },
     "metadata": {},
     "output_type": "display_data"
    },
    {
     "name": "stderr",
     "output_type": "stream",
     "text": [
      "Epoch 75, global step 4864: 'f1' was not in top 1\n",
      "Epoch 75, global step 4864: 'iou' was not in top 1\n"
     ]
    },
    {
     "data": {
      "text/html": [
       "<pre style=\"white-space:pre;overflow-x:auto;line-height:normal;font-family:Menlo,'DejaVu Sans Mono',consolas,'Courier New',monospace\">2024/06/10 02:05:12 WARNING mlflow.utils.checkpoint_utils: Checkpoint logging is skipped, because checkpoint \n",
       "'save_best_only' config is True, it requires to compare the monitored metric value, but the provided monitored \n",
       "metric value is not available.\n",
       "</pre>\n"
      ],
      "text/plain": [
       "2024/06/10 02:05:12 WARNING mlflow.utils.checkpoint_utils: Checkpoint logging is skipped, because checkpoint \n",
       "'save_best_only' config is True, it requires to compare the monitored metric value, but the provided monitored \n",
       "metric value is not available.\n"
      ]
     },
     "metadata": {},
     "output_type": "display_data"
    },
    {
     "name": "stderr",
     "output_type": "stream",
     "text": [
      "Epoch 76, global step 4928: 'f1' was not in top 1\n",
      "Epoch 76, global step 4928: 'iou' was not in top 1\n"
     ]
    },
    {
     "data": {
      "text/html": [
       "<pre style=\"white-space:pre;overflow-x:auto;line-height:normal;font-family:Menlo,'DejaVu Sans Mono',consolas,'Courier New',monospace\">2024/06/10 02:06:12 WARNING mlflow.utils.checkpoint_utils: Checkpoint logging is skipped, because checkpoint \n",
       "'save_best_only' config is True, it requires to compare the monitored metric value, but the provided monitored \n",
       "metric value is not available.\n",
       "</pre>\n"
      ],
      "text/plain": [
       "2024/06/10 02:06:12 WARNING mlflow.utils.checkpoint_utils: Checkpoint logging is skipped, because checkpoint \n",
       "'save_best_only' config is True, it requires to compare the monitored metric value, but the provided monitored \n",
       "metric value is not available.\n"
      ]
     },
     "metadata": {},
     "output_type": "display_data"
    },
    {
     "name": "stderr",
     "output_type": "stream",
     "text": [
      "Epoch 77, global step 4992: 'f1' was not in top 1\n",
      "Epoch 77, global step 4992: 'iou' was not in top 1\n"
     ]
    },
    {
     "data": {
      "text/html": [
       "<pre style=\"white-space:pre;overflow-x:auto;line-height:normal;font-family:Menlo,'DejaVu Sans Mono',consolas,'Courier New',monospace\">2024/06/10 02:07:12 WARNING mlflow.utils.checkpoint_utils: Checkpoint logging is skipped, because checkpoint \n",
       "'save_best_only' config is True, it requires to compare the monitored metric value, but the provided monitored \n",
       "metric value is not available.\n",
       "</pre>\n"
      ],
      "text/plain": [
       "2024/06/10 02:07:12 WARNING mlflow.utils.checkpoint_utils: Checkpoint logging is skipped, because checkpoint \n",
       "'save_best_only' config is True, it requires to compare the monitored metric value, but the provided monitored \n",
       "metric value is not available.\n"
      ]
     },
     "metadata": {},
     "output_type": "display_data"
    },
    {
     "name": "stderr",
     "output_type": "stream",
     "text": [
      "Epoch 78, global step 5056: 'f1' was not in top 1\n",
      "Epoch 78, global step 5056: 'iou' was not in top 1\n"
     ]
    },
    {
     "data": {
      "text/html": [
       "<pre style=\"white-space:pre;overflow-x:auto;line-height:normal;font-family:Menlo,'DejaVu Sans Mono',consolas,'Courier New',monospace\">2024/06/10 02:08:12 WARNING mlflow.utils.checkpoint_utils: Checkpoint logging is skipped, because checkpoint \n",
       "'save_best_only' config is True, it requires to compare the monitored metric value, but the provided monitored \n",
       "metric value is not available.\n",
       "</pre>\n"
      ],
      "text/plain": [
       "2024/06/10 02:08:12 WARNING mlflow.utils.checkpoint_utils: Checkpoint logging is skipped, because checkpoint \n",
       "'save_best_only' config is True, it requires to compare the monitored metric value, but the provided monitored \n",
       "metric value is not available.\n"
      ]
     },
     "metadata": {},
     "output_type": "display_data"
    },
    {
     "name": "stderr",
     "output_type": "stream",
     "text": [
      "Epoch 79, global step 5120: 'f1' was not in top 1\n",
      "Epoch 79, global step 5120: 'iou' was not in top 1\n"
     ]
    },
    {
     "data": {
      "text/html": [
       "<pre style=\"white-space:pre;overflow-x:auto;line-height:normal;font-family:Menlo,'DejaVu Sans Mono',consolas,'Courier New',monospace\">2024/06/10 02:09:12 WARNING mlflow.utils.checkpoint_utils: Checkpoint logging is skipped, because checkpoint \n",
       "'save_best_only' config is True, it requires to compare the monitored metric value, but the provided monitored \n",
       "metric value is not available.\n",
       "</pre>\n"
      ],
      "text/plain": [
       "2024/06/10 02:09:12 WARNING mlflow.utils.checkpoint_utils: Checkpoint logging is skipped, because checkpoint \n",
       "'save_best_only' config is True, it requires to compare the monitored metric value, but the provided monitored \n",
       "metric value is not available.\n"
      ]
     },
     "metadata": {},
     "output_type": "display_data"
    },
    {
     "name": "stderr",
     "output_type": "stream",
     "text": [
      "Epoch 80, global step 5184: 'f1' was not in top 1\n",
      "Epoch 80, global step 5184: 'iou' was not in top 1\n"
     ]
    },
    {
     "data": {
      "text/html": [
       "<pre style=\"white-space:pre;overflow-x:auto;line-height:normal;font-family:Menlo,'DejaVu Sans Mono',consolas,'Courier New',monospace\">2024/06/10 02:10:12 WARNING mlflow.utils.checkpoint_utils: Checkpoint logging is skipped, because checkpoint \n",
       "'save_best_only' config is True, it requires to compare the monitored metric value, but the provided monitored \n",
       "metric value is not available.\n",
       "</pre>\n"
      ],
      "text/plain": [
       "2024/06/10 02:10:12 WARNING mlflow.utils.checkpoint_utils: Checkpoint logging is skipped, because checkpoint \n",
       "'save_best_only' config is True, it requires to compare the monitored metric value, but the provided monitored \n",
       "metric value is not available.\n"
      ]
     },
     "metadata": {},
     "output_type": "display_data"
    },
    {
     "name": "stderr",
     "output_type": "stream",
     "text": [
      "Epoch 81, global step 5248: 'f1' was not in top 1\n",
      "Epoch 81, global step 5248: 'iou' was not in top 1\n"
     ]
    },
    {
     "data": {
      "text/html": [
       "<pre style=\"white-space:pre;overflow-x:auto;line-height:normal;font-family:Menlo,'DejaVu Sans Mono',consolas,'Courier New',monospace\">2024/06/10 02:11:12 WARNING mlflow.utils.checkpoint_utils: Checkpoint logging is skipped, because checkpoint \n",
       "'save_best_only' config is True, it requires to compare the monitored metric value, but the provided monitored \n",
       "metric value is not available.\n",
       "</pre>\n"
      ],
      "text/plain": [
       "2024/06/10 02:11:12 WARNING mlflow.utils.checkpoint_utils: Checkpoint logging is skipped, because checkpoint \n",
       "'save_best_only' config is True, it requires to compare the monitored metric value, but the provided monitored \n",
       "metric value is not available.\n"
      ]
     },
     "metadata": {},
     "output_type": "display_data"
    },
    {
     "name": "stderr",
     "output_type": "stream",
     "text": [
      "Epoch 82, global step 5312: 'f1' was not in top 1\n",
      "Epoch 82, global step 5312: 'iou' was not in top 1\n"
     ]
    },
    {
     "data": {
      "text/html": [
       "<pre style=\"white-space:pre;overflow-x:auto;line-height:normal;font-family:Menlo,'DejaVu Sans Mono',consolas,'Courier New',monospace\">2024/06/10 02:12:12 WARNING mlflow.utils.checkpoint_utils: Checkpoint logging is skipped, because checkpoint \n",
       "'save_best_only' config is True, it requires to compare the monitored metric value, but the provided monitored \n",
       "metric value is not available.\n",
       "</pre>\n"
      ],
      "text/plain": [
       "2024/06/10 02:12:12 WARNING mlflow.utils.checkpoint_utils: Checkpoint logging is skipped, because checkpoint \n",
       "'save_best_only' config is True, it requires to compare the monitored metric value, but the provided monitored \n",
       "metric value is not available.\n"
      ]
     },
     "metadata": {},
     "output_type": "display_data"
    },
    {
     "name": "stderr",
     "output_type": "stream",
     "text": [
      "Epoch 83, global step 5376: 'f1' was not in top 1\n",
      "Epoch 83, global step 5376: 'iou' was not in top 1\n"
     ]
    },
    {
     "data": {
      "text/html": [
       "<pre style=\"white-space:pre;overflow-x:auto;line-height:normal;font-family:Menlo,'DejaVu Sans Mono',consolas,'Courier New',monospace\">2024/06/10 02:13:12 WARNING mlflow.utils.checkpoint_utils: Checkpoint logging is skipped, because checkpoint \n",
       "'save_best_only' config is True, it requires to compare the monitored metric value, but the provided monitored \n",
       "metric value is not available.\n",
       "</pre>\n"
      ],
      "text/plain": [
       "2024/06/10 02:13:12 WARNING mlflow.utils.checkpoint_utils: Checkpoint logging is skipped, because checkpoint \n",
       "'save_best_only' config is True, it requires to compare the monitored metric value, but the provided monitored \n",
       "metric value is not available.\n"
      ]
     },
     "metadata": {},
     "output_type": "display_data"
    },
    {
     "name": "stderr",
     "output_type": "stream",
     "text": [
      "Epoch 84, global step 5440: 'f1' was not in top 1\n",
      "Epoch 84, global step 5440: 'iou' was not in top 1\n"
     ]
    },
    {
     "data": {
      "text/html": [
       "<pre style=\"white-space:pre;overflow-x:auto;line-height:normal;font-family:Menlo,'DejaVu Sans Mono',consolas,'Courier New',monospace\">2024/06/10 02:14:12 WARNING mlflow.utils.checkpoint_utils: Checkpoint logging is skipped, because checkpoint \n",
       "'save_best_only' config is True, it requires to compare the monitored metric value, but the provided monitored \n",
       "metric value is not available.\n",
       "</pre>\n"
      ],
      "text/plain": [
       "2024/06/10 02:14:12 WARNING mlflow.utils.checkpoint_utils: Checkpoint logging is skipped, because checkpoint \n",
       "'save_best_only' config is True, it requires to compare the monitored metric value, but the provided monitored \n",
       "metric value is not available.\n"
      ]
     },
     "metadata": {},
     "output_type": "display_data"
    },
    {
     "name": "stderr",
     "output_type": "stream",
     "text": [
      "Epoch 85, global step 5504: 'f1' was not in top 1\n",
      "Epoch 85, global step 5504: 'iou' was not in top 1\n"
     ]
    },
    {
     "data": {
      "text/html": [
       "<pre style=\"white-space:pre;overflow-x:auto;line-height:normal;font-family:Menlo,'DejaVu Sans Mono',consolas,'Courier New',monospace\">2024/06/10 02:15:12 WARNING mlflow.utils.checkpoint_utils: Checkpoint logging is skipped, because checkpoint \n",
       "'save_best_only' config is True, it requires to compare the monitored metric value, but the provided monitored \n",
       "metric value is not available.\n",
       "</pre>\n"
      ],
      "text/plain": [
       "2024/06/10 02:15:12 WARNING mlflow.utils.checkpoint_utils: Checkpoint logging is skipped, because checkpoint \n",
       "'save_best_only' config is True, it requires to compare the monitored metric value, but the provided monitored \n",
       "metric value is not available.\n"
      ]
     },
     "metadata": {},
     "output_type": "display_data"
    },
    {
     "name": "stderr",
     "output_type": "stream",
     "text": [
      "Epoch 86, global step 5568: 'f1' was not in top 1\n",
      "Epoch 86, global step 5568: 'iou' was not in top 1\n"
     ]
    },
    {
     "data": {
      "text/html": [
       "<pre style=\"white-space:pre;overflow-x:auto;line-height:normal;font-family:Menlo,'DejaVu Sans Mono',consolas,'Courier New',monospace\">2024/06/10 02:16:12 WARNING mlflow.utils.checkpoint_utils: Checkpoint logging is skipped, because checkpoint \n",
       "'save_best_only' config is True, it requires to compare the monitored metric value, but the provided monitored \n",
       "metric value is not available.\n",
       "</pre>\n"
      ],
      "text/plain": [
       "2024/06/10 02:16:12 WARNING mlflow.utils.checkpoint_utils: Checkpoint logging is skipped, because checkpoint \n",
       "'save_best_only' config is True, it requires to compare the monitored metric value, but the provided monitored \n",
       "metric value is not available.\n"
      ]
     },
     "metadata": {},
     "output_type": "display_data"
    },
    {
     "name": "stderr",
     "output_type": "stream",
     "text": [
      "Epoch 87, global step 5632: 'f1' was not in top 1\n",
      "Epoch 87, global step 5632: 'iou' was not in top 1\n"
     ]
    },
    {
     "data": {
      "text/html": [
       "<pre style=\"white-space:pre;overflow-x:auto;line-height:normal;font-family:Menlo,'DejaVu Sans Mono',consolas,'Courier New',monospace\">2024/06/10 02:17:12 WARNING mlflow.utils.checkpoint_utils: Checkpoint logging is skipped, because checkpoint \n",
       "'save_best_only' config is True, it requires to compare the monitored metric value, but the provided monitored \n",
       "metric value is not available.\n",
       "</pre>\n"
      ],
      "text/plain": [
       "2024/06/10 02:17:12 WARNING mlflow.utils.checkpoint_utils: Checkpoint logging is skipped, because checkpoint \n",
       "'save_best_only' config is True, it requires to compare the monitored metric value, but the provided monitored \n",
       "metric value is not available.\n"
      ]
     },
     "metadata": {},
     "output_type": "display_data"
    },
    {
     "name": "stderr",
     "output_type": "stream",
     "text": [
      "Epoch 88, global step 5696: 'f1' was not in top 1\n",
      "Epoch 88, global step 5696: 'iou' was not in top 1\n"
     ]
    },
    {
     "data": {
      "text/html": [
       "<pre style=\"white-space:pre;overflow-x:auto;line-height:normal;font-family:Menlo,'DejaVu Sans Mono',consolas,'Courier New',monospace\">2024/06/10 02:18:12 WARNING mlflow.utils.checkpoint_utils: Checkpoint logging is skipped, because checkpoint \n",
       "'save_best_only' config is True, it requires to compare the monitored metric value, but the provided monitored \n",
       "metric value is not available.\n",
       "</pre>\n"
      ],
      "text/plain": [
       "2024/06/10 02:18:12 WARNING mlflow.utils.checkpoint_utils: Checkpoint logging is skipped, because checkpoint \n",
       "'save_best_only' config is True, it requires to compare the monitored metric value, but the provided monitored \n",
       "metric value is not available.\n"
      ]
     },
     "metadata": {},
     "output_type": "display_data"
    },
    {
     "name": "stderr",
     "output_type": "stream",
     "text": [
      "Epoch 89, global step 5760: 'f1' was not in top 1\n",
      "Epoch 89, global step 5760: 'iou' was not in top 1\n"
     ]
    },
    {
     "data": {
      "text/html": [
       "<pre style=\"white-space:pre;overflow-x:auto;line-height:normal;font-family:Menlo,'DejaVu Sans Mono',consolas,'Courier New',monospace\">2024/06/10 02:19:12 WARNING mlflow.utils.checkpoint_utils: Checkpoint logging is skipped, because checkpoint \n",
       "'save_best_only' config is True, it requires to compare the monitored metric value, but the provided monitored \n",
       "metric value is not available.\n",
       "</pre>\n"
      ],
      "text/plain": [
       "2024/06/10 02:19:12 WARNING mlflow.utils.checkpoint_utils: Checkpoint logging is skipped, because checkpoint \n",
       "'save_best_only' config is True, it requires to compare the monitored metric value, but the provided monitored \n",
       "metric value is not available.\n"
      ]
     },
     "metadata": {},
     "output_type": "display_data"
    },
    {
     "name": "stderr",
     "output_type": "stream",
     "text": [
      "Epoch 90, global step 5824: 'f1' was not in top 1\n",
      "Epoch 90, global step 5824: 'iou' was not in top 1\n"
     ]
    },
    {
     "data": {
      "text/html": [
       "<pre style=\"white-space:pre;overflow-x:auto;line-height:normal;font-family:Menlo,'DejaVu Sans Mono',consolas,'Courier New',monospace\">2024/06/10 02:20:12 WARNING mlflow.utils.checkpoint_utils: Checkpoint logging is skipped, because checkpoint \n",
       "'save_best_only' config is True, it requires to compare the monitored metric value, but the provided monitored \n",
       "metric value is not available.\n",
       "</pre>\n"
      ],
      "text/plain": [
       "2024/06/10 02:20:12 WARNING mlflow.utils.checkpoint_utils: Checkpoint logging is skipped, because checkpoint \n",
       "'save_best_only' config is True, it requires to compare the monitored metric value, but the provided monitored \n",
       "metric value is not available.\n"
      ]
     },
     "metadata": {},
     "output_type": "display_data"
    },
    {
     "name": "stderr",
     "output_type": "stream",
     "text": [
      "Epoch 91, global step 5888: 'f1' was not in top 1\n",
      "Epoch 91, global step 5888: 'iou' was not in top 1\n"
     ]
    },
    {
     "data": {
      "text/html": [
       "<pre style=\"white-space:pre;overflow-x:auto;line-height:normal;font-family:Menlo,'DejaVu Sans Mono',consolas,'Courier New',monospace\">2024/06/10 02:21:12 WARNING mlflow.utils.checkpoint_utils: Checkpoint logging is skipped, because checkpoint \n",
       "'save_best_only' config is True, it requires to compare the monitored metric value, but the provided monitored \n",
       "metric value is not available.\n",
       "</pre>\n"
      ],
      "text/plain": [
       "2024/06/10 02:21:12 WARNING mlflow.utils.checkpoint_utils: Checkpoint logging is skipped, because checkpoint \n",
       "'save_best_only' config is True, it requires to compare the monitored metric value, but the provided monitored \n",
       "metric value is not available.\n"
      ]
     },
     "metadata": {},
     "output_type": "display_data"
    },
    {
     "name": "stderr",
     "output_type": "stream",
     "text": [
      "Epoch 92, global step 5952: 'f1' was not in top 1\n",
      "Epoch 92, global step 5952: 'iou' was not in top 1\n"
     ]
    },
    {
     "data": {
      "text/html": [
       "<pre style=\"white-space:pre;overflow-x:auto;line-height:normal;font-family:Menlo,'DejaVu Sans Mono',consolas,'Courier New',monospace\">2024/06/10 02:22:12 WARNING mlflow.utils.checkpoint_utils: Checkpoint logging is skipped, because checkpoint \n",
       "'save_best_only' config is True, it requires to compare the monitored metric value, but the provided monitored \n",
       "metric value is not available.\n",
       "</pre>\n"
      ],
      "text/plain": [
       "2024/06/10 02:22:12 WARNING mlflow.utils.checkpoint_utils: Checkpoint logging is skipped, because checkpoint \n",
       "'save_best_only' config is True, it requires to compare the monitored metric value, but the provided monitored \n",
       "metric value is not available.\n"
      ]
     },
     "metadata": {},
     "output_type": "display_data"
    },
    {
     "name": "stderr",
     "output_type": "stream",
     "text": [
      "Epoch 93, global step 6016: 'f1' reached 0.45738 (best 0.45738), saving model to './mlruns/126730738902562300/598a0c52f5a34d9e9e1956c73f94acd8/checkpoints/f1_epoch=93f1=0.45738iou=0.22425loss=0.65043.ckpt' as top 1\n",
      "Epoch 93, global step 6016: 'iou' reached 0.22425 (best 0.22425), saving model to './mlruns/126730738902562300/598a0c52f5a34d9e9e1956c73f94acd8/checkpoints/iou_epoch=93f1=0.45738iou=0.22425loss=0.65043.ckpt' as top 1\n"
     ]
    },
    {
     "data": {
      "text/html": [
       "<pre style=\"white-space:pre;overflow-x:auto;line-height:normal;font-family:Menlo,'DejaVu Sans Mono',consolas,'Courier New',monospace\">2024/06/10 02:23:18 WARNING mlflow.utils.checkpoint_utils: Checkpoint logging is skipped, because checkpoint \n",
       "'save_best_only' config is True, it requires to compare the monitored metric value, but the provided monitored \n",
       "metric value is not available.\n",
       "</pre>\n"
      ],
      "text/plain": [
       "2024/06/10 02:23:18 WARNING mlflow.utils.checkpoint_utils: Checkpoint logging is skipped, because checkpoint \n",
       "'save_best_only' config is True, it requires to compare the monitored metric value, but the provided monitored \n",
       "metric value is not available.\n"
      ]
     },
     "metadata": {},
     "output_type": "display_data"
    },
    {
     "name": "stderr",
     "output_type": "stream",
     "text": [
      "Epoch 94, global step 6080: 'f1' was not in top 1\n",
      "Epoch 94, global step 6080: 'iou' was not in top 1\n"
     ]
    },
    {
     "data": {
      "text/html": [
       "<pre style=\"white-space:pre;overflow-x:auto;line-height:normal;font-family:Menlo,'DejaVu Sans Mono',consolas,'Courier New',monospace\">2024/06/10 02:24:19 WARNING mlflow.utils.checkpoint_utils: Checkpoint logging is skipped, because checkpoint \n",
       "'save_best_only' config is True, it requires to compare the monitored metric value, but the provided monitored \n",
       "metric value is not available.\n",
       "</pre>\n"
      ],
      "text/plain": [
       "2024/06/10 02:24:19 WARNING mlflow.utils.checkpoint_utils: Checkpoint logging is skipped, because checkpoint \n",
       "'save_best_only' config is True, it requires to compare the monitored metric value, but the provided monitored \n",
       "metric value is not available.\n"
      ]
     },
     "metadata": {},
     "output_type": "display_data"
    },
    {
     "name": "stderr",
     "output_type": "stream",
     "text": [
      "Epoch 95, global step 6144: 'f1' was not in top 1\n",
      "Epoch 95, global step 6144: 'iou' was not in top 1\n"
     ]
    },
    {
     "data": {
      "text/html": [
       "<pre style=\"white-space:pre;overflow-x:auto;line-height:normal;font-family:Menlo,'DejaVu Sans Mono',consolas,'Courier New',monospace\">2024/06/10 02:25:19 WARNING mlflow.utils.checkpoint_utils: Checkpoint logging is skipped, because checkpoint \n",
       "'save_best_only' config is True, it requires to compare the monitored metric value, but the provided monitored \n",
       "metric value is not available.\n",
       "</pre>\n"
      ],
      "text/plain": [
       "2024/06/10 02:25:19 WARNING mlflow.utils.checkpoint_utils: Checkpoint logging is skipped, because checkpoint \n",
       "'save_best_only' config is True, it requires to compare the monitored metric value, but the provided monitored \n",
       "metric value is not available.\n"
      ]
     },
     "metadata": {},
     "output_type": "display_data"
    },
    {
     "name": "stderr",
     "output_type": "stream",
     "text": [
      "Epoch 96, global step 6208: 'f1' was not in top 1\n",
      "Epoch 96, global step 6208: 'iou' was not in top 1\n"
     ]
    },
    {
     "data": {
      "text/html": [
       "<pre style=\"white-space:pre;overflow-x:auto;line-height:normal;font-family:Menlo,'DejaVu Sans Mono',consolas,'Courier New',monospace\">2024/06/10 02:26:19 WARNING mlflow.utils.checkpoint_utils: Checkpoint logging is skipped, because checkpoint \n",
       "'save_best_only' config is True, it requires to compare the monitored metric value, but the provided monitored \n",
       "metric value is not available.\n",
       "</pre>\n"
      ],
      "text/plain": [
       "2024/06/10 02:26:19 WARNING mlflow.utils.checkpoint_utils: Checkpoint logging is skipped, because checkpoint \n",
       "'save_best_only' config is True, it requires to compare the monitored metric value, but the provided monitored \n",
       "metric value is not available.\n"
      ]
     },
     "metadata": {},
     "output_type": "display_data"
    },
    {
     "name": "stderr",
     "output_type": "stream",
     "text": [
      "Epoch 97, global step 6272: 'f1' was not in top 1\n",
      "Epoch 97, global step 6272: 'iou' was not in top 1\n"
     ]
    },
    {
     "data": {
      "text/html": [
       "<pre style=\"white-space:pre;overflow-x:auto;line-height:normal;font-family:Menlo,'DejaVu Sans Mono',consolas,'Courier New',monospace\">2024/06/10 02:27:19 WARNING mlflow.utils.checkpoint_utils: Checkpoint logging is skipped, because checkpoint \n",
       "'save_best_only' config is True, it requires to compare the monitored metric value, but the provided monitored \n",
       "metric value is not available.\n",
       "</pre>\n"
      ],
      "text/plain": [
       "2024/06/10 02:27:19 WARNING mlflow.utils.checkpoint_utils: Checkpoint logging is skipped, because checkpoint \n",
       "'save_best_only' config is True, it requires to compare the monitored metric value, but the provided monitored \n",
       "metric value is not available.\n"
      ]
     },
     "metadata": {},
     "output_type": "display_data"
    },
    {
     "name": "stderr",
     "output_type": "stream",
     "text": [
      "Epoch 98, global step 6336: 'f1' was not in top 1\n",
      "Epoch 98, global step 6336: 'iou' was not in top 1\n"
     ]
    },
    {
     "data": {
      "text/html": [
       "<pre style=\"white-space:pre;overflow-x:auto;line-height:normal;font-family:Menlo,'DejaVu Sans Mono',consolas,'Courier New',monospace\">2024/06/10 02:28:19 WARNING mlflow.utils.checkpoint_utils: Checkpoint logging is skipped, because checkpoint \n",
       "'save_best_only' config is True, it requires to compare the monitored metric value, but the provided monitored \n",
       "metric value is not available.\n",
       "</pre>\n"
      ],
      "text/plain": [
       "2024/06/10 02:28:19 WARNING mlflow.utils.checkpoint_utils: Checkpoint logging is skipped, because checkpoint \n",
       "'save_best_only' config is True, it requires to compare the monitored metric value, but the provided monitored \n",
       "metric value is not available.\n"
      ]
     },
     "metadata": {},
     "output_type": "display_data"
    },
    {
     "name": "stderr",
     "output_type": "stream",
     "text": [
      "Epoch 99, global step 6400: 'f1' was not in top 1\n",
      "Epoch 99, global step 6400: 'iou' was not in top 1\n"
     ]
    },
    {
     "data": {
      "text/html": [
       "<pre style=\"white-space:pre;overflow-x:auto;line-height:normal;font-family:Menlo,'DejaVu Sans Mono',consolas,'Courier New',monospace\">2024/06/10 02:29:19 WARNING mlflow.utils.checkpoint_utils: Checkpoint logging is skipped, because checkpoint \n",
       "'save_best_only' config is True, it requires to compare the monitored metric value, but the provided monitored \n",
       "metric value is not available.\n",
       "</pre>\n"
      ],
      "text/plain": [
       "2024/06/10 02:29:19 WARNING mlflow.utils.checkpoint_utils: Checkpoint logging is skipped, because checkpoint \n",
       "'save_best_only' config is True, it requires to compare the monitored metric value, but the provided monitored \n",
       "metric value is not available.\n"
      ]
     },
     "metadata": {},
     "output_type": "display_data"
    },
    {
     "name": "stderr",
     "output_type": "stream",
     "text": [
      "Epoch 100, global step 6464: 'f1' was not in top 1\n",
      "Epoch 100, global step 6464: 'iou' was not in top 1\n"
     ]
    },
    {
     "data": {
      "text/html": [
       "<pre style=\"white-space:pre;overflow-x:auto;line-height:normal;font-family:Menlo,'DejaVu Sans Mono',consolas,'Courier New',monospace\">2024/06/10 02:30:19 WARNING mlflow.utils.checkpoint_utils: Checkpoint logging is skipped, because checkpoint \n",
       "'save_best_only' config is True, it requires to compare the monitored metric value, but the provided monitored \n",
       "metric value is not available.\n",
       "</pre>\n"
      ],
      "text/plain": [
       "2024/06/10 02:30:19 WARNING mlflow.utils.checkpoint_utils: Checkpoint logging is skipped, because checkpoint \n",
       "'save_best_only' config is True, it requires to compare the monitored metric value, but the provided monitored \n",
       "metric value is not available.\n"
      ]
     },
     "metadata": {},
     "output_type": "display_data"
    },
    {
     "name": "stderr",
     "output_type": "stream",
     "text": [
      "Epoch 101, global step 6528: 'f1' was not in top 1\n",
      "Epoch 101, global step 6528: 'iou' was not in top 1\n"
     ]
    },
    {
     "data": {
      "text/html": [
       "<pre style=\"white-space:pre;overflow-x:auto;line-height:normal;font-family:Menlo,'DejaVu Sans Mono',consolas,'Courier New',monospace\">2024/06/10 02:31:19 WARNING mlflow.utils.checkpoint_utils: Checkpoint logging is skipped, because checkpoint \n",
       "'save_best_only' config is True, it requires to compare the monitored metric value, but the provided monitored \n",
       "metric value is not available.\n",
       "</pre>\n"
      ],
      "text/plain": [
       "2024/06/10 02:31:19 WARNING mlflow.utils.checkpoint_utils: Checkpoint logging is skipped, because checkpoint \n",
       "'save_best_only' config is True, it requires to compare the monitored metric value, but the provided monitored \n",
       "metric value is not available.\n"
      ]
     },
     "metadata": {},
     "output_type": "display_data"
    },
    {
     "name": "stderr",
     "output_type": "stream",
     "text": [
      "Epoch 102, global step 6592: 'f1' was not in top 1\n",
      "Epoch 102, global step 6592: 'iou' was not in top 1\n"
     ]
    },
    {
     "data": {
      "text/html": [
       "<pre style=\"white-space:pre;overflow-x:auto;line-height:normal;font-family:Menlo,'DejaVu Sans Mono',consolas,'Courier New',monospace\">2024/06/10 02:32:19 WARNING mlflow.utils.checkpoint_utils: Checkpoint logging is skipped, because checkpoint \n",
       "'save_best_only' config is True, it requires to compare the monitored metric value, but the provided monitored \n",
       "metric value is not available.\n",
       "</pre>\n"
      ],
      "text/plain": [
       "2024/06/10 02:32:19 WARNING mlflow.utils.checkpoint_utils: Checkpoint logging is skipped, because checkpoint \n",
       "'save_best_only' config is True, it requires to compare the monitored metric value, but the provided monitored \n",
       "metric value is not available.\n"
      ]
     },
     "metadata": {},
     "output_type": "display_data"
    },
    {
     "name": "stderr",
     "output_type": "stream",
     "text": [
      "Epoch 103, global step 6656: 'f1' was not in top 1\n",
      "Epoch 103, global step 6656: 'iou' was not in top 1\n"
     ]
    },
    {
     "data": {
      "text/html": [
       "<pre style=\"white-space:pre;overflow-x:auto;line-height:normal;font-family:Menlo,'DejaVu Sans Mono',consolas,'Courier New',monospace\">2024/06/10 02:33:19 WARNING mlflow.utils.checkpoint_utils: Checkpoint logging is skipped, because checkpoint \n",
       "'save_best_only' config is True, it requires to compare the monitored metric value, but the provided monitored \n",
       "metric value is not available.\n",
       "</pre>\n"
      ],
      "text/plain": [
       "2024/06/10 02:33:19 WARNING mlflow.utils.checkpoint_utils: Checkpoint logging is skipped, because checkpoint \n",
       "'save_best_only' config is True, it requires to compare the monitored metric value, but the provided monitored \n",
       "metric value is not available.\n"
      ]
     },
     "metadata": {},
     "output_type": "display_data"
    },
    {
     "name": "stderr",
     "output_type": "stream",
     "text": [
      "Epoch 104, global step 6720: 'f1' was not in top 1\n",
      "Epoch 104, global step 6720: 'iou' was not in top 1\n"
     ]
    },
    {
     "data": {
      "text/html": [
       "<pre style=\"white-space:pre;overflow-x:auto;line-height:normal;font-family:Menlo,'DejaVu Sans Mono',consolas,'Courier New',monospace\">2024/06/10 02:34:19 WARNING mlflow.utils.checkpoint_utils: Checkpoint logging is skipped, because checkpoint \n",
       "'save_best_only' config is True, it requires to compare the monitored metric value, but the provided monitored \n",
       "metric value is not available.\n",
       "</pre>\n"
      ],
      "text/plain": [
       "2024/06/10 02:34:19 WARNING mlflow.utils.checkpoint_utils: Checkpoint logging is skipped, because checkpoint \n",
       "'save_best_only' config is True, it requires to compare the monitored metric value, but the provided monitored \n",
       "metric value is not available.\n"
      ]
     },
     "metadata": {},
     "output_type": "display_data"
    },
    {
     "name": "stderr",
     "output_type": "stream",
     "text": [
      "Epoch 105, global step 6784: 'f1' was not in top 1\n",
      "Epoch 105, global step 6784: 'iou' was not in top 1\n"
     ]
    },
    {
     "data": {
      "text/html": [
       "<pre style=\"white-space:pre;overflow-x:auto;line-height:normal;font-family:Menlo,'DejaVu Sans Mono',consolas,'Courier New',monospace\">2024/06/10 02:35:19 WARNING mlflow.utils.checkpoint_utils: Checkpoint logging is skipped, because checkpoint \n",
       "'save_best_only' config is True, it requires to compare the monitored metric value, but the provided monitored \n",
       "metric value is not available.\n",
       "</pre>\n"
      ],
      "text/plain": [
       "2024/06/10 02:35:19 WARNING mlflow.utils.checkpoint_utils: Checkpoint logging is skipped, because checkpoint \n",
       "'save_best_only' config is True, it requires to compare the monitored metric value, but the provided monitored \n",
       "metric value is not available.\n"
      ]
     },
     "metadata": {},
     "output_type": "display_data"
    },
    {
     "name": "stderr",
     "output_type": "stream",
     "text": [
      "Epoch 106, global step 6848: 'f1' was not in top 1\n",
      "Epoch 106, global step 6848: 'iou' was not in top 1\n"
     ]
    },
    {
     "data": {
      "text/html": [
       "<pre style=\"white-space:pre;overflow-x:auto;line-height:normal;font-family:Menlo,'DejaVu Sans Mono',consolas,'Courier New',monospace\">2024/06/10 02:36:19 WARNING mlflow.utils.checkpoint_utils: Checkpoint logging is skipped, because checkpoint \n",
       "'save_best_only' config is True, it requires to compare the monitored metric value, but the provided monitored \n",
       "metric value is not available.\n",
       "</pre>\n"
      ],
      "text/plain": [
       "2024/06/10 02:36:19 WARNING mlflow.utils.checkpoint_utils: Checkpoint logging is skipped, because checkpoint \n",
       "'save_best_only' config is True, it requires to compare the monitored metric value, but the provided monitored \n",
       "metric value is not available.\n"
      ]
     },
     "metadata": {},
     "output_type": "display_data"
    },
    {
     "name": "stderr",
     "output_type": "stream",
     "text": [
      "Epoch 107, global step 6912: 'f1' was not in top 1\n",
      "Epoch 107, global step 6912: 'iou' was not in top 1\n"
     ]
    },
    {
     "data": {
      "text/html": [
       "<pre style=\"white-space:pre;overflow-x:auto;line-height:normal;font-family:Menlo,'DejaVu Sans Mono',consolas,'Courier New',monospace\">2024/06/10 02:37:19 WARNING mlflow.utils.checkpoint_utils: Checkpoint logging is skipped, because checkpoint \n",
       "'save_best_only' config is True, it requires to compare the monitored metric value, but the provided monitored \n",
       "metric value is not available.\n",
       "</pre>\n"
      ],
      "text/plain": [
       "2024/06/10 02:37:19 WARNING mlflow.utils.checkpoint_utils: Checkpoint logging is skipped, because checkpoint \n",
       "'save_best_only' config is True, it requires to compare the monitored metric value, but the provided monitored \n",
       "metric value is not available.\n"
      ]
     },
     "metadata": {},
     "output_type": "display_data"
    },
    {
     "name": "stderr",
     "output_type": "stream",
     "text": [
      "Epoch 108, global step 6976: 'f1' was not in top 1\n",
      "Epoch 108, global step 6976: 'iou' was not in top 1\n"
     ]
    },
    {
     "data": {
      "text/html": [
       "<pre style=\"white-space:pre;overflow-x:auto;line-height:normal;font-family:Menlo,'DejaVu Sans Mono',consolas,'Courier New',monospace\">2024/06/10 02:38:19 WARNING mlflow.utils.checkpoint_utils: Checkpoint logging is skipped, because checkpoint \n",
       "'save_best_only' config is True, it requires to compare the monitored metric value, but the provided monitored \n",
       "metric value is not available.\n",
       "</pre>\n"
      ],
      "text/plain": [
       "2024/06/10 02:38:19 WARNING mlflow.utils.checkpoint_utils: Checkpoint logging is skipped, because checkpoint \n",
       "'save_best_only' config is True, it requires to compare the monitored metric value, but the provided monitored \n",
       "metric value is not available.\n"
      ]
     },
     "metadata": {},
     "output_type": "display_data"
    },
    {
     "name": "stderr",
     "output_type": "stream",
     "text": [
      "Epoch 109, global step 7040: 'f1' was not in top 1\n",
      "Epoch 109, global step 7040: 'iou' was not in top 1\n"
     ]
    },
    {
     "data": {
      "text/html": [
       "<pre style=\"white-space:pre;overflow-x:auto;line-height:normal;font-family:Menlo,'DejaVu Sans Mono',consolas,'Courier New',monospace\">2024/06/10 02:39:19 WARNING mlflow.utils.checkpoint_utils: Checkpoint logging is skipped, because checkpoint \n",
       "'save_best_only' config is True, it requires to compare the monitored metric value, but the provided monitored \n",
       "metric value is not available.\n",
       "</pre>\n"
      ],
      "text/plain": [
       "2024/06/10 02:39:19 WARNING mlflow.utils.checkpoint_utils: Checkpoint logging is skipped, because checkpoint \n",
       "'save_best_only' config is True, it requires to compare the monitored metric value, but the provided monitored \n",
       "metric value is not available.\n"
      ]
     },
     "metadata": {},
     "output_type": "display_data"
    },
    {
     "name": "stderr",
     "output_type": "stream",
     "text": [
      "Epoch 110, global step 7104: 'f1' was not in top 1\n",
      "Epoch 110, global step 7104: 'iou' was not in top 1\n"
     ]
    },
    {
     "data": {
      "text/html": [
       "<pre style=\"white-space:pre;overflow-x:auto;line-height:normal;font-family:Menlo,'DejaVu Sans Mono',consolas,'Courier New',monospace\">2024/06/10 02:40:19 WARNING mlflow.utils.checkpoint_utils: Checkpoint logging is skipped, because checkpoint \n",
       "'save_best_only' config is True, it requires to compare the monitored metric value, but the provided monitored \n",
       "metric value is not available.\n",
       "</pre>\n"
      ],
      "text/plain": [
       "2024/06/10 02:40:19 WARNING mlflow.utils.checkpoint_utils: Checkpoint logging is skipped, because checkpoint \n",
       "'save_best_only' config is True, it requires to compare the monitored metric value, but the provided monitored \n",
       "metric value is not available.\n"
      ]
     },
     "metadata": {},
     "output_type": "display_data"
    },
    {
     "name": "stderr",
     "output_type": "stream",
     "text": [
      "Epoch 111, global step 7168: 'f1' was not in top 1\n",
      "Epoch 111, global step 7168: 'iou' was not in top 1\n"
     ]
    },
    {
     "data": {
      "text/html": [
       "<pre style=\"white-space:pre;overflow-x:auto;line-height:normal;font-family:Menlo,'DejaVu Sans Mono',consolas,'Courier New',monospace\">2024/06/10 02:41:19 WARNING mlflow.utils.checkpoint_utils: Checkpoint logging is skipped, because checkpoint \n",
       "'save_best_only' config is True, it requires to compare the monitored metric value, but the provided monitored \n",
       "metric value is not available.\n",
       "</pre>\n"
      ],
      "text/plain": [
       "2024/06/10 02:41:19 WARNING mlflow.utils.checkpoint_utils: Checkpoint logging is skipped, because checkpoint \n",
       "'save_best_only' config is True, it requires to compare the monitored metric value, but the provided monitored \n",
       "metric value is not available.\n"
      ]
     },
     "metadata": {},
     "output_type": "display_data"
    },
    {
     "name": "stderr",
     "output_type": "stream",
     "text": [
      "Epoch 112, global step 7232: 'f1' was not in top 1\n",
      "Epoch 112, global step 7232: 'iou' was not in top 1\n"
     ]
    },
    {
     "data": {
      "text/html": [
       "<pre style=\"white-space:pre;overflow-x:auto;line-height:normal;font-family:Menlo,'DejaVu Sans Mono',consolas,'Courier New',monospace\">2024/06/10 02:42:19 WARNING mlflow.utils.checkpoint_utils: Checkpoint logging is skipped, because checkpoint \n",
       "'save_best_only' config is True, it requires to compare the monitored metric value, but the provided monitored \n",
       "metric value is not available.\n",
       "</pre>\n"
      ],
      "text/plain": [
       "2024/06/10 02:42:19 WARNING mlflow.utils.checkpoint_utils: Checkpoint logging is skipped, because checkpoint \n",
       "'save_best_only' config is True, it requires to compare the monitored metric value, but the provided monitored \n",
       "metric value is not available.\n"
      ]
     },
     "metadata": {},
     "output_type": "display_data"
    },
    {
     "name": "stderr",
     "output_type": "stream",
     "text": [
      "Epoch 113, global step 7296: 'f1' was not in top 1\n",
      "Epoch 113, global step 7296: 'iou' was not in top 1\n"
     ]
    },
    {
     "data": {
      "text/html": [
       "<pre style=\"white-space:pre;overflow-x:auto;line-height:normal;font-family:Menlo,'DejaVu Sans Mono',consolas,'Courier New',monospace\">2024/06/10 02:43:18 WARNING mlflow.utils.checkpoint_utils: Checkpoint logging is skipped, because checkpoint \n",
       "'save_best_only' config is True, it requires to compare the monitored metric value, but the provided monitored \n",
       "metric value is not available.\n",
       "</pre>\n"
      ],
      "text/plain": [
       "2024/06/10 02:43:18 WARNING mlflow.utils.checkpoint_utils: Checkpoint logging is skipped, because checkpoint \n",
       "'save_best_only' config is True, it requires to compare the monitored metric value, but the provided monitored \n",
       "metric value is not available.\n"
      ]
     },
     "metadata": {},
     "output_type": "display_data"
    },
    {
     "name": "stderr",
     "output_type": "stream",
     "text": [
      "Epoch 114, global step 7360: 'f1' reached 0.46157 (best 0.46157), saving model to './mlruns/126730738902562300/598a0c52f5a34d9e9e1956c73f94acd8/checkpoints/f1_epoch=114f1=0.46157iou=0.22592loss=0.36109.ckpt' as top 1\n",
      "Epoch 114, global step 7360: 'iou' reached 0.22592 (best 0.22592), saving model to './mlruns/126730738902562300/598a0c52f5a34d9e9e1956c73f94acd8/checkpoints/iou_epoch=114f1=0.46157iou=0.22592loss=0.36109.ckpt' as top 1\n"
     ]
    },
    {
     "data": {
      "text/html": [
       "<pre style=\"white-space:pre;overflow-x:auto;line-height:normal;font-family:Menlo,'DejaVu Sans Mono',consolas,'Courier New',monospace\">2024/06/10 02:44:25 WARNING mlflow.utils.checkpoint_utils: Checkpoint logging is skipped, because checkpoint \n",
       "'save_best_only' config is True, it requires to compare the monitored metric value, but the provided monitored \n",
       "metric value is not available.\n",
       "</pre>\n"
      ],
      "text/plain": [
       "2024/06/10 02:44:25 WARNING mlflow.utils.checkpoint_utils: Checkpoint logging is skipped, because checkpoint \n",
       "'save_best_only' config is True, it requires to compare the monitored metric value, but the provided monitored \n",
       "metric value is not available.\n"
      ]
     },
     "metadata": {},
     "output_type": "display_data"
    },
    {
     "name": "stderr",
     "output_type": "stream",
     "text": [
      "Epoch 115, global step 7424: 'f1' was not in top 1\n",
      "Epoch 115, global step 7424: 'iou' was not in top 1\n"
     ]
    },
    {
     "data": {
      "text/html": [
       "<pre style=\"white-space:pre;overflow-x:auto;line-height:normal;font-family:Menlo,'DejaVu Sans Mono',consolas,'Courier New',monospace\">2024/06/10 02:45:25 WARNING mlflow.utils.checkpoint_utils: Checkpoint logging is skipped, because checkpoint \n",
       "'save_best_only' config is True, it requires to compare the monitored metric value, but the provided monitored \n",
       "metric value is not available.\n",
       "</pre>\n"
      ],
      "text/plain": [
       "2024/06/10 02:45:25 WARNING mlflow.utils.checkpoint_utils: Checkpoint logging is skipped, because checkpoint \n",
       "'save_best_only' config is True, it requires to compare the monitored metric value, but the provided monitored \n",
       "metric value is not available.\n"
      ]
     },
     "metadata": {},
     "output_type": "display_data"
    },
    {
     "name": "stderr",
     "output_type": "stream",
     "text": [
      "Epoch 116, global step 7488: 'f1' was not in top 1\n",
      "Epoch 116, global step 7488: 'iou' was not in top 1\n"
     ]
    },
    {
     "data": {
      "text/html": [
       "<pre style=\"white-space:pre;overflow-x:auto;line-height:normal;font-family:Menlo,'DejaVu Sans Mono',consolas,'Courier New',monospace\">2024/06/10 02:46:25 WARNING mlflow.utils.checkpoint_utils: Checkpoint logging is skipped, because checkpoint \n",
       "'save_best_only' config is True, it requires to compare the monitored metric value, but the provided monitored \n",
       "metric value is not available.\n",
       "</pre>\n"
      ],
      "text/plain": [
       "2024/06/10 02:46:25 WARNING mlflow.utils.checkpoint_utils: Checkpoint logging is skipped, because checkpoint \n",
       "'save_best_only' config is True, it requires to compare the monitored metric value, but the provided monitored \n",
       "metric value is not available.\n"
      ]
     },
     "metadata": {},
     "output_type": "display_data"
    },
    {
     "name": "stderr",
     "output_type": "stream",
     "text": [
      "Epoch 117, global step 7552: 'f1' was not in top 1\n",
      "Epoch 117, global step 7552: 'iou' was not in top 1\n"
     ]
    },
    {
     "data": {
      "text/html": [
       "<pre style=\"white-space:pre;overflow-x:auto;line-height:normal;font-family:Menlo,'DejaVu Sans Mono',consolas,'Courier New',monospace\">2024/06/10 02:47:25 WARNING mlflow.utils.checkpoint_utils: Checkpoint logging is skipped, because checkpoint \n",
       "'save_best_only' config is True, it requires to compare the monitored metric value, but the provided monitored \n",
       "metric value is not available.\n",
       "</pre>\n"
      ],
      "text/plain": [
       "2024/06/10 02:47:25 WARNING mlflow.utils.checkpoint_utils: Checkpoint logging is skipped, because checkpoint \n",
       "'save_best_only' config is True, it requires to compare the monitored metric value, but the provided monitored \n",
       "metric value is not available.\n"
      ]
     },
     "metadata": {},
     "output_type": "display_data"
    },
    {
     "name": "stderr",
     "output_type": "stream",
     "text": [
      "Epoch 118, global step 7616: 'f1' was not in top 1\n",
      "Epoch 118, global step 7616: 'iou' was not in top 1\n"
     ]
    },
    {
     "data": {
      "text/html": [
       "<pre style=\"white-space:pre;overflow-x:auto;line-height:normal;font-family:Menlo,'DejaVu Sans Mono',consolas,'Courier New',monospace\">2024/06/10 02:48:25 WARNING mlflow.utils.checkpoint_utils: Checkpoint logging is skipped, because checkpoint \n",
       "'save_best_only' config is True, it requires to compare the monitored metric value, but the provided monitored \n",
       "metric value is not available.\n",
       "</pre>\n"
      ],
      "text/plain": [
       "2024/06/10 02:48:25 WARNING mlflow.utils.checkpoint_utils: Checkpoint logging is skipped, because checkpoint \n",
       "'save_best_only' config is True, it requires to compare the monitored metric value, but the provided monitored \n",
       "metric value is not available.\n"
      ]
     },
     "metadata": {},
     "output_type": "display_data"
    },
    {
     "name": "stderr",
     "output_type": "stream",
     "text": [
      "Epoch 119, global step 7680: 'f1' reached 0.46521 (best 0.46521), saving model to './mlruns/126730738902562300/598a0c52f5a34d9e9e1956c73f94acd8/checkpoints/f1_epoch=119f1=0.46521iou=0.22587loss=0.23772.ckpt' as top 1\n",
      "Epoch 119, global step 7680: 'iou' was not in top 1\n"
     ]
    },
    {
     "data": {
      "text/html": [
       "<pre style=\"white-space:pre;overflow-x:auto;line-height:normal;font-family:Menlo,'DejaVu Sans Mono',consolas,'Courier New',monospace\">2024/06/10 02:49:28 WARNING mlflow.utils.checkpoint_utils: Checkpoint logging is skipped, because checkpoint \n",
       "'save_best_only' config is True, it requires to compare the monitored metric value, but the provided monitored \n",
       "metric value is not available.\n",
       "</pre>\n"
      ],
      "text/plain": [
       "2024/06/10 02:49:28 WARNING mlflow.utils.checkpoint_utils: Checkpoint logging is skipped, because checkpoint \n",
       "'save_best_only' config is True, it requires to compare the monitored metric value, but the provided monitored \n",
       "metric value is not available.\n"
      ]
     },
     "metadata": {},
     "output_type": "display_data"
    },
    {
     "name": "stderr",
     "output_type": "stream",
     "text": [
      "Epoch 120, global step 7744: 'f1' was not in top 1\n",
      "Epoch 120, global step 7744: 'iou' was not in top 1\n"
     ]
    },
    {
     "data": {
      "text/html": [
       "<pre style=\"white-space:pre;overflow-x:auto;line-height:normal;font-family:Menlo,'DejaVu Sans Mono',consolas,'Courier New',monospace\">2024/06/10 02:50:28 WARNING mlflow.utils.checkpoint_utils: Checkpoint logging is skipped, because checkpoint \n",
       "'save_best_only' config is True, it requires to compare the monitored metric value, but the provided monitored \n",
       "metric value is not available.\n",
       "</pre>\n"
      ],
      "text/plain": [
       "2024/06/10 02:50:28 WARNING mlflow.utils.checkpoint_utils: Checkpoint logging is skipped, because checkpoint \n",
       "'save_best_only' config is True, it requires to compare the monitored metric value, but the provided monitored \n",
       "metric value is not available.\n"
      ]
     },
     "metadata": {},
     "output_type": "display_data"
    },
    {
     "name": "stderr",
     "output_type": "stream",
     "text": [
      "Epoch 121, global step 7808: 'f1' was not in top 1\n",
      "Epoch 121, global step 7808: 'iou' was not in top 1\n"
     ]
    },
    {
     "data": {
      "text/html": [
       "<pre style=\"white-space:pre;overflow-x:auto;line-height:normal;font-family:Menlo,'DejaVu Sans Mono',consolas,'Courier New',monospace\">2024/06/10 02:51:29 WARNING mlflow.utils.checkpoint_utils: Checkpoint logging is skipped, because checkpoint \n",
       "'save_best_only' config is True, it requires to compare the monitored metric value, but the provided monitored \n",
       "metric value is not available.\n",
       "</pre>\n"
      ],
      "text/plain": [
       "2024/06/10 02:51:29 WARNING mlflow.utils.checkpoint_utils: Checkpoint logging is skipped, because checkpoint \n",
       "'save_best_only' config is True, it requires to compare the monitored metric value, but the provided monitored \n",
       "metric value is not available.\n"
      ]
     },
     "metadata": {},
     "output_type": "display_data"
    },
    {
     "name": "stderr",
     "output_type": "stream",
     "text": [
      "Epoch 122, global step 7872: 'f1' was not in top 1\n",
      "Epoch 122, global step 7872: 'iou' was not in top 1\n"
     ]
    },
    {
     "data": {
      "text/html": [
       "<pre style=\"white-space:pre;overflow-x:auto;line-height:normal;font-family:Menlo,'DejaVu Sans Mono',consolas,'Courier New',monospace\">2024/06/10 02:52:29 WARNING mlflow.utils.checkpoint_utils: Checkpoint logging is skipped, because checkpoint \n",
       "'save_best_only' config is True, it requires to compare the monitored metric value, but the provided monitored \n",
       "metric value is not available.\n",
       "</pre>\n"
      ],
      "text/plain": [
       "2024/06/10 02:52:29 WARNING mlflow.utils.checkpoint_utils: Checkpoint logging is skipped, because checkpoint \n",
       "'save_best_only' config is True, it requires to compare the monitored metric value, but the provided monitored \n",
       "metric value is not available.\n"
      ]
     },
     "metadata": {},
     "output_type": "display_data"
    },
    {
     "name": "stderr",
     "output_type": "stream",
     "text": [
      "Epoch 123, global step 7936: 'f1' was not in top 1\n",
      "Epoch 123, global step 7936: 'iou' was not in top 1\n"
     ]
    },
    {
     "data": {
      "text/html": [
       "<pre style=\"white-space:pre;overflow-x:auto;line-height:normal;font-family:Menlo,'DejaVu Sans Mono',consolas,'Courier New',monospace\">2024/06/10 02:53:29 WARNING mlflow.utils.checkpoint_utils: Checkpoint logging is skipped, because checkpoint \n",
       "'save_best_only' config is True, it requires to compare the monitored metric value, but the provided monitored \n",
       "metric value is not available.\n",
       "</pre>\n"
      ],
      "text/plain": [
       "2024/06/10 02:53:29 WARNING mlflow.utils.checkpoint_utils: Checkpoint logging is skipped, because checkpoint \n",
       "'save_best_only' config is True, it requires to compare the monitored metric value, but the provided monitored \n",
       "metric value is not available.\n"
      ]
     },
     "metadata": {},
     "output_type": "display_data"
    },
    {
     "name": "stderr",
     "output_type": "stream",
     "text": [
      "Epoch 124, global step 8000: 'f1' was not in top 1\n",
      "Epoch 124, global step 8000: 'iou' was not in top 1\n"
     ]
    },
    {
     "data": {
      "text/html": [
       "<pre style=\"white-space:pre;overflow-x:auto;line-height:normal;font-family:Menlo,'DejaVu Sans Mono',consolas,'Courier New',monospace\">2024/06/10 02:54:29 WARNING mlflow.utils.checkpoint_utils: Checkpoint logging is skipped, because checkpoint \n",
       "'save_best_only' config is True, it requires to compare the monitored metric value, but the provided monitored \n",
       "metric value is not available.\n",
       "</pre>\n"
      ],
      "text/plain": [
       "2024/06/10 02:54:29 WARNING mlflow.utils.checkpoint_utils: Checkpoint logging is skipped, because checkpoint \n",
       "'save_best_only' config is True, it requires to compare the monitored metric value, but the provided monitored \n",
       "metric value is not available.\n"
      ]
     },
     "metadata": {},
     "output_type": "display_data"
    },
    {
     "name": "stderr",
     "output_type": "stream",
     "text": [
      "Epoch 125, global step 8064: 'f1' reached 0.46749 (best 0.46749), saving model to './mlruns/126730738902562300/598a0c52f5a34d9e9e1956c73f94acd8/checkpoints/f1_epoch=125f1=0.46749iou=0.22512loss=0.23584.ckpt' as top 1\n",
      "Epoch 125, global step 8064: 'iou' was not in top 1\n"
     ]
    },
    {
     "data": {
      "text/html": [
       "<pre style=\"white-space:pre;overflow-x:auto;line-height:normal;font-family:Menlo,'DejaVu Sans Mono',consolas,'Courier New',monospace\">2024/06/10 02:55:32 WARNING mlflow.utils.checkpoint_utils: Checkpoint logging is skipped, because checkpoint \n",
       "'save_best_only' config is True, it requires to compare the monitored metric value, but the provided monitored \n",
       "metric value is not available.\n",
       "</pre>\n"
      ],
      "text/plain": [
       "2024/06/10 02:55:32 WARNING mlflow.utils.checkpoint_utils: Checkpoint logging is skipped, because checkpoint \n",
       "'save_best_only' config is True, it requires to compare the monitored metric value, but the provided monitored \n",
       "metric value is not available.\n"
      ]
     },
     "metadata": {},
     "output_type": "display_data"
    },
    {
     "name": "stderr",
     "output_type": "stream",
     "text": [
      "Epoch 126, global step 8128: 'f1' was not in top 1\n",
      "Epoch 126, global step 8128: 'iou' was not in top 1\n"
     ]
    },
    {
     "data": {
      "text/html": [
       "<pre style=\"white-space:pre;overflow-x:auto;line-height:normal;font-family:Menlo,'DejaVu Sans Mono',consolas,'Courier New',monospace\">2024/06/10 02:56:32 WARNING mlflow.utils.checkpoint_utils: Checkpoint logging is skipped, because checkpoint \n",
       "'save_best_only' config is True, it requires to compare the monitored metric value, but the provided monitored \n",
       "metric value is not available.\n",
       "</pre>\n"
      ],
      "text/plain": [
       "2024/06/10 02:56:32 WARNING mlflow.utils.checkpoint_utils: Checkpoint logging is skipped, because checkpoint \n",
       "'save_best_only' config is True, it requires to compare the monitored metric value, but the provided monitored \n",
       "metric value is not available.\n"
      ]
     },
     "metadata": {},
     "output_type": "display_data"
    },
    {
     "name": "stderr",
     "output_type": "stream",
     "text": [
      "Epoch 127, global step 8192: 'f1' was not in top 1\n",
      "Epoch 127, global step 8192: 'iou' was not in top 1\n"
     ]
    },
    {
     "data": {
      "text/html": [
       "<pre style=\"white-space:pre;overflow-x:auto;line-height:normal;font-family:Menlo,'DejaVu Sans Mono',consolas,'Courier New',monospace\">2024/06/10 02:57:32 WARNING mlflow.utils.checkpoint_utils: Checkpoint logging is skipped, because checkpoint \n",
       "'save_best_only' config is True, it requires to compare the monitored metric value, but the provided monitored \n",
       "metric value is not available.\n",
       "</pre>\n"
      ],
      "text/plain": [
       "2024/06/10 02:57:32 WARNING mlflow.utils.checkpoint_utils: Checkpoint logging is skipped, because checkpoint \n",
       "'save_best_only' config is True, it requires to compare the monitored metric value, but the provided monitored \n",
       "metric value is not available.\n"
      ]
     },
     "metadata": {},
     "output_type": "display_data"
    },
    {
     "name": "stderr",
     "output_type": "stream",
     "text": [
      "Epoch 128, global step 8256: 'f1' was not in top 1\n",
      "Epoch 128, global step 8256: 'iou' was not in top 1\n"
     ]
    },
    {
     "data": {
      "text/html": [
       "<pre style=\"white-space:pre;overflow-x:auto;line-height:normal;font-family:Menlo,'DejaVu Sans Mono',consolas,'Courier New',monospace\">2024/06/10 02:58:32 WARNING mlflow.utils.checkpoint_utils: Checkpoint logging is skipped, because checkpoint \n",
       "'save_best_only' config is True, it requires to compare the monitored metric value, but the provided monitored \n",
       "metric value is not available.\n",
       "</pre>\n"
      ],
      "text/plain": [
       "2024/06/10 02:58:32 WARNING mlflow.utils.checkpoint_utils: Checkpoint logging is skipped, because checkpoint \n",
       "'save_best_only' config is True, it requires to compare the monitored metric value, but the provided monitored \n",
       "metric value is not available.\n"
      ]
     },
     "metadata": {},
     "output_type": "display_data"
    },
    {
     "name": "stderr",
     "output_type": "stream",
     "text": [
      "Epoch 129, global step 8320: 'f1' was not in top 1\n",
      "Epoch 129, global step 8320: 'iou' was not in top 1\n"
     ]
    },
    {
     "data": {
      "text/html": [
       "<pre style=\"white-space:pre;overflow-x:auto;line-height:normal;font-family:Menlo,'DejaVu Sans Mono',consolas,'Courier New',monospace\">2024/06/10 02:59:32 WARNING mlflow.utils.checkpoint_utils: Checkpoint logging is skipped, because checkpoint \n",
       "'save_best_only' config is True, it requires to compare the monitored metric value, but the provided monitored \n",
       "metric value is not available.\n",
       "</pre>\n"
      ],
      "text/plain": [
       "2024/06/10 02:59:32 WARNING mlflow.utils.checkpoint_utils: Checkpoint logging is skipped, because checkpoint \n",
       "'save_best_only' config is True, it requires to compare the monitored metric value, but the provided monitored \n",
       "metric value is not available.\n"
      ]
     },
     "metadata": {},
     "output_type": "display_data"
    },
    {
     "name": "stderr",
     "output_type": "stream",
     "text": [
      "Epoch 130, global step 8384: 'f1' was not in top 1\n",
      "Epoch 130, global step 8384: 'iou' was not in top 1\n"
     ]
    },
    {
     "data": {
      "text/html": [
       "<pre style=\"white-space:pre;overflow-x:auto;line-height:normal;font-family:Menlo,'DejaVu Sans Mono',consolas,'Courier New',monospace\">2024/06/10 03:00:32 WARNING mlflow.utils.checkpoint_utils: Checkpoint logging is skipped, because checkpoint \n",
       "'save_best_only' config is True, it requires to compare the monitored metric value, but the provided monitored \n",
       "metric value is not available.\n",
       "</pre>\n"
      ],
      "text/plain": [
       "2024/06/10 03:00:32 WARNING mlflow.utils.checkpoint_utils: Checkpoint logging is skipped, because checkpoint \n",
       "'save_best_only' config is True, it requires to compare the monitored metric value, but the provided monitored \n",
       "metric value is not available.\n"
      ]
     },
     "metadata": {},
     "output_type": "display_data"
    },
    {
     "name": "stderr",
     "output_type": "stream",
     "text": [
      "Epoch 131, global step 8448: 'f1' was not in top 1\n",
      "Epoch 131, global step 8448: 'iou' was not in top 1\n"
     ]
    },
    {
     "data": {
      "text/html": [
       "<pre style=\"white-space:pre;overflow-x:auto;line-height:normal;font-family:Menlo,'DejaVu Sans Mono',consolas,'Courier New',monospace\">2024/06/10 03:01:32 WARNING mlflow.utils.checkpoint_utils: Checkpoint logging is skipped, because checkpoint \n",
       "'save_best_only' config is True, it requires to compare the monitored metric value, but the provided monitored \n",
       "metric value is not available.\n",
       "</pre>\n"
      ],
      "text/plain": [
       "2024/06/10 03:01:32 WARNING mlflow.utils.checkpoint_utils: Checkpoint logging is skipped, because checkpoint \n",
       "'save_best_only' config is True, it requires to compare the monitored metric value, but the provided monitored \n",
       "metric value is not available.\n"
      ]
     },
     "metadata": {},
     "output_type": "display_data"
    },
    {
     "name": "stderr",
     "output_type": "stream",
     "text": [
      "Epoch 132, global step 8512: 'f1' was not in top 1\n",
      "Epoch 132, global step 8512: 'iou' was not in top 1\n"
     ]
    },
    {
     "data": {
      "text/html": [
       "<pre style=\"white-space:pre;overflow-x:auto;line-height:normal;font-family:Menlo,'DejaVu Sans Mono',consolas,'Courier New',monospace\">2024/06/10 03:02:32 WARNING mlflow.utils.checkpoint_utils: Checkpoint logging is skipped, because checkpoint \n",
       "'save_best_only' config is True, it requires to compare the monitored metric value, but the provided monitored \n",
       "metric value is not available.\n",
       "</pre>\n"
      ],
      "text/plain": [
       "2024/06/10 03:02:32 WARNING mlflow.utils.checkpoint_utils: Checkpoint logging is skipped, because checkpoint \n",
       "'save_best_only' config is True, it requires to compare the monitored metric value, but the provided monitored \n",
       "metric value is not available.\n"
      ]
     },
     "metadata": {},
     "output_type": "display_data"
    },
    {
     "name": "stderr",
     "output_type": "stream",
     "text": [
      "Epoch 133, global step 8576: 'f1' was not in top 1\n",
      "Epoch 133, global step 8576: 'iou' was not in top 1\n"
     ]
    },
    {
     "data": {
      "text/html": [
       "<pre style=\"white-space:pre;overflow-x:auto;line-height:normal;font-family:Menlo,'DejaVu Sans Mono',consolas,'Courier New',monospace\">2024/06/10 03:03:32 WARNING mlflow.utils.checkpoint_utils: Checkpoint logging is skipped, because checkpoint \n",
       "'save_best_only' config is True, it requires to compare the monitored metric value, but the provided monitored \n",
       "metric value is not available.\n",
       "</pre>\n"
      ],
      "text/plain": [
       "2024/06/10 03:03:32 WARNING mlflow.utils.checkpoint_utils: Checkpoint logging is skipped, because checkpoint \n",
       "'save_best_only' config is True, it requires to compare the monitored metric value, but the provided monitored \n",
       "metric value is not available.\n"
      ]
     },
     "metadata": {},
     "output_type": "display_data"
    },
    {
     "name": "stderr",
     "output_type": "stream",
     "text": [
      "Epoch 134, global step 8640: 'f1' was not in top 1\n",
      "Epoch 134, global step 8640: 'iou' was not in top 1\n"
     ]
    },
    {
     "data": {
      "text/html": [
       "<pre style=\"white-space:pre;overflow-x:auto;line-height:normal;font-family:Menlo,'DejaVu Sans Mono',consolas,'Courier New',monospace\">2024/06/10 03:04:32 WARNING mlflow.utils.checkpoint_utils: Checkpoint logging is skipped, because checkpoint \n",
       "'save_best_only' config is True, it requires to compare the monitored metric value, but the provided monitored \n",
       "metric value is not available.\n",
       "</pre>\n"
      ],
      "text/plain": [
       "2024/06/10 03:04:32 WARNING mlflow.utils.checkpoint_utils: Checkpoint logging is skipped, because checkpoint \n",
       "'save_best_only' config is True, it requires to compare the monitored metric value, but the provided monitored \n",
       "metric value is not available.\n"
      ]
     },
     "metadata": {},
     "output_type": "display_data"
    },
    {
     "name": "stderr",
     "output_type": "stream",
     "text": [
      "Epoch 135, global step 8704: 'f1' was not in top 1\n",
      "Epoch 135, global step 8704: 'iou' was not in top 1\n"
     ]
    },
    {
     "data": {
      "text/html": [
       "<pre style=\"white-space:pre;overflow-x:auto;line-height:normal;font-family:Menlo,'DejaVu Sans Mono',consolas,'Courier New',monospace\">2024/06/10 03:05:32 WARNING mlflow.utils.checkpoint_utils: Checkpoint logging is skipped, because checkpoint \n",
       "'save_best_only' config is True, it requires to compare the monitored metric value, but the provided monitored \n",
       "metric value is not available.\n",
       "</pre>\n"
      ],
      "text/plain": [
       "2024/06/10 03:05:32 WARNING mlflow.utils.checkpoint_utils: Checkpoint logging is skipped, because checkpoint \n",
       "'save_best_only' config is True, it requires to compare the monitored metric value, but the provided monitored \n",
       "metric value is not available.\n"
      ]
     },
     "metadata": {},
     "output_type": "display_data"
    },
    {
     "name": "stderr",
     "output_type": "stream",
     "text": [
      "Epoch 136, global step 8768: 'f1' was not in top 1\n",
      "Epoch 136, global step 8768: 'iou' was not in top 1\n"
     ]
    },
    {
     "data": {
      "text/html": [
       "<pre style=\"white-space:pre;overflow-x:auto;line-height:normal;font-family:Menlo,'DejaVu Sans Mono',consolas,'Courier New',monospace\">2024/06/10 03:06:33 WARNING mlflow.utils.checkpoint_utils: Checkpoint logging is skipped, because checkpoint \n",
       "'save_best_only' config is True, it requires to compare the monitored metric value, but the provided monitored \n",
       "metric value is not available.\n",
       "</pre>\n"
      ],
      "text/plain": [
       "2024/06/10 03:06:33 WARNING mlflow.utils.checkpoint_utils: Checkpoint logging is skipped, because checkpoint \n",
       "'save_best_only' config is True, it requires to compare the monitored metric value, but the provided monitored \n",
       "metric value is not available.\n"
      ]
     },
     "metadata": {},
     "output_type": "display_data"
    },
    {
     "name": "stderr",
     "output_type": "stream",
     "text": [
      "Epoch 137, global step 8832: 'f1' was not in top 1\n",
      "Epoch 137, global step 8832: 'iou' was not in top 1\n"
     ]
    },
    {
     "data": {
      "text/html": [
       "<pre style=\"white-space:pre;overflow-x:auto;line-height:normal;font-family:Menlo,'DejaVu Sans Mono',consolas,'Courier New',monospace\">2024/06/10 03:07:33 WARNING mlflow.utils.checkpoint_utils: Checkpoint logging is skipped, because checkpoint \n",
       "'save_best_only' config is True, it requires to compare the monitored metric value, but the provided monitored \n",
       "metric value is not available.\n",
       "</pre>\n"
      ],
      "text/plain": [
       "2024/06/10 03:07:33 WARNING mlflow.utils.checkpoint_utils: Checkpoint logging is skipped, because checkpoint \n",
       "'save_best_only' config is True, it requires to compare the monitored metric value, but the provided monitored \n",
       "metric value is not available.\n"
      ]
     },
     "metadata": {},
     "output_type": "display_data"
    },
    {
     "name": "stderr",
     "output_type": "stream",
     "text": [
      "Epoch 138, global step 8896: 'f1' was not in top 1\n",
      "Epoch 138, global step 8896: 'iou' was not in top 1\n"
     ]
    },
    {
     "data": {
      "text/html": [
       "<pre style=\"white-space:pre;overflow-x:auto;line-height:normal;font-family:Menlo,'DejaVu Sans Mono',consolas,'Courier New',monospace\">2024/06/10 03:08:32 WARNING mlflow.utils.checkpoint_utils: Checkpoint logging is skipped, because checkpoint \n",
       "'save_best_only' config is True, it requires to compare the monitored metric value, but the provided monitored \n",
       "metric value is not available.\n",
       "</pre>\n"
      ],
      "text/plain": [
       "2024/06/10 03:08:32 WARNING mlflow.utils.checkpoint_utils: Checkpoint logging is skipped, because checkpoint \n",
       "'save_best_only' config is True, it requires to compare the monitored metric value, but the provided monitored \n",
       "metric value is not available.\n"
      ]
     },
     "metadata": {},
     "output_type": "display_data"
    },
    {
     "name": "stderr",
     "output_type": "stream",
     "text": [
      "Epoch 139, global step 8960: 'f1' was not in top 1\n",
      "Epoch 139, global step 8960: 'iou' was not in top 1\n"
     ]
    },
    {
     "data": {
      "text/html": [
       "<pre style=\"white-space:pre;overflow-x:auto;line-height:normal;font-family:Menlo,'DejaVu Sans Mono',consolas,'Courier New',monospace\">2024/06/10 03:09:32 WARNING mlflow.utils.checkpoint_utils: Checkpoint logging is skipped, because checkpoint \n",
       "'save_best_only' config is True, it requires to compare the monitored metric value, but the provided monitored \n",
       "metric value is not available.\n",
       "</pre>\n"
      ],
      "text/plain": [
       "2024/06/10 03:09:32 WARNING mlflow.utils.checkpoint_utils: Checkpoint logging is skipped, because checkpoint \n",
       "'save_best_only' config is True, it requires to compare the monitored metric value, but the provided monitored \n",
       "metric value is not available.\n"
      ]
     },
     "metadata": {},
     "output_type": "display_data"
    },
    {
     "name": "stderr",
     "output_type": "stream",
     "text": [
      "Epoch 140, global step 9024: 'f1' was not in top 1\n",
      "Epoch 140, global step 9024: 'iou' was not in top 1\n"
     ]
    },
    {
     "data": {
      "text/html": [
       "<pre style=\"white-space:pre;overflow-x:auto;line-height:normal;font-family:Menlo,'DejaVu Sans Mono',consolas,'Courier New',monospace\">2024/06/10 03:10:32 WARNING mlflow.utils.checkpoint_utils: Checkpoint logging is skipped, because checkpoint \n",
       "'save_best_only' config is True, it requires to compare the monitored metric value, but the provided monitored \n",
       "metric value is not available.\n",
       "</pre>\n"
      ],
      "text/plain": [
       "2024/06/10 03:10:32 WARNING mlflow.utils.checkpoint_utils: Checkpoint logging is skipped, because checkpoint \n",
       "'save_best_only' config is True, it requires to compare the monitored metric value, but the provided monitored \n",
       "metric value is not available.\n"
      ]
     },
     "metadata": {},
     "output_type": "display_data"
    },
    {
     "name": "stderr",
     "output_type": "stream",
     "text": [
      "Epoch 141, global step 9088: 'f1' reached 0.47718 (best 0.47718), saving model to './mlruns/126730738902562300/598a0c52f5a34d9e9e1956c73f94acd8/checkpoints/f1_epoch=141f1=0.47718iou=0.22601loss=0.16050.ckpt' as top 1\n",
      "Epoch 141, global step 9088: 'iou' reached 0.22601 (best 0.22601), saving model to './mlruns/126730738902562300/598a0c52f5a34d9e9e1956c73f94acd8/checkpoints/iou_epoch=141f1=0.47718iou=0.22601loss=0.16050.ckpt' as top 1\n"
     ]
    },
    {
     "data": {
      "text/html": [
       "<pre style=\"white-space:pre;overflow-x:auto;line-height:normal;font-family:Menlo,'DejaVu Sans Mono',consolas,'Courier New',monospace\">2024/06/10 03:11:38 WARNING mlflow.utils.checkpoint_utils: Checkpoint logging is skipped, because checkpoint \n",
       "'save_best_only' config is True, it requires to compare the monitored metric value, but the provided monitored \n",
       "metric value is not available.\n",
       "</pre>\n"
      ],
      "text/plain": [
       "2024/06/10 03:11:38 WARNING mlflow.utils.checkpoint_utils: Checkpoint logging is skipped, because checkpoint \n",
       "'save_best_only' config is True, it requires to compare the monitored metric value, but the provided monitored \n",
       "metric value is not available.\n"
      ]
     },
     "metadata": {},
     "output_type": "display_data"
    },
    {
     "name": "stderr",
     "output_type": "stream",
     "text": [
      "Epoch 142, global step 9152: 'f1' was not in top 1\n",
      "Epoch 142, global step 9152: 'iou' was not in top 1\n"
     ]
    },
    {
     "data": {
      "text/html": [
       "<pre style=\"white-space:pre;overflow-x:auto;line-height:normal;font-family:Menlo,'DejaVu Sans Mono',consolas,'Courier New',monospace\">2024/06/10 03:12:38 WARNING mlflow.utils.checkpoint_utils: Checkpoint logging is skipped, because checkpoint \n",
       "'save_best_only' config is True, it requires to compare the monitored metric value, but the provided monitored \n",
       "metric value is not available.\n",
       "</pre>\n"
      ],
      "text/plain": [
       "2024/06/10 03:12:38 WARNING mlflow.utils.checkpoint_utils: Checkpoint logging is skipped, because checkpoint \n",
       "'save_best_only' config is True, it requires to compare the monitored metric value, but the provided monitored \n",
       "metric value is not available.\n"
      ]
     },
     "metadata": {},
     "output_type": "display_data"
    },
    {
     "name": "stderr",
     "output_type": "stream",
     "text": [
      "Epoch 143, global step 9216: 'f1' was not in top 1\n",
      "Epoch 143, global step 9216: 'iou' was not in top 1\n"
     ]
    },
    {
     "data": {
      "text/html": [
       "<pre style=\"white-space:pre;overflow-x:auto;line-height:normal;font-family:Menlo,'DejaVu Sans Mono',consolas,'Courier New',monospace\">2024/06/10 03:13:38 WARNING mlflow.utils.checkpoint_utils: Checkpoint logging is skipped, because checkpoint \n",
       "'save_best_only' config is True, it requires to compare the monitored metric value, but the provided monitored \n",
       "metric value is not available.\n",
       "</pre>\n"
      ],
      "text/plain": [
       "2024/06/10 03:13:38 WARNING mlflow.utils.checkpoint_utils: Checkpoint logging is skipped, because checkpoint \n",
       "'save_best_only' config is True, it requires to compare the monitored metric value, but the provided monitored \n",
       "metric value is not available.\n"
      ]
     },
     "metadata": {},
     "output_type": "display_data"
    },
    {
     "name": "stderr",
     "output_type": "stream",
     "text": [
      "Epoch 144, global step 9280: 'f1' was not in top 1\n",
      "Epoch 144, global step 9280: 'iou' was not in top 1\n"
     ]
    },
    {
     "data": {
      "text/html": [
       "<pre style=\"white-space:pre;overflow-x:auto;line-height:normal;font-family:Menlo,'DejaVu Sans Mono',consolas,'Courier New',monospace\">2024/06/10 03:14:38 WARNING mlflow.utils.checkpoint_utils: Checkpoint logging is skipped, because checkpoint \n",
       "'save_best_only' config is True, it requires to compare the monitored metric value, but the provided monitored \n",
       "metric value is not available.\n",
       "</pre>\n"
      ],
      "text/plain": [
       "2024/06/10 03:14:38 WARNING mlflow.utils.checkpoint_utils: Checkpoint logging is skipped, because checkpoint \n",
       "'save_best_only' config is True, it requires to compare the monitored metric value, but the provided monitored \n",
       "metric value is not available.\n"
      ]
     },
     "metadata": {},
     "output_type": "display_data"
    },
    {
     "name": "stderr",
     "output_type": "stream",
     "text": [
      "Epoch 145, global step 9344: 'f1' was not in top 1\n",
      "Epoch 145, global step 9344: 'iou' was not in top 1\n"
     ]
    },
    {
     "data": {
      "text/html": [
       "<pre style=\"white-space:pre;overflow-x:auto;line-height:normal;font-family:Menlo,'DejaVu Sans Mono',consolas,'Courier New',monospace\">2024/06/10 03:15:39 WARNING mlflow.utils.checkpoint_utils: Checkpoint logging is skipped, because checkpoint \n",
       "'save_best_only' config is True, it requires to compare the monitored metric value, but the provided monitored \n",
       "metric value is not available.\n",
       "</pre>\n"
      ],
      "text/plain": [
       "2024/06/10 03:15:39 WARNING mlflow.utils.checkpoint_utils: Checkpoint logging is skipped, because checkpoint \n",
       "'save_best_only' config is True, it requires to compare the monitored metric value, but the provided monitored \n",
       "metric value is not available.\n"
      ]
     },
     "metadata": {},
     "output_type": "display_data"
    },
    {
     "name": "stderr",
     "output_type": "stream",
     "text": [
      "Epoch 146, global step 9408: 'f1' was not in top 1\n",
      "Epoch 146, global step 9408: 'iou' was not in top 1\n"
     ]
    },
    {
     "data": {
      "text/html": [
       "<pre style=\"white-space:pre;overflow-x:auto;line-height:normal;font-family:Menlo,'DejaVu Sans Mono',consolas,'Courier New',monospace\">2024/06/10 03:16:39 WARNING mlflow.utils.checkpoint_utils: Checkpoint logging is skipped, because checkpoint \n",
       "'save_best_only' config is True, it requires to compare the monitored metric value, but the provided monitored \n",
       "metric value is not available.\n",
       "</pre>\n"
      ],
      "text/plain": [
       "2024/06/10 03:16:39 WARNING mlflow.utils.checkpoint_utils: Checkpoint logging is skipped, because checkpoint \n",
       "'save_best_only' config is True, it requires to compare the monitored metric value, but the provided monitored \n",
       "metric value is not available.\n"
      ]
     },
     "metadata": {},
     "output_type": "display_data"
    },
    {
     "name": "stderr",
     "output_type": "stream",
     "text": [
      "Epoch 147, global step 9472: 'f1' was not in top 1\n",
      "Epoch 147, global step 9472: 'iou' was not in top 1\n"
     ]
    },
    {
     "data": {
      "text/html": [
       "<pre style=\"white-space:pre;overflow-x:auto;line-height:normal;font-family:Menlo,'DejaVu Sans Mono',consolas,'Courier New',monospace\">2024/06/10 03:17:39 WARNING mlflow.utils.checkpoint_utils: Checkpoint logging is skipped, because checkpoint \n",
       "'save_best_only' config is True, it requires to compare the monitored metric value, but the provided monitored \n",
       "metric value is not available.\n",
       "</pre>\n"
      ],
      "text/plain": [
       "2024/06/10 03:17:39 WARNING mlflow.utils.checkpoint_utils: Checkpoint logging is skipped, because checkpoint \n",
       "'save_best_only' config is True, it requires to compare the monitored metric value, but the provided monitored \n",
       "metric value is not available.\n"
      ]
     },
     "metadata": {},
     "output_type": "display_data"
    },
    {
     "name": "stderr",
     "output_type": "stream",
     "text": [
      "Epoch 148, global step 9536: 'f1' was not in top 1\n",
      "Epoch 148, global step 9536: 'iou' reached 0.22996 (best 0.22996), saving model to './mlruns/126730738902562300/598a0c52f5a34d9e9e1956c73f94acd8/checkpoints/iou_epoch=148f1=0.47421iou=0.22996loss=0.14968.ckpt' as top 1\n"
     ]
    },
    {
     "data": {
      "text/html": [
       "<pre style=\"white-space:pre;overflow-x:auto;line-height:normal;font-family:Menlo,'DejaVu Sans Mono',consolas,'Courier New',monospace\">2024/06/10 03:18:42 WARNING mlflow.utils.checkpoint_utils: Checkpoint logging is skipped, because checkpoint \n",
       "'save_best_only' config is True, it requires to compare the monitored metric value, but the provided monitored \n",
       "metric value is not available.\n",
       "</pre>\n"
      ],
      "text/plain": [
       "2024/06/10 03:18:42 WARNING mlflow.utils.checkpoint_utils: Checkpoint logging is skipped, because checkpoint \n",
       "'save_best_only' config is True, it requires to compare the monitored metric value, but the provided monitored \n",
       "metric value is not available.\n"
      ]
     },
     "metadata": {},
     "output_type": "display_data"
    },
    {
     "name": "stderr",
     "output_type": "stream",
     "text": [
      "Epoch 149, global step 9600: 'f1' was not in top 1\n",
      "Epoch 149, global step 9600: 'iou' was not in top 1\n"
     ]
    },
    {
     "data": {
      "text/html": [
       "<pre style=\"white-space:pre;overflow-x:auto;line-height:normal;font-family:Menlo,'DejaVu Sans Mono',consolas,'Courier New',monospace\">2024/06/10 03:19:41 WARNING mlflow.utils.checkpoint_utils: Checkpoint logging is skipped, because checkpoint \n",
       "'save_best_only' config is True, it requires to compare the monitored metric value, but the provided monitored \n",
       "metric value is not available.\n",
       "</pre>\n"
      ],
      "text/plain": [
       "2024/06/10 03:19:41 WARNING mlflow.utils.checkpoint_utils: Checkpoint logging is skipped, because checkpoint \n",
       "'save_best_only' config is True, it requires to compare the monitored metric value, but the provided monitored \n",
       "metric value is not available.\n"
      ]
     },
     "metadata": {},
     "output_type": "display_data"
    },
    {
     "name": "stderr",
     "output_type": "stream",
     "text": [
      "Epoch 150, global step 9664: 'f1' was not in top 1\n",
      "Epoch 150, global step 9664: 'iou' reached 0.23017 (best 0.23017), saving model to './mlruns/126730738902562300/598a0c52f5a34d9e9e1956c73f94acd8/checkpoints/iou_epoch=150f1=0.46678iou=0.23017loss=0.23546.ckpt' as top 1\n"
     ]
    },
    {
     "data": {
      "text/html": [
       "<pre style=\"white-space:pre;overflow-x:auto;line-height:normal;font-family:Menlo,'DejaVu Sans Mono',consolas,'Courier New',monospace\">2024/06/10 03:20:45 WARNING mlflow.utils.checkpoint_utils: Checkpoint logging is skipped, because checkpoint \n",
       "'save_best_only' config is True, it requires to compare the monitored metric value, but the provided monitored \n",
       "metric value is not available.\n",
       "</pre>\n"
      ],
      "text/plain": [
       "2024/06/10 03:20:45 WARNING mlflow.utils.checkpoint_utils: Checkpoint logging is skipped, because checkpoint \n",
       "'save_best_only' config is True, it requires to compare the monitored metric value, but the provided monitored \n",
       "metric value is not available.\n"
      ]
     },
     "metadata": {},
     "output_type": "display_data"
    },
    {
     "name": "stderr",
     "output_type": "stream",
     "text": [
      "Epoch 151, global step 9728: 'f1' was not in top 1\n",
      "Epoch 151, global step 9728: 'iou' was not in top 1\n"
     ]
    },
    {
     "data": {
      "text/html": [
       "<pre style=\"white-space:pre;overflow-x:auto;line-height:normal;font-family:Menlo,'DejaVu Sans Mono',consolas,'Courier New',monospace\">2024/06/10 03:21:44 WARNING mlflow.utils.checkpoint_utils: Checkpoint logging is skipped, because checkpoint \n",
       "'save_best_only' config is True, it requires to compare the monitored metric value, but the provided monitored \n",
       "metric value is not available.\n",
       "</pre>\n"
      ],
      "text/plain": [
       "2024/06/10 03:21:44 WARNING mlflow.utils.checkpoint_utils: Checkpoint logging is skipped, because checkpoint \n",
       "'save_best_only' config is True, it requires to compare the monitored metric value, but the provided monitored \n",
       "metric value is not available.\n"
      ]
     },
     "metadata": {},
     "output_type": "display_data"
    },
    {
     "name": "stderr",
     "output_type": "stream",
     "text": [
      "Epoch 152, global step 9792: 'f1' was not in top 1\n",
      "Epoch 152, global step 9792: 'iou' was not in top 1\n"
     ]
    },
    {
     "data": {
      "text/html": [
       "<pre style=\"white-space:pre;overflow-x:auto;line-height:normal;font-family:Menlo,'DejaVu Sans Mono',consolas,'Courier New',monospace\">2024/06/10 03:22:44 WARNING mlflow.utils.checkpoint_utils: Checkpoint logging is skipped, because checkpoint \n",
       "'save_best_only' config is True, it requires to compare the monitored metric value, but the provided monitored \n",
       "metric value is not available.\n",
       "</pre>\n"
      ],
      "text/plain": [
       "2024/06/10 03:22:44 WARNING mlflow.utils.checkpoint_utils: Checkpoint logging is skipped, because checkpoint \n",
       "'save_best_only' config is True, it requires to compare the monitored metric value, but the provided monitored \n",
       "metric value is not available.\n"
      ]
     },
     "metadata": {},
     "output_type": "display_data"
    },
    {
     "name": "stderr",
     "output_type": "stream",
     "text": [
      "Epoch 153, global step 9856: 'f1' was not in top 1\n",
      "Epoch 153, global step 9856: 'iou' was not in top 1\n"
     ]
    },
    {
     "data": {
      "text/html": [
       "<pre style=\"white-space:pre;overflow-x:auto;line-height:normal;font-family:Menlo,'DejaVu Sans Mono',consolas,'Courier New',monospace\">2024/06/10 03:23:44 WARNING mlflow.utils.checkpoint_utils: Checkpoint logging is skipped, because checkpoint \n",
       "'save_best_only' config is True, it requires to compare the monitored metric value, but the provided monitored \n",
       "metric value is not available.\n",
       "</pre>\n"
      ],
      "text/plain": [
       "2024/06/10 03:23:44 WARNING mlflow.utils.checkpoint_utils: Checkpoint logging is skipped, because checkpoint \n",
       "'save_best_only' config is True, it requires to compare the monitored metric value, but the provided monitored \n",
       "metric value is not available.\n"
      ]
     },
     "metadata": {},
     "output_type": "display_data"
    },
    {
     "name": "stderr",
     "output_type": "stream",
     "text": [
      "Epoch 154, global step 9920: 'f1' reached 0.48449 (best 0.48449), saving model to './mlruns/126730738902562300/598a0c52f5a34d9e9e1956c73f94acd8/checkpoints/f1_epoch=154f1=0.48449iou=0.23256loss=0.15835.ckpt' as top 1\n",
      "Epoch 154, global step 9920: 'iou' reached 0.23256 (best 0.23256), saving model to './mlruns/126730738902562300/598a0c52f5a34d9e9e1956c73f94acd8/checkpoints/iou_epoch=154f1=0.48449iou=0.23256loss=0.15835.ckpt' as top 1\n"
     ]
    },
    {
     "data": {
      "text/html": [
       "<pre style=\"white-space:pre;overflow-x:auto;line-height:normal;font-family:Menlo,'DejaVu Sans Mono',consolas,'Courier New',monospace\">2024/06/10 03:24:50 WARNING mlflow.utils.checkpoint_utils: Checkpoint logging is skipped, because checkpoint \n",
       "'save_best_only' config is True, it requires to compare the monitored metric value, but the provided monitored \n",
       "metric value is not available.\n",
       "</pre>\n"
      ],
      "text/plain": [
       "2024/06/10 03:24:50 WARNING mlflow.utils.checkpoint_utils: Checkpoint logging is skipped, because checkpoint \n",
       "'save_best_only' config is True, it requires to compare the monitored metric value, but the provided monitored \n",
       "metric value is not available.\n"
      ]
     },
     "metadata": {},
     "output_type": "display_data"
    },
    {
     "name": "stderr",
     "output_type": "stream",
     "text": [
      "Epoch 155, global step 9984: 'f1' was not in top 1\n",
      "Epoch 155, global step 9984: 'iou' was not in top 1\n"
     ]
    },
    {
     "data": {
      "text/html": [
       "<pre style=\"white-space:pre;overflow-x:auto;line-height:normal;font-family:Menlo,'DejaVu Sans Mono',consolas,'Courier New',monospace\">2024/06/10 03:25:50 WARNING mlflow.utils.checkpoint_utils: Checkpoint logging is skipped, because checkpoint \n",
       "'save_best_only' config is True, it requires to compare the monitored metric value, but the provided monitored \n",
       "metric value is not available.\n",
       "</pre>\n"
      ],
      "text/plain": [
       "2024/06/10 03:25:50 WARNING mlflow.utils.checkpoint_utils: Checkpoint logging is skipped, because checkpoint \n",
       "'save_best_only' config is True, it requires to compare the monitored metric value, but the provided monitored \n",
       "metric value is not available.\n"
      ]
     },
     "metadata": {},
     "output_type": "display_data"
    },
    {
     "name": "stderr",
     "output_type": "stream",
     "text": [
      "Epoch 156, global step 10048: 'f1' was not in top 1\n",
      "Epoch 156, global step 10048: 'iou' was not in top 1\n"
     ]
    },
    {
     "data": {
      "text/html": [
       "<pre style=\"white-space:pre;overflow-x:auto;line-height:normal;font-family:Menlo,'DejaVu Sans Mono',consolas,'Courier New',monospace\">2024/06/10 03:26:50 WARNING mlflow.utils.checkpoint_utils: Checkpoint logging is skipped, because checkpoint \n",
       "'save_best_only' config is True, it requires to compare the monitored metric value, but the provided monitored \n",
       "metric value is not available.\n",
       "</pre>\n"
      ],
      "text/plain": [
       "2024/06/10 03:26:50 WARNING mlflow.utils.checkpoint_utils: Checkpoint logging is skipped, because checkpoint \n",
       "'save_best_only' config is True, it requires to compare the monitored metric value, but the provided monitored \n",
       "metric value is not available.\n"
      ]
     },
     "metadata": {},
     "output_type": "display_data"
    },
    {
     "name": "stderr",
     "output_type": "stream",
     "text": [
      "Epoch 157, global step 10112: 'f1' was not in top 1\n",
      "Epoch 157, global step 10112: 'iou' was not in top 1\n"
     ]
    },
    {
     "data": {
      "text/html": [
       "<pre style=\"white-space:pre;overflow-x:auto;line-height:normal;font-family:Menlo,'DejaVu Sans Mono',consolas,'Courier New',monospace\">2024/06/10 03:27:51 WARNING mlflow.utils.checkpoint_utils: Checkpoint logging is skipped, because checkpoint \n",
       "'save_best_only' config is True, it requires to compare the monitored metric value, but the provided monitored \n",
       "metric value is not available.\n",
       "</pre>\n"
      ],
      "text/plain": [
       "2024/06/10 03:27:51 WARNING mlflow.utils.checkpoint_utils: Checkpoint logging is skipped, because checkpoint \n",
       "'save_best_only' config is True, it requires to compare the monitored metric value, but the provided monitored \n",
       "metric value is not available.\n"
      ]
     },
     "metadata": {},
     "output_type": "display_data"
    },
    {
     "name": "stderr",
     "output_type": "stream",
     "text": [
      "Epoch 158, global step 10176: 'f1' was not in top 1\n",
      "Epoch 158, global step 10176: 'iou' was not in top 1\n"
     ]
    },
    {
     "data": {
      "text/html": [
       "<pre style=\"white-space:pre;overflow-x:auto;line-height:normal;font-family:Menlo,'DejaVu Sans Mono',consolas,'Courier New',monospace\">2024/06/10 03:28:51 WARNING mlflow.utils.checkpoint_utils: Checkpoint logging is skipped, because checkpoint \n",
       "'save_best_only' config is True, it requires to compare the monitored metric value, but the provided monitored \n",
       "metric value is not available.\n",
       "</pre>\n"
      ],
      "text/plain": [
       "2024/06/10 03:28:51 WARNING mlflow.utils.checkpoint_utils: Checkpoint logging is skipped, because checkpoint \n",
       "'save_best_only' config is True, it requires to compare the monitored metric value, but the provided monitored \n",
       "metric value is not available.\n"
      ]
     },
     "metadata": {},
     "output_type": "display_data"
    },
    {
     "name": "stderr",
     "output_type": "stream",
     "text": [
      "Epoch 159, global step 10240: 'f1' reached 0.48843 (best 0.48843), saving model to './mlruns/126730738902562300/598a0c52f5a34d9e9e1956c73f94acd8/checkpoints/f1_epoch=159f1=0.48843iou=0.23449loss=0.14304.ckpt' as top 1\n",
      "Epoch 159, global step 10240: 'iou' reached 0.23449 (best 0.23449), saving model to './mlruns/126730738902562300/598a0c52f5a34d9e9e1956c73f94acd8/checkpoints/iou_epoch=159f1=0.48843iou=0.23449loss=0.14304.ckpt' as top 1\n"
     ]
    },
    {
     "data": {
      "text/html": [
       "<pre style=\"white-space:pre;overflow-x:auto;line-height:normal;font-family:Menlo,'DejaVu Sans Mono',consolas,'Courier New',monospace\">2024/06/10 03:29:57 WARNING mlflow.utils.checkpoint_utils: Checkpoint logging is skipped, because checkpoint \n",
       "'save_best_only' config is True, it requires to compare the monitored metric value, but the provided monitored \n",
       "metric value is not available.\n",
       "</pre>\n"
      ],
      "text/plain": [
       "2024/06/10 03:29:57 WARNING mlflow.utils.checkpoint_utils: Checkpoint logging is skipped, because checkpoint \n",
       "'save_best_only' config is True, it requires to compare the monitored metric value, but the provided monitored \n",
       "metric value is not available.\n"
      ]
     },
     "metadata": {},
     "output_type": "display_data"
    },
    {
     "name": "stderr",
     "output_type": "stream",
     "text": [
      "Epoch 160, global step 10304: 'f1' was not in top 1\n",
      "Epoch 160, global step 10304: 'iou' was not in top 1\n"
     ]
    },
    {
     "data": {
      "text/html": [
       "<pre style=\"white-space:pre;overflow-x:auto;line-height:normal;font-family:Menlo,'DejaVu Sans Mono',consolas,'Courier New',monospace\">2024/06/10 03:30:57 WARNING mlflow.utils.checkpoint_utils: Checkpoint logging is skipped, because checkpoint \n",
       "'save_best_only' config is True, it requires to compare the monitored metric value, but the provided monitored \n",
       "metric value is not available.\n",
       "</pre>\n"
      ],
      "text/plain": [
       "2024/06/10 03:30:57 WARNING mlflow.utils.checkpoint_utils: Checkpoint logging is skipped, because checkpoint \n",
       "'save_best_only' config is True, it requires to compare the monitored metric value, but the provided monitored \n",
       "metric value is not available.\n"
      ]
     },
     "metadata": {},
     "output_type": "display_data"
    },
    {
     "name": "stderr",
     "output_type": "stream",
     "text": [
      "Epoch 161, global step 10368: 'f1' was not in top 1\n",
      "Epoch 161, global step 10368: 'iou' was not in top 1\n"
     ]
    },
    {
     "data": {
      "text/html": [
       "<pre style=\"white-space:pre;overflow-x:auto;line-height:normal;font-family:Menlo,'DejaVu Sans Mono',consolas,'Courier New',monospace\">2024/06/10 03:31:57 WARNING mlflow.utils.checkpoint_utils: Checkpoint logging is skipped, because checkpoint \n",
       "'save_best_only' config is True, it requires to compare the monitored metric value, but the provided monitored \n",
       "metric value is not available.\n",
       "</pre>\n"
      ],
      "text/plain": [
       "2024/06/10 03:31:57 WARNING mlflow.utils.checkpoint_utils: Checkpoint logging is skipped, because checkpoint \n",
       "'save_best_only' config is True, it requires to compare the monitored metric value, but the provided monitored \n",
       "metric value is not available.\n"
      ]
     },
     "metadata": {},
     "output_type": "display_data"
    },
    {
     "name": "stderr",
     "output_type": "stream",
     "text": [
      "Epoch 162, global step 10432: 'f1' was not in top 1\n",
      "Epoch 162, global step 10432: 'iou' was not in top 1\n"
     ]
    },
    {
     "data": {
      "text/html": [
       "<pre style=\"white-space:pre;overflow-x:auto;line-height:normal;font-family:Menlo,'DejaVu Sans Mono',consolas,'Courier New',monospace\">2024/06/10 03:32:57 WARNING mlflow.utils.checkpoint_utils: Checkpoint logging is skipped, because checkpoint \n",
       "'save_best_only' config is True, it requires to compare the monitored metric value, but the provided monitored \n",
       "metric value is not available.\n",
       "</pre>\n"
      ],
      "text/plain": [
       "2024/06/10 03:32:57 WARNING mlflow.utils.checkpoint_utils: Checkpoint logging is skipped, because checkpoint \n",
       "'save_best_only' config is True, it requires to compare the monitored metric value, but the provided monitored \n",
       "metric value is not available.\n"
      ]
     },
     "metadata": {},
     "output_type": "display_data"
    },
    {
     "name": "stderr",
     "output_type": "stream",
     "text": [
      "Epoch 163, global step 10496: 'f1' was not in top 1\n",
      "Epoch 163, global step 10496: 'iou' was not in top 1\n"
     ]
    },
    {
     "data": {
      "text/html": [
       "<pre style=\"white-space:pre;overflow-x:auto;line-height:normal;font-family:Menlo,'DejaVu Sans Mono',consolas,'Courier New',monospace\">2024/06/10 03:33:57 WARNING mlflow.utils.checkpoint_utils: Checkpoint logging is skipped, because checkpoint \n",
       "'save_best_only' config is True, it requires to compare the monitored metric value, but the provided monitored \n",
       "metric value is not available.\n",
       "</pre>\n"
      ],
      "text/plain": [
       "2024/06/10 03:33:57 WARNING mlflow.utils.checkpoint_utils: Checkpoint logging is skipped, because checkpoint \n",
       "'save_best_only' config is True, it requires to compare the monitored metric value, but the provided monitored \n",
       "metric value is not available.\n"
      ]
     },
     "metadata": {},
     "output_type": "display_data"
    },
    {
     "name": "stderr",
     "output_type": "stream",
     "text": [
      "Epoch 164, global step 10560: 'f1' was not in top 1\n",
      "Epoch 164, global step 10560: 'iou' was not in top 1\n"
     ]
    },
    {
     "data": {
      "text/html": [
       "<pre style=\"white-space:pre;overflow-x:auto;line-height:normal;font-family:Menlo,'DejaVu Sans Mono',consolas,'Courier New',monospace\">2024/06/10 03:34:57 WARNING mlflow.utils.checkpoint_utils: Checkpoint logging is skipped, because checkpoint \n",
       "'save_best_only' config is True, it requires to compare the monitored metric value, but the provided monitored \n",
       "metric value is not available.\n",
       "</pre>\n"
      ],
      "text/plain": [
       "2024/06/10 03:34:57 WARNING mlflow.utils.checkpoint_utils: Checkpoint logging is skipped, because checkpoint \n",
       "'save_best_only' config is True, it requires to compare the monitored metric value, but the provided monitored \n",
       "metric value is not available.\n"
      ]
     },
     "metadata": {},
     "output_type": "display_data"
    },
    {
     "name": "stderr",
     "output_type": "stream",
     "text": [
      "Epoch 165, global step 10624: 'f1' was not in top 1\n",
      "Epoch 165, global step 10624: 'iou' was not in top 1\n"
     ]
    },
    {
     "data": {
      "text/html": [
       "<pre style=\"white-space:pre;overflow-x:auto;line-height:normal;font-family:Menlo,'DejaVu Sans Mono',consolas,'Courier New',monospace\">2024/06/10 03:35:56 WARNING mlflow.utils.checkpoint_utils: Checkpoint logging is skipped, because checkpoint \n",
       "'save_best_only' config is True, it requires to compare the monitored metric value, but the provided monitored \n",
       "metric value is not available.\n",
       "</pre>\n"
      ],
      "text/plain": [
       "2024/06/10 03:35:56 WARNING mlflow.utils.checkpoint_utils: Checkpoint logging is skipped, because checkpoint \n",
       "'save_best_only' config is True, it requires to compare the monitored metric value, but the provided monitored \n",
       "metric value is not available.\n"
      ]
     },
     "metadata": {},
     "output_type": "display_data"
    },
    {
     "name": "stderr",
     "output_type": "stream",
     "text": [
      "Epoch 166, global step 10688: 'f1' was not in top 1\n",
      "Epoch 166, global step 10688: 'iou' was not in top 1\n"
     ]
    },
    {
     "data": {
      "text/html": [
       "<pre style=\"white-space:pre;overflow-x:auto;line-height:normal;font-family:Menlo,'DejaVu Sans Mono',consolas,'Courier New',monospace\">2024/06/10 03:36:57 WARNING mlflow.utils.checkpoint_utils: Checkpoint logging is skipped, because checkpoint \n",
       "'save_best_only' config is True, it requires to compare the monitored metric value, but the provided monitored \n",
       "metric value is not available.\n",
       "</pre>\n"
      ],
      "text/plain": [
       "2024/06/10 03:36:57 WARNING mlflow.utils.checkpoint_utils: Checkpoint logging is skipped, because checkpoint \n",
       "'save_best_only' config is True, it requires to compare the monitored metric value, but the provided monitored \n",
       "metric value is not available.\n"
      ]
     },
     "metadata": {},
     "output_type": "display_data"
    },
    {
     "name": "stderr",
     "output_type": "stream",
     "text": [
      "Epoch 167, global step 10752: 'f1' was not in top 1\n",
      "Epoch 167, global step 10752: 'iou' was not in top 1\n"
     ]
    },
    {
     "data": {
      "text/html": [
       "<pre style=\"white-space:pre;overflow-x:auto;line-height:normal;font-family:Menlo,'DejaVu Sans Mono',consolas,'Courier New',monospace\">2024/06/10 03:37:57 WARNING mlflow.utils.checkpoint_utils: Checkpoint logging is skipped, because checkpoint \n",
       "'save_best_only' config is True, it requires to compare the monitored metric value, but the provided monitored \n",
       "metric value is not available.\n",
       "</pre>\n"
      ],
      "text/plain": [
       "2024/06/10 03:37:57 WARNING mlflow.utils.checkpoint_utils: Checkpoint logging is skipped, because checkpoint \n",
       "'save_best_only' config is True, it requires to compare the monitored metric value, but the provided monitored \n",
       "metric value is not available.\n"
      ]
     },
     "metadata": {},
     "output_type": "display_data"
    },
    {
     "name": "stderr",
     "output_type": "stream",
     "text": [
      "Epoch 168, global step 10816: 'f1' was not in top 1\n",
      "Epoch 168, global step 10816: 'iou' was not in top 1\n"
     ]
    },
    {
     "data": {
      "text/html": [
       "<pre style=\"white-space:pre;overflow-x:auto;line-height:normal;font-family:Menlo,'DejaVu Sans Mono',consolas,'Courier New',monospace\">2024/06/10 03:38:56 WARNING mlflow.utils.checkpoint_utils: Checkpoint logging is skipped, because checkpoint \n",
       "'save_best_only' config is True, it requires to compare the monitored metric value, but the provided monitored \n",
       "metric value is not available.\n",
       "</pre>\n"
      ],
      "text/plain": [
       "2024/06/10 03:38:56 WARNING mlflow.utils.checkpoint_utils: Checkpoint logging is skipped, because checkpoint \n",
       "'save_best_only' config is True, it requires to compare the monitored metric value, but the provided monitored \n",
       "metric value is not available.\n"
      ]
     },
     "metadata": {},
     "output_type": "display_data"
    },
    {
     "name": "stderr",
     "output_type": "stream",
     "text": [
      "Epoch 169, global step 10880: 'f1' was not in top 1\n",
      "Epoch 169, global step 10880: 'iou' was not in top 1\n"
     ]
    },
    {
     "data": {
      "text/html": [
       "<pre style=\"white-space:pre;overflow-x:auto;line-height:normal;font-family:Menlo,'DejaVu Sans Mono',consolas,'Courier New',monospace\">2024/06/10 03:39:57 WARNING mlflow.utils.checkpoint_utils: Checkpoint logging is skipped, because checkpoint \n",
       "'save_best_only' config is True, it requires to compare the monitored metric value, but the provided monitored \n",
       "metric value is not available.\n",
       "</pre>\n"
      ],
      "text/plain": [
       "2024/06/10 03:39:57 WARNING mlflow.utils.checkpoint_utils: Checkpoint logging is skipped, because checkpoint \n",
       "'save_best_only' config is True, it requires to compare the monitored metric value, but the provided monitored \n",
       "metric value is not available.\n"
      ]
     },
     "metadata": {},
     "output_type": "display_data"
    },
    {
     "name": "stderr",
     "output_type": "stream",
     "text": [
      "Epoch 170, global step 10944: 'f1' was not in top 1\n",
      "Epoch 170, global step 10944: 'iou' was not in top 1\n"
     ]
    },
    {
     "data": {
      "text/html": [
       "<pre style=\"white-space:pre;overflow-x:auto;line-height:normal;font-family:Menlo,'DejaVu Sans Mono',consolas,'Courier New',monospace\">2024/06/10 03:40:57 WARNING mlflow.utils.checkpoint_utils: Checkpoint logging is skipped, because checkpoint \n",
       "'save_best_only' config is True, it requires to compare the monitored metric value, but the provided monitored \n",
       "metric value is not available.\n",
       "</pre>\n"
      ],
      "text/plain": [
       "2024/06/10 03:40:57 WARNING mlflow.utils.checkpoint_utils: Checkpoint logging is skipped, because checkpoint \n",
       "'save_best_only' config is True, it requires to compare the monitored metric value, but the provided monitored \n",
       "metric value is not available.\n"
      ]
     },
     "metadata": {},
     "output_type": "display_data"
    },
    {
     "name": "stderr",
     "output_type": "stream",
     "text": [
      "Epoch 171, global step 11008: 'f1' was not in top 1\n",
      "Epoch 171, global step 11008: 'iou' was not in top 1\n"
     ]
    },
    {
     "data": {
      "text/html": [
       "<pre style=\"white-space:pre;overflow-x:auto;line-height:normal;font-family:Menlo,'DejaVu Sans Mono',consolas,'Courier New',monospace\">2024/06/10 03:41:57 WARNING mlflow.utils.checkpoint_utils: Checkpoint logging is skipped, because checkpoint \n",
       "'save_best_only' config is True, it requires to compare the monitored metric value, but the provided monitored \n",
       "metric value is not available.\n",
       "</pre>\n"
      ],
      "text/plain": [
       "2024/06/10 03:41:57 WARNING mlflow.utils.checkpoint_utils: Checkpoint logging is skipped, because checkpoint \n",
       "'save_best_only' config is True, it requires to compare the monitored metric value, but the provided monitored \n",
       "metric value is not available.\n"
      ]
     },
     "metadata": {},
     "output_type": "display_data"
    },
    {
     "name": "stderr",
     "output_type": "stream",
     "text": [
      "Epoch 172, global step 11072: 'f1' was not in top 1\n",
      "Epoch 172, global step 11072: 'iou' was not in top 1\n"
     ]
    },
    {
     "data": {
      "text/html": [
       "<pre style=\"white-space:pre;overflow-x:auto;line-height:normal;font-family:Menlo,'DejaVu Sans Mono',consolas,'Courier New',monospace\">2024/06/10 03:42:57 WARNING mlflow.utils.checkpoint_utils: Checkpoint logging is skipped, because checkpoint \n",
       "'save_best_only' config is True, it requires to compare the monitored metric value, but the provided monitored \n",
       "metric value is not available.\n",
       "</pre>\n"
      ],
      "text/plain": [
       "2024/06/10 03:42:57 WARNING mlflow.utils.checkpoint_utils: Checkpoint logging is skipped, because checkpoint \n",
       "'save_best_only' config is True, it requires to compare the monitored metric value, but the provided monitored \n",
       "metric value is not available.\n"
      ]
     },
     "metadata": {},
     "output_type": "display_data"
    },
    {
     "name": "stderr",
     "output_type": "stream",
     "text": [
      "Epoch 173, global step 11136: 'f1' was not in top 1\n",
      "Epoch 173, global step 11136: 'iou' was not in top 1\n"
     ]
    },
    {
     "data": {
      "text/html": [
       "<pre style=\"white-space:pre;overflow-x:auto;line-height:normal;font-family:Menlo,'DejaVu Sans Mono',consolas,'Courier New',monospace\">2024/06/10 03:43:57 WARNING mlflow.utils.checkpoint_utils: Checkpoint logging is skipped, because checkpoint \n",
       "'save_best_only' config is True, it requires to compare the monitored metric value, but the provided monitored \n",
       "metric value is not available.\n",
       "</pre>\n"
      ],
      "text/plain": [
       "2024/06/10 03:43:57 WARNING mlflow.utils.checkpoint_utils: Checkpoint logging is skipped, because checkpoint \n",
       "'save_best_only' config is True, it requires to compare the monitored metric value, but the provided monitored \n",
       "metric value is not available.\n"
      ]
     },
     "metadata": {},
     "output_type": "display_data"
    },
    {
     "name": "stderr",
     "output_type": "stream",
     "text": [
      "Epoch 174, global step 11200: 'f1' was not in top 1\n",
      "Epoch 174, global step 11200: 'iou' was not in top 1\n"
     ]
    },
    {
     "data": {
      "text/html": [
       "<pre style=\"white-space:pre;overflow-x:auto;line-height:normal;font-family:Menlo,'DejaVu Sans Mono',consolas,'Courier New',monospace\">2024/06/10 03:44:57 WARNING mlflow.utils.checkpoint_utils: Checkpoint logging is skipped, because checkpoint \n",
       "'save_best_only' config is True, it requires to compare the monitored metric value, but the provided monitored \n",
       "metric value is not available.\n",
       "</pre>\n"
      ],
      "text/plain": [
       "2024/06/10 03:44:57 WARNING mlflow.utils.checkpoint_utils: Checkpoint logging is skipped, because checkpoint \n",
       "'save_best_only' config is True, it requires to compare the monitored metric value, but the provided monitored \n",
       "metric value is not available.\n"
      ]
     },
     "metadata": {},
     "output_type": "display_data"
    },
    {
     "name": "stderr",
     "output_type": "stream",
     "text": [
      "Epoch 175, global step 11264: 'f1' was not in top 1\n",
      "Epoch 175, global step 11264: 'iou' was not in top 1\n"
     ]
    },
    {
     "data": {
      "text/html": [
       "<pre style=\"white-space:pre;overflow-x:auto;line-height:normal;font-family:Menlo,'DejaVu Sans Mono',consolas,'Courier New',monospace\">2024/06/10 03:45:57 WARNING mlflow.utils.checkpoint_utils: Checkpoint logging is skipped, because checkpoint \n",
       "'save_best_only' config is True, it requires to compare the monitored metric value, but the provided monitored \n",
       "metric value is not available.\n",
       "</pre>\n"
      ],
      "text/plain": [
       "2024/06/10 03:45:57 WARNING mlflow.utils.checkpoint_utils: Checkpoint logging is skipped, because checkpoint \n",
       "'save_best_only' config is True, it requires to compare the monitored metric value, but the provided monitored \n",
       "metric value is not available.\n"
      ]
     },
     "metadata": {},
     "output_type": "display_data"
    },
    {
     "name": "stderr",
     "output_type": "stream",
     "text": [
      "Epoch 176, global step 11328: 'f1' was not in top 1\n",
      "Epoch 176, global step 11328: 'iou' was not in top 1\n"
     ]
    },
    {
     "data": {
      "text/html": [
       "<pre style=\"white-space:pre;overflow-x:auto;line-height:normal;font-family:Menlo,'DejaVu Sans Mono',consolas,'Courier New',monospace\">2024/06/10 03:46:57 WARNING mlflow.utils.checkpoint_utils: Checkpoint logging is skipped, because checkpoint \n",
       "'save_best_only' config is True, it requires to compare the monitored metric value, but the provided monitored \n",
       "metric value is not available.\n",
       "</pre>\n"
      ],
      "text/plain": [
       "2024/06/10 03:46:57 WARNING mlflow.utils.checkpoint_utils: Checkpoint logging is skipped, because checkpoint \n",
       "'save_best_only' config is True, it requires to compare the monitored metric value, but the provided monitored \n",
       "metric value is not available.\n"
      ]
     },
     "metadata": {},
     "output_type": "display_data"
    },
    {
     "name": "stderr",
     "output_type": "stream",
     "text": [
      "Epoch 177, global step 11392: 'f1' was not in top 1\n",
      "Epoch 177, global step 11392: 'iou' was not in top 1\n"
     ]
    },
    {
     "data": {
      "text/html": [
       "<pre style=\"white-space:pre;overflow-x:auto;line-height:normal;font-family:Menlo,'DejaVu Sans Mono',consolas,'Courier New',monospace\">2024/06/10 03:47:57 WARNING mlflow.utils.checkpoint_utils: Checkpoint logging is skipped, because checkpoint \n",
       "'save_best_only' config is True, it requires to compare the monitored metric value, but the provided monitored \n",
       "metric value is not available.\n",
       "</pre>\n"
      ],
      "text/plain": [
       "2024/06/10 03:47:57 WARNING mlflow.utils.checkpoint_utils: Checkpoint logging is skipped, because checkpoint \n",
       "'save_best_only' config is True, it requires to compare the monitored metric value, but the provided monitored \n",
       "metric value is not available.\n"
      ]
     },
     "metadata": {},
     "output_type": "display_data"
    },
    {
     "name": "stderr",
     "output_type": "stream",
     "text": [
      "Epoch 178, global step 11456: 'f1' was not in top 1\n",
      "Epoch 178, global step 11456: 'iou' was not in top 1\n"
     ]
    },
    {
     "data": {
      "text/html": [
       "<pre style=\"white-space:pre;overflow-x:auto;line-height:normal;font-family:Menlo,'DejaVu Sans Mono',consolas,'Courier New',monospace\">2024/06/10 03:48:57 WARNING mlflow.utils.checkpoint_utils: Checkpoint logging is skipped, because checkpoint \n",
       "'save_best_only' config is True, it requires to compare the monitored metric value, but the provided monitored \n",
       "metric value is not available.\n",
       "</pre>\n"
      ],
      "text/plain": [
       "2024/06/10 03:48:57 WARNING mlflow.utils.checkpoint_utils: Checkpoint logging is skipped, because checkpoint \n",
       "'save_best_only' config is True, it requires to compare the monitored metric value, but the provided monitored \n",
       "metric value is not available.\n"
      ]
     },
     "metadata": {},
     "output_type": "display_data"
    },
    {
     "name": "stderr",
     "output_type": "stream",
     "text": [
      "Epoch 179, global step 11520: 'f1' reached 0.48992 (best 0.48992), saving model to './mlruns/126730738902562300/598a0c52f5a34d9e9e1956c73f94acd8/checkpoints/f1_epoch=179f1=0.48992iou=0.23294loss=0.11472.ckpt' as top 1\n",
      "Epoch 179, global step 11520: 'iou' was not in top 1\n"
     ]
    },
    {
     "data": {
      "text/html": [
       "<pre style=\"white-space:pre;overflow-x:auto;line-height:normal;font-family:Menlo,'DejaVu Sans Mono',consolas,'Courier New',monospace\">2024/06/10 03:50:00 WARNING mlflow.utils.checkpoint_utils: Checkpoint logging is skipped, because checkpoint \n",
       "'save_best_only' config is True, it requires to compare the monitored metric value, but the provided monitored \n",
       "metric value is not available.\n",
       "</pre>\n"
      ],
      "text/plain": [
       "2024/06/10 03:50:00 WARNING mlflow.utils.checkpoint_utils: Checkpoint logging is skipped, because checkpoint \n",
       "'save_best_only' config is True, it requires to compare the monitored metric value, but the provided monitored \n",
       "metric value is not available.\n"
      ]
     },
     "metadata": {},
     "output_type": "display_data"
    },
    {
     "name": "stderr",
     "output_type": "stream",
     "text": [
      "Epoch 180, global step 11584: 'f1' was not in top 1\n",
      "Epoch 180, global step 11584: 'iou' was not in top 1\n"
     ]
    },
    {
     "data": {
      "text/html": [
       "<pre style=\"white-space:pre;overflow-x:auto;line-height:normal;font-family:Menlo,'DejaVu Sans Mono',consolas,'Courier New',monospace\">2024/06/10 03:51:00 WARNING mlflow.utils.checkpoint_utils: Checkpoint logging is skipped, because checkpoint \n",
       "'save_best_only' config is True, it requires to compare the monitored metric value, but the provided monitored \n",
       "metric value is not available.\n",
       "</pre>\n"
      ],
      "text/plain": [
       "2024/06/10 03:51:00 WARNING mlflow.utils.checkpoint_utils: Checkpoint logging is skipped, because checkpoint \n",
       "'save_best_only' config is True, it requires to compare the monitored metric value, but the provided monitored \n",
       "metric value is not available.\n"
      ]
     },
     "metadata": {},
     "output_type": "display_data"
    },
    {
     "name": "stderr",
     "output_type": "stream",
     "text": [
      "Epoch 181, global step 11648: 'f1' was not in top 1\n",
      "Epoch 181, global step 11648: 'iou' was not in top 1\n"
     ]
    },
    {
     "data": {
      "text/html": [
       "<pre style=\"white-space:pre;overflow-x:auto;line-height:normal;font-family:Menlo,'DejaVu Sans Mono',consolas,'Courier New',monospace\">2024/06/10 03:52:00 WARNING mlflow.utils.checkpoint_utils: Checkpoint logging is skipped, because checkpoint \n",
       "'save_best_only' config is True, it requires to compare the monitored metric value, but the provided monitored \n",
       "metric value is not available.\n",
       "</pre>\n"
      ],
      "text/plain": [
       "2024/06/10 03:52:00 WARNING mlflow.utils.checkpoint_utils: Checkpoint logging is skipped, because checkpoint \n",
       "'save_best_only' config is True, it requires to compare the monitored metric value, but the provided monitored \n",
       "metric value is not available.\n"
      ]
     },
     "metadata": {},
     "output_type": "display_data"
    },
    {
     "name": "stderr",
     "output_type": "stream",
     "text": [
      "Epoch 182, global step 11712: 'f1' reached 0.49688 (best 0.49688), saving model to './mlruns/126730738902562300/598a0c52f5a34d9e9e1956c73f94acd8/checkpoints/f1_epoch=182f1=0.49688iou=0.23333loss=0.19656.ckpt' as top 1\n",
      "Epoch 182, global step 11712: 'iou' was not in top 1\n"
     ]
    },
    {
     "data": {
      "text/html": [
       "<pre style=\"white-space:pre;overflow-x:auto;line-height:normal;font-family:Menlo,'DejaVu Sans Mono',consolas,'Courier New',monospace\">2024/06/10 03:53:04 WARNING mlflow.utils.checkpoint_utils: Checkpoint logging is skipped, because checkpoint \n",
       "'save_best_only' config is True, it requires to compare the monitored metric value, but the provided monitored \n",
       "metric value is not available.\n",
       "</pre>\n"
      ],
      "text/plain": [
       "2024/06/10 03:53:04 WARNING mlflow.utils.checkpoint_utils: Checkpoint logging is skipped, because checkpoint \n",
       "'save_best_only' config is True, it requires to compare the monitored metric value, but the provided monitored \n",
       "metric value is not available.\n"
      ]
     },
     "metadata": {},
     "output_type": "display_data"
    },
    {
     "name": "stderr",
     "output_type": "stream",
     "text": [
      "Epoch 183, global step 11776: 'f1' was not in top 1\n",
      "Epoch 183, global step 11776: 'iou' was not in top 1\n"
     ]
    },
    {
     "data": {
      "text/html": [
       "<pre style=\"white-space:pre;overflow-x:auto;line-height:normal;font-family:Menlo,'DejaVu Sans Mono',consolas,'Courier New',monospace\">2024/06/10 03:54:04 WARNING mlflow.utils.checkpoint_utils: Checkpoint logging is skipped, because checkpoint \n",
       "'save_best_only' config is True, it requires to compare the monitored metric value, but the provided monitored \n",
       "metric value is not available.\n",
       "</pre>\n"
      ],
      "text/plain": [
       "2024/06/10 03:54:04 WARNING mlflow.utils.checkpoint_utils: Checkpoint logging is skipped, because checkpoint \n",
       "'save_best_only' config is True, it requires to compare the monitored metric value, but the provided monitored \n",
       "metric value is not available.\n"
      ]
     },
     "metadata": {},
     "output_type": "display_data"
    },
    {
     "name": "stderr",
     "output_type": "stream",
     "text": [
      "Epoch 184, global step 11840: 'f1' was not in top 1\n",
      "Epoch 184, global step 11840: 'iou' was not in top 1\n"
     ]
    },
    {
     "data": {
      "text/html": [
       "<pre style=\"white-space:pre;overflow-x:auto;line-height:normal;font-family:Menlo,'DejaVu Sans Mono',consolas,'Courier New',monospace\">2024/06/10 03:55:04 WARNING mlflow.utils.checkpoint_utils: Checkpoint logging is skipped, because checkpoint \n",
       "'save_best_only' config is True, it requires to compare the monitored metric value, but the provided monitored \n",
       "metric value is not available.\n",
       "</pre>\n"
      ],
      "text/plain": [
       "2024/06/10 03:55:04 WARNING mlflow.utils.checkpoint_utils: Checkpoint logging is skipped, because checkpoint \n",
       "'save_best_only' config is True, it requires to compare the monitored metric value, but the provided monitored \n",
       "metric value is not available.\n"
      ]
     },
     "metadata": {},
     "output_type": "display_data"
    },
    {
     "name": "stderr",
     "output_type": "stream",
     "text": [
      "Epoch 185, global step 11904: 'f1' was not in top 1\n",
      "Epoch 185, global step 11904: 'iou' was not in top 1\n"
     ]
    },
    {
     "data": {
      "text/html": [
       "<pre style=\"white-space:pre;overflow-x:auto;line-height:normal;font-family:Menlo,'DejaVu Sans Mono',consolas,'Courier New',monospace\">2024/06/10 03:56:04 WARNING mlflow.utils.checkpoint_utils: Checkpoint logging is skipped, because checkpoint \n",
       "'save_best_only' config is True, it requires to compare the monitored metric value, but the provided monitored \n",
       "metric value is not available.\n",
       "</pre>\n"
      ],
      "text/plain": [
       "2024/06/10 03:56:04 WARNING mlflow.utils.checkpoint_utils: Checkpoint logging is skipped, because checkpoint \n",
       "'save_best_only' config is True, it requires to compare the monitored metric value, but the provided monitored \n",
       "metric value is not available.\n"
      ]
     },
     "metadata": {},
     "output_type": "display_data"
    },
    {
     "name": "stderr",
     "output_type": "stream",
     "text": [
      "Epoch 186, global step 11968: 'f1' was not in top 1\n",
      "Epoch 186, global step 11968: 'iou' was not in top 1\n"
     ]
    },
    {
     "data": {
      "text/html": [
       "<pre style=\"white-space:pre;overflow-x:auto;line-height:normal;font-family:Menlo,'DejaVu Sans Mono',consolas,'Courier New',monospace\">2024/06/10 03:57:04 WARNING mlflow.utils.checkpoint_utils: Checkpoint logging is skipped, because checkpoint \n",
       "'save_best_only' config is True, it requires to compare the monitored metric value, but the provided monitored \n",
       "metric value is not available.\n",
       "</pre>\n"
      ],
      "text/plain": [
       "2024/06/10 03:57:04 WARNING mlflow.utils.checkpoint_utils: Checkpoint logging is skipped, because checkpoint \n",
       "'save_best_only' config is True, it requires to compare the monitored metric value, but the provided monitored \n",
       "metric value is not available.\n"
      ]
     },
     "metadata": {},
     "output_type": "display_data"
    },
    {
     "name": "stderr",
     "output_type": "stream",
     "text": [
      "Epoch 187, global step 12032: 'f1' was not in top 1\n",
      "Epoch 187, global step 12032: 'iou' was not in top 1\n"
     ]
    },
    {
     "data": {
      "text/html": [
       "<pre style=\"white-space:pre;overflow-x:auto;line-height:normal;font-family:Menlo,'DejaVu Sans Mono',consolas,'Courier New',monospace\">2024/06/10 03:58:04 WARNING mlflow.utils.checkpoint_utils: Checkpoint logging is skipped, because checkpoint \n",
       "'save_best_only' config is True, it requires to compare the monitored metric value, but the provided monitored \n",
       "metric value is not available.\n",
       "</pre>\n"
      ],
      "text/plain": [
       "2024/06/10 03:58:04 WARNING mlflow.utils.checkpoint_utils: Checkpoint logging is skipped, because checkpoint \n",
       "'save_best_only' config is True, it requires to compare the monitored metric value, but the provided monitored \n",
       "metric value is not available.\n"
      ]
     },
     "metadata": {},
     "output_type": "display_data"
    },
    {
     "name": "stderr",
     "output_type": "stream",
     "text": [
      "Epoch 188, global step 12096: 'f1' was not in top 1\n",
      "Epoch 188, global step 12096: 'iou' was not in top 1\n"
     ]
    },
    {
     "data": {
      "text/html": [
       "<pre style=\"white-space:pre;overflow-x:auto;line-height:normal;font-family:Menlo,'DejaVu Sans Mono',consolas,'Courier New',monospace\">2024/06/10 03:59:04 WARNING mlflow.utils.checkpoint_utils: Checkpoint logging is skipped, because checkpoint \n",
       "'save_best_only' config is True, it requires to compare the monitored metric value, but the provided monitored \n",
       "metric value is not available.\n",
       "</pre>\n"
      ],
      "text/plain": [
       "2024/06/10 03:59:04 WARNING mlflow.utils.checkpoint_utils: Checkpoint logging is skipped, because checkpoint \n",
       "'save_best_only' config is True, it requires to compare the monitored metric value, but the provided monitored \n",
       "metric value is not available.\n"
      ]
     },
     "metadata": {},
     "output_type": "display_data"
    },
    {
     "name": "stderr",
     "output_type": "stream",
     "text": [
      "Epoch 189, global step 12160: 'f1' was not in top 1\n",
      "Epoch 189, global step 12160: 'iou' was not in top 1\n"
     ]
    },
    {
     "data": {
      "text/html": [
       "<pre style=\"white-space:pre;overflow-x:auto;line-height:normal;font-family:Menlo,'DejaVu Sans Mono',consolas,'Courier New',monospace\">2024/06/10 04:00:04 WARNING mlflow.utils.checkpoint_utils: Checkpoint logging is skipped, because checkpoint \n",
       "'save_best_only' config is True, it requires to compare the monitored metric value, but the provided monitored \n",
       "metric value is not available.\n",
       "</pre>\n"
      ],
      "text/plain": [
       "2024/06/10 04:00:04 WARNING mlflow.utils.checkpoint_utils: Checkpoint logging is skipped, because checkpoint \n",
       "'save_best_only' config is True, it requires to compare the monitored metric value, but the provided monitored \n",
       "metric value is not available.\n"
      ]
     },
     "metadata": {},
     "output_type": "display_data"
    },
    {
     "name": "stderr",
     "output_type": "stream",
     "text": [
      "Epoch 190, global step 12224: 'f1' was not in top 1\n",
      "Epoch 190, global step 12224: 'iou' was not in top 1\n"
     ]
    },
    {
     "data": {
      "text/html": [
       "<pre style=\"white-space:pre;overflow-x:auto;line-height:normal;font-family:Menlo,'DejaVu Sans Mono',consolas,'Courier New',monospace\">2024/06/10 04:01:04 WARNING mlflow.utils.checkpoint_utils: Checkpoint logging is skipped, because checkpoint \n",
       "'save_best_only' config is True, it requires to compare the monitored metric value, but the provided monitored \n",
       "metric value is not available.\n",
       "</pre>\n"
      ],
      "text/plain": [
       "2024/06/10 04:01:04 WARNING mlflow.utils.checkpoint_utils: Checkpoint logging is skipped, because checkpoint \n",
       "'save_best_only' config is True, it requires to compare the monitored metric value, but the provided monitored \n",
       "metric value is not available.\n"
      ]
     },
     "metadata": {},
     "output_type": "display_data"
    },
    {
     "name": "stderr",
     "output_type": "stream",
     "text": [
      "Epoch 191, global step 12288: 'f1' was not in top 1\n",
      "Epoch 191, global step 12288: 'iou' was not in top 1\n"
     ]
    },
    {
     "data": {
      "text/html": [
       "<pre style=\"white-space:pre;overflow-x:auto;line-height:normal;font-family:Menlo,'DejaVu Sans Mono',consolas,'Courier New',monospace\">2024/06/10 04:02:04 WARNING mlflow.utils.checkpoint_utils: Checkpoint logging is skipped, because checkpoint \n",
       "'save_best_only' config is True, it requires to compare the monitored metric value, but the provided monitored \n",
       "metric value is not available.\n",
       "</pre>\n"
      ],
      "text/plain": [
       "2024/06/10 04:02:04 WARNING mlflow.utils.checkpoint_utils: Checkpoint logging is skipped, because checkpoint \n",
       "'save_best_only' config is True, it requires to compare the monitored metric value, but the provided monitored \n",
       "metric value is not available.\n"
      ]
     },
     "metadata": {},
     "output_type": "display_data"
    },
    {
     "name": "stderr",
     "output_type": "stream",
     "text": [
      "Epoch 192, global step 12352: 'f1' was not in top 1\n",
      "Epoch 192, global step 12352: 'iou' was not in top 1\n"
     ]
    },
    {
     "data": {
      "text/html": [
       "<pre style=\"white-space:pre;overflow-x:auto;line-height:normal;font-family:Menlo,'DejaVu Sans Mono',consolas,'Courier New',monospace\">2024/06/10 04:03:04 WARNING mlflow.utils.checkpoint_utils: Checkpoint logging is skipped, because checkpoint \n",
       "'save_best_only' config is True, it requires to compare the monitored metric value, but the provided monitored \n",
       "metric value is not available.\n",
       "</pre>\n"
      ],
      "text/plain": [
       "2024/06/10 04:03:04 WARNING mlflow.utils.checkpoint_utils: Checkpoint logging is skipped, because checkpoint \n",
       "'save_best_only' config is True, it requires to compare the monitored metric value, but the provided monitored \n",
       "metric value is not available.\n"
      ]
     },
     "metadata": {},
     "output_type": "display_data"
    },
    {
     "name": "stderr",
     "output_type": "stream",
     "text": [
      "Epoch 193, global step 12416: 'f1' was not in top 1\n",
      "Epoch 193, global step 12416: 'iou' was not in top 1\n"
     ]
    },
    {
     "data": {
      "text/html": [
       "<pre style=\"white-space:pre;overflow-x:auto;line-height:normal;font-family:Menlo,'DejaVu Sans Mono',consolas,'Courier New',monospace\">2024/06/10 04:04:03 WARNING mlflow.utils.checkpoint_utils: Checkpoint logging is skipped, because checkpoint \n",
       "'save_best_only' config is True, it requires to compare the monitored metric value, but the provided monitored \n",
       "metric value is not available.\n",
       "</pre>\n"
      ],
      "text/plain": [
       "2024/06/10 04:04:03 WARNING mlflow.utils.checkpoint_utils: Checkpoint logging is skipped, because checkpoint \n",
       "'save_best_only' config is True, it requires to compare the monitored metric value, but the provided monitored \n",
       "metric value is not available.\n"
      ]
     },
     "metadata": {},
     "output_type": "display_data"
    },
    {
     "name": "stderr",
     "output_type": "stream",
     "text": [
      "Epoch 194, global step 12480: 'f1' was not in top 1\n",
      "Epoch 194, global step 12480: 'iou' was not in top 1\n"
     ]
    },
    {
     "data": {
      "text/html": [
       "<pre style=\"white-space:pre;overflow-x:auto;line-height:normal;font-family:Menlo,'DejaVu Sans Mono',consolas,'Courier New',monospace\">2024/06/10 04:05:03 WARNING mlflow.utils.checkpoint_utils: Checkpoint logging is skipped, because checkpoint \n",
       "'save_best_only' config is True, it requires to compare the monitored metric value, but the provided monitored \n",
       "metric value is not available.\n",
       "</pre>\n"
      ],
      "text/plain": [
       "2024/06/10 04:05:03 WARNING mlflow.utils.checkpoint_utils: Checkpoint logging is skipped, because checkpoint \n",
       "'save_best_only' config is True, it requires to compare the monitored metric value, but the provided monitored \n",
       "metric value is not available.\n"
      ]
     },
     "metadata": {},
     "output_type": "display_data"
    },
    {
     "name": "stderr",
     "output_type": "stream",
     "text": [
      "Epoch 195, global step 12544: 'f1' was not in top 1\n",
      "Epoch 195, global step 12544: 'iou' reached 0.23561 (best 0.23561), saving model to './mlruns/126730738902562300/598a0c52f5a34d9e9e1956c73f94acd8/checkpoints/iou_epoch=195f1=0.48952iou=0.23561loss=0.22604.ckpt' as top 1\n"
     ]
    },
    {
     "data": {
      "text/html": [
       "<pre style=\"white-space:pre;overflow-x:auto;line-height:normal;font-family:Menlo,'DejaVu Sans Mono',consolas,'Courier New',monospace\">2024/06/10 04:06:08 WARNING mlflow.utils.checkpoint_utils: Checkpoint logging is skipped, because checkpoint \n",
       "'save_best_only' config is True, it requires to compare the monitored metric value, but the provided monitored \n",
       "metric value is not available.\n",
       "</pre>\n"
      ],
      "text/plain": [
       "2024/06/10 04:06:08 WARNING mlflow.utils.checkpoint_utils: Checkpoint logging is skipped, because checkpoint \n",
       "'save_best_only' config is True, it requires to compare the monitored metric value, but the provided monitored \n",
       "metric value is not available.\n"
      ]
     },
     "metadata": {},
     "output_type": "display_data"
    },
    {
     "name": "stderr",
     "output_type": "stream",
     "text": [
      "Epoch 196, global step 12608: 'f1' was not in top 1\n",
      "Epoch 196, global step 12608: 'iou' reached 0.23716 (best 0.23716), saving model to './mlruns/126730738902562300/598a0c52f5a34d9e9e1956c73f94acd8/checkpoints/iou_epoch=196f1=0.49151iou=0.23716loss=0.13911.ckpt' as top 1\n"
     ]
    },
    {
     "data": {
      "text/html": [
       "<pre style=\"white-space:pre;overflow-x:auto;line-height:normal;font-family:Menlo,'DejaVu Sans Mono',consolas,'Courier New',monospace\">2024/06/10 04:07:11 WARNING mlflow.utils.checkpoint_utils: Checkpoint logging is skipped, because checkpoint \n",
       "'save_best_only' config is True, it requires to compare the monitored metric value, but the provided monitored \n",
       "metric value is not available.\n",
       "</pre>\n"
      ],
      "text/plain": [
       "2024/06/10 04:07:11 WARNING mlflow.utils.checkpoint_utils: Checkpoint logging is skipped, because checkpoint \n",
       "'save_best_only' config is True, it requires to compare the monitored metric value, but the provided monitored \n",
       "metric value is not available.\n"
      ]
     },
     "metadata": {},
     "output_type": "display_data"
    },
    {
     "name": "stderr",
     "output_type": "stream",
     "text": [
      "Epoch 197, global step 12672: 'f1' was not in top 1\n",
      "Epoch 197, global step 12672: 'iou' was not in top 1\n"
     ]
    },
    {
     "data": {
      "text/html": [
       "<pre style=\"white-space:pre;overflow-x:auto;line-height:normal;font-family:Menlo,'DejaVu Sans Mono',consolas,'Courier New',monospace\">2024/06/10 04:08:12 WARNING mlflow.utils.checkpoint_utils: Checkpoint logging is skipped, because checkpoint \n",
       "'save_best_only' config is True, it requires to compare the monitored metric value, but the provided monitored \n",
       "metric value is not available.\n",
       "</pre>\n"
      ],
      "text/plain": [
       "2024/06/10 04:08:12 WARNING mlflow.utils.checkpoint_utils: Checkpoint logging is skipped, because checkpoint \n",
       "'save_best_only' config is True, it requires to compare the monitored metric value, but the provided monitored \n",
       "metric value is not available.\n"
      ]
     },
     "metadata": {},
     "output_type": "display_data"
    },
    {
     "name": "stderr",
     "output_type": "stream",
     "text": [
      "Epoch 198, global step 12736: 'f1' reached 0.49876 (best 0.49876), saving model to './mlruns/126730738902562300/598a0c52f5a34d9e9e1956c73f94acd8/checkpoints/f1_epoch=198f1=0.49876iou=0.23513loss=0.08722.ckpt' as top 1\n",
      "Epoch 198, global step 12736: 'iou' was not in top 1\n"
     ]
    },
    {
     "data": {
      "text/html": [
       "<pre style=\"white-space:pre;overflow-x:auto;line-height:normal;font-family:Menlo,'DejaVu Sans Mono',consolas,'Courier New',monospace\">2024/06/10 04:09:15 WARNING mlflow.utils.checkpoint_utils: Checkpoint logging is skipped, because checkpoint \n",
       "'save_best_only' config is True, it requires to compare the monitored metric value, but the provided monitored \n",
       "metric value is not available.\n",
       "</pre>\n"
      ],
      "text/plain": [
       "2024/06/10 04:09:15 WARNING mlflow.utils.checkpoint_utils: Checkpoint logging is skipped, because checkpoint \n",
       "'save_best_only' config is True, it requires to compare the monitored metric value, but the provided monitored \n",
       "metric value is not available.\n"
      ]
     },
     "metadata": {},
     "output_type": "display_data"
    },
    {
     "name": "stderr",
     "output_type": "stream",
     "text": [
      "Epoch 199, global step 12800: 'f1' was not in top 1\n",
      "Epoch 199, global step 12800: 'iou' was not in top 1\n"
     ]
    },
    {
     "data": {
      "text/html": [
       "<pre style=\"white-space:pre;overflow-x:auto;line-height:normal;font-family:Menlo,'DejaVu Sans Mono',consolas,'Courier New',monospace\">2024/06/10 04:10:15 WARNING mlflow.utils.checkpoint_utils: Checkpoint logging is skipped, because checkpoint \n",
       "'save_best_only' config is True, it requires to compare the monitored metric value, but the provided monitored \n",
       "metric value is not available.\n",
       "</pre>\n"
      ],
      "text/plain": [
       "2024/06/10 04:10:15 WARNING mlflow.utils.checkpoint_utils: Checkpoint logging is skipped, because checkpoint \n",
       "'save_best_only' config is True, it requires to compare the monitored metric value, but the provided monitored \n",
       "metric value is not available.\n"
      ]
     },
     "metadata": {},
     "output_type": "display_data"
    },
    {
     "name": "stderr",
     "output_type": "stream",
     "text": [
      "Epoch 200, global step 12864: 'f1' was not in top 1\n",
      "Epoch 200, global step 12864: 'iou' reached 0.23742 (best 0.23742), saving model to './mlruns/126730738902562300/598a0c52f5a34d9e9e1956c73f94acd8/checkpoints/iou_epoch=200f1=0.49702iou=0.23742loss=0.09396.ckpt' as top 1\n"
     ]
    },
    {
     "data": {
      "text/html": [
       "<pre style=\"white-space:pre;overflow-x:auto;line-height:normal;font-family:Menlo,'DejaVu Sans Mono',consolas,'Courier New',monospace\">2024/06/10 04:11:18 WARNING mlflow.utils.checkpoint_utils: Checkpoint logging is skipped, because checkpoint \n",
       "'save_best_only' config is True, it requires to compare the monitored metric value, but the provided monitored \n",
       "metric value is not available.\n",
       "</pre>\n"
      ],
      "text/plain": [
       "2024/06/10 04:11:18 WARNING mlflow.utils.checkpoint_utils: Checkpoint logging is skipped, because checkpoint \n",
       "'save_best_only' config is True, it requires to compare the monitored metric value, but the provided monitored \n",
       "metric value is not available.\n"
      ]
     },
     "metadata": {},
     "output_type": "display_data"
    },
    {
     "name": "stderr",
     "output_type": "stream",
     "text": [
      "Epoch 201, global step 12928: 'f1' was not in top 1\n",
      "Epoch 201, global step 12928: 'iou' was not in top 1\n"
     ]
    },
    {
     "data": {
      "text/html": [
       "<pre style=\"white-space:pre;overflow-x:auto;line-height:normal;font-family:Menlo,'DejaVu Sans Mono',consolas,'Courier New',monospace\">2024/06/10 04:12:18 WARNING mlflow.utils.checkpoint_utils: Checkpoint logging is skipped, because checkpoint \n",
       "'save_best_only' config is True, it requires to compare the monitored metric value, but the provided monitored \n",
       "metric value is not available.\n",
       "</pre>\n"
      ],
      "text/plain": [
       "2024/06/10 04:12:18 WARNING mlflow.utils.checkpoint_utils: Checkpoint logging is skipped, because checkpoint \n",
       "'save_best_only' config is True, it requires to compare the monitored metric value, but the provided monitored \n",
       "metric value is not available.\n"
      ]
     },
     "metadata": {},
     "output_type": "display_data"
    },
    {
     "name": "stderr",
     "output_type": "stream",
     "text": [
      "Epoch 202, global step 12992: 'f1' was not in top 1\n",
      "Epoch 202, global step 12992: 'iou' was not in top 1\n"
     ]
    },
    {
     "data": {
      "text/html": [
       "<pre style=\"white-space:pre;overflow-x:auto;line-height:normal;font-family:Menlo,'DejaVu Sans Mono',consolas,'Courier New',monospace\">2024/06/10 04:13:18 WARNING mlflow.utils.checkpoint_utils: Checkpoint logging is skipped, because checkpoint \n",
       "'save_best_only' config is True, it requires to compare the monitored metric value, but the provided monitored \n",
       "metric value is not available.\n",
       "</pre>\n"
      ],
      "text/plain": [
       "2024/06/10 04:13:18 WARNING mlflow.utils.checkpoint_utils: Checkpoint logging is skipped, because checkpoint \n",
       "'save_best_only' config is True, it requires to compare the monitored metric value, but the provided monitored \n",
       "metric value is not available.\n"
      ]
     },
     "metadata": {},
     "output_type": "display_data"
    },
    {
     "name": "stderr",
     "output_type": "stream",
     "text": [
      "Epoch 203, global step 13056: 'f1' was not in top 1\n",
      "Epoch 203, global step 13056: 'iou' was not in top 1\n"
     ]
    },
    {
     "data": {
      "text/html": [
       "<pre style=\"white-space:pre;overflow-x:auto;line-height:normal;font-family:Menlo,'DejaVu Sans Mono',consolas,'Courier New',monospace\">2024/06/10 04:14:18 WARNING mlflow.utils.checkpoint_utils: Checkpoint logging is skipped, because checkpoint \n",
       "'save_best_only' config is True, it requires to compare the monitored metric value, but the provided monitored \n",
       "metric value is not available.\n",
       "</pre>\n"
      ],
      "text/plain": [
       "2024/06/10 04:14:18 WARNING mlflow.utils.checkpoint_utils: Checkpoint logging is skipped, because checkpoint \n",
       "'save_best_only' config is True, it requires to compare the monitored metric value, but the provided monitored \n",
       "metric value is not available.\n"
      ]
     },
     "metadata": {},
     "output_type": "display_data"
    },
    {
     "name": "stderr",
     "output_type": "stream",
     "text": [
      "Epoch 204, global step 13120: 'f1' was not in top 1\n",
      "Epoch 204, global step 13120: 'iou' was not in top 1\n"
     ]
    },
    {
     "data": {
      "text/html": [
       "<pre style=\"white-space:pre;overflow-x:auto;line-height:normal;font-family:Menlo,'DejaVu Sans Mono',consolas,'Courier New',monospace\">2024/06/10 04:15:18 WARNING mlflow.utils.checkpoint_utils: Checkpoint logging is skipped, because checkpoint \n",
       "'save_best_only' config is True, it requires to compare the monitored metric value, but the provided monitored \n",
       "metric value is not available.\n",
       "</pre>\n"
      ],
      "text/plain": [
       "2024/06/10 04:15:18 WARNING mlflow.utils.checkpoint_utils: Checkpoint logging is skipped, because checkpoint \n",
       "'save_best_only' config is True, it requires to compare the monitored metric value, but the provided monitored \n",
       "metric value is not available.\n"
      ]
     },
     "metadata": {},
     "output_type": "display_data"
    },
    {
     "name": "stderr",
     "output_type": "stream",
     "text": [
      "Epoch 205, global step 13184: 'f1' was not in top 1\n",
      "Epoch 205, global step 13184: 'iou' was not in top 1\n"
     ]
    },
    {
     "data": {
      "text/html": [
       "<pre style=\"white-space:pre;overflow-x:auto;line-height:normal;font-family:Menlo,'DejaVu Sans Mono',consolas,'Courier New',monospace\">2024/06/10 04:16:18 WARNING mlflow.utils.checkpoint_utils: Checkpoint logging is skipped, because checkpoint \n",
       "'save_best_only' config is True, it requires to compare the monitored metric value, but the provided monitored \n",
       "metric value is not available.\n",
       "</pre>\n"
      ],
      "text/plain": [
       "2024/06/10 04:16:18 WARNING mlflow.utils.checkpoint_utils: Checkpoint logging is skipped, because checkpoint \n",
       "'save_best_only' config is True, it requires to compare the monitored metric value, but the provided monitored \n",
       "metric value is not available.\n"
      ]
     },
     "metadata": {},
     "output_type": "display_data"
    },
    {
     "name": "stderr",
     "output_type": "stream",
     "text": [
      "Epoch 206, global step 13248: 'f1' was not in top 1\n",
      "Epoch 206, global step 13248: 'iou' was not in top 1\n"
     ]
    },
    {
     "data": {
      "text/html": [
       "<pre style=\"white-space:pre;overflow-x:auto;line-height:normal;font-family:Menlo,'DejaVu Sans Mono',consolas,'Courier New',monospace\">2024/06/10 04:17:18 WARNING mlflow.utils.checkpoint_utils: Checkpoint logging is skipped, because checkpoint \n",
       "'save_best_only' config is True, it requires to compare the monitored metric value, but the provided monitored \n",
       "metric value is not available.\n",
       "</pre>\n"
      ],
      "text/plain": [
       "2024/06/10 04:17:18 WARNING mlflow.utils.checkpoint_utils: Checkpoint logging is skipped, because checkpoint \n",
       "'save_best_only' config is True, it requires to compare the monitored metric value, but the provided monitored \n",
       "metric value is not available.\n"
      ]
     },
     "metadata": {},
     "output_type": "display_data"
    },
    {
     "name": "stderr",
     "output_type": "stream",
     "text": [
      "Epoch 207, global step 13312: 'f1' was not in top 1\n",
      "Epoch 207, global step 13312: 'iou' was not in top 1\n"
     ]
    },
    {
     "data": {
      "text/html": [
       "<pre style=\"white-space:pre;overflow-x:auto;line-height:normal;font-family:Menlo,'DejaVu Sans Mono',consolas,'Courier New',monospace\">2024/06/10 04:18:18 WARNING mlflow.utils.checkpoint_utils: Checkpoint logging is skipped, because checkpoint \n",
       "'save_best_only' config is True, it requires to compare the monitored metric value, but the provided monitored \n",
       "metric value is not available.\n",
       "</pre>\n"
      ],
      "text/plain": [
       "2024/06/10 04:18:18 WARNING mlflow.utils.checkpoint_utils: Checkpoint logging is skipped, because checkpoint \n",
       "'save_best_only' config is True, it requires to compare the monitored metric value, but the provided monitored \n",
       "metric value is not available.\n"
      ]
     },
     "metadata": {},
     "output_type": "display_data"
    },
    {
     "name": "stderr",
     "output_type": "stream",
     "text": [
      "Epoch 208, global step 13376: 'f1' was not in top 1\n",
      "Epoch 208, global step 13376: 'iou' was not in top 1\n"
     ]
    },
    {
     "data": {
      "text/html": [
       "<pre style=\"white-space:pre;overflow-x:auto;line-height:normal;font-family:Menlo,'DejaVu Sans Mono',consolas,'Courier New',monospace\">2024/06/10 04:19:18 WARNING mlflow.utils.checkpoint_utils: Checkpoint logging is skipped, because checkpoint \n",
       "'save_best_only' config is True, it requires to compare the monitored metric value, but the provided monitored \n",
       "metric value is not available.\n",
       "</pre>\n"
      ],
      "text/plain": [
       "2024/06/10 04:19:18 WARNING mlflow.utils.checkpoint_utils: Checkpoint logging is skipped, because checkpoint \n",
       "'save_best_only' config is True, it requires to compare the monitored metric value, but the provided monitored \n",
       "metric value is not available.\n"
      ]
     },
     "metadata": {},
     "output_type": "display_data"
    },
    {
     "name": "stderr",
     "output_type": "stream",
     "text": [
      "Epoch 209, global step 13440: 'f1' was not in top 1\n",
      "Epoch 209, global step 13440: 'iou' was not in top 1\n"
     ]
    },
    {
     "data": {
      "text/html": [
       "<pre style=\"white-space:pre;overflow-x:auto;line-height:normal;font-family:Menlo,'DejaVu Sans Mono',consolas,'Courier New',monospace\">2024/06/10 04:20:18 WARNING mlflow.utils.checkpoint_utils: Checkpoint logging is skipped, because checkpoint \n",
       "'save_best_only' config is True, it requires to compare the monitored metric value, but the provided monitored \n",
       "metric value is not available.\n",
       "</pre>\n"
      ],
      "text/plain": [
       "2024/06/10 04:20:18 WARNING mlflow.utils.checkpoint_utils: Checkpoint logging is skipped, because checkpoint \n",
       "'save_best_only' config is True, it requires to compare the monitored metric value, but the provided monitored \n",
       "metric value is not available.\n"
      ]
     },
     "metadata": {},
     "output_type": "display_data"
    },
    {
     "name": "stderr",
     "output_type": "stream",
     "text": [
      "Epoch 210, global step 13504: 'f1' was not in top 1\n",
      "Epoch 210, global step 13504: 'iou' was not in top 1\n"
     ]
    },
    {
     "data": {
      "text/html": [
       "<pre style=\"white-space:pre;overflow-x:auto;line-height:normal;font-family:Menlo,'DejaVu Sans Mono',consolas,'Courier New',monospace\">2024/06/10 04:21:18 WARNING mlflow.utils.checkpoint_utils: Checkpoint logging is skipped, because checkpoint \n",
       "'save_best_only' config is True, it requires to compare the monitored metric value, but the provided monitored \n",
       "metric value is not available.\n",
       "</pre>\n"
      ],
      "text/plain": [
       "2024/06/10 04:21:18 WARNING mlflow.utils.checkpoint_utils: Checkpoint logging is skipped, because checkpoint \n",
       "'save_best_only' config is True, it requires to compare the monitored metric value, but the provided monitored \n",
       "metric value is not available.\n"
      ]
     },
     "metadata": {},
     "output_type": "display_data"
    },
    {
     "name": "stderr",
     "output_type": "stream",
     "text": [
      "Epoch 211, global step 13568: 'f1' was not in top 1\n",
      "Epoch 211, global step 13568: 'iou' was not in top 1\n"
     ]
    },
    {
     "data": {
      "text/html": [
       "<pre style=\"white-space:pre;overflow-x:auto;line-height:normal;font-family:Menlo,'DejaVu Sans Mono',consolas,'Courier New',monospace\">2024/06/10 04:22:18 WARNING mlflow.utils.checkpoint_utils: Checkpoint logging is skipped, because checkpoint \n",
       "'save_best_only' config is True, it requires to compare the monitored metric value, but the provided monitored \n",
       "metric value is not available.\n",
       "</pre>\n"
      ],
      "text/plain": [
       "2024/06/10 04:22:18 WARNING mlflow.utils.checkpoint_utils: Checkpoint logging is skipped, because checkpoint \n",
       "'save_best_only' config is True, it requires to compare the monitored metric value, but the provided monitored \n",
       "metric value is not available.\n"
      ]
     },
     "metadata": {},
     "output_type": "display_data"
    },
    {
     "name": "stderr",
     "output_type": "stream",
     "text": [
      "Epoch 212, global step 13632: 'f1' was not in top 1\n",
      "Epoch 212, global step 13632: 'iou' was not in top 1\n"
     ]
    },
    {
     "data": {
      "text/html": [
       "<pre style=\"white-space:pre;overflow-x:auto;line-height:normal;font-family:Menlo,'DejaVu Sans Mono',consolas,'Courier New',monospace\">2024/06/10 04:23:18 WARNING mlflow.utils.checkpoint_utils: Checkpoint logging is skipped, because checkpoint \n",
       "'save_best_only' config is True, it requires to compare the monitored metric value, but the provided monitored \n",
       "metric value is not available.\n",
       "</pre>\n"
      ],
      "text/plain": [
       "2024/06/10 04:23:18 WARNING mlflow.utils.checkpoint_utils: Checkpoint logging is skipped, because checkpoint \n",
       "'save_best_only' config is True, it requires to compare the monitored metric value, but the provided monitored \n",
       "metric value is not available.\n"
      ]
     },
     "metadata": {},
     "output_type": "display_data"
    },
    {
     "name": "stderr",
     "output_type": "stream",
     "text": [
      "Epoch 213, global step 13696: 'f1' reached 0.50169 (best 0.50169), saving model to './mlruns/126730738902562300/598a0c52f5a34d9e9e1956c73f94acd8/checkpoints/f1_epoch=213f1=0.50169iou=0.23906loss=0.05778.ckpt' as top 1\n",
      "Epoch 213, global step 13696: 'iou' reached 0.23906 (best 0.23906), saving model to './mlruns/126730738902562300/598a0c52f5a34d9e9e1956c73f94acd8/checkpoints/iou_epoch=213f1=0.50169iou=0.23906loss=0.05778.ckpt' as top 1\n"
     ]
    },
    {
     "data": {
      "text/html": [
       "<pre style=\"white-space:pre;overflow-x:auto;line-height:normal;font-family:Menlo,'DejaVu Sans Mono',consolas,'Courier New',monospace\">2024/06/10 04:24:24 WARNING mlflow.utils.checkpoint_utils: Checkpoint logging is skipped, because checkpoint \n",
       "'save_best_only' config is True, it requires to compare the monitored metric value, but the provided monitored \n",
       "metric value is not available.\n",
       "</pre>\n"
      ],
      "text/plain": [
       "2024/06/10 04:24:24 WARNING mlflow.utils.checkpoint_utils: Checkpoint logging is skipped, because checkpoint \n",
       "'save_best_only' config is True, it requires to compare the monitored metric value, but the provided monitored \n",
       "metric value is not available.\n"
      ]
     },
     "metadata": {},
     "output_type": "display_data"
    },
    {
     "name": "stderr",
     "output_type": "stream",
     "text": [
      "Epoch 214, global step 13760: 'f1' was not in top 1\n",
      "Epoch 214, global step 13760: 'iou' was not in top 1\n"
     ]
    },
    {
     "data": {
      "text/html": [
       "<pre style=\"white-space:pre;overflow-x:auto;line-height:normal;font-family:Menlo,'DejaVu Sans Mono',consolas,'Courier New',monospace\">2024/06/10 04:25:24 WARNING mlflow.utils.checkpoint_utils: Checkpoint logging is skipped, because checkpoint \n",
       "'save_best_only' config is True, it requires to compare the monitored metric value, but the provided monitored \n",
       "metric value is not available.\n",
       "</pre>\n"
      ],
      "text/plain": [
       "2024/06/10 04:25:24 WARNING mlflow.utils.checkpoint_utils: Checkpoint logging is skipped, because checkpoint \n",
       "'save_best_only' config is True, it requires to compare the monitored metric value, but the provided monitored \n",
       "metric value is not available.\n"
      ]
     },
     "metadata": {},
     "output_type": "display_data"
    },
    {
     "name": "stderr",
     "output_type": "stream",
     "text": [
      "Epoch 215, global step 13824: 'f1' was not in top 1\n",
      "Epoch 215, global step 13824: 'iou' was not in top 1\n"
     ]
    },
    {
     "data": {
      "text/html": [
       "<pre style=\"white-space:pre;overflow-x:auto;line-height:normal;font-family:Menlo,'DejaVu Sans Mono',consolas,'Courier New',monospace\">2024/06/10 04:26:24 WARNING mlflow.utils.checkpoint_utils: Checkpoint logging is skipped, because checkpoint \n",
       "'save_best_only' config is True, it requires to compare the monitored metric value, but the provided monitored \n",
       "metric value is not available.\n",
       "</pre>\n"
      ],
      "text/plain": [
       "2024/06/10 04:26:24 WARNING mlflow.utils.checkpoint_utils: Checkpoint logging is skipped, because checkpoint \n",
       "'save_best_only' config is True, it requires to compare the monitored metric value, but the provided monitored \n",
       "metric value is not available.\n"
      ]
     },
     "metadata": {},
     "output_type": "display_data"
    },
    {
     "name": "stderr",
     "output_type": "stream",
     "text": [
      "Epoch 216, global step 13888: 'f1' was not in top 1\n",
      "Epoch 216, global step 13888: 'iou' was not in top 1\n"
     ]
    },
    {
     "data": {
      "text/html": [
       "<pre style=\"white-space:pre;overflow-x:auto;line-height:normal;font-family:Menlo,'DejaVu Sans Mono',consolas,'Courier New',monospace\">2024/06/10 04:27:24 WARNING mlflow.utils.checkpoint_utils: Checkpoint logging is skipped, because checkpoint \n",
       "'save_best_only' config is True, it requires to compare the monitored metric value, but the provided monitored \n",
       "metric value is not available.\n",
       "</pre>\n"
      ],
      "text/plain": [
       "2024/06/10 04:27:24 WARNING mlflow.utils.checkpoint_utils: Checkpoint logging is skipped, because checkpoint \n",
       "'save_best_only' config is True, it requires to compare the monitored metric value, but the provided monitored \n",
       "metric value is not available.\n"
      ]
     },
     "metadata": {},
     "output_type": "display_data"
    },
    {
     "name": "stderr",
     "output_type": "stream",
     "text": [
      "Epoch 217, global step 13952: 'f1' was not in top 1\n",
      "Epoch 217, global step 13952: 'iou' was not in top 1\n"
     ]
    },
    {
     "data": {
      "text/html": [
       "<pre style=\"white-space:pre;overflow-x:auto;line-height:normal;font-family:Menlo,'DejaVu Sans Mono',consolas,'Courier New',monospace\">2024/06/10 04:28:24 WARNING mlflow.utils.checkpoint_utils: Checkpoint logging is skipped, because checkpoint \n",
       "'save_best_only' config is True, it requires to compare the monitored metric value, but the provided monitored \n",
       "metric value is not available.\n",
       "</pre>\n"
      ],
      "text/plain": [
       "2024/06/10 04:28:24 WARNING mlflow.utils.checkpoint_utils: Checkpoint logging is skipped, because checkpoint \n",
       "'save_best_only' config is True, it requires to compare the monitored metric value, but the provided monitored \n",
       "metric value is not available.\n"
      ]
     },
     "metadata": {},
     "output_type": "display_data"
    },
    {
     "name": "stderr",
     "output_type": "stream",
     "text": [
      "Epoch 218, global step 14016: 'f1' was not in top 1\n",
      "Epoch 218, global step 14016: 'iou' was not in top 1\n"
     ]
    },
    {
     "data": {
      "text/html": [
       "<pre style=\"white-space:pre;overflow-x:auto;line-height:normal;font-family:Menlo,'DejaVu Sans Mono',consolas,'Courier New',monospace\">2024/06/10 04:29:24 WARNING mlflow.utils.checkpoint_utils: Checkpoint logging is skipped, because checkpoint \n",
       "'save_best_only' config is True, it requires to compare the monitored metric value, but the provided monitored \n",
       "metric value is not available.\n",
       "</pre>\n"
      ],
      "text/plain": [
       "2024/06/10 04:29:24 WARNING mlflow.utils.checkpoint_utils: Checkpoint logging is skipped, because checkpoint \n",
       "'save_best_only' config is True, it requires to compare the monitored metric value, but the provided monitored \n",
       "metric value is not available.\n"
      ]
     },
     "metadata": {},
     "output_type": "display_data"
    },
    {
     "name": "stderr",
     "output_type": "stream",
     "text": [
      "Epoch 219, global step 14080: 'f1' was not in top 1\n",
      "Epoch 219, global step 14080: 'iou' was not in top 1\n"
     ]
    },
    {
     "data": {
      "text/html": [
       "<pre style=\"white-space:pre;overflow-x:auto;line-height:normal;font-family:Menlo,'DejaVu Sans Mono',consolas,'Courier New',monospace\">2024/06/10 04:30:24 WARNING mlflow.utils.checkpoint_utils: Checkpoint logging is skipped, because checkpoint \n",
       "'save_best_only' config is True, it requires to compare the monitored metric value, but the provided monitored \n",
       "metric value is not available.\n",
       "</pre>\n"
      ],
      "text/plain": [
       "2024/06/10 04:30:24 WARNING mlflow.utils.checkpoint_utils: Checkpoint logging is skipped, because checkpoint \n",
       "'save_best_only' config is True, it requires to compare the monitored metric value, but the provided monitored \n",
       "metric value is not available.\n"
      ]
     },
     "metadata": {},
     "output_type": "display_data"
    },
    {
     "name": "stderr",
     "output_type": "stream",
     "text": [
      "Epoch 220, global step 14144: 'f1' was not in top 1\n",
      "Epoch 220, global step 14144: 'iou' was not in top 1\n"
     ]
    },
    {
     "data": {
      "text/html": [
       "<pre style=\"white-space:pre;overflow-x:auto;line-height:normal;font-family:Menlo,'DejaVu Sans Mono',consolas,'Courier New',monospace\">2024/06/10 04:31:24 WARNING mlflow.utils.checkpoint_utils: Checkpoint logging is skipped, because checkpoint \n",
       "'save_best_only' config is True, it requires to compare the monitored metric value, but the provided monitored \n",
       "metric value is not available.\n",
       "</pre>\n"
      ],
      "text/plain": [
       "2024/06/10 04:31:24 WARNING mlflow.utils.checkpoint_utils: Checkpoint logging is skipped, because checkpoint \n",
       "'save_best_only' config is True, it requires to compare the monitored metric value, but the provided monitored \n",
       "metric value is not available.\n"
      ]
     },
     "metadata": {},
     "output_type": "display_data"
    },
    {
     "name": "stderr",
     "output_type": "stream",
     "text": [
      "Epoch 221, global step 14208: 'f1' was not in top 1\n",
      "Epoch 221, global step 14208: 'iou' was not in top 1\n"
     ]
    },
    {
     "data": {
      "text/html": [
       "<pre style=\"white-space:pre;overflow-x:auto;line-height:normal;font-family:Menlo,'DejaVu Sans Mono',consolas,'Courier New',monospace\">2024/06/10 04:32:24 WARNING mlflow.utils.checkpoint_utils: Checkpoint logging is skipped, because checkpoint \n",
       "'save_best_only' config is True, it requires to compare the monitored metric value, but the provided monitored \n",
       "metric value is not available.\n",
       "</pre>\n"
      ],
      "text/plain": [
       "2024/06/10 04:32:24 WARNING mlflow.utils.checkpoint_utils: Checkpoint logging is skipped, because checkpoint \n",
       "'save_best_only' config is True, it requires to compare the monitored metric value, but the provided monitored \n",
       "metric value is not available.\n"
      ]
     },
     "metadata": {},
     "output_type": "display_data"
    },
    {
     "name": "stderr",
     "output_type": "stream",
     "text": [
      "Epoch 222, global step 14272: 'f1' reached 0.50526 (best 0.50526), saving model to './mlruns/126730738902562300/598a0c52f5a34d9e9e1956c73f94acd8/checkpoints/f1_epoch=222f1=0.50526iou=0.23940loss=0.05307.ckpt' as top 1\n",
      "Epoch 222, global step 14272: 'iou' reached 0.23940 (best 0.23940), saving model to './mlruns/126730738902562300/598a0c52f5a34d9e9e1956c73f94acd8/checkpoints/iou_epoch=222f1=0.50526iou=0.23940loss=0.05307.ckpt' as top 1\n"
     ]
    },
    {
     "data": {
      "text/html": [
       "<pre style=\"white-space:pre;overflow-x:auto;line-height:normal;font-family:Menlo,'DejaVu Sans Mono',consolas,'Courier New',monospace\">2024/06/10 04:33:30 WARNING mlflow.utils.checkpoint_utils: Checkpoint logging is skipped, because checkpoint \n",
       "'save_best_only' config is True, it requires to compare the monitored metric value, but the provided monitored \n",
       "metric value is not available.\n",
       "</pre>\n"
      ],
      "text/plain": [
       "2024/06/10 04:33:30 WARNING mlflow.utils.checkpoint_utils: Checkpoint logging is skipped, because checkpoint \n",
       "'save_best_only' config is True, it requires to compare the monitored metric value, but the provided monitored \n",
       "metric value is not available.\n"
      ]
     },
     "metadata": {},
     "output_type": "display_data"
    },
    {
     "name": "stderr",
     "output_type": "stream",
     "text": [
      "Epoch 223, global step 14336: 'f1' was not in top 1\n",
      "Epoch 223, global step 14336: 'iou' was not in top 1\n"
     ]
    },
    {
     "data": {
      "text/html": [
       "<pre style=\"white-space:pre;overflow-x:auto;line-height:normal;font-family:Menlo,'DejaVu Sans Mono',consolas,'Courier New',monospace\">2024/06/10 04:34:30 WARNING mlflow.utils.checkpoint_utils: Checkpoint logging is skipped, because checkpoint \n",
       "'save_best_only' config is True, it requires to compare the monitored metric value, but the provided monitored \n",
       "metric value is not available.\n",
       "</pre>\n"
      ],
      "text/plain": [
       "2024/06/10 04:34:30 WARNING mlflow.utils.checkpoint_utils: Checkpoint logging is skipped, because checkpoint \n",
       "'save_best_only' config is True, it requires to compare the monitored metric value, but the provided monitored \n",
       "metric value is not available.\n"
      ]
     },
     "metadata": {},
     "output_type": "display_data"
    },
    {
     "name": "stderr",
     "output_type": "stream",
     "text": [
      "Epoch 224, global step 14400: 'f1' was not in top 1\n",
      "Epoch 224, global step 14400: 'iou' was not in top 1\n"
     ]
    },
    {
     "data": {
      "text/html": [
       "<pre style=\"white-space:pre;overflow-x:auto;line-height:normal;font-family:Menlo,'DejaVu Sans Mono',consolas,'Courier New',monospace\">2024/06/10 04:35:30 WARNING mlflow.utils.checkpoint_utils: Checkpoint logging is skipped, because checkpoint \n",
       "'save_best_only' config is True, it requires to compare the monitored metric value, but the provided monitored \n",
       "metric value is not available.\n",
       "</pre>\n"
      ],
      "text/plain": [
       "2024/06/10 04:35:30 WARNING mlflow.utils.checkpoint_utils: Checkpoint logging is skipped, because checkpoint \n",
       "'save_best_only' config is True, it requires to compare the monitored metric value, but the provided monitored \n",
       "metric value is not available.\n"
      ]
     },
     "metadata": {},
     "output_type": "display_data"
    },
    {
     "name": "stderr",
     "output_type": "stream",
     "text": [
      "Epoch 225, global step 14464: 'f1' was not in top 1\n",
      "Epoch 225, global step 14464: 'iou' was not in top 1\n"
     ]
    },
    {
     "data": {
      "text/html": [
       "<pre style=\"white-space:pre;overflow-x:auto;line-height:normal;font-family:Menlo,'DejaVu Sans Mono',consolas,'Courier New',monospace\">2024/06/10 04:36:30 WARNING mlflow.utils.checkpoint_utils: Checkpoint logging is skipped, because checkpoint \n",
       "'save_best_only' config is True, it requires to compare the monitored metric value, but the provided monitored \n",
       "metric value is not available.\n",
       "</pre>\n"
      ],
      "text/plain": [
       "2024/06/10 04:36:30 WARNING mlflow.utils.checkpoint_utils: Checkpoint logging is skipped, because checkpoint \n",
       "'save_best_only' config is True, it requires to compare the monitored metric value, but the provided monitored \n",
       "metric value is not available.\n"
      ]
     },
     "metadata": {},
     "output_type": "display_data"
    },
    {
     "name": "stderr",
     "output_type": "stream",
     "text": [
      "Epoch 226, global step 14528: 'f1' was not in top 1\n",
      "Epoch 226, global step 14528: 'iou' was not in top 1\n"
     ]
    },
    {
     "data": {
      "text/html": [
       "<pre style=\"white-space:pre;overflow-x:auto;line-height:normal;font-family:Menlo,'DejaVu Sans Mono',consolas,'Courier New',monospace\">2024/06/10 04:37:30 WARNING mlflow.utils.checkpoint_utils: Checkpoint logging is skipped, because checkpoint \n",
       "'save_best_only' config is True, it requires to compare the monitored metric value, but the provided monitored \n",
       "metric value is not available.\n",
       "</pre>\n"
      ],
      "text/plain": [
       "2024/06/10 04:37:30 WARNING mlflow.utils.checkpoint_utils: Checkpoint logging is skipped, because checkpoint \n",
       "'save_best_only' config is True, it requires to compare the monitored metric value, but the provided monitored \n",
       "metric value is not available.\n"
      ]
     },
     "metadata": {},
     "output_type": "display_data"
    },
    {
     "name": "stderr",
     "output_type": "stream",
     "text": [
      "Epoch 227, global step 14592: 'f1' was not in top 1\n",
      "Epoch 227, global step 14592: 'iou' was not in top 1\n"
     ]
    },
    {
     "data": {
      "text/html": [
       "<pre style=\"white-space:pre;overflow-x:auto;line-height:normal;font-family:Menlo,'DejaVu Sans Mono',consolas,'Courier New',monospace\">2024/06/10 04:38:30 WARNING mlflow.utils.checkpoint_utils: Checkpoint logging is skipped, because checkpoint \n",
       "'save_best_only' config is True, it requires to compare the monitored metric value, but the provided monitored \n",
       "metric value is not available.\n",
       "</pre>\n"
      ],
      "text/plain": [
       "2024/06/10 04:38:30 WARNING mlflow.utils.checkpoint_utils: Checkpoint logging is skipped, because checkpoint \n",
       "'save_best_only' config is True, it requires to compare the monitored metric value, but the provided monitored \n",
       "metric value is not available.\n"
      ]
     },
     "metadata": {},
     "output_type": "display_data"
    },
    {
     "name": "stderr",
     "output_type": "stream",
     "text": [
      "Epoch 228, global step 14656: 'f1' was not in top 1\n",
      "Epoch 228, global step 14656: 'iou' was not in top 1\n"
     ]
    },
    {
     "data": {
      "text/html": [
       "<pre style=\"white-space:pre;overflow-x:auto;line-height:normal;font-family:Menlo,'DejaVu Sans Mono',consolas,'Courier New',monospace\">2024/06/10 04:39:30 WARNING mlflow.utils.checkpoint_utils: Checkpoint logging is skipped, because checkpoint \n",
       "'save_best_only' config is True, it requires to compare the monitored metric value, but the provided monitored \n",
       "metric value is not available.\n",
       "</pre>\n"
      ],
      "text/plain": [
       "2024/06/10 04:39:30 WARNING mlflow.utils.checkpoint_utils: Checkpoint logging is skipped, because checkpoint \n",
       "'save_best_only' config is True, it requires to compare the monitored metric value, but the provided monitored \n",
       "metric value is not available.\n"
      ]
     },
     "metadata": {},
     "output_type": "display_data"
    },
    {
     "name": "stderr",
     "output_type": "stream",
     "text": [
      "Epoch 229, global step 14720: 'f1' was not in top 1\n",
      "Epoch 229, global step 14720: 'iou' was not in top 1\n"
     ]
    },
    {
     "data": {
      "text/html": [
       "<pre style=\"white-space:pre;overflow-x:auto;line-height:normal;font-family:Menlo,'DejaVu Sans Mono',consolas,'Courier New',monospace\">2024/06/10 04:40:30 WARNING mlflow.utils.checkpoint_utils: Checkpoint logging is skipped, because checkpoint \n",
       "'save_best_only' config is True, it requires to compare the monitored metric value, but the provided monitored \n",
       "metric value is not available.\n",
       "</pre>\n"
      ],
      "text/plain": [
       "2024/06/10 04:40:30 WARNING mlflow.utils.checkpoint_utils: Checkpoint logging is skipped, because checkpoint \n",
       "'save_best_only' config is True, it requires to compare the monitored metric value, but the provided monitored \n",
       "metric value is not available.\n"
      ]
     },
     "metadata": {},
     "output_type": "display_data"
    },
    {
     "name": "stderr",
     "output_type": "stream",
     "text": [
      "Epoch 230, global step 14784: 'f1' was not in top 1\n",
      "Epoch 230, global step 14784: 'iou' was not in top 1\n"
     ]
    },
    {
     "data": {
      "text/html": [
       "<pre style=\"white-space:pre;overflow-x:auto;line-height:normal;font-family:Menlo,'DejaVu Sans Mono',consolas,'Courier New',monospace\">2024/06/10 04:41:30 WARNING mlflow.utils.checkpoint_utils: Checkpoint logging is skipped, because checkpoint \n",
       "'save_best_only' config is True, it requires to compare the monitored metric value, but the provided monitored \n",
       "metric value is not available.\n",
       "</pre>\n"
      ],
      "text/plain": [
       "2024/06/10 04:41:30 WARNING mlflow.utils.checkpoint_utils: Checkpoint logging is skipped, because checkpoint \n",
       "'save_best_only' config is True, it requires to compare the monitored metric value, but the provided monitored \n",
       "metric value is not available.\n"
      ]
     },
     "metadata": {},
     "output_type": "display_data"
    },
    {
     "name": "stderr",
     "output_type": "stream",
     "text": [
      "Epoch 231, global step 14848: 'f1' was not in top 1\n",
      "Epoch 231, global step 14848: 'iou' was not in top 1\n"
     ]
    },
    {
     "data": {
      "text/html": [
       "<pre style=\"white-space:pre;overflow-x:auto;line-height:normal;font-family:Menlo,'DejaVu Sans Mono',consolas,'Courier New',monospace\">2024/06/10 04:42:30 WARNING mlflow.utils.checkpoint_utils: Checkpoint logging is skipped, because checkpoint \n",
       "'save_best_only' config is True, it requires to compare the monitored metric value, but the provided monitored \n",
       "metric value is not available.\n",
       "</pre>\n"
      ],
      "text/plain": [
       "2024/06/10 04:42:30 WARNING mlflow.utils.checkpoint_utils: Checkpoint logging is skipped, because checkpoint \n",
       "'save_best_only' config is True, it requires to compare the monitored metric value, but the provided monitored \n",
       "metric value is not available.\n"
      ]
     },
     "metadata": {},
     "output_type": "display_data"
    },
    {
     "name": "stderr",
     "output_type": "stream",
     "text": [
      "Epoch 232, global step 14912: 'f1' was not in top 1\n",
      "Epoch 232, global step 14912: 'iou' was not in top 1\n"
     ]
    },
    {
     "data": {
      "text/html": [
       "<pre style=\"white-space:pre;overflow-x:auto;line-height:normal;font-family:Menlo,'DejaVu Sans Mono',consolas,'Courier New',monospace\">2024/06/10 04:43:30 WARNING mlflow.utils.checkpoint_utils: Checkpoint logging is skipped, because checkpoint \n",
       "'save_best_only' config is True, it requires to compare the monitored metric value, but the provided monitored \n",
       "metric value is not available.\n",
       "</pre>\n"
      ],
      "text/plain": [
       "2024/06/10 04:43:30 WARNING mlflow.utils.checkpoint_utils: Checkpoint logging is skipped, because checkpoint \n",
       "'save_best_only' config is True, it requires to compare the monitored metric value, but the provided monitored \n",
       "metric value is not available.\n"
      ]
     },
     "metadata": {},
     "output_type": "display_data"
    },
    {
     "name": "stderr",
     "output_type": "stream",
     "text": [
      "Epoch 233, global step 14976: 'f1' was not in top 1\n",
      "Epoch 233, global step 14976: 'iou' was not in top 1\n"
     ]
    },
    {
     "data": {
      "text/html": [
       "<pre style=\"white-space:pre;overflow-x:auto;line-height:normal;font-family:Menlo,'DejaVu Sans Mono',consolas,'Courier New',monospace\">2024/06/10 04:44:30 WARNING mlflow.utils.checkpoint_utils: Checkpoint logging is skipped, because checkpoint \n",
       "'save_best_only' config is True, it requires to compare the monitored metric value, but the provided monitored \n",
       "metric value is not available.\n",
       "</pre>\n"
      ],
      "text/plain": [
       "2024/06/10 04:44:30 WARNING mlflow.utils.checkpoint_utils: Checkpoint logging is skipped, because checkpoint \n",
       "'save_best_only' config is True, it requires to compare the monitored metric value, but the provided monitored \n",
       "metric value is not available.\n"
      ]
     },
     "metadata": {},
     "output_type": "display_data"
    },
    {
     "name": "stderr",
     "output_type": "stream",
     "text": [
      "Epoch 234, global step 15040: 'f1' was not in top 1\n",
      "Epoch 234, global step 15040: 'iou' was not in top 1\n"
     ]
    },
    {
     "data": {
      "text/html": [
       "<pre style=\"white-space:pre;overflow-x:auto;line-height:normal;font-family:Menlo,'DejaVu Sans Mono',consolas,'Courier New',monospace\">2024/06/10 04:45:30 WARNING mlflow.utils.checkpoint_utils: Checkpoint logging is skipped, because checkpoint \n",
       "'save_best_only' config is True, it requires to compare the monitored metric value, but the provided monitored \n",
       "metric value is not available.\n",
       "</pre>\n"
      ],
      "text/plain": [
       "2024/06/10 04:45:30 WARNING mlflow.utils.checkpoint_utils: Checkpoint logging is skipped, because checkpoint \n",
       "'save_best_only' config is True, it requires to compare the monitored metric value, but the provided monitored \n",
       "metric value is not available.\n"
      ]
     },
     "metadata": {},
     "output_type": "display_data"
    },
    {
     "name": "stderr",
     "output_type": "stream",
     "text": [
      "Epoch 235, global step 15104: 'f1' was not in top 1\n",
      "Epoch 235, global step 15104: 'iou' was not in top 1\n"
     ]
    },
    {
     "data": {
      "text/html": [
       "<pre style=\"white-space:pre;overflow-x:auto;line-height:normal;font-family:Menlo,'DejaVu Sans Mono',consolas,'Courier New',monospace\">2024/06/10 04:46:30 WARNING mlflow.utils.checkpoint_utils: Checkpoint logging is skipped, because checkpoint \n",
       "'save_best_only' config is True, it requires to compare the monitored metric value, but the provided monitored \n",
       "metric value is not available.\n",
       "</pre>\n"
      ],
      "text/plain": [
       "2024/06/10 04:46:30 WARNING mlflow.utils.checkpoint_utils: Checkpoint logging is skipped, because checkpoint \n",
       "'save_best_only' config is True, it requires to compare the monitored metric value, but the provided monitored \n",
       "metric value is not available.\n"
      ]
     },
     "metadata": {},
     "output_type": "display_data"
    },
    {
     "name": "stderr",
     "output_type": "stream",
     "text": [
      "Epoch 236, global step 15168: 'f1' was not in top 1\n",
      "Epoch 236, global step 15168: 'iou' was not in top 1\n"
     ]
    },
    {
     "data": {
      "text/html": [
       "<pre style=\"white-space:pre;overflow-x:auto;line-height:normal;font-family:Menlo,'DejaVu Sans Mono',consolas,'Courier New',monospace\">2024/06/10 04:47:30 WARNING mlflow.utils.checkpoint_utils: Checkpoint logging is skipped, because checkpoint \n",
       "'save_best_only' config is True, it requires to compare the monitored metric value, but the provided monitored \n",
       "metric value is not available.\n",
       "</pre>\n"
      ],
      "text/plain": [
       "2024/06/10 04:47:30 WARNING mlflow.utils.checkpoint_utils: Checkpoint logging is skipped, because checkpoint \n",
       "'save_best_only' config is True, it requires to compare the monitored metric value, but the provided monitored \n",
       "metric value is not available.\n"
      ]
     },
     "metadata": {},
     "output_type": "display_data"
    },
    {
     "name": "stderr",
     "output_type": "stream",
     "text": [
      "Epoch 237, global step 15232: 'f1' was not in top 1\n",
      "Epoch 237, global step 15232: 'iou' was not in top 1\n"
     ]
    },
    {
     "data": {
      "text/html": [
       "<pre style=\"white-space:pre;overflow-x:auto;line-height:normal;font-family:Menlo,'DejaVu Sans Mono',consolas,'Courier New',monospace\">2024/06/10 04:48:30 WARNING mlflow.utils.checkpoint_utils: Checkpoint logging is skipped, because checkpoint \n",
       "'save_best_only' config is True, it requires to compare the monitored metric value, but the provided monitored \n",
       "metric value is not available.\n",
       "</pre>\n"
      ],
      "text/plain": [
       "2024/06/10 04:48:30 WARNING mlflow.utils.checkpoint_utils: Checkpoint logging is skipped, because checkpoint \n",
       "'save_best_only' config is True, it requires to compare the monitored metric value, but the provided monitored \n",
       "metric value is not available.\n"
      ]
     },
     "metadata": {},
     "output_type": "display_data"
    },
    {
     "name": "stderr",
     "output_type": "stream",
     "text": [
      "Epoch 238, global step 15296: 'f1' was not in top 1\n",
      "Epoch 238, global step 15296: 'iou' was not in top 1\n"
     ]
    },
    {
     "data": {
      "text/html": [
       "<pre style=\"white-space:pre;overflow-x:auto;line-height:normal;font-family:Menlo,'DejaVu Sans Mono',consolas,'Courier New',monospace\">2024/06/10 04:49:29 WARNING mlflow.utils.checkpoint_utils: Checkpoint logging is skipped, because checkpoint \n",
       "'save_best_only' config is True, it requires to compare the monitored metric value, but the provided monitored \n",
       "metric value is not available.\n",
       "</pre>\n"
      ],
      "text/plain": [
       "2024/06/10 04:49:29 WARNING mlflow.utils.checkpoint_utils: Checkpoint logging is skipped, because checkpoint \n",
       "'save_best_only' config is True, it requires to compare the monitored metric value, but the provided monitored \n",
       "metric value is not available.\n"
      ]
     },
     "metadata": {},
     "output_type": "display_data"
    },
    {
     "name": "stderr",
     "output_type": "stream",
     "text": [
      "Epoch 239, global step 15360: 'f1' was not in top 1\n",
      "Epoch 239, global step 15360: 'iou' was not in top 1\n"
     ]
    },
    {
     "data": {
      "text/html": [
       "<pre style=\"white-space:pre;overflow-x:auto;line-height:normal;font-family:Menlo,'DejaVu Sans Mono',consolas,'Courier New',monospace\">2024/06/10 04:50:30 WARNING mlflow.utils.checkpoint_utils: Checkpoint logging is skipped, because checkpoint \n",
       "'save_best_only' config is True, it requires to compare the monitored metric value, but the provided monitored \n",
       "metric value is not available.\n",
       "</pre>\n"
      ],
      "text/plain": [
       "2024/06/10 04:50:30 WARNING mlflow.utils.checkpoint_utils: Checkpoint logging is skipped, because checkpoint \n",
       "'save_best_only' config is True, it requires to compare the monitored metric value, but the provided monitored \n",
       "metric value is not available.\n"
      ]
     },
     "metadata": {},
     "output_type": "display_data"
    },
    {
     "name": "stderr",
     "output_type": "stream",
     "text": [
      "Epoch 240, global step 15424: 'f1' was not in top 1\n",
      "Epoch 240, global step 15424: 'iou' was not in top 1\n"
     ]
    },
    {
     "data": {
      "text/html": [
       "<pre style=\"white-space:pre;overflow-x:auto;line-height:normal;font-family:Menlo,'DejaVu Sans Mono',consolas,'Courier New',monospace\">2024/06/10 04:51:30 WARNING mlflow.utils.checkpoint_utils: Checkpoint logging is skipped, because checkpoint \n",
       "'save_best_only' config is True, it requires to compare the monitored metric value, but the provided monitored \n",
       "metric value is not available.\n",
       "</pre>\n"
      ],
      "text/plain": [
       "2024/06/10 04:51:30 WARNING mlflow.utils.checkpoint_utils: Checkpoint logging is skipped, because checkpoint \n",
       "'save_best_only' config is True, it requires to compare the monitored metric value, but the provided monitored \n",
       "metric value is not available.\n"
      ]
     },
     "metadata": {},
     "output_type": "display_data"
    },
    {
     "name": "stderr",
     "output_type": "stream",
     "text": [
      "Epoch 241, global step 15488: 'f1' was not in top 1\n",
      "Epoch 241, global step 15488: 'iou' was not in top 1\n"
     ]
    },
    {
     "data": {
      "text/html": [
       "<pre style=\"white-space:pre;overflow-x:auto;line-height:normal;font-family:Menlo,'DejaVu Sans Mono',consolas,'Courier New',monospace\">2024/06/10 04:52:29 WARNING mlflow.utils.checkpoint_utils: Checkpoint logging is skipped, because checkpoint \n",
       "'save_best_only' config is True, it requires to compare the monitored metric value, but the provided monitored \n",
       "metric value is not available.\n",
       "</pre>\n"
      ],
      "text/plain": [
       "2024/06/10 04:52:29 WARNING mlflow.utils.checkpoint_utils: Checkpoint logging is skipped, because checkpoint \n",
       "'save_best_only' config is True, it requires to compare the monitored metric value, but the provided monitored \n",
       "metric value is not available.\n"
      ]
     },
     "metadata": {},
     "output_type": "display_data"
    },
    {
     "name": "stderr",
     "output_type": "stream",
     "text": [
      "Epoch 242, global step 15552: 'f1' was not in top 1\n",
      "Epoch 242, global step 15552: 'iou' was not in top 1\n"
     ]
    },
    {
     "data": {
      "text/html": [
       "<pre style=\"white-space:pre;overflow-x:auto;line-height:normal;font-family:Menlo,'DejaVu Sans Mono',consolas,'Courier New',monospace\">2024/06/10 04:53:29 WARNING mlflow.utils.checkpoint_utils: Checkpoint logging is skipped, because checkpoint \n",
       "'save_best_only' config is True, it requires to compare the monitored metric value, but the provided monitored \n",
       "metric value is not available.\n",
       "</pre>\n"
      ],
      "text/plain": [
       "2024/06/10 04:53:29 WARNING mlflow.utils.checkpoint_utils: Checkpoint logging is skipped, because checkpoint \n",
       "'save_best_only' config is True, it requires to compare the monitored metric value, but the provided monitored \n",
       "metric value is not available.\n"
      ]
     },
     "metadata": {},
     "output_type": "display_data"
    },
    {
     "name": "stderr",
     "output_type": "stream",
     "text": [
      "Epoch 243, global step 15616: 'f1' was not in top 1\n",
      "Epoch 243, global step 15616: 'iou' was not in top 1\n"
     ]
    },
    {
     "data": {
      "text/html": [
       "<pre style=\"white-space:pre;overflow-x:auto;line-height:normal;font-family:Menlo,'DejaVu Sans Mono',consolas,'Courier New',monospace\">2024/06/10 04:54:29 WARNING mlflow.utils.checkpoint_utils: Checkpoint logging is skipped, because checkpoint \n",
       "'save_best_only' config is True, it requires to compare the monitored metric value, but the provided monitored \n",
       "metric value is not available.\n",
       "</pre>\n"
      ],
      "text/plain": [
       "2024/06/10 04:54:29 WARNING mlflow.utils.checkpoint_utils: Checkpoint logging is skipped, because checkpoint \n",
       "'save_best_only' config is True, it requires to compare the monitored metric value, but the provided monitored \n",
       "metric value is not available.\n"
      ]
     },
     "metadata": {},
     "output_type": "display_data"
    },
    {
     "name": "stderr",
     "output_type": "stream",
     "text": [
      "Epoch 244, global step 15680: 'f1' was not in top 1\n",
      "Epoch 244, global step 15680: 'iou' was not in top 1\n"
     ]
    },
    {
     "data": {
      "text/html": [
       "<pre style=\"white-space:pre;overflow-x:auto;line-height:normal;font-family:Menlo,'DejaVu Sans Mono',consolas,'Courier New',monospace\">2024/06/10 04:55:29 WARNING mlflow.utils.checkpoint_utils: Checkpoint logging is skipped, because checkpoint \n",
       "'save_best_only' config is True, it requires to compare the monitored metric value, but the provided monitored \n",
       "metric value is not available.\n",
       "</pre>\n"
      ],
      "text/plain": [
       "2024/06/10 04:55:29 WARNING mlflow.utils.checkpoint_utils: Checkpoint logging is skipped, because checkpoint \n",
       "'save_best_only' config is True, it requires to compare the monitored metric value, but the provided monitored \n",
       "metric value is not available.\n"
      ]
     },
     "metadata": {},
     "output_type": "display_data"
    },
    {
     "name": "stderr",
     "output_type": "stream",
     "text": [
      "Epoch 245, global step 15744: 'f1' reached 0.50792 (best 0.50792), saving model to './mlruns/126730738902562300/598a0c52f5a34d9e9e1956c73f94acd8/checkpoints/f1_epoch=245f1=0.50792iou=0.24146loss=0.08399.ckpt' as top 1\n",
      "Epoch 245, global step 15744: 'iou' reached 0.24146 (best 0.24146), saving model to './mlruns/126730738902562300/598a0c52f5a34d9e9e1956c73f94acd8/checkpoints/iou_epoch=245f1=0.50792iou=0.24146loss=0.08399.ckpt' as top 1\n"
     ]
    },
    {
     "data": {
      "text/html": [
       "<pre style=\"white-space:pre;overflow-x:auto;line-height:normal;font-family:Menlo,'DejaVu Sans Mono',consolas,'Courier New',monospace\">2024/06/10 04:56:35 WARNING mlflow.utils.checkpoint_utils: Checkpoint logging is skipped, because checkpoint \n",
       "'save_best_only' config is True, it requires to compare the monitored metric value, but the provided monitored \n",
       "metric value is not available.\n",
       "</pre>\n"
      ],
      "text/plain": [
       "2024/06/10 04:56:35 WARNING mlflow.utils.checkpoint_utils: Checkpoint logging is skipped, because checkpoint \n",
       "'save_best_only' config is True, it requires to compare the monitored metric value, but the provided monitored \n",
       "metric value is not available.\n"
      ]
     },
     "metadata": {},
     "output_type": "display_data"
    },
    {
     "name": "stderr",
     "output_type": "stream",
     "text": [
      "Epoch 246, global step 15808: 'f1' was not in top 1\n",
      "Epoch 246, global step 15808: 'iou' was not in top 1\n"
     ]
    },
    {
     "data": {
      "text/html": [
       "<pre style=\"white-space:pre;overflow-x:auto;line-height:normal;font-family:Menlo,'DejaVu Sans Mono',consolas,'Courier New',monospace\">2024/06/10 04:57:35 WARNING mlflow.utils.checkpoint_utils: Checkpoint logging is skipped, because checkpoint \n",
       "'save_best_only' config is True, it requires to compare the monitored metric value, but the provided monitored \n",
       "metric value is not available.\n",
       "</pre>\n"
      ],
      "text/plain": [
       "2024/06/10 04:57:35 WARNING mlflow.utils.checkpoint_utils: Checkpoint logging is skipped, because checkpoint \n",
       "'save_best_only' config is True, it requires to compare the monitored metric value, but the provided monitored \n",
       "metric value is not available.\n"
      ]
     },
     "metadata": {},
     "output_type": "display_data"
    },
    {
     "name": "stderr",
     "output_type": "stream",
     "text": [
      "Epoch 247, global step 15872: 'f1' was not in top 1\n",
      "Epoch 247, global step 15872: 'iou' was not in top 1\n"
     ]
    },
    {
     "data": {
      "text/html": [
       "<pre style=\"white-space:pre;overflow-x:auto;line-height:normal;font-family:Menlo,'DejaVu Sans Mono',consolas,'Courier New',monospace\">2024/06/10 04:58:35 WARNING mlflow.utils.checkpoint_utils: Checkpoint logging is skipped, because checkpoint \n",
       "'save_best_only' config is True, it requires to compare the monitored metric value, but the provided monitored \n",
       "metric value is not available.\n",
       "</pre>\n"
      ],
      "text/plain": [
       "2024/06/10 04:58:35 WARNING mlflow.utils.checkpoint_utils: Checkpoint logging is skipped, because checkpoint \n",
       "'save_best_only' config is True, it requires to compare the monitored metric value, but the provided monitored \n",
       "metric value is not available.\n"
      ]
     },
     "metadata": {},
     "output_type": "display_data"
    },
    {
     "name": "stderr",
     "output_type": "stream",
     "text": [
      "Epoch 248, global step 15936: 'f1' was not in top 1\n",
      "Epoch 248, global step 15936: 'iou' was not in top 1\n"
     ]
    },
    {
     "data": {
      "text/html": [
       "<pre style=\"white-space:pre;overflow-x:auto;line-height:normal;font-family:Menlo,'DejaVu Sans Mono',consolas,'Courier New',monospace\">2024/06/10 04:59:35 WARNING mlflow.utils.checkpoint_utils: Checkpoint logging is skipped, because checkpoint \n",
       "'save_best_only' config is True, it requires to compare the monitored metric value, but the provided monitored \n",
       "metric value is not available.\n",
       "</pre>\n"
      ],
      "text/plain": [
       "2024/06/10 04:59:35 WARNING mlflow.utils.checkpoint_utils: Checkpoint logging is skipped, because checkpoint \n",
       "'save_best_only' config is True, it requires to compare the monitored metric value, but the provided monitored \n",
       "metric value is not available.\n"
      ]
     },
     "metadata": {},
     "output_type": "display_data"
    },
    {
     "name": "stderr",
     "output_type": "stream",
     "text": [
      "Epoch 249, global step 16000: 'f1' was not in top 1\n",
      "Epoch 249, global step 16000: 'iou' was not in top 1\n"
     ]
    },
    {
     "data": {
      "text/html": [
       "<pre style=\"white-space:pre;overflow-x:auto;line-height:normal;font-family:Menlo,'DejaVu Sans Mono',consolas,'Courier New',monospace\">2024/06/10 05:00:36 WARNING mlflow.utils.checkpoint_utils: Checkpoint logging is skipped, because checkpoint \n",
       "'save_best_only' config is True, it requires to compare the monitored metric value, but the provided monitored \n",
       "metric value is not available.\n",
       "</pre>\n"
      ],
      "text/plain": [
       "2024/06/10 05:00:36 WARNING mlflow.utils.checkpoint_utils: Checkpoint logging is skipped, because checkpoint \n",
       "'save_best_only' config is True, it requires to compare the monitored metric value, but the provided monitored \n",
       "metric value is not available.\n"
      ]
     },
     "metadata": {},
     "output_type": "display_data"
    },
    {
     "name": "stderr",
     "output_type": "stream",
     "text": [
      "Epoch 250, global step 16064: 'f1' was not in top 1\n",
      "Epoch 250, global step 16064: 'iou' was not in top 1\n"
     ]
    },
    {
     "data": {
      "text/html": [
       "<pre style=\"white-space:pre;overflow-x:auto;line-height:normal;font-family:Menlo,'DejaVu Sans Mono',consolas,'Courier New',monospace\">2024/06/10 05:01:36 WARNING mlflow.utils.checkpoint_utils: Checkpoint logging is skipped, because checkpoint \n",
       "'save_best_only' config is True, it requires to compare the monitored metric value, but the provided monitored \n",
       "metric value is not available.\n",
       "</pre>\n"
      ],
      "text/plain": [
       "2024/06/10 05:01:36 WARNING mlflow.utils.checkpoint_utils: Checkpoint logging is skipped, because checkpoint \n",
       "'save_best_only' config is True, it requires to compare the monitored metric value, but the provided monitored \n",
       "metric value is not available.\n"
      ]
     },
     "metadata": {},
     "output_type": "display_data"
    },
    {
     "name": "stderr",
     "output_type": "stream",
     "text": [
      "Epoch 251, global step 16128: 'f1' was not in top 1\n",
      "Epoch 251, global step 16128: 'iou' was not in top 1\n"
     ]
    },
    {
     "data": {
      "text/html": [
       "<pre style=\"white-space:pre;overflow-x:auto;line-height:normal;font-family:Menlo,'DejaVu Sans Mono',consolas,'Courier New',monospace\">2024/06/10 05:02:36 WARNING mlflow.utils.checkpoint_utils: Checkpoint logging is skipped, because checkpoint \n",
       "'save_best_only' config is True, it requires to compare the monitored metric value, but the provided monitored \n",
       "metric value is not available.\n",
       "</pre>\n"
      ],
      "text/plain": [
       "2024/06/10 05:02:36 WARNING mlflow.utils.checkpoint_utils: Checkpoint logging is skipped, because checkpoint \n",
       "'save_best_only' config is True, it requires to compare the monitored metric value, but the provided monitored \n",
       "metric value is not available.\n"
      ]
     },
     "metadata": {},
     "output_type": "display_data"
    },
    {
     "name": "stderr",
     "output_type": "stream",
     "text": [
      "Epoch 252, global step 16192: 'f1' reached 0.50813 (best 0.50813), saving model to './mlruns/126730738902562300/598a0c52f5a34d9e9e1956c73f94acd8/checkpoints/f1_epoch=252f1=0.50813iou=0.24057loss=0.08660.ckpt' as top 1\n",
      "Epoch 252, global step 16192: 'iou' was not in top 1\n"
     ]
    },
    {
     "data": {
      "text/html": [
       "<pre style=\"white-space:pre;overflow-x:auto;line-height:normal;font-family:Menlo,'DejaVu Sans Mono',consolas,'Courier New',monospace\">2024/06/10 05:03:39 WARNING mlflow.utils.checkpoint_utils: Checkpoint logging is skipped, because checkpoint \n",
       "'save_best_only' config is True, it requires to compare the monitored metric value, but the provided monitored \n",
       "metric value is not available.\n",
       "</pre>\n"
      ],
      "text/plain": [
       "2024/06/10 05:03:39 WARNING mlflow.utils.checkpoint_utils: Checkpoint logging is skipped, because checkpoint \n",
       "'save_best_only' config is True, it requires to compare the monitored metric value, but the provided monitored \n",
       "metric value is not available.\n"
      ]
     },
     "metadata": {},
     "output_type": "display_data"
    },
    {
     "name": "stderr",
     "output_type": "stream",
     "text": [
      "Epoch 253, global step 16256: 'f1' was not in top 1\n",
      "Epoch 253, global step 16256: 'iou' was not in top 1\n"
     ]
    },
    {
     "data": {
      "text/html": [
       "<pre style=\"white-space:pre;overflow-x:auto;line-height:normal;font-family:Menlo,'DejaVu Sans Mono',consolas,'Courier New',monospace\">2024/06/10 05:04:39 WARNING mlflow.utils.checkpoint_utils: Checkpoint logging is skipped, because checkpoint \n",
       "'save_best_only' config is True, it requires to compare the monitored metric value, but the provided monitored \n",
       "metric value is not available.\n",
       "</pre>\n"
      ],
      "text/plain": [
       "2024/06/10 05:04:39 WARNING mlflow.utils.checkpoint_utils: Checkpoint logging is skipped, because checkpoint \n",
       "'save_best_only' config is True, it requires to compare the monitored metric value, but the provided monitored \n",
       "metric value is not available.\n"
      ]
     },
     "metadata": {},
     "output_type": "display_data"
    },
    {
     "name": "stderr",
     "output_type": "stream",
     "text": [
      "Epoch 254, global step 16320: 'f1' was not in top 1\n",
      "Epoch 254, global step 16320: 'iou' was not in top 1\n"
     ]
    },
    {
     "data": {
      "text/html": [
       "<pre style=\"white-space:pre;overflow-x:auto;line-height:normal;font-family:Menlo,'DejaVu Sans Mono',consolas,'Courier New',monospace\">2024/06/10 05:05:39 WARNING mlflow.utils.checkpoint_utils: Checkpoint logging is skipped, because checkpoint \n",
       "'save_best_only' config is True, it requires to compare the monitored metric value, but the provided monitored \n",
       "metric value is not available.\n",
       "</pre>\n"
      ],
      "text/plain": [
       "2024/06/10 05:05:39 WARNING mlflow.utils.checkpoint_utils: Checkpoint logging is skipped, because checkpoint \n",
       "'save_best_only' config is True, it requires to compare the monitored metric value, but the provided monitored \n",
       "metric value is not available.\n"
      ]
     },
     "metadata": {},
     "output_type": "display_data"
    },
    {
     "name": "stderr",
     "output_type": "stream",
     "text": [
      "Epoch 255, global step 16384: 'f1' was not in top 1\n",
      "Epoch 255, global step 16384: 'iou' was not in top 1\n"
     ]
    },
    {
     "data": {
      "text/html": [
       "<pre style=\"white-space:pre;overflow-x:auto;line-height:normal;font-family:Menlo,'DejaVu Sans Mono',consolas,'Courier New',monospace\">2024/06/10 05:06:39 WARNING mlflow.utils.checkpoint_utils: Checkpoint logging is skipped, because checkpoint \n",
       "'save_best_only' config is True, it requires to compare the monitored metric value, but the provided monitored \n",
       "metric value is not available.\n",
       "</pre>\n"
      ],
      "text/plain": [
       "2024/06/10 05:06:39 WARNING mlflow.utils.checkpoint_utils: Checkpoint logging is skipped, because checkpoint \n",
       "'save_best_only' config is True, it requires to compare the monitored metric value, but the provided monitored \n",
       "metric value is not available.\n"
      ]
     },
     "metadata": {},
     "output_type": "display_data"
    },
    {
     "name": "stderr",
     "output_type": "stream",
     "text": [
      "Epoch 256, global step 16448: 'f1' was not in top 1\n",
      "Epoch 256, global step 16448: 'iou' was not in top 1\n"
     ]
    },
    {
     "data": {
      "text/html": [
       "<pre style=\"white-space:pre;overflow-x:auto;line-height:normal;font-family:Menlo,'DejaVu Sans Mono',consolas,'Courier New',monospace\">2024/06/10 05:07:39 WARNING mlflow.utils.checkpoint_utils: Checkpoint logging is skipped, because checkpoint \n",
       "'save_best_only' config is True, it requires to compare the monitored metric value, but the provided monitored \n",
       "metric value is not available.\n",
       "</pre>\n"
      ],
      "text/plain": [
       "2024/06/10 05:07:39 WARNING mlflow.utils.checkpoint_utils: Checkpoint logging is skipped, because checkpoint \n",
       "'save_best_only' config is True, it requires to compare the monitored metric value, but the provided monitored \n",
       "metric value is not available.\n"
      ]
     },
     "metadata": {},
     "output_type": "display_data"
    },
    {
     "name": "stderr",
     "output_type": "stream",
     "text": [
      "Epoch 257, global step 16512: 'f1' was not in top 1\n",
      "Epoch 257, global step 16512: 'iou' was not in top 1\n"
     ]
    },
    {
     "data": {
      "text/html": [
       "<pre style=\"white-space:pre;overflow-x:auto;line-height:normal;font-family:Menlo,'DejaVu Sans Mono',consolas,'Courier New',monospace\">2024/06/10 05:08:38 WARNING mlflow.utils.checkpoint_utils: Checkpoint logging is skipped, because checkpoint \n",
       "'save_best_only' config is True, it requires to compare the monitored metric value, but the provided monitored \n",
       "metric value is not available.\n",
       "</pre>\n"
      ],
      "text/plain": [
       "2024/06/10 05:08:38 WARNING mlflow.utils.checkpoint_utils: Checkpoint logging is skipped, because checkpoint \n",
       "'save_best_only' config is True, it requires to compare the monitored metric value, but the provided monitored \n",
       "metric value is not available.\n"
      ]
     },
     "metadata": {},
     "output_type": "display_data"
    },
    {
     "name": "stderr",
     "output_type": "stream",
     "text": [
      "Epoch 258, global step 16576: 'f1' was not in top 1\n",
      "Epoch 258, global step 16576: 'iou' was not in top 1\n"
     ]
    },
    {
     "data": {
      "text/html": [
       "<pre style=\"white-space:pre;overflow-x:auto;line-height:normal;font-family:Menlo,'DejaVu Sans Mono',consolas,'Courier New',monospace\">2024/06/10 05:09:38 WARNING mlflow.utils.checkpoint_utils: Checkpoint logging is skipped, because checkpoint \n",
       "'save_best_only' config is True, it requires to compare the monitored metric value, but the provided monitored \n",
       "metric value is not available.\n",
       "</pre>\n"
      ],
      "text/plain": [
       "2024/06/10 05:09:38 WARNING mlflow.utils.checkpoint_utils: Checkpoint logging is skipped, because checkpoint \n",
       "'save_best_only' config is True, it requires to compare the monitored metric value, but the provided monitored \n",
       "metric value is not available.\n"
      ]
     },
     "metadata": {},
     "output_type": "display_data"
    },
    {
     "name": "stderr",
     "output_type": "stream",
     "text": [
      "Epoch 259, global step 16640: 'f1' was not in top 1\n",
      "Epoch 259, global step 16640: 'iou' was not in top 1\n"
     ]
    },
    {
     "data": {
      "text/html": [
       "<pre style=\"white-space:pre;overflow-x:auto;line-height:normal;font-family:Menlo,'DejaVu Sans Mono',consolas,'Courier New',monospace\">2024/06/10 05:10:38 WARNING mlflow.utils.checkpoint_utils: Checkpoint logging is skipped, because checkpoint \n",
       "'save_best_only' config is True, it requires to compare the monitored metric value, but the provided monitored \n",
       "metric value is not available.\n",
       "</pre>\n"
      ],
      "text/plain": [
       "2024/06/10 05:10:38 WARNING mlflow.utils.checkpoint_utils: Checkpoint logging is skipped, because checkpoint \n",
       "'save_best_only' config is True, it requires to compare the monitored metric value, but the provided monitored \n",
       "metric value is not available.\n"
      ]
     },
     "metadata": {},
     "output_type": "display_data"
    },
    {
     "name": "stderr",
     "output_type": "stream",
     "text": [
      "Epoch 260, global step 16704: 'f1' was not in top 1\n",
      "Epoch 260, global step 16704: 'iou' reached 0.24166 (best 0.24166), saving model to './mlruns/126730738902562300/598a0c52f5a34d9e9e1956c73f94acd8/checkpoints/iou_epoch=260f1=0.50568iou=0.24166loss=0.05805.ckpt' as top 1\n"
     ]
    },
    {
     "data": {
      "text/html": [
       "<pre style=\"white-space:pre;overflow-x:auto;line-height:normal;font-family:Menlo,'DejaVu Sans Mono',consolas,'Courier New',monospace\">2024/06/10 05:11:41 WARNING mlflow.utils.checkpoint_utils: Checkpoint logging is skipped, because checkpoint \n",
       "'save_best_only' config is True, it requires to compare the monitored metric value, but the provided monitored \n",
       "metric value is not available.\n",
       "</pre>\n"
      ],
      "text/plain": [
       "2024/06/10 05:11:41 WARNING mlflow.utils.checkpoint_utils: Checkpoint logging is skipped, because checkpoint \n",
       "'save_best_only' config is True, it requires to compare the monitored metric value, but the provided monitored \n",
       "metric value is not available.\n"
      ]
     },
     "metadata": {},
     "output_type": "display_data"
    },
    {
     "name": "stderr",
     "output_type": "stream",
     "text": [
      "Epoch 261, global step 16768: 'f1' was not in top 1\n",
      "Epoch 261, global step 16768: 'iou' was not in top 1\n"
     ]
    },
    {
     "data": {
      "text/html": [
       "<pre style=\"white-space:pre;overflow-x:auto;line-height:normal;font-family:Menlo,'DejaVu Sans Mono',consolas,'Courier New',monospace\">2024/06/10 05:12:41 WARNING mlflow.utils.checkpoint_utils: Checkpoint logging is skipped, because checkpoint \n",
       "'save_best_only' config is True, it requires to compare the monitored metric value, but the provided monitored \n",
       "metric value is not available.\n",
       "</pre>\n"
      ],
      "text/plain": [
       "2024/06/10 05:12:41 WARNING mlflow.utils.checkpoint_utils: Checkpoint logging is skipped, because checkpoint \n",
       "'save_best_only' config is True, it requires to compare the monitored metric value, but the provided monitored \n",
       "metric value is not available.\n"
      ]
     },
     "metadata": {},
     "output_type": "display_data"
    },
    {
     "name": "stderr",
     "output_type": "stream",
     "text": [
      "Epoch 262, global step 16832: 'f1' was not in top 1\n",
      "Epoch 262, global step 16832: 'iou' was not in top 1\n"
     ]
    },
    {
     "data": {
      "text/html": [
       "<pre style=\"white-space:pre;overflow-x:auto;line-height:normal;font-family:Menlo,'DejaVu Sans Mono',consolas,'Courier New',monospace\">2024/06/10 05:13:41 WARNING mlflow.utils.checkpoint_utils: Checkpoint logging is skipped, because checkpoint \n",
       "'save_best_only' config is True, it requires to compare the monitored metric value, but the provided monitored \n",
       "metric value is not available.\n",
       "</pre>\n"
      ],
      "text/plain": [
       "2024/06/10 05:13:41 WARNING mlflow.utils.checkpoint_utils: Checkpoint logging is skipped, because checkpoint \n",
       "'save_best_only' config is True, it requires to compare the monitored metric value, but the provided monitored \n",
       "metric value is not available.\n"
      ]
     },
     "metadata": {},
     "output_type": "display_data"
    },
    {
     "name": "stderr",
     "output_type": "stream",
     "text": [
      "Epoch 263, global step 16896: 'f1' was not in top 1\n",
      "Epoch 263, global step 16896: 'iou' was not in top 1\n"
     ]
    },
    {
     "data": {
      "text/html": [
       "<pre style=\"white-space:pre;overflow-x:auto;line-height:normal;font-family:Menlo,'DejaVu Sans Mono',consolas,'Courier New',monospace\">2024/06/10 05:14:41 WARNING mlflow.utils.checkpoint_utils: Checkpoint logging is skipped, because checkpoint \n",
       "'save_best_only' config is True, it requires to compare the monitored metric value, but the provided monitored \n",
       "metric value is not available.\n",
       "</pre>\n"
      ],
      "text/plain": [
       "2024/06/10 05:14:41 WARNING mlflow.utils.checkpoint_utils: Checkpoint logging is skipped, because checkpoint \n",
       "'save_best_only' config is True, it requires to compare the monitored metric value, but the provided monitored \n",
       "metric value is not available.\n"
      ]
     },
     "metadata": {},
     "output_type": "display_data"
    },
    {
     "name": "stderr",
     "output_type": "stream",
     "text": [
      "Epoch 264, global step 16960: 'f1' was not in top 1\n",
      "Epoch 264, global step 16960: 'iou' was not in top 1\n"
     ]
    },
    {
     "data": {
      "text/html": [
       "<pre style=\"white-space:pre;overflow-x:auto;line-height:normal;font-family:Menlo,'DejaVu Sans Mono',consolas,'Courier New',monospace\">2024/06/10 05:15:41 WARNING mlflow.utils.checkpoint_utils: Checkpoint logging is skipped, because checkpoint \n",
       "'save_best_only' config is True, it requires to compare the monitored metric value, but the provided monitored \n",
       "metric value is not available.\n",
       "</pre>\n"
      ],
      "text/plain": [
       "2024/06/10 05:15:41 WARNING mlflow.utils.checkpoint_utils: Checkpoint logging is skipped, because checkpoint \n",
       "'save_best_only' config is True, it requires to compare the monitored metric value, but the provided monitored \n",
       "metric value is not available.\n"
      ]
     },
     "metadata": {},
     "output_type": "display_data"
    },
    {
     "name": "stderr",
     "output_type": "stream",
     "text": [
      "Epoch 265, global step 17024: 'f1' was not in top 1\n",
      "Epoch 265, global step 17024: 'iou' was not in top 1\n"
     ]
    },
    {
     "data": {
      "text/html": [
       "<pre style=\"white-space:pre;overflow-x:auto;line-height:normal;font-family:Menlo,'DejaVu Sans Mono',consolas,'Courier New',monospace\">2024/06/10 05:16:41 WARNING mlflow.utils.checkpoint_utils: Checkpoint logging is skipped, because checkpoint \n",
       "'save_best_only' config is True, it requires to compare the monitored metric value, but the provided monitored \n",
       "metric value is not available.\n",
       "</pre>\n"
      ],
      "text/plain": [
       "2024/06/10 05:16:41 WARNING mlflow.utils.checkpoint_utils: Checkpoint logging is skipped, because checkpoint \n",
       "'save_best_only' config is True, it requires to compare the monitored metric value, but the provided monitored \n",
       "metric value is not available.\n"
      ]
     },
     "metadata": {},
     "output_type": "display_data"
    },
    {
     "name": "stderr",
     "output_type": "stream",
     "text": [
      "Epoch 266, global step 17088: 'f1' was not in top 1\n",
      "Epoch 266, global step 17088: 'iou' was not in top 1\n"
     ]
    },
    {
     "data": {
      "text/html": [
       "<pre style=\"white-space:pre;overflow-x:auto;line-height:normal;font-family:Menlo,'DejaVu Sans Mono',consolas,'Courier New',monospace\">2024/06/10 05:17:41 WARNING mlflow.utils.checkpoint_utils: Checkpoint logging is skipped, because checkpoint \n",
       "'save_best_only' config is True, it requires to compare the monitored metric value, but the provided monitored \n",
       "metric value is not available.\n",
       "</pre>\n"
      ],
      "text/plain": [
       "2024/06/10 05:17:41 WARNING mlflow.utils.checkpoint_utils: Checkpoint logging is skipped, because checkpoint \n",
       "'save_best_only' config is True, it requires to compare the monitored metric value, but the provided monitored \n",
       "metric value is not available.\n"
      ]
     },
     "metadata": {},
     "output_type": "display_data"
    },
    {
     "name": "stderr",
     "output_type": "stream",
     "text": [
      "Epoch 267, global step 17152: 'f1' was not in top 1\n",
      "Epoch 267, global step 17152: 'iou' was not in top 1\n"
     ]
    },
    {
     "data": {
      "text/html": [
       "<pre style=\"white-space:pre;overflow-x:auto;line-height:normal;font-family:Menlo,'DejaVu Sans Mono',consolas,'Courier New',monospace\">2024/06/10 05:18:40 WARNING mlflow.utils.checkpoint_utils: Checkpoint logging is skipped, because checkpoint \n",
       "'save_best_only' config is True, it requires to compare the monitored metric value, but the provided monitored \n",
       "metric value is not available.\n",
       "</pre>\n"
      ],
      "text/plain": [
       "2024/06/10 05:18:40 WARNING mlflow.utils.checkpoint_utils: Checkpoint logging is skipped, because checkpoint \n",
       "'save_best_only' config is True, it requires to compare the monitored metric value, but the provided monitored \n",
       "metric value is not available.\n"
      ]
     },
     "metadata": {},
     "output_type": "display_data"
    },
    {
     "name": "stderr",
     "output_type": "stream",
     "text": [
      "Epoch 268, global step 17216: 'f1' was not in top 1\n",
      "Epoch 268, global step 17216: 'iou' was not in top 1\n"
     ]
    },
    {
     "data": {
      "text/html": [
       "<pre style=\"white-space:pre;overflow-x:auto;line-height:normal;font-family:Menlo,'DejaVu Sans Mono',consolas,'Courier New',monospace\">2024/06/10 05:19:40 WARNING mlflow.utils.checkpoint_utils: Checkpoint logging is skipped, because checkpoint \n",
       "'save_best_only' config is True, it requires to compare the monitored metric value, but the provided monitored \n",
       "metric value is not available.\n",
       "</pre>\n"
      ],
      "text/plain": [
       "2024/06/10 05:19:40 WARNING mlflow.utils.checkpoint_utils: Checkpoint logging is skipped, because checkpoint \n",
       "'save_best_only' config is True, it requires to compare the monitored metric value, but the provided monitored \n",
       "metric value is not available.\n"
      ]
     },
     "metadata": {},
     "output_type": "display_data"
    },
    {
     "name": "stderr",
     "output_type": "stream",
     "text": [
      "Epoch 269, global step 17280: 'f1' was not in top 1\n",
      "Epoch 269, global step 17280: 'iou' was not in top 1\n"
     ]
    },
    {
     "data": {
      "text/html": [
       "<pre style=\"white-space:pre;overflow-x:auto;line-height:normal;font-family:Menlo,'DejaVu Sans Mono',consolas,'Courier New',monospace\">2024/06/10 05:20:40 WARNING mlflow.utils.checkpoint_utils: Checkpoint logging is skipped, because checkpoint \n",
       "'save_best_only' config is True, it requires to compare the monitored metric value, but the provided monitored \n",
       "metric value is not available.\n",
       "</pre>\n"
      ],
      "text/plain": [
       "2024/06/10 05:20:40 WARNING mlflow.utils.checkpoint_utils: Checkpoint logging is skipped, because checkpoint \n",
       "'save_best_only' config is True, it requires to compare the monitored metric value, but the provided monitored \n",
       "metric value is not available.\n"
      ]
     },
     "metadata": {},
     "output_type": "display_data"
    },
    {
     "name": "stderr",
     "output_type": "stream",
     "text": [
      "Epoch 270, global step 17344: 'f1' was not in top 1\n",
      "Epoch 270, global step 17344: 'iou' was not in top 1\n"
     ]
    },
    {
     "data": {
      "text/html": [
       "<pre style=\"white-space:pre;overflow-x:auto;line-height:normal;font-family:Menlo,'DejaVu Sans Mono',consolas,'Courier New',monospace\">2024/06/10 05:21:39 WARNING mlflow.utils.checkpoint_utils: Checkpoint logging is skipped, because checkpoint \n",
       "'save_best_only' config is True, it requires to compare the monitored metric value, but the provided monitored \n",
       "metric value is not available.\n",
       "</pre>\n"
      ],
      "text/plain": [
       "2024/06/10 05:21:39 WARNING mlflow.utils.checkpoint_utils: Checkpoint logging is skipped, because checkpoint \n",
       "'save_best_only' config is True, it requires to compare the monitored metric value, but the provided monitored \n",
       "metric value is not available.\n"
      ]
     },
     "metadata": {},
     "output_type": "display_data"
    },
    {
     "name": "stderr",
     "output_type": "stream",
     "text": [
      "Epoch 271, global step 17408: 'f1' was not in top 1\n",
      "Epoch 271, global step 17408: 'iou' was not in top 1\n"
     ]
    },
    {
     "data": {
      "text/html": [
       "<pre style=\"white-space:pre;overflow-x:auto;line-height:normal;font-family:Menlo,'DejaVu Sans Mono',consolas,'Courier New',monospace\">2024/06/10 05:22:39 WARNING mlflow.utils.checkpoint_utils: Checkpoint logging is skipped, because checkpoint \n",
       "'save_best_only' config is True, it requires to compare the monitored metric value, but the provided monitored \n",
       "metric value is not available.\n",
       "</pre>\n"
      ],
      "text/plain": [
       "2024/06/10 05:22:39 WARNING mlflow.utils.checkpoint_utils: Checkpoint logging is skipped, because checkpoint \n",
       "'save_best_only' config is True, it requires to compare the monitored metric value, but the provided monitored \n",
       "metric value is not available.\n"
      ]
     },
     "metadata": {},
     "output_type": "display_data"
    },
    {
     "name": "stderr",
     "output_type": "stream",
     "text": [
      "Epoch 272, global step 17472: 'f1' was not in top 1\n",
      "Epoch 272, global step 17472: 'iou' was not in top 1\n"
     ]
    },
    {
     "data": {
      "text/html": [
       "<pre style=\"white-space:pre;overflow-x:auto;line-height:normal;font-family:Menlo,'DejaVu Sans Mono',consolas,'Courier New',monospace\">2024/06/10 05:23:39 WARNING mlflow.utils.checkpoint_utils: Checkpoint logging is skipped, because checkpoint \n",
       "'save_best_only' config is True, it requires to compare the monitored metric value, but the provided monitored \n",
       "metric value is not available.\n",
       "</pre>\n"
      ],
      "text/plain": [
       "2024/06/10 05:23:39 WARNING mlflow.utils.checkpoint_utils: Checkpoint logging is skipped, because checkpoint \n",
       "'save_best_only' config is True, it requires to compare the monitored metric value, but the provided monitored \n",
       "metric value is not available.\n"
      ]
     },
     "metadata": {},
     "output_type": "display_data"
    },
    {
     "name": "stderr",
     "output_type": "stream",
     "text": [
      "Epoch 273, global step 17536: 'f1' was not in top 1\n",
      "Epoch 273, global step 17536: 'iou' was not in top 1\n"
     ]
    },
    {
     "data": {
      "text/html": [
       "<pre style=\"white-space:pre;overflow-x:auto;line-height:normal;font-family:Menlo,'DejaVu Sans Mono',consolas,'Courier New',monospace\">2024/06/10 05:24:38 WARNING mlflow.utils.checkpoint_utils: Checkpoint logging is skipped, because checkpoint \n",
       "'save_best_only' config is True, it requires to compare the monitored metric value, but the provided monitored \n",
       "metric value is not available.\n",
       "</pre>\n"
      ],
      "text/plain": [
       "2024/06/10 05:24:38 WARNING mlflow.utils.checkpoint_utils: Checkpoint logging is skipped, because checkpoint \n",
       "'save_best_only' config is True, it requires to compare the monitored metric value, but the provided monitored \n",
       "metric value is not available.\n"
      ]
     },
     "metadata": {},
     "output_type": "display_data"
    },
    {
     "name": "stderr",
     "output_type": "stream",
     "text": [
      "Epoch 274, global step 17600: 'f1' was not in top 1\n",
      "Epoch 274, global step 17600: 'iou' was not in top 1\n"
     ]
    },
    {
     "data": {
      "text/html": [
       "<pre style=\"white-space:pre;overflow-x:auto;line-height:normal;font-family:Menlo,'DejaVu Sans Mono',consolas,'Courier New',monospace\">2024/06/10 05:25:38 WARNING mlflow.utils.checkpoint_utils: Checkpoint logging is skipped, because checkpoint \n",
       "'save_best_only' config is True, it requires to compare the monitored metric value, but the provided monitored \n",
       "metric value is not available.\n",
       "</pre>\n"
      ],
      "text/plain": [
       "2024/06/10 05:25:38 WARNING mlflow.utils.checkpoint_utils: Checkpoint logging is skipped, because checkpoint \n",
       "'save_best_only' config is True, it requires to compare the monitored metric value, but the provided monitored \n",
       "metric value is not available.\n"
      ]
     },
     "metadata": {},
     "output_type": "display_data"
    },
    {
     "name": "stderr",
     "output_type": "stream",
     "text": [
      "Epoch 275, global step 17664: 'f1' was not in top 1\n",
      "Epoch 275, global step 17664: 'iou' was not in top 1\n"
     ]
    },
    {
     "data": {
      "text/html": [
       "<pre style=\"white-space:pre;overflow-x:auto;line-height:normal;font-family:Menlo,'DejaVu Sans Mono',consolas,'Courier New',monospace\">2024/06/10 05:26:38 WARNING mlflow.utils.checkpoint_utils: Checkpoint logging is skipped, because checkpoint \n",
       "'save_best_only' config is True, it requires to compare the monitored metric value, but the provided monitored \n",
       "metric value is not available.\n",
       "</pre>\n"
      ],
      "text/plain": [
       "2024/06/10 05:26:38 WARNING mlflow.utils.checkpoint_utils: Checkpoint logging is skipped, because checkpoint \n",
       "'save_best_only' config is True, it requires to compare the monitored metric value, but the provided monitored \n",
       "metric value is not available.\n"
      ]
     },
     "metadata": {},
     "output_type": "display_data"
    },
    {
     "name": "stderr",
     "output_type": "stream",
     "text": [
      "Epoch 276, global step 17728: 'f1' was not in top 1\n",
      "Epoch 276, global step 17728: 'iou' reached 0.24200 (best 0.24200), saving model to './mlruns/126730738902562300/598a0c52f5a34d9e9e1956c73f94acd8/checkpoints/iou_epoch=276f1=0.50527iou=0.24200loss=0.05046.ckpt' as top 1\n"
     ]
    },
    {
     "data": {
      "text/html": [
       "<pre style=\"white-space:pre;overflow-x:auto;line-height:normal;font-family:Menlo,'DejaVu Sans Mono',consolas,'Courier New',monospace\">2024/06/10 05:27:41 WARNING mlflow.utils.checkpoint_utils: Checkpoint logging is skipped, because checkpoint \n",
       "'save_best_only' config is True, it requires to compare the monitored metric value, but the provided monitored \n",
       "metric value is not available.\n",
       "</pre>\n"
      ],
      "text/plain": [
       "2024/06/10 05:27:41 WARNING mlflow.utils.checkpoint_utils: Checkpoint logging is skipped, because checkpoint \n",
       "'save_best_only' config is True, it requires to compare the monitored metric value, but the provided monitored \n",
       "metric value is not available.\n"
      ]
     },
     "metadata": {},
     "output_type": "display_data"
    },
    {
     "name": "stderr",
     "output_type": "stream",
     "text": [
      "Epoch 277, global step 17792: 'f1' was not in top 1\n",
      "Epoch 277, global step 17792: 'iou' was not in top 1\n"
     ]
    },
    {
     "data": {
      "text/html": [
       "<pre style=\"white-space:pre;overflow-x:auto;line-height:normal;font-family:Menlo,'DejaVu Sans Mono',consolas,'Courier New',monospace\">2024/06/10 05:28:41 WARNING mlflow.utils.checkpoint_utils: Checkpoint logging is skipped, because checkpoint \n",
       "'save_best_only' config is True, it requires to compare the monitored metric value, but the provided monitored \n",
       "metric value is not available.\n",
       "</pre>\n"
      ],
      "text/plain": [
       "2024/06/10 05:28:41 WARNING mlflow.utils.checkpoint_utils: Checkpoint logging is skipped, because checkpoint \n",
       "'save_best_only' config is True, it requires to compare the monitored metric value, but the provided monitored \n",
       "metric value is not available.\n"
      ]
     },
     "metadata": {},
     "output_type": "display_data"
    },
    {
     "name": "stderr",
     "output_type": "stream",
     "text": [
      "Epoch 278, global step 17856: 'f1' was not in top 1\n",
      "Epoch 278, global step 17856: 'iou' was not in top 1\n"
     ]
    },
    {
     "data": {
      "text/html": [
       "<pre style=\"white-space:pre;overflow-x:auto;line-height:normal;font-family:Menlo,'DejaVu Sans Mono',consolas,'Courier New',monospace\">2024/06/10 05:29:41 WARNING mlflow.utils.checkpoint_utils: Checkpoint logging is skipped, because checkpoint \n",
       "'save_best_only' config is True, it requires to compare the monitored metric value, but the provided monitored \n",
       "metric value is not available.\n",
       "</pre>\n"
      ],
      "text/plain": [
       "2024/06/10 05:29:41 WARNING mlflow.utils.checkpoint_utils: Checkpoint logging is skipped, because checkpoint \n",
       "'save_best_only' config is True, it requires to compare the monitored metric value, but the provided monitored \n",
       "metric value is not available.\n"
      ]
     },
     "metadata": {},
     "output_type": "display_data"
    },
    {
     "name": "stderr",
     "output_type": "stream",
     "text": [
      "Epoch 279, global step 17920: 'f1' was not in top 1\n",
      "Epoch 279, global step 17920: 'iou' was not in top 1\n"
     ]
    },
    {
     "data": {
      "text/html": [
       "<pre style=\"white-space:pre;overflow-x:auto;line-height:normal;font-family:Menlo,'DejaVu Sans Mono',consolas,'Courier New',monospace\">2024/06/10 05:30:40 WARNING mlflow.utils.checkpoint_utils: Checkpoint logging is skipped, because checkpoint \n",
       "'save_best_only' config is True, it requires to compare the monitored metric value, but the provided monitored \n",
       "metric value is not available.\n",
       "</pre>\n"
      ],
      "text/plain": [
       "2024/06/10 05:30:40 WARNING mlflow.utils.checkpoint_utils: Checkpoint logging is skipped, because checkpoint \n",
       "'save_best_only' config is True, it requires to compare the monitored metric value, but the provided monitored \n",
       "metric value is not available.\n"
      ]
     },
     "metadata": {},
     "output_type": "display_data"
    },
    {
     "name": "stderr",
     "output_type": "stream",
     "text": [
      "Epoch 280, global step 17984: 'f1' was not in top 1\n",
      "Epoch 280, global step 17984: 'iou' was not in top 1\n"
     ]
    },
    {
     "data": {
      "text/html": [
       "<pre style=\"white-space:pre;overflow-x:auto;line-height:normal;font-family:Menlo,'DejaVu Sans Mono',consolas,'Courier New',monospace\">2024/06/10 05:31:40 WARNING mlflow.utils.checkpoint_utils: Checkpoint logging is skipped, because checkpoint \n",
       "'save_best_only' config is True, it requires to compare the monitored metric value, but the provided monitored \n",
       "metric value is not available.\n",
       "</pre>\n"
      ],
      "text/plain": [
       "2024/06/10 05:31:40 WARNING mlflow.utils.checkpoint_utils: Checkpoint logging is skipped, because checkpoint \n",
       "'save_best_only' config is True, it requires to compare the monitored metric value, but the provided monitored \n",
       "metric value is not available.\n"
      ]
     },
     "metadata": {},
     "output_type": "display_data"
    },
    {
     "name": "stderr",
     "output_type": "stream",
     "text": [
      "Epoch 281, global step 18048: 'f1' was not in top 1\n",
      "Epoch 281, global step 18048: 'iou' was not in top 1\n"
     ]
    },
    {
     "data": {
      "text/html": [
       "<pre style=\"white-space:pre;overflow-x:auto;line-height:normal;font-family:Menlo,'DejaVu Sans Mono',consolas,'Courier New',monospace\">2024/06/10 05:32:40 WARNING mlflow.utils.checkpoint_utils: Checkpoint logging is skipped, because checkpoint \n",
       "'save_best_only' config is True, it requires to compare the monitored metric value, but the provided monitored \n",
       "metric value is not available.\n",
       "</pre>\n"
      ],
      "text/plain": [
       "2024/06/10 05:32:40 WARNING mlflow.utils.checkpoint_utils: Checkpoint logging is skipped, because checkpoint \n",
       "'save_best_only' config is True, it requires to compare the monitored metric value, but the provided monitored \n",
       "metric value is not available.\n"
      ]
     },
     "metadata": {},
     "output_type": "display_data"
    },
    {
     "name": "stderr",
     "output_type": "stream",
     "text": [
      "Epoch 282, global step 18112: 'f1' was not in top 1\n",
      "Epoch 282, global step 18112: 'iou' was not in top 1\n"
     ]
    },
    {
     "data": {
      "text/html": [
       "<pre style=\"white-space:pre;overflow-x:auto;line-height:normal;font-family:Menlo,'DejaVu Sans Mono',consolas,'Courier New',monospace\">2024/06/10 05:33:40 WARNING mlflow.utils.checkpoint_utils: Checkpoint logging is skipped, because checkpoint \n",
       "'save_best_only' config is True, it requires to compare the monitored metric value, but the provided monitored \n",
       "metric value is not available.\n",
       "</pre>\n"
      ],
      "text/plain": [
       "2024/06/10 05:33:40 WARNING mlflow.utils.checkpoint_utils: Checkpoint logging is skipped, because checkpoint \n",
       "'save_best_only' config is True, it requires to compare the monitored metric value, but the provided monitored \n",
       "metric value is not available.\n"
      ]
     },
     "metadata": {},
     "output_type": "display_data"
    },
    {
     "name": "stderr",
     "output_type": "stream",
     "text": [
      "Epoch 283, global step 18176: 'f1' was not in top 1\n",
      "Epoch 283, global step 18176: 'iou' was not in top 1\n"
     ]
    },
    {
     "data": {
      "text/html": [
       "<pre style=\"white-space:pre;overflow-x:auto;line-height:normal;font-family:Menlo,'DejaVu Sans Mono',consolas,'Courier New',monospace\">2024/06/10 05:34:40 WARNING mlflow.utils.checkpoint_utils: Checkpoint logging is skipped, because checkpoint \n",
       "'save_best_only' config is True, it requires to compare the monitored metric value, but the provided monitored \n",
       "metric value is not available.\n",
       "</pre>\n"
      ],
      "text/plain": [
       "2024/06/10 05:34:40 WARNING mlflow.utils.checkpoint_utils: Checkpoint logging is skipped, because checkpoint \n",
       "'save_best_only' config is True, it requires to compare the monitored metric value, but the provided monitored \n",
       "metric value is not available.\n"
      ]
     },
     "metadata": {},
     "output_type": "display_data"
    },
    {
     "name": "stderr",
     "output_type": "stream",
     "text": [
      "Epoch 284, global step 18240: 'f1' was not in top 1\n",
      "Epoch 284, global step 18240: 'iou' was not in top 1\n"
     ]
    },
    {
     "data": {
      "text/html": [
       "<pre style=\"white-space:pre;overflow-x:auto;line-height:normal;font-family:Menlo,'DejaVu Sans Mono',consolas,'Courier New',monospace\">2024/06/10 05:35:39 WARNING mlflow.utils.checkpoint_utils: Checkpoint logging is skipped, because checkpoint \n",
       "'save_best_only' config is True, it requires to compare the monitored metric value, but the provided monitored \n",
       "metric value is not available.\n",
       "</pre>\n"
      ],
      "text/plain": [
       "2024/06/10 05:35:39 WARNING mlflow.utils.checkpoint_utils: Checkpoint logging is skipped, because checkpoint \n",
       "'save_best_only' config is True, it requires to compare the monitored metric value, but the provided monitored \n",
       "metric value is not available.\n"
      ]
     },
     "metadata": {},
     "output_type": "display_data"
    },
    {
     "name": "stderr",
     "output_type": "stream",
     "text": [
      "Epoch 285, global step 18304: 'f1' was not in top 1\n",
      "Epoch 285, global step 18304: 'iou' was not in top 1\n"
     ]
    },
    {
     "data": {
      "text/html": [
       "<pre style=\"white-space:pre;overflow-x:auto;line-height:normal;font-family:Menlo,'DejaVu Sans Mono',consolas,'Courier New',monospace\">2024/06/10 05:36:39 WARNING mlflow.utils.checkpoint_utils: Checkpoint logging is skipped, because checkpoint \n",
       "'save_best_only' config is True, it requires to compare the monitored metric value, but the provided monitored \n",
       "metric value is not available.\n",
       "</pre>\n"
      ],
      "text/plain": [
       "2024/06/10 05:36:39 WARNING mlflow.utils.checkpoint_utils: Checkpoint logging is skipped, because checkpoint \n",
       "'save_best_only' config is True, it requires to compare the monitored metric value, but the provided monitored \n",
       "metric value is not available.\n"
      ]
     },
     "metadata": {},
     "output_type": "display_data"
    },
    {
     "name": "stderr",
     "output_type": "stream",
     "text": [
      "Epoch 286, global step 18368: 'f1' was not in top 1\n",
      "Epoch 286, global step 18368: 'iou' was not in top 1\n"
     ]
    },
    {
     "data": {
      "text/html": [
       "<pre style=\"white-space:pre;overflow-x:auto;line-height:normal;font-family:Menlo,'DejaVu Sans Mono',consolas,'Courier New',monospace\">2024/06/10 05:37:39 WARNING mlflow.utils.checkpoint_utils: Checkpoint logging is skipped, because checkpoint \n",
       "'save_best_only' config is True, it requires to compare the monitored metric value, but the provided monitored \n",
       "metric value is not available.\n",
       "</pre>\n"
      ],
      "text/plain": [
       "2024/06/10 05:37:39 WARNING mlflow.utils.checkpoint_utils: Checkpoint logging is skipped, because checkpoint \n",
       "'save_best_only' config is True, it requires to compare the monitored metric value, but the provided monitored \n",
       "metric value is not available.\n"
      ]
     },
     "metadata": {},
     "output_type": "display_data"
    },
    {
     "name": "stderr",
     "output_type": "stream",
     "text": [
      "Epoch 287, global step 18432: 'f1' was not in top 1\n",
      "Epoch 287, global step 18432: 'iou' was not in top 1\n"
     ]
    },
    {
     "data": {
      "text/html": [
       "<pre style=\"white-space:pre;overflow-x:auto;line-height:normal;font-family:Menlo,'DejaVu Sans Mono',consolas,'Courier New',monospace\">2024/06/10 05:38:39 WARNING mlflow.utils.checkpoint_utils: Checkpoint logging is skipped, because checkpoint \n",
       "'save_best_only' config is True, it requires to compare the monitored metric value, but the provided monitored \n",
       "metric value is not available.\n",
       "</pre>\n"
      ],
      "text/plain": [
       "2024/06/10 05:38:39 WARNING mlflow.utils.checkpoint_utils: Checkpoint logging is skipped, because checkpoint \n",
       "'save_best_only' config is True, it requires to compare the monitored metric value, but the provided monitored \n",
       "metric value is not available.\n"
      ]
     },
     "metadata": {},
     "output_type": "display_data"
    },
    {
     "name": "stderr",
     "output_type": "stream",
     "text": [
      "Epoch 288, global step 18496: 'f1' was not in top 1\n",
      "Epoch 288, global step 18496: 'iou' was not in top 1\n"
     ]
    },
    {
     "data": {
      "text/html": [
       "<pre style=\"white-space:pre;overflow-x:auto;line-height:normal;font-family:Menlo,'DejaVu Sans Mono',consolas,'Courier New',monospace\">2024/06/10 05:39:39 WARNING mlflow.utils.checkpoint_utils: Checkpoint logging is skipped, because checkpoint \n",
       "'save_best_only' config is True, it requires to compare the monitored metric value, but the provided monitored \n",
       "metric value is not available.\n",
       "</pre>\n"
      ],
      "text/plain": [
       "2024/06/10 05:39:39 WARNING mlflow.utils.checkpoint_utils: Checkpoint logging is skipped, because checkpoint \n",
       "'save_best_only' config is True, it requires to compare the monitored metric value, but the provided monitored \n",
       "metric value is not available.\n"
      ]
     },
     "metadata": {},
     "output_type": "display_data"
    },
    {
     "name": "stderr",
     "output_type": "stream",
     "text": [
      "Epoch 289, global step 18560: 'f1' was not in top 1\n",
      "Epoch 289, global step 18560: 'iou' reached 0.24233 (best 0.24233), saving model to './mlruns/126730738902562300/598a0c52f5a34d9e9e1956c73f94acd8/checkpoints/iou_epoch=289f1=0.50768iou=0.24233loss=0.03842.ckpt' as top 1\n"
     ]
    },
    {
     "data": {
      "text/html": [
       "<pre style=\"white-space:pre;overflow-x:auto;line-height:normal;font-family:Menlo,'DejaVu Sans Mono',consolas,'Courier New',monospace\">2024/06/10 05:40:42 WARNING mlflow.utils.checkpoint_utils: Checkpoint logging is skipped, because checkpoint \n",
       "'save_best_only' config is True, it requires to compare the monitored metric value, but the provided monitored \n",
       "metric value is not available.\n",
       "</pre>\n"
      ],
      "text/plain": [
       "2024/06/10 05:40:42 WARNING mlflow.utils.checkpoint_utils: Checkpoint logging is skipped, because checkpoint \n",
       "'save_best_only' config is True, it requires to compare the monitored metric value, but the provided monitored \n",
       "metric value is not available.\n"
      ]
     },
     "metadata": {},
     "output_type": "display_data"
    },
    {
     "name": "stderr",
     "output_type": "stream",
     "text": [
      "Epoch 290, global step 18624: 'f1' was not in top 1\n",
      "Epoch 290, global step 18624: 'iou' was not in top 1\n"
     ]
    },
    {
     "data": {
      "text/html": [
       "<pre style=\"white-space:pre;overflow-x:auto;line-height:normal;font-family:Menlo,'DejaVu Sans Mono',consolas,'Courier New',monospace\">2024/06/10 05:41:42 WARNING mlflow.utils.checkpoint_utils: Checkpoint logging is skipped, because checkpoint \n",
       "'save_best_only' config is True, it requires to compare the monitored metric value, but the provided monitored \n",
       "metric value is not available.\n",
       "</pre>\n"
      ],
      "text/plain": [
       "2024/06/10 05:41:42 WARNING mlflow.utils.checkpoint_utils: Checkpoint logging is skipped, because checkpoint \n",
       "'save_best_only' config is True, it requires to compare the monitored metric value, but the provided monitored \n",
       "metric value is not available.\n"
      ]
     },
     "metadata": {},
     "output_type": "display_data"
    },
    {
     "name": "stderr",
     "output_type": "stream",
     "text": [
      "Epoch 291, global step 18688: 'f1' was not in top 1\n",
      "Epoch 291, global step 18688: 'iou' reached 0.24242 (best 0.24242), saving model to './mlruns/126730738902562300/598a0c52f5a34d9e9e1956c73f94acd8/checkpoints/iou_epoch=291f1=0.50651iou=0.24242loss=0.03514.ckpt' as top 1\n"
     ]
    },
    {
     "data": {
      "text/html": [
       "<pre style=\"white-space:pre;overflow-x:auto;line-height:normal;font-family:Menlo,'DejaVu Sans Mono',consolas,'Courier New',monospace\">2024/06/10 05:42:45 WARNING mlflow.utils.checkpoint_utils: Checkpoint logging is skipped, because checkpoint \n",
       "'save_best_only' config is True, it requires to compare the monitored metric value, but the provided monitored \n",
       "metric value is not available.\n",
       "</pre>\n"
      ],
      "text/plain": [
       "2024/06/10 05:42:45 WARNING mlflow.utils.checkpoint_utils: Checkpoint logging is skipped, because checkpoint \n",
       "'save_best_only' config is True, it requires to compare the monitored metric value, but the provided monitored \n",
       "metric value is not available.\n"
      ]
     },
     "metadata": {},
     "output_type": "display_data"
    },
    {
     "name": "stderr",
     "output_type": "stream",
     "text": [
      "Epoch 292, global step 18752: 'f1' was not in top 1\n",
      "Epoch 292, global step 18752: 'iou' was not in top 1\n"
     ]
    },
    {
     "data": {
      "text/html": [
       "<pre style=\"white-space:pre;overflow-x:auto;line-height:normal;font-family:Menlo,'DejaVu Sans Mono',consolas,'Courier New',monospace\">2024/06/10 05:43:44 WARNING mlflow.utils.checkpoint_utils: Checkpoint logging is skipped, because checkpoint \n",
       "'save_best_only' config is True, it requires to compare the monitored metric value, but the provided monitored \n",
       "metric value is not available.\n",
       "</pre>\n"
      ],
      "text/plain": [
       "2024/06/10 05:43:44 WARNING mlflow.utils.checkpoint_utils: Checkpoint logging is skipped, because checkpoint \n",
       "'save_best_only' config is True, it requires to compare the monitored metric value, but the provided monitored \n",
       "metric value is not available.\n"
      ]
     },
     "metadata": {},
     "output_type": "display_data"
    },
    {
     "name": "stderr",
     "output_type": "stream",
     "text": [
      "Epoch 293, global step 18816: 'f1' was not in top 1\n",
      "Epoch 293, global step 18816: 'iou' was not in top 1\n"
     ]
    },
    {
     "data": {
      "text/html": [
       "<pre style=\"white-space:pre;overflow-x:auto;line-height:normal;font-family:Menlo,'DejaVu Sans Mono',consolas,'Courier New',monospace\">2024/06/10 05:44:44 WARNING mlflow.utils.checkpoint_utils: Checkpoint logging is skipped, because checkpoint \n",
       "'save_best_only' config is True, it requires to compare the monitored metric value, but the provided monitored \n",
       "metric value is not available.\n",
       "</pre>\n"
      ],
      "text/plain": [
       "2024/06/10 05:44:44 WARNING mlflow.utils.checkpoint_utils: Checkpoint logging is skipped, because checkpoint \n",
       "'save_best_only' config is True, it requires to compare the monitored metric value, but the provided monitored \n",
       "metric value is not available.\n"
      ]
     },
     "metadata": {},
     "output_type": "display_data"
    },
    {
     "name": "stderr",
     "output_type": "stream",
     "text": [
      "Epoch 294, global step 18880: 'f1' was not in top 1\n",
      "Epoch 294, global step 18880: 'iou' was not in top 1\n"
     ]
    },
    {
     "data": {
      "text/html": [
       "<pre style=\"white-space:pre;overflow-x:auto;line-height:normal;font-family:Menlo,'DejaVu Sans Mono',consolas,'Courier New',monospace\">2024/06/10 05:45:44 WARNING mlflow.utils.checkpoint_utils: Checkpoint logging is skipped, because checkpoint \n",
       "'save_best_only' config is True, it requires to compare the monitored metric value, but the provided monitored \n",
       "metric value is not available.\n",
       "</pre>\n"
      ],
      "text/plain": [
       "2024/06/10 05:45:44 WARNING mlflow.utils.checkpoint_utils: Checkpoint logging is skipped, because checkpoint \n",
       "'save_best_only' config is True, it requires to compare the monitored metric value, but the provided monitored \n",
       "metric value is not available.\n"
      ]
     },
     "metadata": {},
     "output_type": "display_data"
    },
    {
     "name": "stderr",
     "output_type": "stream",
     "text": [
      "Epoch 295, global step 18944: 'f1' was not in top 1\n",
      "Epoch 295, global step 18944: 'iou' was not in top 1\n"
     ]
    },
    {
     "data": {
      "text/html": [
       "<pre style=\"white-space:pre;overflow-x:auto;line-height:normal;font-family:Menlo,'DejaVu Sans Mono',consolas,'Courier New',monospace\">2024/06/10 05:46:44 WARNING mlflow.utils.checkpoint_utils: Checkpoint logging is skipped, because checkpoint \n",
       "'save_best_only' config is True, it requires to compare the monitored metric value, but the provided monitored \n",
       "metric value is not available.\n",
       "</pre>\n"
      ],
      "text/plain": [
       "2024/06/10 05:46:44 WARNING mlflow.utils.checkpoint_utils: Checkpoint logging is skipped, because checkpoint \n",
       "'save_best_only' config is True, it requires to compare the monitored metric value, but the provided monitored \n",
       "metric value is not available.\n"
      ]
     },
     "metadata": {},
     "output_type": "display_data"
    },
    {
     "name": "stderr",
     "output_type": "stream",
     "text": [
      "Epoch 296, global step 19008: 'f1' was not in top 1\n",
      "Epoch 296, global step 19008: 'iou' was not in top 1\n"
     ]
    },
    {
     "data": {
      "text/html": [
       "<pre style=\"white-space:pre;overflow-x:auto;line-height:normal;font-family:Menlo,'DejaVu Sans Mono',consolas,'Courier New',monospace\">2024/06/10 05:47:43 WARNING mlflow.utils.checkpoint_utils: Checkpoint logging is skipped, because checkpoint \n",
       "'save_best_only' config is True, it requires to compare the monitored metric value, but the provided monitored \n",
       "metric value is not available.\n",
       "</pre>\n"
      ],
      "text/plain": [
       "2024/06/10 05:47:43 WARNING mlflow.utils.checkpoint_utils: Checkpoint logging is skipped, because checkpoint \n",
       "'save_best_only' config is True, it requires to compare the monitored metric value, but the provided monitored \n",
       "metric value is not available.\n"
      ]
     },
     "metadata": {},
     "output_type": "display_data"
    },
    {
     "name": "stderr",
     "output_type": "stream",
     "text": [
      "Epoch 297, global step 19072: 'f1' was not in top 1\n",
      "Epoch 297, global step 19072: 'iou' was not in top 1\n"
     ]
    },
    {
     "data": {
      "text/html": [
       "<pre style=\"white-space:pre;overflow-x:auto;line-height:normal;font-family:Menlo,'DejaVu Sans Mono',consolas,'Courier New',monospace\">2024/06/10 05:48:43 WARNING mlflow.utils.checkpoint_utils: Checkpoint logging is skipped, because checkpoint \n",
       "'save_best_only' config is True, it requires to compare the monitored metric value, but the provided monitored \n",
       "metric value is not available.\n",
       "</pre>\n"
      ],
      "text/plain": [
       "2024/06/10 05:48:43 WARNING mlflow.utils.checkpoint_utils: Checkpoint logging is skipped, because checkpoint \n",
       "'save_best_only' config is True, it requires to compare the monitored metric value, but the provided monitored \n",
       "metric value is not available.\n"
      ]
     },
     "metadata": {},
     "output_type": "display_data"
    },
    {
     "name": "stderr",
     "output_type": "stream",
     "text": [
      "Epoch 298, global step 19136: 'f1' was not in top 1\n",
      "Epoch 298, global step 19136: 'iou' was not in top 1\n"
     ]
    },
    {
     "data": {
      "text/html": [
       "<pre style=\"white-space:pre;overflow-x:auto;line-height:normal;font-family:Menlo,'DejaVu Sans Mono',consolas,'Courier New',monospace\">2024/06/10 05:49:43 WARNING mlflow.utils.checkpoint_utils: Checkpoint logging is skipped, because checkpoint \n",
       "'save_best_only' config is True, it requires to compare the monitored metric value, but the provided monitored \n",
       "metric value is not available.\n",
       "</pre>\n"
      ],
      "text/plain": [
       "2024/06/10 05:49:43 WARNING mlflow.utils.checkpoint_utils: Checkpoint logging is skipped, because checkpoint \n",
       "'save_best_only' config is True, it requires to compare the monitored metric value, but the provided monitored \n",
       "metric value is not available.\n"
      ]
     },
     "metadata": {},
     "output_type": "display_data"
    },
    {
     "name": "stderr",
     "output_type": "stream",
     "text": [
      "Epoch 299, global step 19200: 'f1' was not in top 1\n",
      "Epoch 299, global step 19200: 'iou' was not in top 1\n",
      "`Trainer.fit` stopped: `max_epochs=300` reached.\n"
     ]
    },
    {
     "data": {
      "text/html": [
       "<pre style=\"white-space:pre;overflow-x:auto;line-height:normal;font-family:Menlo,'DejaVu Sans Mono',consolas,'Courier New',monospace\"></pre>\n"
      ],
      "text/plain": []
     },
     "metadata": {},
     "output_type": "display_data"
    },
    {
     "data": {
      "text/html": [
       "<pre style=\"white-space:pre;overflow-x:auto;line-height:normal;font-family:Menlo,'DejaVu Sans Mono',consolas,'Courier New',monospace\">\n",
       "</pre>\n"
      ],
      "text/plain": [
       "\n"
      ]
     },
     "metadata": {},
     "output_type": "display_data"
    }
   ],
   "source": [
    "mlflow.pytorch.autolog()\n",
    "\n",
    "\n",
    "f1_checkpoint_callback = ModelCheckpoint(\n",
    "    save_top_k=1, verbose=True, monitor=\"f1\", mode=\"max\", filename=\"f1_{epoch}{f1:.5f}{iou:.5f}{loss:.5f}\"\n",
    ")\n",
    "\n",
    "iou_checkpoint_callback = ModelCheckpoint(\n",
    "    save_top_k=1, verbose=True, monitor=\"iou\", mode=\"max\", filename=\"iou_{epoch}{f1:.5f}{iou:.5f}{loss:.5f}\"\n",
    ")\n",
    "\n",
    "loss_checkpoint_callback = ModelCheckpoint(\n",
    "    save_top_k=1, verbose=True, monitor=\"loss\", mode=\"min\", filename=\"loss_{epoch}{f1:.5f}{iou:.5f}{loss:.5f}\"\n",
    ")\n",
    "\n",
    "trainer = pl.Trainer(\n",
    "    max_epochs=300,\n",
    "    callbacks=[\n",
    "        RichProgressBar(),\n",
    "        f1_checkpoint_callback,\n",
    "        iou_checkpoint_callback,\n",
    "        # loss_checkpoint_callback\n",
    "    ],\n",
    "    logger=MLFlowLogger(),\n",
    "    precision=\"16-mixed\",\n",
    ")\n",
    "trainer.fit(model, datamodule=dm)"
   ]
  },
  {
   "cell_type": "code",
   "execution_count": null,
   "metadata": {},
   "outputs": [],
   "source": []
  },
  {
   "cell_type": "code",
   "execution_count": null,
   "metadata": {},
   "outputs": [],
   "source": []
  }
 ],
 "metadata": {
  "kernelspec": {
   "display_name": "Python 3 (ipykernel)",
   "language": "python",
   "name": "python3"
  },
  "language_info": {
   "codemirror_mode": {
    "name": "ipython",
    "version": 3
   },
   "file_extension": ".py",
   "mimetype": "text/x-python",
   "name": "python",
   "nbconvert_exporter": "python",
   "pygments_lexer": "ipython3",
   "version": "3.11.4"
  }
 },
 "nbformat": 4,
 "nbformat_minor": 4
}
