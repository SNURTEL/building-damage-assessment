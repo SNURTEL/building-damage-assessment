{
 "cells": [
  {
   "cell_type": "code",
   "execution_count": 1,
   "metadata": {},
   "outputs": [],
   "source": [
    "from pathlib import Path\n",
    "\n",
    "import mlflow\n",
    "import pytorch_lightning as pl\n",
    "import torch\n",
    "from pytorch_lightning.callbacks import ModelCheckpoint, RichProgressBar\n",
    "from pytorch_lightning.loggers import MLFlowLogger\n",
    "from tqdm import tqdm"
   ]
  },
  {
   "cell_type": "code",
   "execution_count": 2,
   "metadata": {},
   "outputs": [],
   "source": [
    "from inz.data.data_module import XBDDataModule\n",
    "from inz.data.event import Event, Tier3, Tier1, Hold\n",
    "from inz.models.unet_siamese import UNetSiamese\n",
    "from inz.models.unet_siamese_pl import OrdinalCrossEntropyLoss, SemanticSegmentorSiamese"
   ]
  },
  {
   "cell_type": "code",
   "execution_count": 3,
   "metadata": {},
   "outputs": [
    {
     "name": "stderr",
     "output_type": "stream",
     "text": [
      "Seed set to 123\n"
     ]
    }
   ],
   "source": [
    "RANDOM_SEED = 123\n",
    "pl.seed_everything(RANDOM_SEED)\n",
    "device = torch.device(\"cuda\")\n",
    "torch.set_float32_matmul_precision(\"high\")"
   ]
  },
  {
   "cell_type": "code",
   "execution_count": 4,
   "metadata": {},
   "outputs": [
    {
     "name": "stdout",
     "output_type": "stream",
     "text": [
      "1292 train batches, 278 val batches\n"
     ]
    }
   ],
   "source": [
    "dm = XBDDataModule(\n",
    "    path=Path(\"data/xBD_processed\"),\n",
    "    # events={\n",
    "    #     # Tier1: [\n",
    "    #     #     Event.hurricane_florence,\n",
    "    #     #     Event.hurricane_harvey,\n",
    "    #     #     Event.hurricane_matthew,\n",
    "    #     #     Event.hurricane_michael,\n",
    "    #     # ],\n",
    "    #     # Tier3: [\n",
    "    #     #     Event.joplin_tornado,\n",
    "    #     #     # Event.moore_tornado,\n",
    "    #     #     # Event.tuscaloosa_tornado\n",
    "    #     # ],\n",
    "    #     # Hold: [\n",
    "    #     #     Event.hurricane_florence,\n",
    "    #     #     Event.hurricane_harvey,\n",
    "    #     #     Event.hurricane_matthew,\n",
    "    #     #     Event.hurricane_michael,\n",
    "    #     # ],\n",
    "    #     # Test: [\n",
    "    #     #     Event.hurricane_florence,\n",
    "    #     #     Event.hurricane_harvey,\n",
    "    #     #     Event.hurricane_matthew,\n",
    "    #     #     Event.hurricane_michael,\n",
    "    #     # ],\n",
    "    # },\n",
    "    # val_faction=0.15,\n",
    "    # test_fraction=0.0,\n",
    "    train_batch_size=24,\n",
    "    val_batch_size=24,\n",
    "    test_batch_size=24,\n",
    "    split_events={\n",
    "        \"train\": {\n",
    "            Tier1: [\n",
    "                Event.hurricane_florence,\n",
    "                Event.hurricane_harvey,\n",
    "                Event.hurricane_matthew,\n",
    "                Event.hurricane_michael,\n",
    "            ],\n",
    "            Tier3: [Event.joplin_tornado, Event.moore_tornado, Event.tuscaloosa_tornado],\n",
    "        },\n",
    "        \"val\": {\n",
    "            Hold: [\n",
    "                Event.hurricane_florence,\n",
    "                Event.hurricane_harvey,\n",
    "                Event.hurricane_matthew,\n",
    "                Event.hurricane_michael,\n",
    "            ],\n",
    "        },\n",
    "    },\n",
    ")\n",
    "dm.prepare_data()\n",
    "dm.setup(\"fit\")\n",
    "\n",
    "print(f\"{len(dm.train_dataloader())} train batches, {len(dm.val_dataloader())} val batches\")"
   ]
  },
  {
   "cell_type": "code",
   "execution_count": 5,
   "metadata": {},
   "outputs": [
    {
     "name": "stderr",
     "output_type": "stream",
     "text": [
      "100%|██████████| 1292/1292 [04:56<00:00,  4.36it/s]\n"
     ]
    },
    {
     "name": "stdout",
     "output_type": "stream",
     "text": [
      "tensor([1.8963e+09, 8.6628e+07, 2.0118e+07, 2.0930e+07, 6.4454e+06, 1.7008e+06])\n",
      "Localization weights: tensor([0.0670, 0.9330], device='cuda:0')\n",
      "Classification weights: tensor([0.0006, 0.0135, 0.0583, 0.0560, 0.1820, 0.0000], device='cuda:0')\n"
     ]
    }
   ],
   "source": [
    "aaa_loc = []\n",
    "aaa_cls = []\n",
    "for batch in tqdm(dm.train_dataloader()):\n",
    "    pre_images, pre_masks, post_images, post_masks = batch\n",
    "    counts_post = torch.bincount(post_masks.argmax(dim=1).reshape(-1), minlength=6)\n",
    "    aaa_cls.append(counts_post)\n",
    "    counts_pre = torch.bincount(pre_masks.argmax(dim=1).reshape(-1), minlength=6)\n",
    "    aaa_loc.append(torch.tensor([counts_pre[0], counts_pre[1:].sum()]))\n",
    "\n",
    "loc_counts = torch.stack(aaa_loc).sum(dim=0).to(torch.float)\n",
    "cls_counts = torch.stack(aaa_cls).sum(dim=0).to(torch.float)\n",
    "\n",
    "print(cls_counts)\n",
    "\n",
    "loc_weights = loc_counts.sum() / loc_counts\n",
    "loc_weights = (loc_weights / loc_weights.sum()).cuda()\n",
    "cls_weights = cls_counts.sum() / cls_counts\n",
    "cls_weights = (cls_weights / cls_weights.sum()).cuda() * torch.tensor(\n",
    "    [1, 1, 1, 1, 1, 0]\n",
    ").cuda()  # last class is \"unclassified\"\n",
    "\n",
    "print(f\"Localization weights: {loc_weights}\\nClassification weights: {cls_weights}\")"
   ]
  },
  {
   "cell_type": "code",
   "execution_count": 6,
   "metadata": {},
   "outputs": [
    {
     "name": "stderr",
     "output_type": "stream",
     "text": [
      "/home/tomek/inz/inz/.venv/lib/python3.11/site-packages/pytorch_lightning/utilities/parsing.py:199: Attribute 'model' is an instance of `nn.Module` and is already saved during checkpointing. It is recommended to ignore them using `self.save_hyperparameters(ignore=['model'])`.\n",
      "/home/tomek/inz/inz/.venv/lib/python3.11/site-packages/pytorch_lightning/utilities/parsing.py:199: Attribute 'localization_loss' is an instance of `nn.Module` and is already saved during checkpointing. It is recommended to ignore them using `self.save_hyperparameters(ignore=['localization_loss'])`.\n",
      "/home/tomek/inz/inz/.venv/lib/python3.11/site-packages/pytorch_lightning/utilities/parsing.py:199: Attribute 'classification_loss' is an instance of `nn.Module` and is already saved during checkpointing. It is recommended to ignore them using `self.save_hyperparameters(ignore=['classification_loss'])`.\n"
     ]
    }
   ],
   "source": [
    "model = SemanticSegmentorSiamese(\n",
    "    model=UNetSiamese(in_channels=3, out_channels=6),\n",
    "    localization_loss=torch.nn.BCEWithLogitsLoss(pos_weight=loc_weights[1]),\n",
    "    classification_loss=OrdinalCrossEntropyLoss(n_classes=6, weights=cls_weights),\n",
    "    n_classes=6,\n",
    ")"
   ]
  },
  {
   "cell_type": "code",
   "execution_count": 7,
   "metadata": {},
   "outputs": [
    {
     "name": "stderr",
     "output_type": "stream",
     "text": [
      "/home/tomek/inz/inz/.venv/lib/python3.11/site-packages/lightning_fabric/connector.py:563: `precision=bf16` is supported for historical reasons but its usage is discouraged. Please set your precision to bf16-mixed instead!\n",
      "Using bfloat16 Automatic Mixed Precision (AMP)\n",
      "GPU available: True (cuda), used: True\n",
      "TPU available: False, using: 0 TPU cores\n",
      "IPU available: False, using: 0 IPUs\n",
      "HPU available: False, using: 0 HPUs\n",
      "2024/06/11 01:32:08 INFO mlflow.utils.autologging_utils: Created MLflow autologging run with ID 'c23cf976feab440bb6b77cb20276783f', which will track hyperparameters, performance metrics, model artifacts, and lineage information for the current pytorch workflow\n",
      "LOCAL_RANK: 0 - CUDA_VISIBLE_DEVICES: [0]\n"
     ]
    },
    {
     "data": {
      "text/html": [
       "<pre style=\"white-space:pre;overflow-x:auto;line-height:normal;font-family:Menlo,'DejaVu Sans Mono',consolas,'Courier New',monospace\">┏━━━━┳━━━━━━━━━━━━━━━━━━━━━┳━━━━━━━━━━━━━━━━━━━━━━━━━┳━━━━━━━━┓\n",
       "┃<span style=\"color: #800080; text-decoration-color: #800080; font-weight: bold\">    </span>┃<span style=\"color: #800080; text-decoration-color: #800080; font-weight: bold\"> Name                </span>┃<span style=\"color: #800080; text-decoration-color: #800080; font-weight: bold\"> Type                    </span>┃<span style=\"color: #800080; text-decoration-color: #800080; font-weight: bold\"> Params </span>┃\n",
       "┡━━━━╇━━━━━━━━━━━━━━━━━━━━━╇━━━━━━━━━━━━━━━━━━━━━━━━━╇━━━━━━━━┩\n",
       "│<span style=\"color: #7f7f7f; text-decoration-color: #7f7f7f\"> 0  </span>│ model               │ UNetSiamese             │  145 M │\n",
       "│<span style=\"color: #7f7f7f; text-decoration-color: #7f7f7f\"> 1  </span>│ localization_loss   │ BCEWithLogitsLoss       │      0 │\n",
       "│<span style=\"color: #7f7f7f; text-decoration-color: #7f7f7f\"> 2  </span>│ classification_loss │ OrdinalCrossEntropyLoss │      0 │\n",
       "│<span style=\"color: #7f7f7f; text-decoration-color: #7f7f7f\"> 3  </span>│ accuracy_loc        │ BinaryAccuracy          │      0 │\n",
       "│<span style=\"color: #7f7f7f; text-decoration-color: #7f7f7f\"> 4  </span>│ iou_loc             │ MeanIoU                 │      0 │\n",
       "│<span style=\"color: #7f7f7f; text-decoration-color: #7f7f7f\"> 5  </span>│ f1                  │ MulticlassF1Score       │      0 │\n",
       "│<span style=\"color: #7f7f7f; text-decoration-color: #7f7f7f\"> 6  </span>│ precision           │ MulticlassPrecision     │      0 │\n",
       "│<span style=\"color: #7f7f7f; text-decoration-color: #7f7f7f\"> 7  </span>│ recall              │ MulticlassRecall        │      0 │\n",
       "│<span style=\"color: #7f7f7f; text-decoration-color: #7f7f7f\"> 8  </span>│ iou                 │ MeanIoU                 │      0 │\n",
       "│<span style=\"color: #7f7f7f; text-decoration-color: #7f7f7f\"> 9  </span>│ f1_per_class        │ MulticlassF1Score       │      0 │\n",
       "│<span style=\"color: #7f7f7f; text-decoration-color: #7f7f7f\"> 10 </span>│ precision_per_class │ MulticlassPrecision     │      0 │\n",
       "│<span style=\"color: #7f7f7f; text-decoration-color: #7f7f7f\"> 11 </span>│ recall_per_class    │ MulticlassRecall        │      0 │\n",
       "│<span style=\"color: #7f7f7f; text-decoration-color: #7f7f7f\"> 12 </span>│ iou_per_class       │ MeanIoU                 │      0 │\n",
       "└────┴─────────────────────┴─────────────────────────┴────────┘\n",
       "</pre>\n"
      ],
      "text/plain": [
       "┏━━━━┳━━━━━━━━━━━━━━━━━━━━━┳━━━━━━━━━━━━━━━━━━━━━━━━━┳━━━━━━━━┓\n",
       "┃\u001b[1;35m \u001b[0m\u001b[1;35m  \u001b[0m\u001b[1;35m \u001b[0m┃\u001b[1;35m \u001b[0m\u001b[1;35mName               \u001b[0m\u001b[1;35m \u001b[0m┃\u001b[1;35m \u001b[0m\u001b[1;35mType                   \u001b[0m\u001b[1;35m \u001b[0m┃\u001b[1;35m \u001b[0m\u001b[1;35mParams\u001b[0m\u001b[1;35m \u001b[0m┃\n",
       "┡━━━━╇━━━━━━━━━━━━━━━━━━━━━╇━━━━━━━━━━━━━━━━━━━━━━━━━╇━━━━━━━━┩\n",
       "│\u001b[2m \u001b[0m\u001b[2m0 \u001b[0m\u001b[2m \u001b[0m│ model               │ UNetSiamese             │  145 M │\n",
       "│\u001b[2m \u001b[0m\u001b[2m1 \u001b[0m\u001b[2m \u001b[0m│ localization_loss   │ BCEWithLogitsLoss       │      0 │\n",
       "│\u001b[2m \u001b[0m\u001b[2m2 \u001b[0m\u001b[2m \u001b[0m│ classification_loss │ OrdinalCrossEntropyLoss │      0 │\n",
       "│\u001b[2m \u001b[0m\u001b[2m3 \u001b[0m\u001b[2m \u001b[0m│ accuracy_loc        │ BinaryAccuracy          │      0 │\n",
       "│\u001b[2m \u001b[0m\u001b[2m4 \u001b[0m\u001b[2m \u001b[0m│ iou_loc             │ MeanIoU                 │      0 │\n",
       "│\u001b[2m \u001b[0m\u001b[2m5 \u001b[0m\u001b[2m \u001b[0m│ f1                  │ MulticlassF1Score       │      0 │\n",
       "│\u001b[2m \u001b[0m\u001b[2m6 \u001b[0m\u001b[2m \u001b[0m│ precision           │ MulticlassPrecision     │      0 │\n",
       "│\u001b[2m \u001b[0m\u001b[2m7 \u001b[0m\u001b[2m \u001b[0m│ recall              │ MulticlassRecall        │      0 │\n",
       "│\u001b[2m \u001b[0m\u001b[2m8 \u001b[0m\u001b[2m \u001b[0m│ iou                 │ MeanIoU                 │      0 │\n",
       "│\u001b[2m \u001b[0m\u001b[2m9 \u001b[0m\u001b[2m \u001b[0m│ f1_per_class        │ MulticlassF1Score       │      0 │\n",
       "│\u001b[2m \u001b[0m\u001b[2m10\u001b[0m\u001b[2m \u001b[0m│ precision_per_class │ MulticlassPrecision     │      0 │\n",
       "│\u001b[2m \u001b[0m\u001b[2m11\u001b[0m\u001b[2m \u001b[0m│ recall_per_class    │ MulticlassRecall        │      0 │\n",
       "│\u001b[2m \u001b[0m\u001b[2m12\u001b[0m\u001b[2m \u001b[0m│ iou_per_class       │ MeanIoU                 │      0 │\n",
       "└────┴─────────────────────┴─────────────────────────┴────────┘\n"
      ]
     },
     "metadata": {},
     "output_type": "display_data"
    },
    {
     "data": {
      "text/html": [
       "<pre style=\"white-space:pre;overflow-x:auto;line-height:normal;font-family:Menlo,'DejaVu Sans Mono',consolas,'Courier New',monospace\"><span style=\"font-weight: bold\">Trainable params</span>: 145 M                                                                                            \n",
       "<span style=\"font-weight: bold\">Non-trainable params</span>: 0                                                                                            \n",
       "<span style=\"font-weight: bold\">Total params</span>: 145 M                                                                                                \n",
       "<span style=\"font-weight: bold\">Total estimated model params size (MB)</span>: 580                                                                        \n",
       "</pre>\n"
      ],
      "text/plain": [
       "\u001b[1mTrainable params\u001b[0m: 145 M                                                                                            \n",
       "\u001b[1mNon-trainable params\u001b[0m: 0                                                                                            \n",
       "\u001b[1mTotal params\u001b[0m: 145 M                                                                                                \n",
       "\u001b[1mTotal estimated model params size (MB)\u001b[0m: 580                                                                        \n"
      ]
     },
     "metadata": {},
     "output_type": "display_data"
    },
    {
     "data": {
      "application/vnd.jupyter.widget-view+json": {
       "model_id": "4a5d28d59b0c46379ff035eadd9ebb86",
       "version_major": 2,
       "version_minor": 0
      },
      "text/plain": [
       "Output()"
      ]
     },
     "metadata": {},
     "output_type": "display_data"
    },
    {
     "data": {
      "text/html": [
       "<pre style=\"white-space:pre;overflow-x:auto;line-height:normal;font-family:Menlo,'DejaVu Sans Mono',consolas,'Courier New',monospace\">2024/06/11 01:55:03 WARNING mlflow.utils.checkpoint_utils: Checkpoint logging is skipped, because checkpoint \n",
       "'save_best_only' config is True, it requires to compare the monitored metric value, but the provided monitored \n",
       "metric value is not available.\n",
       "</pre>\n"
      ],
      "text/plain": [
       "2024/06/11 01:55:03 WARNING mlflow.utils.checkpoint_utils: Checkpoint logging is skipped, because checkpoint \n",
       "'save_best_only' config is True, it requires to compare the monitored metric value, but the provided monitored \n",
       "metric value is not available.\n"
      ]
     },
     "metadata": {},
     "output_type": "display_data"
    },
    {
     "name": "stderr",
     "output_type": "stream",
     "text": [
      "Epoch 0, global step 1292: 'f1' reached 0.21725 (best 0.21725), saving model to './mlruns/124960261813571015/459c2992a1bc4e3da497bee5c0cb3633/checkpoints/f1_epoch=0f1=0.21725iou=0.14719loss=2.27019.ckpt' as top 1\n"
     ]
    },
    {
     "data": {
      "text/html": [
       "<pre style=\"white-space:pre;overflow-x:auto;line-height:normal;font-family:Menlo,'DejaVu Sans Mono',consolas,'Courier New',monospace\">2024/06/11 02:17:55 WARNING mlflow.utils.checkpoint_utils: Checkpoint logging is skipped, because checkpoint \n",
       "'save_best_only' config is True, it requires to compare the monitored metric value, but the provided monitored \n",
       "metric value is not available.\n",
       "</pre>\n"
      ],
      "text/plain": [
       "2024/06/11 02:17:55 WARNING mlflow.utils.checkpoint_utils: Checkpoint logging is skipped, because checkpoint \n",
       "'save_best_only' config is True, it requires to compare the monitored metric value, but the provided monitored \n",
       "metric value is not available.\n"
      ]
     },
     "metadata": {},
     "output_type": "display_data"
    },
    {
     "name": "stderr",
     "output_type": "stream",
     "text": [
      "Epoch 1, global step 2584: 'f1' was not in top 1\n"
     ]
    },
    {
     "data": {
      "text/html": [
       "<pre style=\"white-space:pre;overflow-x:auto;line-height:normal;font-family:Menlo,'DejaVu Sans Mono',consolas,'Courier New',monospace\">2024/06/11 02:40:44 WARNING mlflow.utils.checkpoint_utils: Checkpoint logging is skipped, because checkpoint \n",
       "'save_best_only' config is True, it requires to compare the monitored metric value, but the provided monitored \n",
       "metric value is not available.\n",
       "</pre>\n"
      ],
      "text/plain": [
       "2024/06/11 02:40:44 WARNING mlflow.utils.checkpoint_utils: Checkpoint logging is skipped, because checkpoint \n",
       "'save_best_only' config is True, it requires to compare the monitored metric value, but the provided monitored \n",
       "metric value is not available.\n"
      ]
     },
     "metadata": {},
     "output_type": "display_data"
    },
    {
     "name": "stderr",
     "output_type": "stream",
     "text": [
      "Epoch 2, global step 3876: 'f1' was not in top 1\n"
     ]
    },
    {
     "data": {
      "text/html": [
       "<pre style=\"white-space:pre;overflow-x:auto;line-height:normal;font-family:Menlo,'DejaVu Sans Mono',consolas,'Courier New',monospace\">2024/06/11 03:03:32 WARNING mlflow.utils.checkpoint_utils: Checkpoint logging is skipped, because checkpoint \n",
       "'save_best_only' config is True, it requires to compare the monitored metric value, but the provided monitored \n",
       "metric value is not available.\n",
       "</pre>\n"
      ],
      "text/plain": [
       "2024/06/11 03:03:32 WARNING mlflow.utils.checkpoint_utils: Checkpoint logging is skipped, because checkpoint \n",
       "'save_best_only' config is True, it requires to compare the monitored metric value, but the provided monitored \n",
       "metric value is not available.\n"
      ]
     },
     "metadata": {},
     "output_type": "display_data"
    },
    {
     "name": "stderr",
     "output_type": "stream",
     "text": [
      "Epoch 3, global step 5168: 'f1' reached 0.22599 (best 0.22599), saving model to './mlruns/124960261813571015/459c2992a1bc4e3da497bee5c0cb3633/checkpoints/f1_epoch=3f1=0.22599iou=0.15062loss=2.58500.ckpt' as top 1\n"
     ]
    },
    {
     "data": {
      "text/html": [
       "<pre style=\"white-space:pre;overflow-x:auto;line-height:normal;font-family:Menlo,'DejaVu Sans Mono',consolas,'Courier New',monospace\">2024/06/11 03:26:22 WARNING mlflow.utils.checkpoint_utils: Checkpoint logging is skipped, because checkpoint \n",
       "'save_best_only' config is True, it requires to compare the monitored metric value, but the provided monitored \n",
       "metric value is not available.\n",
       "</pre>\n"
      ],
      "text/plain": [
       "2024/06/11 03:26:22 WARNING mlflow.utils.checkpoint_utils: Checkpoint logging is skipped, because checkpoint \n",
       "'save_best_only' config is True, it requires to compare the monitored metric value, but the provided monitored \n",
       "metric value is not available.\n"
      ]
     },
     "metadata": {},
     "output_type": "display_data"
    },
    {
     "name": "stderr",
     "output_type": "stream",
     "text": [
      "Epoch 4, global step 6460: 'f1' reached 0.23778 (best 0.23778), saving model to './mlruns/124960261813571015/459c2992a1bc4e3da497bee5c0cb3633/checkpoints/f1_epoch=4f1=0.23778iou=0.15932loss=2.31731.ckpt' as top 1\n"
     ]
    },
    {
     "data": {
      "text/html": [
       "<pre style=\"white-space:pre;overflow-x:auto;line-height:normal;font-family:Menlo,'DejaVu Sans Mono',consolas,'Courier New',monospace\">2024/06/11 03:49:13 WARNING mlflow.utils.checkpoint_utils: Checkpoint logging is skipped, because checkpoint \n",
       "'save_best_only' config is True, it requires to compare the monitored metric value, but the provided monitored \n",
       "metric value is not available.\n",
       "</pre>\n"
      ],
      "text/plain": [
       "2024/06/11 03:49:13 WARNING mlflow.utils.checkpoint_utils: Checkpoint logging is skipped, because checkpoint \n",
       "'save_best_only' config is True, it requires to compare the monitored metric value, but the provided monitored \n",
       "metric value is not available.\n"
      ]
     },
     "metadata": {},
     "output_type": "display_data"
    },
    {
     "name": "stderr",
     "output_type": "stream",
     "text": [
      "Epoch 5, global step 7752: 'f1' was not in top 1\n"
     ]
    },
    {
     "data": {
      "text/html": [
       "<pre style=\"white-space:pre;overflow-x:auto;line-height:normal;font-family:Menlo,'DejaVu Sans Mono',consolas,'Courier New',monospace\">2024/06/11 04:12:01 WARNING mlflow.utils.checkpoint_utils: Checkpoint logging is skipped, because checkpoint \n",
       "'save_best_only' config is True, it requires to compare the monitored metric value, but the provided monitored \n",
       "metric value is not available.\n",
       "</pre>\n"
      ],
      "text/plain": [
       "2024/06/11 04:12:01 WARNING mlflow.utils.checkpoint_utils: Checkpoint logging is skipped, because checkpoint \n",
       "'save_best_only' config is True, it requires to compare the monitored metric value, but the provided monitored \n",
       "metric value is not available.\n"
      ]
     },
     "metadata": {},
     "output_type": "display_data"
    },
    {
     "name": "stderr",
     "output_type": "stream",
     "text": [
      "Epoch 6, global step 9044: 'f1' was not in top 1\n"
     ]
    },
    {
     "data": {
      "text/html": [
       "<pre style=\"white-space:pre;overflow-x:auto;line-height:normal;font-family:Menlo,'DejaVu Sans Mono',consolas,'Courier New',monospace\">2024/06/11 04:34:45 WARNING mlflow.utils.checkpoint_utils: Checkpoint logging is skipped, because checkpoint \n",
       "'save_best_only' config is True, it requires to compare the monitored metric value, but the provided monitored \n",
       "metric value is not available.\n",
       "</pre>\n"
      ],
      "text/plain": [
       "2024/06/11 04:34:45 WARNING mlflow.utils.checkpoint_utils: Checkpoint logging is skipped, because checkpoint \n",
       "'save_best_only' config is True, it requires to compare the monitored metric value, but the provided monitored \n",
       "metric value is not available.\n"
      ]
     },
     "metadata": {},
     "output_type": "display_data"
    },
    {
     "name": "stderr",
     "output_type": "stream",
     "text": [
      "Epoch 7, global step 10336: 'f1' was not in top 1\n"
     ]
    },
    {
     "data": {
      "text/html": [
       "<pre style=\"white-space:pre;overflow-x:auto;line-height:normal;font-family:Menlo,'DejaVu Sans Mono',consolas,'Courier New',monospace\">2024/06/11 04:57:30 WARNING mlflow.utils.checkpoint_utils: Checkpoint logging is skipped, because checkpoint \n",
       "'save_best_only' config is True, it requires to compare the monitored metric value, but the provided monitored \n",
       "metric value is not available.\n",
       "</pre>\n"
      ],
      "text/plain": [
       "2024/06/11 04:57:30 WARNING mlflow.utils.checkpoint_utils: Checkpoint logging is skipped, because checkpoint \n",
       "'save_best_only' config is True, it requires to compare the monitored metric value, but the provided monitored \n",
       "metric value is not available.\n"
      ]
     },
     "metadata": {},
     "output_type": "display_data"
    },
    {
     "name": "stderr",
     "output_type": "stream",
     "text": [
      "Epoch 8, global step 11628: 'f1' was not in top 1\n"
     ]
    },
    {
     "data": {
      "text/html": [
       "<pre style=\"white-space:pre;overflow-x:auto;line-height:normal;font-family:Menlo,'DejaVu Sans Mono',consolas,'Courier New',monospace\">2024/06/11 05:20:19 WARNING mlflow.utils.checkpoint_utils: Checkpoint logging is skipped, because checkpoint \n",
       "'save_best_only' config is True, it requires to compare the monitored metric value, but the provided monitored \n",
       "metric value is not available.\n",
       "</pre>\n"
      ],
      "text/plain": [
       "2024/06/11 05:20:19 WARNING mlflow.utils.checkpoint_utils: Checkpoint logging is skipped, because checkpoint \n",
       "'save_best_only' config is True, it requires to compare the monitored metric value, but the provided monitored \n",
       "metric value is not available.\n"
      ]
     },
     "metadata": {},
     "output_type": "display_data"
    },
    {
     "name": "stderr",
     "output_type": "stream",
     "text": [
      "Epoch 9, global step 12920: 'f1' was not in top 1\n"
     ]
    },
    {
     "data": {
      "text/html": [
       "<pre style=\"white-space:pre;overflow-x:auto;line-height:normal;font-family:Menlo,'DejaVu Sans Mono',consolas,'Courier New',monospace\">2024/06/11 05:43:07 WARNING mlflow.utils.checkpoint_utils: Checkpoint logging is skipped, because checkpoint \n",
       "'save_best_only' config is True, it requires to compare the monitored metric value, but the provided monitored \n",
       "metric value is not available.\n",
       "</pre>\n"
      ],
      "text/plain": [
       "2024/06/11 05:43:07 WARNING mlflow.utils.checkpoint_utils: Checkpoint logging is skipped, because checkpoint \n",
       "'save_best_only' config is True, it requires to compare the monitored metric value, but the provided monitored \n",
       "metric value is not available.\n"
      ]
     },
     "metadata": {},
     "output_type": "display_data"
    },
    {
     "name": "stderr",
     "output_type": "stream",
     "text": [
      "Epoch 10, global step 14212: 'f1' reached 0.25349 (best 0.25349), saving model to './mlruns/124960261813571015/459c2992a1bc4e3da497bee5c0cb3633/checkpoints/f1_epoch=10f1=0.25349iou=0.16302loss=2.11377.ckpt' as top 1\n"
     ]
    },
    {
     "data": {
      "text/html": [
       "<pre style=\"white-space:pre;overflow-x:auto;line-height:normal;font-family:Menlo,'DejaVu Sans Mono',consolas,'Courier New',monospace\">2024/06/11 06:05:58 WARNING mlflow.utils.checkpoint_utils: Checkpoint logging is skipped, because checkpoint \n",
       "'save_best_only' config is True, it requires to compare the monitored metric value, but the provided monitored \n",
       "metric value is not available.\n",
       "</pre>\n"
      ],
      "text/plain": [
       "2024/06/11 06:05:58 WARNING mlflow.utils.checkpoint_utils: Checkpoint logging is skipped, because checkpoint \n",
       "'save_best_only' config is True, it requires to compare the monitored metric value, but the provided monitored \n",
       "metric value is not available.\n"
      ]
     },
     "metadata": {},
     "output_type": "display_data"
    },
    {
     "name": "stderr",
     "output_type": "stream",
     "text": [
      "Epoch 11, global step 15504: 'f1' reached 0.26285 (best 0.26285), saving model to './mlruns/124960261813571015/459c2992a1bc4e3da497bee5c0cb3633/checkpoints/f1_epoch=11f1=0.26285iou=0.16575loss=1.47692.ckpt' as top 1\n"
     ]
    },
    {
     "data": {
      "text/html": [
       "<pre style=\"white-space:pre;overflow-x:auto;line-height:normal;font-family:Menlo,'DejaVu Sans Mono',consolas,'Courier New',monospace\">2024/06/11 06:28:55 WARNING mlflow.utils.checkpoint_utils: Checkpoint logging is skipped, because checkpoint \n",
       "'save_best_only' config is True, it requires to compare the monitored metric value, but the provided monitored \n",
       "metric value is not available.\n",
       "</pre>\n"
      ],
      "text/plain": [
       "2024/06/11 06:28:55 WARNING mlflow.utils.checkpoint_utils: Checkpoint logging is skipped, because checkpoint \n",
       "'save_best_only' config is True, it requires to compare the monitored metric value, but the provided monitored \n",
       "metric value is not available.\n"
      ]
     },
     "metadata": {},
     "output_type": "display_data"
    },
    {
     "name": "stderr",
     "output_type": "stream",
     "text": [
      "Epoch 12, global step 16796: 'f1' reached 0.27523 (best 0.27523), saving model to './mlruns/124960261813571015/459c2992a1bc4e3da497bee5c0cb3633/checkpoints/f1_epoch=12f1=0.27523iou=0.17239loss=1.52741.ckpt' as top 1\n"
     ]
    },
    {
     "data": {
      "text/html": [
       "<pre style=\"white-space:pre;overflow-x:auto;line-height:normal;font-family:Menlo,'DejaVu Sans Mono',consolas,'Courier New',monospace\">2024/06/11 06:51:45 WARNING mlflow.utils.checkpoint_utils: Checkpoint logging is skipped, because checkpoint \n",
       "'save_best_only' config is True, it requires to compare the monitored metric value, but the provided monitored \n",
       "metric value is not available.\n",
       "</pre>\n"
      ],
      "text/plain": [
       "2024/06/11 06:51:45 WARNING mlflow.utils.checkpoint_utils: Checkpoint logging is skipped, because checkpoint \n",
       "'save_best_only' config is True, it requires to compare the monitored metric value, but the provided monitored \n",
       "metric value is not available.\n"
      ]
     },
     "metadata": {},
     "output_type": "display_data"
    },
    {
     "name": "stderr",
     "output_type": "stream",
     "text": [
      "Epoch 13, global step 18088: 'f1' was not in top 1\n"
     ]
    },
    {
     "data": {
      "text/html": [
       "<pre style=\"white-space:pre;overflow-x:auto;line-height:normal;font-family:Menlo,'DejaVu Sans Mono',consolas,'Courier New',monospace\">2024/06/11 07:14:32 WARNING mlflow.utils.checkpoint_utils: Checkpoint logging is skipped, because checkpoint \n",
       "'save_best_only' config is True, it requires to compare the monitored metric value, but the provided monitored \n",
       "metric value is not available.\n",
       "</pre>\n"
      ],
      "text/plain": [
       "2024/06/11 07:14:32 WARNING mlflow.utils.checkpoint_utils: Checkpoint logging is skipped, because checkpoint \n",
       "'save_best_only' config is True, it requires to compare the monitored metric value, but the provided monitored \n",
       "metric value is not available.\n"
      ]
     },
     "metadata": {},
     "output_type": "display_data"
    },
    {
     "name": "stderr",
     "output_type": "stream",
     "text": [
      "Epoch 14, global step 19380: 'f1' reached 0.27671 (best 0.27671), saving model to './mlruns/124960261813571015/459c2992a1bc4e3da497bee5c0cb3633/checkpoints/f1_epoch=14f1=0.27671iou=0.17031loss=1.71462.ckpt' as top 1\n"
     ]
    }
   ],
   "source": [
    "mlflow.pytorch.autolog()\n",
    "\n",
    "\n",
    "f1_checkpoint_callback = ModelCheckpoint(\n",
    "    save_top_k=1, verbose=True, monitor=\"f1\", mode=\"max\", filename=\"f1_{epoch}{f1:.5f}{iou:.5f}{loss:.5f}\"\n",
    ")\n",
    "\n",
    "# iou_checkpoint_callback = ModelCheckpoint(\n",
    "#     save_top_k=1, verbose=True, monitor=\"iou\", mode=\"max\", filename=\"iou_{epoch}{f1:.5f}{iou:.5f}{loss:.5f}\"\n",
    "# )\n",
    "\n",
    "trainer = pl.Trainer(\n",
    "    max_epochs=500,\n",
    "    callbacks=[\n",
    "        RichProgressBar(),\n",
    "        f1_checkpoint_callback,\n",
    "        # iou_checkpoint_callback,\n",
    "    ],\n",
    "    logger=MLFlowLogger(experiment_name=\"basic_siamese\"),\n",
    "    precision=\"bf16\",\n",
    ")\n",
    "trainer.fit(model, datamodule=dm)"
   ]
  },
  {
   "cell_type": "code",
   "execution_count": null,
   "metadata": {},
   "outputs": [],
   "source": []
  },
  {
   "cell_type": "code",
   "execution_count": null,
   "metadata": {},
   "outputs": [],
   "source": []
  }
 ],
 "metadata": {
  "kernelspec": {
   "display_name": "Python 3 (ipykernel)",
   "language": "python",
   "name": "python3"
  },
  "language_info": {
   "codemirror_mode": {
    "name": "ipython",
    "version": 3
   },
   "file_extension": ".py",
   "mimetype": "text/x-python",
   "name": "python",
   "nbconvert_exporter": "python",
   "pygments_lexer": "ipython3",
   "version": "3.11.4"
  }
 },
 "nbformat": 4,
 "nbformat_minor": 4
}
